{
  "nbformat": 4,
  "nbformat_minor": 0,
  "metadata": {
    "colab": {
      "name": "pca-wine-classification.ipynb",
      "private_outputs": true,
      "provenance": [],
      "collapsed_sections": []
    },
    "kernelspec": {
      "name": "python3",
      "display_name": "Python 3"
    },
    "language_info": {
      "name": "python"
    }
  },
  "cells": [
    {
      "cell_type": "markdown",
      "source": [
        "차원축소"
      ],
      "metadata": {
        "id": "jfUWkwhtOn5H"
      }
    },
    {
      "cell_type": "code",
      "execution_count": null,
      "metadata": {
        "id": "4_oxxieFGrBz"
      },
      "outputs": [],
      "source": [
        "# 데이터 로드\n",
        "from sklearn.datasets import load_wine\n",
        "data = load_wine()\n",
        "X = data.data\n",
        "Y = data.target"
      ]
    },
    {
      "cell_type": "code",
      "source": [
        "from sklearn.model_selection import train_test_split\n",
        "X_train,X_test,Y_train,Y_test = train_test_split(X,Y,test_size=0.3,random_state=1,stratify=Y)"
      ],
      "metadata": {
        "id": "PQWT_04jLUjI"
      },
      "execution_count": null,
      "outputs": []
    },
    {
      "cell_type": "code",
      "source": [
        "# 데이터 정규화\n",
        "from sklearn.preprocessing import StandardScaler\n",
        "std = StandardScaler()\n",
        "X_train_std = std.fit_transform(X_train)\n",
        "X_test_std = std.transform(X_test)"
      ],
      "metadata": {
        "id": "3ERhP3LoLYYw"
      },
      "execution_count": null,
      "outputs": []
    },
    {
      "cell_type": "markdown",
      "source": [
        "#주성분이란?\n",
        "전체 데이터(독립변수들)의 분산을 가장 잘 설명하는 축의 개수를 선정해서 \n",
        "\n",
        "그 축에 따라 변형된 데이터를 배열하면 그 데이터가 주성분이 된다."
      ],
      "metadata": {
        "id": "6Q1VZA33QEHD"
      }
    },
    {
      "cell_type": "markdown",
      "source": [
        "하나의 변수는 하나의 차원을 의미한다. iris 데이터를 예로 들자면, 4개의 독립변인들이 하나의 공간에 표현되기 위해서는 그 공간이 4차원이어야 한다. \n",
        "\n",
        "\n",
        "차원이 증가할수록 데이터가 표현해야 하는 공간은 복잡해진다. "
      ],
      "metadata": {
        "id": "ekXJS0MhQN1i"
      }
    },
    {
      "cell_type": "code",
      "source": [
        "from sklearn.decomposition import PCA\n",
        "\n",
        "lpca = PCA(n_components=4) # 주성분을 몇개로 할지 결정\n",
        "X_train_pca = lpca.fit_transform(X_train_std)\n",
        "X_test_pca = lpca.transform(X_test_std)"
      ],
      "metadata": {
        "id": "oXCN4NmYOlit"
      },
      "execution_count": null,
      "outputs": []
    },
    {
      "cell_type": "code",
      "source": [
        "import pandas as pd\n",
        "df = pd.DataFrame(data=X_train_pca)\n",
        "# 주성분으로 이루어진 데이터 프레임 구성\n",
        "df.head()"
      ],
      "metadata": {
        "id": "VfzHrHxqPdtL"
      },
      "execution_count": null,
      "outputs": []
    },
    {
      "cell_type": "code",
      "source": [
        "from sklearn.linear_model import LogisticRegression\n",
        "\n",
        "lr = LogisticRegression()\n",
        "lr.fit(X_train_pca, Y_train)\n",
        "Y_train_pred = lr.predict(X_train_pca)\n",
        "Y_test_pred = lr.predict(X_test_pca)\n",
        "\n",
        "from sklearn import metrics\n",
        "print(metrics.accuracy_score(Y_train, Y_train_pred))\n",
        "print(metrics.accuracy_score(Y_test, Y_test_pred))\n",
        "print(metrics.confusion_matrix(Y_test, Y_test_pred))"
      ],
      "metadata": {
        "id": "4LYj4nUROuCO"
      },
      "execution_count": null,
      "outputs": []
    },
    {
      "cell_type": "markdown",
      "source": [
        "#PCA 주축의 수 결정법\n",
        "n-components 결정하는 방법"
      ],
      "metadata": {
        "id": "dXGSxjr7Qd70"
      }
    },
    {
      "cell_type": "code",
      "source": [
        "import numpy as np\n",
        "scov=np.cov(X_train_std.T)\n",
        "eigen_vals,eigen_vecs=np.linalg.eig(scov)\n",
        "print('Eigenvalues \\n%s' %eigen_vals)"
      ],
      "metadata": {
        "id": "wplBuNRsOwcT"
      },
      "execution_count": null,
      "outputs": []
    },
    {
      "cell_type": "code",
      "source": [
        "#데이터 비율 설명\n",
        "total=sum(eigen_vals)\n",
        "var_exp=[(i/total) for i in sorted(eigen_vals, reverse=True)]\n",
        "\n",
        "import matplotlib.pyplot as plt\n",
        "plt.bar(range(1,14),var_exp)\n",
        "plt.ylabel('Proportion of variance')\n",
        "plt.xlabel('Principal component')\n",
        "plt.show()"
      ],
      "metadata": {
        "id": "W5XGdztpQ3Lj"
      },
      "execution_count": null,
      "outputs": []
    },
    {
      "cell_type": "code",
      "source": [
        ""
      ],
      "metadata": {
        "id": "WjqZRLJcRVAE"
      },
      "execution_count": null,
      "outputs": []
    }
  ]
}