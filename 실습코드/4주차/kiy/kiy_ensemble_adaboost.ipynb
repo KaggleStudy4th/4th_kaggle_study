{
  "nbformat": 4,
  "nbformat_minor": 0,
  "metadata": {
    "colab": {
      "name": "kiy-ensemble-adaboost.ipynb",
      "private_outputs": true,
      "provenance": [],
      "collapsed_sections": [],
      "authorship_tag": "ABX9TyMfliH3WwzwvtcvTF/srgN7",
      "include_colab_link": true
    },
    "kernelspec": {
      "name": "python3",
      "display_name": "Python 3"
    },
    "language_info": {
      "name": "python"
    }
  },
  "cells": [
    {
      "cell_type": "markdown",
      "metadata": {
        "id": "view-in-github",
        "colab_type": "text"
      },
      "source": [
        "<a href=\"https://colab.research.google.com/github/KaggleStudy4th/4th_kaggle_study/blob/main/%EC%8B%A4%EC%8A%B5%EC%BD%94%EB%93%9C/4%EC%A3%BC%EC%B0%A8/kiy/kiy_ensemble_adaboost.ipynb\" target=\"_parent\"><img src=\"https://colab.research.google.com/assets/colab-badge.svg\" alt=\"Open In Colab\"/></a>"
      ]
    },
    {
      "cell_type": "code",
      "execution_count": null,
      "metadata": {
        "id": "v_l08rj4mxQp"
      },
      "outputs": [],
      "source": [
        "import pandas as pd\n",
        "\n",
        "bank_df = pd.read_csv('UniversalBank.csv')\n",
        "bank_df.head()"
      ]
    },
    {
      "cell_type": "code",
      "source": [
        "X = bank_df.drop (['ID','ZIPCode','PersonalLoan'], axis=1)\n",
        "y = bank_df['PersonalLoan']"
      ],
      "metadata": {
        "id": "wzctQEJfm1w6"
      },
      "execution_count": null,
      "outputs": []
    },
    {
      "cell_type": "code",
      "source": [
        "from sklearn.model_selection import train_test_split \n",
        "X_train, X_test, y_train, y_test = train_test_split(X, y, test_size=0.3, random_state=1, stratify=y)"
      ],
      "metadata": {
        "id": "d2VfV98Pm7yK"
      },
      "execution_count": null,
      "outputs": []
    },
    {
      "cell_type": "code",
      "source": [
        "from sklearn.tree import DecisionTreeClassifier # 결정 트리\n",
        "\n",
        "tree = DecisionTreeClassifier(max_depth=1,\n",
        "                              criterion='entropy',\n",
        "                              random_state=1)"
      ],
      "metadata": {
        "id": "QFCJgkSjm-lk"
      },
      "execution_count": null,
      "outputs": []
    },
    {
      "cell_type": "code",
      "source": [
        "from sklearn.ensemble import AdaBoostClassifier # 부스팅(Boosting) \n",
        "\n",
        "adaboost = AdaBoostClassifier(base_estimator=tree, # 수정\n",
        "                              n_estimators=500,\n",
        "                              learning_rate = 0.1, # 수정\n",
        "                              random_state=1)"
      ],
      "metadata": {
        "id": "cudbhwpnnAV5"
      },
      "execution_count": null,
      "outputs": []
    },
    {
      "cell_type": "code",
      "source": [
        "from sklearn.model_selection import cross_val_score # 교차타당도 # 추가\n",
        "\n",
        "clf_labels = ['Decision tree', 'Ada boost']\n",
        "all_clf = [tree, adaboost]\n",
        "for clf, label in zip(all_clf, clf_labels):\n",
        "    scores = cross_val_score(estimator=clf,X=X_train,y=y_train,cv=10,scoring='roc_auc')\n",
        "    print(\"ROC AUC: %0.3f (+/- %0.3f) [%s]\", (scores.mean(), scores.std(), label))"
      ],
      "metadata": {
        "id": "DsEBPzZ5nC7H"
      },
      "execution_count": null,
      "outputs": []
    },
    {
      "cell_type": "code",
      "source": [
        ""
      ],
      "metadata": {
        "id": "PEB72LWGnG3t"
      },
      "execution_count": null,
      "outputs": []
    }
  ]
}