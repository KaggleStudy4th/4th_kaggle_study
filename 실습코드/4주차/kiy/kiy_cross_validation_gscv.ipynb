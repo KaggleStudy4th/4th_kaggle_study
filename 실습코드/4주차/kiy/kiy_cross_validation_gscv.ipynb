{
  "nbformat": 4,
  "nbformat_minor": 0,
  "metadata": {
    "colab": {
      "name": "kiy-cross-validation-gscv.ipynb",
      "private_outputs": true,
      "provenance": [],
      "collapsed_sections": [],
      "authorship_tag": "ABX9TyM706HjR4Ksr6M++OHzZbnE",
      "include_colab_link": true
    },
    "kernelspec": {
      "name": "python3",
      "display_name": "Python 3"
    },
    "language_info": {
      "name": "python"
    }
  },
  "cells": [
    {
      "cell_type": "markdown",
      "metadata": {
        "id": "view-in-github",
        "colab_type": "text"
      },
      "source": [
        "<a href=\"https://colab.research.google.com/github/KaggleStudy4th/4th_kaggle_study/blob/main/%EC%8B%A4%EC%8A%B5%EC%BD%94%EB%93%9C/4%EC%A3%BC%EC%B0%A8/kiy/kiy_cross_validation_gscv.ipynb\" target=\"_parent\"><img src=\"https://colab.research.google.com/assets/colab-badge.svg\" alt=\"Open In Colab\"/></a>"
      ]
    },
    {
      "cell_type": "code",
      "execution_count": null,
      "metadata": {
        "id": "nNyH9ADnaz1t"
      },
      "outputs": [],
      "source": [
        "from sklearn.datasets import load_breast_cancer\n",
        "cancer = load_breast_cancer()\n",
        "X = cancer.data\n",
        "Y = cancer.target"
      ]
    },
    {
      "cell_type": "code",
      "source": [
        "from sklearn.model_selection import train_test_split\n",
        "X_train,X_test,Y_train,Y_test = train_test_split(X,Y,test_size=0.2, stratify=Y, random_state=1)"
      ],
      "metadata": {
        "id": "_xGUgKFca48h"
      },
      "execution_count": null,
      "outputs": []
    },
    {
      "cell_type": "code",
      "source": [
        "from sklearn.preprocessing import StandardScaler\n",
        "from sklearn.decomposition import PCA\n",
        "from sklearn.linear_model import LogisticRegression\n",
        "from sklearn.pipeline import make_pipeline\n",
        "\n",
        "pipeline = make_pipeline(StandardScaler(), PCA(n_components=4), LogisticRegression() )"
      ],
      "metadata": {
        "id": "kDblBriea8Dv"
      },
      "execution_count": null,
      "outputs": []
    },
    {
      "cell_type": "markdown",
      "source": [
        "#교차 검증"
      ],
      "metadata": {
        "id": "ubYX-2QqbBUt"
      }
    },
    {
      "cell_type": "code",
      "source": [
        "from sklearn.model_selection import cross_validate\n",
        "scores = cross_validate(pipeline, X_train, Y_train, cv=10, return_train_score=True)"
      ],
      "metadata": {
        "id": "DKAv-0Oga81_"
      },
      "execution_count": null,
      "outputs": []
    },
    {
      "cell_type": "code",
      "source": [
        "sorted(scores.keys())"
      ],
      "metadata": {
        "id": "dTmVz7ISbANn"
      },
      "execution_count": null,
      "outputs": []
    },
    {
      "cell_type": "code",
      "source": [
        "import pandas as pd\n",
        "\n",
        "df = pd.DataFrame(scores)\n",
        "df"
      ],
      "metadata": {
        "id": "ULkcTza4ceQc"
      },
      "execution_count": null,
      "outputs": []
    },
    {
      "cell_type": "code",
      "source": [
        "df.describe().loc[['mean'], :]"
      ],
      "metadata": {
        "id": "lvoGFvjgcpJt"
      },
      "execution_count": null,
      "outputs": []
    },
    {
      "cell_type": "code",
      "source": [
        "import numpy as np\n",
        "\n",
        "print('CV Validation Accuracy scores: ', scores['train_score'])\n",
        "print('CV Validation Accuracy: %.3f +/- %.3f' %(np.mean(scores['train_score']), np.std(scores['train_score'])))"
      ],
      "metadata": {
        "id": "qm1HLlmxbHSV"
      },
      "execution_count": null,
      "outputs": []
    },
    {
      "cell_type": "code",
      "source": [
        "from sklearn.model_selection import GridSearchCV\n",
        "\n",
        "parameters = {}\n",
        "gs = GridSearchCV(pipeline, parameters, scoring='accuracy',cv=10)\n",
        "gs.fit(X_train,Y_train)"
      ],
      "metadata": {
        "id": "bE_b7BzPbJ85"
      },
      "execution_count": null,
      "outputs": []
    },
    {
      "cell_type": "code",
      "source": [
        "best = gs.best_estimator_"
      ],
      "metadata": {
        "id": "DAdlpiyXeZOk"
      },
      "execution_count": null,
      "outputs": []
    },
    {
      "cell_type": "code",
      "source": [
        "gs.cv_results_"
      ],
      "metadata": {
        "id": "Oqatr1yyeci7"
      },
      "execution_count": null,
      "outputs": []
    },
    {
      "cell_type": "code",
      "source": [
        "from sklearn.metrics import accuracy_score\n",
        "\n",
        "Y_train_Pred = best.predict(X_train)\n",
        "accuracy_score(Y_train, Y_train_Pred)\n"
      ],
      "metadata": {
        "id": "_bbv6KooeeCy"
      },
      "execution_count": null,
      "outputs": []
    },
    {
      "cell_type": "code",
      "source": [
        "from sklearn.metrics import accuracy_score\n",
        "\n",
        "Y_test_Pred = best.predict(X_test)\n",
        "accuracy_score(Y_test, Y_test_Pred)\n"
      ],
      "metadata": {
        "id": "q_sSOefEh00o"
      },
      "execution_count": null,
      "outputs": []
    },
    {
      "cell_type": "code",
      "source": [
        ""
      ],
      "metadata": {
        "id": "VuHV7VAih2gE"
      },
      "execution_count": null,
      "outputs": []
    }
  ]
}