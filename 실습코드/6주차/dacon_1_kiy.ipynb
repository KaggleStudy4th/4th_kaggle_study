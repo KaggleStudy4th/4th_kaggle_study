{
  "nbformat": 4,
  "nbformat_minor": 0,
  "metadata": {
    "colab": {
      "name": "dacon-1-kiy.ipynb",
      "private_outputs": true,
      "provenance": [],
      "collapsed_sections": []
    },
    "kernelspec": {
      "name": "python3",
      "display_name": "Python 3"
    },
    "language_info": {
      "name": "python"
    }
  },
  "cells": [
    {
      "cell_type": "code",
      "execution_count": null,
      "metadata": {
        "id": "5rV4Rb4N3laF"
      },
      "outputs": [],
      "source": [
        "# 드라이브 마운트\n",
        "from google.colab import drive\n",
        "drive.mount('/content/drive')"
      ]
    },
    {
      "cell_type": "code",
      "source": [
        "%cd /content/drive/MyDrive/dacon/airline_dataset.zip\n",
        "\n",
        "!unzip -qq \"/content/drive/MyDrive/dacon/airline_dataset.zip\""
      ],
      "metadata": {
        "id": "KMfd3XAP4BJJ"
      },
      "execution_count": null,
      "outputs": []
    },
    {
      "cell_type": "code",
      "source": [
        "import numpy as np\n",
        "import pandas as pd\n",
        "import seaborn as sns\n",
        "import matplotlib.pyplot as plt"
      ],
      "metadata": {
        "id": "_Hz-padg5e0q"
      },
      "execution_count": null,
      "outputs": []
    },
    {
      "cell_type": "code",
      "source": [
        "train=pd.read_csv('train.csv')"
      ],
      "metadata": {
        "id": "hX0XnUkf7OyQ"
      },
      "execution_count": null,
      "outputs": []
    },
    {
      "cell_type": "code",
      "source": [
        "train.head()"
      ],
      "metadata": {
        "id": "QNDhZnIS7TGz"
      },
      "execution_count": null,
      "outputs": []
    },
    {
      "cell_type": "markdown",
      "source": [
        "문자열->Label Encoder"
      ],
      "metadata": {
        "id": "xVQxqX8n7sSS"
      }
    },
    {
      "cell_type": "code",
      "source": [
        "train.info()"
      ],
      "metadata": {
        "id": "gWVgWl2z7UBa"
      },
      "execution_count": null,
      "outputs": []
    },
    {
      "cell_type": "markdown",
      "source": [
        "train에 결측치 없음"
      ],
      "metadata": {
        "id": "Uormuxlr7eM9"
      }
    },
    {
      "cell_type": "markdown",
      "source": [
        "### 문자열 데이터 처리"
      ],
      "metadata": {
        "id": "Ubk5rNGzA1GB"
      }
    },
    {
      "cell_type": "code",
      "source": [
        "cols = train.columns[train.dtypes == object]\n",
        "cols"
      ],
      "metadata": {
        "id": "WoZV_PUg_9qK"
      },
      "execution_count": null,
      "outputs": []
    },
    {
      "cell_type": "code",
      "source": [
        "from sklearn.preprocessing import LabelEncoder\n",
        "le = LabelEncoder()\n",
        "for i in cols:\n",
        "    train[i] = le.fit_transform(list(train[i]))\n",
        "train"
      ],
      "metadata": {
        "id": "3zNIjtBN7Z2n"
      },
      "execution_count": null,
      "outputs": []
    },
    {
      "cell_type": "code",
      "source": [
        "#feature,target 분리\n",
        "X_train=train.iloc[:,1:-1] #id열 제외\n",
        "y_train=train.target"
      ],
      "metadata": {
        "id": "1VoPBmprAOYN"
      },
      "execution_count": null,
      "outputs": []
    },
    {
      "cell_type": "code",
      "source": [
        "X_train.head(3)"
      ],
      "metadata": {
        "id": "GDUeEMCBAnLE"
      },
      "execution_count": null,
      "outputs": []
    },
    {
      "cell_type": "code",
      "source": [
        "y_train"
      ],
      "metadata": {
        "id": "44yq_GMgAose"
      },
      "execution_count": null,
      "outputs": []
    },
    {
      "cell_type": "code",
      "source": [
        "train.info()"
      ],
      "metadata": {
        "id": "euaxLhW7AtZO"
      },
      "execution_count": null,
      "outputs": []
    },
    {
      "cell_type": "markdown",
      "source": [
        ""
      ],
      "metadata": {
        "id": "2B4x1si3A4rb"
      }
    },
    {
      "cell_type": "code",
      "source": [
        "test=pd.read_csv('test.csv')"
      ],
      "metadata": {
        "id": "WSgpTfHmAwOv"
      },
      "execution_count": null,
      "outputs": []
    },
    {
      "cell_type": "code",
      "source": [
        "test.head(3)"
      ],
      "metadata": {
        "id": "1mhXIrACA9hP"
      },
      "execution_count": null,
      "outputs": []
    },
    {
      "cell_type": "code",
      "source": [
        "test.info()"
      ],
      "metadata": {
        "id": "P1k38shqA-dB"
      },
      "execution_count": null,
      "outputs": []
    },
    {
      "cell_type": "code",
      "source": [
        "cols = test.columns[test.dtypes == object]\n",
        "cols"
      ],
      "metadata": {
        "id": "2vLf47c9A_sD"
      },
      "execution_count": null,
      "outputs": []
    },
    {
      "cell_type": "code",
      "source": [
        "from sklearn.preprocessing import LabelEncoder\n",
        "le = LabelEncoder()\n",
        "for i in cols:\n",
        "    test[i] = le.fit_transform(list(test[i]))\n",
        "test"
      ],
      "metadata": {
        "id": "osocOjLNBIKe"
      },
      "execution_count": null,
      "outputs": []
    },
    {
      "cell_type": "code",
      "source": [
        "X_test=test.iloc[:,1:]"
      ],
      "metadata": {
        "id": "YoczkLNSBQwW"
      },
      "execution_count": null,
      "outputs": []
    },
    {
      "cell_type": "code",
      "source": [
        "X_test.info()"
      ],
      "metadata": {
        "id": "JDN-MQ9zCP96"
      },
      "execution_count": null,
      "outputs": []
    },
    {
      "cell_type": "markdown",
      "source": [
        "### 모델 정의 및 학습"
      ],
      "metadata": {
        "id": "So5vT26DCsna"
      }
    },
    {
      "cell_type": "code",
      "source": [
        "from lightgbm import LGBMClassifier\n",
        "clf=LGBMClassifier(n_estimators=40)\n",
        "clf.fit(X_train,y_train)"
      ],
      "metadata": {
        "id": "EoA3XHDnCRUY"
      },
      "execution_count": null,
      "outputs": []
    },
    {
      "cell_type": "code",
      "source": [
        "#학습데이터 성능평가\n",
        "from sklearn.metrics import accuracy_score\n",
        "y_train_pred=clf.predict(X_train)\n",
        "accuracy_score(y_train,y_train_pred)"
      ],
      "metadata": {
        "id": "_AJhpvIeCyf2"
      },
      "execution_count": null,
      "outputs": []
    },
    {
      "cell_type": "code",
      "source": [
        "# confusion matrix\n",
        "from sklearn.metrics import confusion_matrix, plot_confusion_matrix\n",
        "cf_matrix = confusion_matrix(y_train, y_train_pred)\n",
        "print(cf_matrix)"
      ],
      "metadata": {
        "id": "XaSwbV0eC-Vn"
      },
      "execution_count": null,
      "outputs": []
    },
    {
      "cell_type": "code",
      "source": [
        "sns.heatmap(cf_matrix, annot=True)"
      ],
      "metadata": {
        "id": "uTd0nhqSDq3u"
      },
      "execution_count": null,
      "outputs": []
    },
    {
      "cell_type": "code",
      "source": [
        "#테스트 데이터 예측\n",
        "y_test_pred=clf.predict(X_test)"
      ],
      "metadata": {
        "id": "PGT38ZQwEaON"
      },
      "execution_count": null,
      "outputs": []
    },
    {
      "cell_type": "code",
      "source": [
        "submit=pd.read_csv('sample_submission.csv')"
      ],
      "metadata": {
        "id": "puwkHzjVEk7m"
      },
      "execution_count": null,
      "outputs": []
    },
    {
      "cell_type": "code",
      "source": [
        "submit['target']=y_test_pred"
      ],
      "metadata": {
        "id": "27WHKb7UEu2C"
      },
      "execution_count": null,
      "outputs": []
    },
    {
      "cell_type": "code",
      "source": [
        "submit.to_csv('submission-lightgbm.csv',index=False)"
      ],
      "metadata": {
        "id": "eEg_EO8qExgH"
      },
      "execution_count": null,
      "outputs": []
    },
    {
      "cell_type": "markdown",
      "source": [
        "### 제출결과 accuracy: 0.932"
      ],
      "metadata": {
        "id": "iyQGD9FpGCIb"
      }
    }
  ]
}