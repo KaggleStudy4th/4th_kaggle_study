{
  "nbformat": 4,
  "nbformat_minor": 0,
  "metadata": {
    "colab": {
      "name": "kiy-kmeans.ipynb",
      "private_outputs": true,
      "provenance": [],
      "collapsed_sections": [],
      "authorship_tag": "ABX9TyNw++hJDsXhY72hJrs1VfTu",
      "include_colab_link": true
    },
    "kernelspec": {
      "name": "python3",
      "display_name": "Python 3"
    },
    "language_info": {
      "name": "python"
    }
  },
  "cells": [
    {
      "cell_type": "markdown",
      "metadata": {
        "id": "view-in-github",
        "colab_type": "text"
      },
      "source": [
        "<a href=\"https://colab.research.google.com/github/KaggleStudy4th/4th_kaggle_study/blob/main/%EC%8B%A4%EC%8A%B5%EC%BD%94%EB%93%9C/3%EC%A3%BC%EC%B0%A8/kiy_kmeans.ipynb\" target=\"_parent\"><img src=\"https://colab.research.google.com/assets/colab-badge.svg\" alt=\"Open In Colab\"/></a>"
      ]
    },
    {
      "cell_type": "markdown",
      "source": [
        "#실습 1"
      ],
      "metadata": {
        "id": "HASjRT73BSLa"
      }
    },
    {
      "cell_type": "code",
      "execution_count": null,
      "metadata": {
        "id": "NWjDqBUZB2ga"
      },
      "outputs": [],
      "source": [
        "from sklearn.datasets import make_blobs\n",
        "import matplotlib.pyplot as plt\n",
        "\n",
        "X,Y=make_blobs(n_samples=100, centers=4, cluster_std=0.60, random_state=0)\n",
        "plt.scatter(X[:,0],X[:,1], c=Y)"
      ]
    },
    {
      "cell_type": "code",
      "source": [
        "from sklearn.cluster import KMeans\n",
        "kmeans=KMeans(n_clusters=4, random_state=0)\n",
        "kmeans.fit(X)"
      ],
      "metadata": {
        "id": "31dXXnYb9OBB"
      },
      "execution_count": null,
      "outputs": []
    },
    {
      "cell_type": "code",
      "source": [
        "Y_pred=kmeans.predict(X)\n",
        "plt.scatter(X[:,0],X[:,1], c=Y_pred)\n",
        "centers=kmeans.cluster_centers_\n",
        "plt.scatter(centers[:,0], centers[:,1], c='Yellow',s=200, alpha=0.5)"
      ],
      "metadata": {
        "id": "u-VqqrquDBjq"
      },
      "execution_count": null,
      "outputs": []
    },
    {
      "cell_type": "markdown",
      "source": [
        "#실습2"
      ],
      "metadata": {
        "id": "1t16tulNDSAL"
      }
    },
    {
      "cell_type": "code",
      "source": [
        "from sklearn.datasets import make_moons\n",
        "import matplotlib.pyplot as plt\n",
        "\n",
        "X,Y=make_moons(n_samples=200, noise=.05, random_state=0)\n",
        "plt.scatter(X[:,0],X[:,1], c=Y)"
      ],
      "metadata": {
        "id": "jE1LmguSDQsQ"
      },
      "execution_count": null,
      "outputs": []
    },
    {
      "cell_type": "code",
      "source": [
        "from sklearn.cluster import KMeans\n",
        "kmeans=KMeans(n_clusters=2, random_state=0)\n",
        "kmeans.fit(X)\n",
        "\n",
        "Y_pred=kmeans.predict(X)\n",
        "plt.scatter(X[:,0],X[:,1], c=Y_pred)"
      ],
      "metadata": {
        "id": "3UUISbb3DeRv"
      },
      "execution_count": null,
      "outputs": []
    },
    {
      "cell_type": "markdown",
      "source": [
        "#실습3"
      ],
      "metadata": {
        "id": "FgQdnf2vDvjN"
      }
    },
    {
      "cell_type": "code",
      "source": [
        "from sklearn.datasets import load_digits\n",
        "digits=load_digits()\n",
        "X=digits.data\n",
        "Y=digits.target\n",
        "\n",
        "print(digits.data.shape)\n",
        "print(digits.target)"
      ],
      "metadata": {
        "id": "Zqw2dstjDuCi"
      },
      "execution_count": null,
      "outputs": []
    },
    {
      "cell_type": "code",
      "source": [
        "img=digits.data.reshape(1797,8,8)\n",
        "plt.imshow(img[0],cmap=plt.cm.binary)"
      ],
      "metadata": {
        "id": "LfNLcgqED_yK"
      },
      "execution_count": null,
      "outputs": []
    },
    {
      "cell_type": "code",
      "source": [
        "kmeans=KMeans(n_clusters=10)\n",
        "kmeans.fit(X)"
      ],
      "metadata": {
        "id": "wYIhTKLpEHne"
      },
      "execution_count": null,
      "outputs": []
    },
    {
      "cell_type": "code",
      "source": [
        "centers=kmeans.cluster_centers_.reshape(10,8,8)\n",
        "plt.imshow(centers[0],cmap=plt.cm.binary)"
      ],
      "metadata": {
        "id": "4XypKSziEPmA"
      },
      "execution_count": null,
      "outputs": []
    },
    {
      "cell_type": "code",
      "source": [
        ""
      ],
      "metadata": {
        "id": "KHdjEQTeEXC0"
      },
      "execution_count": null,
      "outputs": []
    }
  ]
}