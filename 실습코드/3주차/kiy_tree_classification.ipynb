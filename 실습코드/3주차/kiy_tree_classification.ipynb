{
  "nbformat": 4,
  "nbformat_minor": 0,
  "metadata": {
    "colab": {
      "name": "kiy-tree-classification.ipynb",
      "private_outputs": true,
      "provenance": [],
      "collapsed_sections": [],
      "authorship_tag": "ABX9TyOmRCsKdKM3YGbOEJf9Kuct",
      "include_colab_link": true
    },
    "kernelspec": {
      "name": "python3",
      "display_name": "Python 3"
    },
    "language_info": {
      "name": "python"
    }
  },
  "cells": [
    {
      "cell_type": "markdown",
      "metadata": {
        "id": "view-in-github",
        "colab_type": "text"
      },
      "source": [
        "<a href=\"https://colab.research.google.com/github/KaggleStudy4th/4th_kaggle_study/blob/main/%EC%8B%A4%EC%8A%B5%EC%BD%94%EB%93%9C/3%EC%A3%BC%EC%B0%A8/kiy_tree_classification.ipynb\" target=\"_parent\"><img src=\"https://colab.research.google.com/assets/colab-badge.svg\" alt=\"Open In Colab\"/></a>"
      ]
    },
    {
      "cell_type": "markdown",
      "source": [
        "# Tree classification"
      ],
      "metadata": {
        "id": "lU9wWuU2WcSq"
      }
    },
    {
      "cell_type": "code",
      "execution_count": null,
      "metadata": {
        "id": "WePz_CL4AdZK"
      },
      "outputs": [],
      "source": [
        "import seaborn as sns\n",
        "iris = sns.load_dataset('iris')\n",
        "\n",
        "x=iris.drop('species', axis=1)\n",
        "y=iris['species']"
      ]
    },
    {
      "cell_type": "code",
      "source": [
        "from sklearn.preprocessing import LabelEncoder\n",
        "classle=LabelEncoder()\n",
        "y=classle.fit_transform(iris['species'].values) #string->int category\n",
        "y"
      ],
      "metadata": {
        "id": "1AEfWQm6BPEz"
      },
      "execution_count": null,
      "outputs": []
    },
    {
      "cell_type": "code",
      "source": [
        "from sklearn.model_selection import train_test_split\n",
        "x_train, x_test, y_train, y_test = train_test_split(x,y,test_size=0.3, random_state=1, stratify=y)"
      ],
      "metadata": {
        "id": "1axkloZRB-o2"
      },
      "execution_count": null,
      "outputs": []
    },
    {
      "cell_type": "code",
      "source": [
        "from sklearn.preprocessing import StandardScaler\n",
        "sc=StandardScaler()\n",
        "x_train_std=sc.fit_transform(x_train)\n",
        "x_test_std=sc.transform(x_test)"
      ],
      "metadata": {
        "id": "4S4zJm3HC31K"
      },
      "execution_count": null,
      "outputs": []
    },
    {
      "cell_type": "code",
      "source": [
        "from sklearn import tree\n",
        "#분류 알고리즘: cart, 불순도 지표: gini index\n",
        "#dtc=tree.DecisionTreeClassifier(criterion='gini', max_depth=5, random_state=1) \n",
        "#dtc=tree.DecisionTreeClassifier(criterion='gini', max_depth=3, random_state=1) \n",
        "dtc=tree.DecisionTreeClassifier(criterion='gini', max_depth=7, random_state=1) \n",
        "dtc.fit(x_train,y_train)\n",
        "y_train_pred=dtc.predict(x_train)\n",
        "y_test_pred=dtc.predict(x_test)"
      ],
      "metadata": {
        "id": "xMAyrnnXDSTa"
      },
      "execution_count": null,
      "outputs": []
    },
    {
      "cell_type": "code",
      "source": [
        "from sklearn.metrics import accuracy_score\n",
        "print(accuracy_score(y_train, y_train_pred))\n",
        "print(accuracy_score(y_test, y_test_pred))"
      ],
      "metadata": {
        "id": "1oN90jF7J_M7"
      },
      "execution_count": null,
      "outputs": []
    },
    {
      "cell_type": "code",
      "source": [
        "from sklearn.metrics import confusion_matrix\n",
        "from matplotlib import pyplot as plt\n",
        "\n",
        "conf_mat = confusion_matrix(y_test, y_test_pred)\n",
        "#print(y_test.shape, y_pred.shape)\n",
        "#print(conf_mat.shape)\n",
        "#print(\"Confusion matrix:\\n\", conf_mat)\n",
        "print(confusion_matrix(y_test,y_test_pred))\n",
        "labels = ['class 0', 'class 1']\n",
        "fig = plt.figure()\n",
        "ax = fig.add_subplot(111)\n",
        "cax = ax.matshow(conf_mat, cmap=plt.cm.Blues)\n",
        "fig.colorbar(cax)\n",
        "ax.set_xticklabels([''] + labels)\n",
        "ax.set_yticklabels([''] + labels)\n",
        "plt.xlabel('Predicted')\n",
        "plt.ylabel('Expected')\n",
        "plt.show()"
      ],
      "metadata": {
        "id": "x8pDwP3WKJN5"
      },
      "execution_count": null,
      "outputs": []
    },
    {
      "cell_type": "code",
      "source": [
        "import matplotlib.pyplot as plt\n",
        "fig,ax=plt.subplots(figsize=(25,12))\n",
        "tree.plot_tree(dtc.fit(x_train, y_train), fontsize=15)\n",
        "plt.savefig('tree_high_dpi',dpi=100)"
      ],
      "metadata": {
        "id": "C7rg7m02MgR1"
      },
      "execution_count": null,
      "outputs": []
    },
    {
      "cell_type": "markdown",
      "source": [
        "# Tree regression"
      ],
      "metadata": {
        "id": "BEuZd8uiVk3a"
      }
    },
    {
      "cell_type": "code",
      "source": [
        "import numpy as np\n",
        "from sklearn.tree import DecisionTreeRegressor\n",
        "import matplotlib.pyplot as plt\n",
        "\n",
        "rng = np.random.RandomState(1)\n",
        "X = np.sort(5 * rng.rand(80, 1), axis=0)\n",
        "y = np.sin(X).ravel()\n",
        "y[::5] += 3 * (0.5 - rng.rand(16))"
      ],
      "metadata": {
        "id": "EF_Wo-6mN2aN"
      },
      "execution_count": null,
      "outputs": []
    },
    {
      "cell_type": "code",
      "source": [
        "regr_1 = DecisionTreeRegressor(max_depth=2)\n",
        "regr_2 = DecisionTreeRegressor(max_depth=5)\n",
        "regr_1.fit(X, y)\n",
        "regr_2.fit(X, y)\n",
        "\n",
        "y_pred_1 = regr_1.predict(X)\n",
        "y_pred_2 = regr_2.predict(X)"
      ],
      "metadata": {
        "id": "OoiPhDPRV14m"
      },
      "execution_count": null,
      "outputs": []
    },
    {
      "cell_type": "code",
      "source": [
        "#평가지표: mse\n",
        "from sklearn.metrics import mean_squared_error\n",
        "\n",
        "print(mean_squared_error(y, y_pred_1))\n",
        "print(mean_squared_error(y, y_pred_2)) #오차가 더 작게 나옴"
      ],
      "metadata": {
        "id": "YsHDVJ4tV4Wj"
      },
      "execution_count": null,
      "outputs": []
    },
    {
      "cell_type": "code",
      "source": [
        "X_test = np.arange(0.0, 5.0, 0.01)[:, np.newaxis]\n",
        "\n",
        "y_pred_1 = regr_1.predict(X_test)\n",
        "y_pred_2 = regr_2.predict(X_test)"
      ],
      "metadata": {
        "id": "UcBY3Y-3WBfM"
      },
      "execution_count": null,
      "outputs": []
    },
    {
      "cell_type": "code",
      "source": [
        "plt.figure()\n",
        "plt.scatter(X, y, s=20, edgecolor=\"black\", c=\"red\", label=\"data\")\n",
        "plt.plot(X_test, y_pred_1, color=\"blue\", label=\"max_depth=2\", linewidth=2)\n",
        "plt.plot(X_test, y_pred_2, color=\"green\", label=\"max_depth=5\", linewidth=2)\n",
        "plt.xlabel(\"data\")\n",
        "plt.ylabel(\"target\")\n",
        "plt.title(\"Decision Tree Regression\")\n",
        "plt.legend()\n",
        "plt.show()"
      ],
      "metadata": {
        "id": "iauznT1OWGxm"
      },
      "execution_count": null,
      "outputs": []
    },
    {
      "cell_type": "code",
      "source": [
        ""
      ],
      "metadata": {
        "id": "B5y_Jq7WWRvG"
      },
      "execution_count": null,
      "outputs": []
    }
  ]
}