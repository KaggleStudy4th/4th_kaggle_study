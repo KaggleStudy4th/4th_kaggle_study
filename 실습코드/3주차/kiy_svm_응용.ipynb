{
  "nbformat": 4,
  "nbformat_minor": 0,
  "metadata": {
    "colab": {
      "name": "kiy-svm-응용.ipynb",
      "private_outputs": true,
      "provenance": [],
      "collapsed_sections": [],
      "authorship_tag": "ABX9TyMC3l2vjVrrcOC4gdFW8LYv",
      "include_colab_link": true
    },
    "kernelspec": {
      "name": "python3",
      "display_name": "Python 3"
    },
    "language_info": {
      "name": "python"
    }
  },
  "cells": [
    {
      "cell_type": "markdown",
      "metadata": {
        "id": "view-in-github",
        "colab_type": "text"
      },
      "source": [
        "<a href=\"https://colab.research.google.com/github/KaggleStudy4th/4th_kaggle_study/blob/main/%EC%8B%A4%EC%8A%B5%EC%BD%94%EB%93%9C/3%EC%A3%BC%EC%B0%A8/kiy_svm_%EC%9D%91%EC%9A%A9.ipynb\" target=\"_parent\"><img src=\"https://colab.research.google.com/assets/colab-badge.svg\" alt=\"Open In Colab\"/></a>"
      ]
    },
    {
      "cell_type": "code",
      "execution_count": null,
      "metadata": {
        "id": "amsyf_CxWaue"
      },
      "outputs": [],
      "source": [
        "from sklearn.datasets import fetch_lfw_people  #data set 불러오기\n",
        "faces=fetch_lfw_people(min_faces_per_person=70,resize=0.4)\n",
        "n_samples, h, w = faces.images.shape\n",
        "X=faces.data\n",
        "y=faces.target\n",
        "\n",
        "print(faces.target_names)\n",
        "print(faces.images.shape)"
      ]
    },
    {
      "cell_type": "code",
      "source": [
        "import matplotlib.pyplot as plt #pyplot 함수의 호출\n",
        "fig,ax=plt.subplots(3,5)\n",
        "for i, axi in enumerate(ax.flat):\n",
        "    axi.imshow(faces.images[i], cmap='bone')\n",
        "    axi.set(xticks=[], yticks=[], xlabel=faces.target_names[faces.target[i]])"
      ],
      "metadata": {
        "id": "grUEZHlxWpBn"
      },
      "execution_count": null,
      "outputs": []
    },
    {
      "cell_type": "code",
      "source": [
        "X=faces.data\n",
        "n_features=X.shape[1]\n",
        "y=faces.target\n",
        "target_names=faces.target_names\n",
        "print(target_names)            #얼굴인식 Label 이름\n",
        "n_classes=target_names.shape[0]\n",
        "print(n_classes)               #Label의 종류의 총갯수"
      ],
      "metadata": {
        "id": "MMV77sSvWxQg"
      },
      "execution_count": null,
      "outputs": []
    },
    {
      "cell_type": "code",
      "source": [
        "from sklearn.model_selection import train_test_split\n",
        "X_train, X_test, y_train, y_test=train_test_split(X,y,test_size=0.25,random_state=42)"
      ],
      "metadata": {
        "id": "8cgjORO4W4Hv"
      },
      "execution_count": null,
      "outputs": []
    },
    {
      "cell_type": "code",
      "source": [
        "from sklearn.decomposition import PCA\n",
        "n_components=150\n",
        "pca=PCA(n_components=n_components, svd_solver='randomized',whiten=True).fit(X_train)\n",
        "eigenfaces=pca.components_.reshape(n_components,h,w)\n",
        "X_train_pca=pca.transform(X_train)  #주성분의 training data\n",
        "X_test_pca=pca.transform(X_test)    #주성분의 test data"
      ],
      "metadata": {
        "id": "N6WZmpU4W98N"
      },
      "execution_count": null,
      "outputs": []
    },
    {
      "cell_type": "code",
      "source": [
        "from sklearn.svm import SVC  \n",
        "from sklearn.model_selection import GridSearchCV\n",
        "param_grid={'C':[1e3,5e3,1e4,5e4,1e5],\n",
        "            'gamma':[0.0001,0.0005,0.001,0.005,0.01,0.1]}\n",
        "clf=GridSearchCV(SVC(kernel='rbf', class_weight='balanced'), param_grid, cv=5)   \n",
        "clf.fit(X_train_pca,y_train)\n",
        "##  프로그램 실행시 약 1분정도 시간 소요됨."
      ],
      "metadata": {
        "id": "-P5Ul3xPXZTi"
      },
      "execution_count": null,
      "outputs": []
    },
    {
      "cell_type": "code",
      "source": [
        "print(clf.best_params_)            # 추정 parameter\n",
        "print(clf.best_estimator_) "
      ],
      "metadata": {
        "id": "myq-iYRLXua8"
      },
      "execution_count": null,
      "outputs": []
    },
    {
      "cell_type": "code",
      "source": [
        "y_fit=clf.predict(X_test_pca)\n",
        "\n",
        "from sklearn.metrics import classification_report\n",
        "from sklearn.metrics import confusion_matrix        #confusion matrix를 출력\n",
        "print(classification_report(y_test,y_fit,target_names=faces.target_names))"
      ],
      "metadata": {
        "id": "ZZGwuomQXx6U"
      },
      "execution_count": null,
      "outputs": []
    },
    {
      "cell_type": "code",
      "source": [
        ""
      ],
      "metadata": {
        "id": "0CR8hso1YADi"
      },
      "execution_count": null,
      "outputs": []
    }
  ]
}