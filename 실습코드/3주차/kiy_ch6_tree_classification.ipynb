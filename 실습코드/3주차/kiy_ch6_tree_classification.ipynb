{
  "nbformat": 4,
  "nbformat_minor": 0,
  "metadata": {
    "colab": {
      "name": "kiy-ch6-tree-classification.ipynb",
      "private_outputs": true,
      "provenance": []
    },
    "kernelspec": {
      "name": "python3",
      "display_name": "Python 3"
    },
    "language_info": {
      "name": "python"
    }
  },
  "cells": [
    {
      "cell_type": "code",
      "execution_count": null,
      "metadata": {
        "id": "WePz_CL4AdZK"
      },
      "outputs": [],
      "source": [
        "import seaborn as sns\n",
        "iris = sns.load_dataset('iris')\n",
        "\n",
        "x=iris.drop('species', axis=1)\n",
        "y=iris['species']"
      ]
    },
    {
      "cell_type": "code",
      "source": [
        "from sklearn.preprocessing import LabelEncoder\n",
        "classle=LabelEncoder()\n",
        "y=classle.fit_transform(iris['species'].values) #string->int category\n",
        "y"
      ],
      "metadata": {
        "id": "1AEfWQm6BPEz"
      },
      "execution_count": null,
      "outputs": []
    },
    {
      "cell_type": "code",
      "source": [
        "from sklearn.model_selection import train_test_split\n",
        "x_train, x_test, y_train, y_test = train_test_split(x,y,test_size=0.3, random_state=1, stratify=y)"
      ],
      "metadata": {
        "id": "1axkloZRB-o2"
      },
      "execution_count": null,
      "outputs": []
    },
    {
      "cell_type": "code",
      "source": [
        "from sklearn.preprocessing import StandardScaler\n",
        "sc=StandardScaler()\n",
        "x_train_std=sc.fit_transform(x_train)\n",
        "x_test_std=sc.transform(x_test)"
      ],
      "metadata": {
        "id": "4S4zJm3HC31K"
      },
      "execution_count": null,
      "outputs": []
    },
    {
      "cell_type": "code",
      "source": [
        "from sklearn import tree\n",
        "#분류 알고리즘: cart, 불순도 지표: gini index\n",
        "dtc=tree.DecisionTreeClassifier(criterion='gini', max_depth=5, random_state=1) \n",
        "dtc.fit(x_train,y_train)\n",
        "y_train_pred=dtc.predict(x_train)\n",
        "y_test_pred=dtc.predict(x_test)"
      ],
      "metadata": {
        "id": "xMAyrnnXDSTa"
      },
      "execution_count": null,
      "outputs": []
    },
    {
      "cell_type": "code",
      "source": [
        "from sklearn.metrics import accuracy_score\n",
        "print(accuracy_score(y_train, y_train_pred))\n",
        "print(accuracy_score(y_test, y_test_pred))"
      ],
      "metadata": {
        "id": "1oN90jF7J_M7"
      },
      "execution_count": null,
      "outputs": []
    },
    {
      "cell_type": "code",
      "source": [
        "from sklearn.metrics import confusion_matrix\n",
        "print(confusion_matrix(y_test, y_test_pred))"
      ],
      "metadata": {
        "id": "x8pDwP3WKJN5"
      },
      "execution_count": null,
      "outputs": []
    },
    {
      "cell_type": "code",
      "source": [
        ""
      ],
      "metadata": {
        "id": "C7rg7m02MgR1"
      },
      "execution_count": null,
      "outputs": []
    }
  ]
}