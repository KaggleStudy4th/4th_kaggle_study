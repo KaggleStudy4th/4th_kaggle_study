{
  "nbformat": 4,
  "nbformat_minor": 0,
  "metadata": {
    "colab": {
      "name": "3D MNIST 숫자 분류.ipynb",
      "provenance": [],
      "authorship_tag": "ABX9TyMSXwJCt0G6fpmSLL4kvNUj",
      "include_colab_link": true
    },
    "kernelspec": {
      "name": "python3",
      "display_name": "Python 3"
    },
    "language_info": {
      "name": "python"
    },
    "widgets": {
      "application/vnd.jupyter.widget-state+json": {
        "b15bbab2ed6a461fa225208e445257ff": {
          "model_module": "@jupyter-widgets/controls",
          "model_name": "HBoxModel",
          "model_module_version": "1.5.0",
          "state": {
            "_view_name": "HBoxView",
            "_dom_classes": [],
            "_model_name": "HBoxModel",
            "_view_module": "@jupyter-widgets/controls",
            "_model_module_version": "1.5.0",
            "_view_count": null,
            "_view_module_version": "1.5.0",
            "box_style": "",
            "layout": "IPY_MODEL_e05dce0043ad4f709036b892137afeb6",
            "_model_module": "@jupyter-widgets/controls",
            "children": [
              "IPY_MODEL_c36f32a995b242219d511d20533b96ea",
              "IPY_MODEL_c9d5a7660fdb446596b6b292c70742ba",
              "IPY_MODEL_6c459c4a537c485e83f394354289a6f9"
            ]
          }
        },
        "e05dce0043ad4f709036b892137afeb6": {
          "model_module": "@jupyter-widgets/base",
          "model_name": "LayoutModel",
          "model_module_version": "1.2.0",
          "state": {
            "_view_name": "LayoutView",
            "grid_template_rows": null,
            "right": null,
            "justify_content": null,
            "_view_module": "@jupyter-widgets/base",
            "overflow": null,
            "_model_module_version": "1.2.0",
            "_view_count": null,
            "flex_flow": null,
            "width": null,
            "min_width": null,
            "border": null,
            "align_items": null,
            "bottom": null,
            "_model_module": "@jupyter-widgets/base",
            "top": null,
            "grid_column": null,
            "overflow_y": null,
            "overflow_x": null,
            "grid_auto_flow": null,
            "grid_area": null,
            "grid_template_columns": null,
            "flex": null,
            "_model_name": "LayoutModel",
            "justify_items": null,
            "grid_row": null,
            "max_height": null,
            "align_content": null,
            "visibility": null,
            "align_self": null,
            "height": null,
            "min_height": null,
            "padding": null,
            "grid_auto_rows": null,
            "grid_gap": null,
            "max_width": null,
            "order": null,
            "_view_module_version": "1.2.0",
            "grid_template_areas": null,
            "object_position": null,
            "object_fit": null,
            "grid_auto_columns": null,
            "margin": null,
            "display": null,
            "left": null
          }
        },
        "c36f32a995b242219d511d20533b96ea": {
          "model_module": "@jupyter-widgets/controls",
          "model_name": "HTMLModel",
          "model_module_version": "1.5.0",
          "state": {
            "_view_name": "HTMLView",
            "style": "IPY_MODEL_a3fa736cdb144f9f918d3d41e7fc0864",
            "_dom_classes": [],
            "description": "",
            "_model_name": "HTMLModel",
            "placeholder": "​",
            "_view_module": "@jupyter-widgets/controls",
            "_model_module_version": "1.5.0",
            "value": "100%",
            "_view_count": null,
            "_view_module_version": "1.5.0",
            "description_tooltip": null,
            "_model_module": "@jupyter-widgets/controls",
            "layout": "IPY_MODEL_97d5f78c5bef46c28817775f3ea0fb88"
          }
        },
        "c9d5a7660fdb446596b6b292c70742ba": {
          "model_module": "@jupyter-widgets/controls",
          "model_name": "FloatProgressModel",
          "model_module_version": "1.5.0",
          "state": {
            "_view_name": "ProgressView",
            "style": "IPY_MODEL_8b18ba45537e47a0a24eea0f4d999f66",
            "_dom_classes": [],
            "description": "",
            "_model_name": "FloatProgressModel",
            "bar_style": "success",
            "max": 5000,
            "_view_module": "@jupyter-widgets/controls",
            "_model_module_version": "1.5.0",
            "value": 5000,
            "_view_count": null,
            "_view_module_version": "1.5.0",
            "orientation": "horizontal",
            "min": 0,
            "description_tooltip": null,
            "_model_module": "@jupyter-widgets/controls",
            "layout": "IPY_MODEL_dc69fccda6994c609839fdfaf21ea071"
          }
        },
        "6c459c4a537c485e83f394354289a6f9": {
          "model_module": "@jupyter-widgets/controls",
          "model_name": "HTMLModel",
          "model_module_version": "1.5.0",
          "state": {
            "_view_name": "HTMLView",
            "style": "IPY_MODEL_179d9b278d904e4cb46443b56eff15b1",
            "_dom_classes": [],
            "description": "",
            "_model_name": "HTMLModel",
            "placeholder": "​",
            "_view_module": "@jupyter-widgets/controls",
            "_model_module_version": "1.5.0",
            "value": " 5000/5000 [00:06&lt;00:00, 742.52it/s]",
            "_view_count": null,
            "_view_module_version": "1.5.0",
            "description_tooltip": null,
            "_model_module": "@jupyter-widgets/controls",
            "layout": "IPY_MODEL_fcaa9a692e4c44608fe8ed0b5d007dcb"
          }
        },
        "a3fa736cdb144f9f918d3d41e7fc0864": {
          "model_module": "@jupyter-widgets/controls",
          "model_name": "DescriptionStyleModel",
          "model_module_version": "1.5.0",
          "state": {
            "_view_name": "StyleView",
            "_model_name": "DescriptionStyleModel",
            "description_width": "",
            "_view_module": "@jupyter-widgets/base",
            "_model_module_version": "1.5.0",
            "_view_count": null,
            "_view_module_version": "1.2.0",
            "_model_module": "@jupyter-widgets/controls"
          }
        },
        "97d5f78c5bef46c28817775f3ea0fb88": {
          "model_module": "@jupyter-widgets/base",
          "model_name": "LayoutModel",
          "model_module_version": "1.2.0",
          "state": {
            "_view_name": "LayoutView",
            "grid_template_rows": null,
            "right": null,
            "justify_content": null,
            "_view_module": "@jupyter-widgets/base",
            "overflow": null,
            "_model_module_version": "1.2.0",
            "_view_count": null,
            "flex_flow": null,
            "width": null,
            "min_width": null,
            "border": null,
            "align_items": null,
            "bottom": null,
            "_model_module": "@jupyter-widgets/base",
            "top": null,
            "grid_column": null,
            "overflow_y": null,
            "overflow_x": null,
            "grid_auto_flow": null,
            "grid_area": null,
            "grid_template_columns": null,
            "flex": null,
            "_model_name": "LayoutModel",
            "justify_items": null,
            "grid_row": null,
            "max_height": null,
            "align_content": null,
            "visibility": null,
            "align_self": null,
            "height": null,
            "min_height": null,
            "padding": null,
            "grid_auto_rows": null,
            "grid_gap": null,
            "max_width": null,
            "order": null,
            "_view_module_version": "1.2.0",
            "grid_template_areas": null,
            "object_position": null,
            "object_fit": null,
            "grid_auto_columns": null,
            "margin": null,
            "display": null,
            "left": null
          }
        },
        "8b18ba45537e47a0a24eea0f4d999f66": {
          "model_module": "@jupyter-widgets/controls",
          "model_name": "ProgressStyleModel",
          "model_module_version": "1.5.0",
          "state": {
            "_view_name": "StyleView",
            "_model_name": "ProgressStyleModel",
            "description_width": "",
            "_view_module": "@jupyter-widgets/base",
            "_model_module_version": "1.5.0",
            "_view_count": null,
            "_view_module_version": "1.2.0",
            "bar_color": null,
            "_model_module": "@jupyter-widgets/controls"
          }
        },
        "dc69fccda6994c609839fdfaf21ea071": {
          "model_module": "@jupyter-widgets/base",
          "model_name": "LayoutModel",
          "model_module_version": "1.2.0",
          "state": {
            "_view_name": "LayoutView",
            "grid_template_rows": null,
            "right": null,
            "justify_content": null,
            "_view_module": "@jupyter-widgets/base",
            "overflow": null,
            "_model_module_version": "1.2.0",
            "_view_count": null,
            "flex_flow": null,
            "width": null,
            "min_width": null,
            "border": null,
            "align_items": null,
            "bottom": null,
            "_model_module": "@jupyter-widgets/base",
            "top": null,
            "grid_column": null,
            "overflow_y": null,
            "overflow_x": null,
            "grid_auto_flow": null,
            "grid_area": null,
            "grid_template_columns": null,
            "flex": null,
            "_model_name": "LayoutModel",
            "justify_items": null,
            "grid_row": null,
            "max_height": null,
            "align_content": null,
            "visibility": null,
            "align_self": null,
            "height": null,
            "min_height": null,
            "padding": null,
            "grid_auto_rows": null,
            "grid_gap": null,
            "max_width": null,
            "order": null,
            "_view_module_version": "1.2.0",
            "grid_template_areas": null,
            "object_position": null,
            "object_fit": null,
            "grid_auto_columns": null,
            "margin": null,
            "display": null,
            "left": null
          }
        },
        "179d9b278d904e4cb46443b56eff15b1": {
          "model_module": "@jupyter-widgets/controls",
          "model_name": "DescriptionStyleModel",
          "model_module_version": "1.5.0",
          "state": {
            "_view_name": "StyleView",
            "_model_name": "DescriptionStyleModel",
            "description_width": "",
            "_view_module": "@jupyter-widgets/base",
            "_model_module_version": "1.5.0",
            "_view_count": null,
            "_view_module_version": "1.2.0",
            "_model_module": "@jupyter-widgets/controls"
          }
        },
        "fcaa9a692e4c44608fe8ed0b5d007dcb": {
          "model_module": "@jupyter-widgets/base",
          "model_name": "LayoutModel",
          "model_module_version": "1.2.0",
          "state": {
            "_view_name": "LayoutView",
            "grid_template_rows": null,
            "right": null,
            "justify_content": null,
            "_view_module": "@jupyter-widgets/base",
            "overflow": null,
            "_model_module_version": "1.2.0",
            "_view_count": null,
            "flex_flow": null,
            "width": null,
            "min_width": null,
            "border": null,
            "align_items": null,
            "bottom": null,
            "_model_module": "@jupyter-widgets/base",
            "top": null,
            "grid_column": null,
            "overflow_y": null,
            "overflow_x": null,
            "grid_auto_flow": null,
            "grid_area": null,
            "grid_template_columns": null,
            "flex": null,
            "_model_name": "LayoutModel",
            "justify_items": null,
            "grid_row": null,
            "max_height": null,
            "align_content": null,
            "visibility": null,
            "align_self": null,
            "height": null,
            "min_height": null,
            "padding": null,
            "grid_auto_rows": null,
            "grid_gap": null,
            "max_width": null,
            "order": null,
            "_view_module_version": "1.2.0",
            "grid_template_areas": null,
            "object_position": null,
            "object_fit": null,
            "grid_auto_columns": null,
            "margin": null,
            "display": null,
            "left": null
          }
        },
        "b69c72eca54548868a359e7d9da7818f": {
          "model_module": "@jupyter-widgets/controls",
          "model_name": "HBoxModel",
          "model_module_version": "1.5.0",
          "state": {
            "_view_name": "HBoxView",
            "_dom_classes": [],
            "_model_name": "HBoxModel",
            "_view_module": "@jupyter-widgets/controls",
            "_model_module_version": "1.5.0",
            "_view_count": null,
            "_view_module_version": "1.5.0",
            "box_style": "",
            "layout": "IPY_MODEL_629758353f8d41d3a96d79353cf48143",
            "_model_module": "@jupyter-widgets/controls",
            "children": [
              "IPY_MODEL_89478538076b47299e5acb751ee933e6",
              "IPY_MODEL_34c701b739394197919f5518fe004843",
              "IPY_MODEL_c63f1cc3cb664f968c84da32e7359855"
            ]
          }
        },
        "629758353f8d41d3a96d79353cf48143": {
          "model_module": "@jupyter-widgets/base",
          "model_name": "LayoutModel",
          "model_module_version": "1.2.0",
          "state": {
            "_view_name": "LayoutView",
            "grid_template_rows": null,
            "right": null,
            "justify_content": null,
            "_view_module": "@jupyter-widgets/base",
            "overflow": null,
            "_model_module_version": "1.2.0",
            "_view_count": null,
            "flex_flow": null,
            "width": null,
            "min_width": null,
            "border": null,
            "align_items": null,
            "bottom": null,
            "_model_module": "@jupyter-widgets/base",
            "top": null,
            "grid_column": null,
            "overflow_y": null,
            "overflow_x": null,
            "grid_auto_flow": null,
            "grid_area": null,
            "grid_template_columns": null,
            "flex": null,
            "_model_name": "LayoutModel",
            "justify_items": null,
            "grid_row": null,
            "max_height": null,
            "align_content": null,
            "visibility": null,
            "align_self": null,
            "height": null,
            "min_height": null,
            "padding": null,
            "grid_auto_rows": null,
            "grid_gap": null,
            "max_width": null,
            "order": null,
            "_view_module_version": "1.2.0",
            "grid_template_areas": null,
            "object_position": null,
            "object_fit": null,
            "grid_auto_columns": null,
            "margin": null,
            "display": null,
            "left": null
          }
        },
        "89478538076b47299e5acb751ee933e6": {
          "model_module": "@jupyter-widgets/controls",
          "model_name": "HTMLModel",
          "model_module_version": "1.5.0",
          "state": {
            "_view_name": "HTMLView",
            "style": "IPY_MODEL_762328a8250842a2af31cc9b98cbabd5",
            "_dom_classes": [],
            "description": "",
            "_model_name": "HTMLModel",
            "placeholder": "​",
            "_view_module": "@jupyter-widgets/controls",
            "_model_module_version": "1.5.0",
            "value": "100%",
            "_view_count": null,
            "_view_module_version": "1.5.0",
            "description_tooltip": null,
            "_model_module": "@jupyter-widgets/controls",
            "layout": "IPY_MODEL_44c4709a7c6144eabef78ae8c42cf513"
          }
        },
        "34c701b739394197919f5518fe004843": {
          "model_module": "@jupyter-widgets/controls",
          "model_name": "FloatProgressModel",
          "model_module_version": "1.5.0",
          "state": {
            "_view_name": "ProgressView",
            "style": "IPY_MODEL_f358d34b0447423fa3d2e477c23f602a",
            "_dom_classes": [],
            "description": "",
            "_model_name": "FloatProgressModel",
            "bar_style": "success",
            "max": 1000,
            "_view_module": "@jupyter-widgets/controls",
            "_model_module_version": "1.5.0",
            "value": 1000,
            "_view_count": null,
            "_view_module_version": "1.5.0",
            "orientation": "horizontal",
            "min": 0,
            "description_tooltip": null,
            "_model_module": "@jupyter-widgets/controls",
            "layout": "IPY_MODEL_855012f45e214dc492f7673488f6633c"
          }
        },
        "c63f1cc3cb664f968c84da32e7359855": {
          "model_module": "@jupyter-widgets/controls",
          "model_name": "HTMLModel",
          "model_module_version": "1.5.0",
          "state": {
            "_view_name": "HTMLView",
            "style": "IPY_MODEL_90c6fe3f0aa6414689d17fb83216c680",
            "_dom_classes": [],
            "description": "",
            "_model_name": "HTMLModel",
            "placeholder": "​",
            "_view_module": "@jupyter-widgets/controls",
            "_model_module_version": "1.5.0",
            "value": " 1000/1000 [00:01&lt;00:00, 778.04it/s]",
            "_view_count": null,
            "_view_module_version": "1.5.0",
            "description_tooltip": null,
            "_model_module": "@jupyter-widgets/controls",
            "layout": "IPY_MODEL_c679eb42659c4c88861e4a723ef5da86"
          }
        },
        "762328a8250842a2af31cc9b98cbabd5": {
          "model_module": "@jupyter-widgets/controls",
          "model_name": "DescriptionStyleModel",
          "model_module_version": "1.5.0",
          "state": {
            "_view_name": "StyleView",
            "_model_name": "DescriptionStyleModel",
            "description_width": "",
            "_view_module": "@jupyter-widgets/base",
            "_model_module_version": "1.5.0",
            "_view_count": null,
            "_view_module_version": "1.2.0",
            "_model_module": "@jupyter-widgets/controls"
          }
        },
        "44c4709a7c6144eabef78ae8c42cf513": {
          "model_module": "@jupyter-widgets/base",
          "model_name": "LayoutModel",
          "model_module_version": "1.2.0",
          "state": {
            "_view_name": "LayoutView",
            "grid_template_rows": null,
            "right": null,
            "justify_content": null,
            "_view_module": "@jupyter-widgets/base",
            "overflow": null,
            "_model_module_version": "1.2.0",
            "_view_count": null,
            "flex_flow": null,
            "width": null,
            "min_width": null,
            "border": null,
            "align_items": null,
            "bottom": null,
            "_model_module": "@jupyter-widgets/base",
            "top": null,
            "grid_column": null,
            "overflow_y": null,
            "overflow_x": null,
            "grid_auto_flow": null,
            "grid_area": null,
            "grid_template_columns": null,
            "flex": null,
            "_model_name": "LayoutModel",
            "justify_items": null,
            "grid_row": null,
            "max_height": null,
            "align_content": null,
            "visibility": null,
            "align_self": null,
            "height": null,
            "min_height": null,
            "padding": null,
            "grid_auto_rows": null,
            "grid_gap": null,
            "max_width": null,
            "order": null,
            "_view_module_version": "1.2.0",
            "grid_template_areas": null,
            "object_position": null,
            "object_fit": null,
            "grid_auto_columns": null,
            "margin": null,
            "display": null,
            "left": null
          }
        },
        "f358d34b0447423fa3d2e477c23f602a": {
          "model_module": "@jupyter-widgets/controls",
          "model_name": "ProgressStyleModel",
          "model_module_version": "1.5.0",
          "state": {
            "_view_name": "StyleView",
            "_model_name": "ProgressStyleModel",
            "description_width": "",
            "_view_module": "@jupyter-widgets/base",
            "_model_module_version": "1.5.0",
            "_view_count": null,
            "_view_module_version": "1.2.0",
            "bar_color": null,
            "_model_module": "@jupyter-widgets/controls"
          }
        },
        "855012f45e214dc492f7673488f6633c": {
          "model_module": "@jupyter-widgets/base",
          "model_name": "LayoutModel",
          "model_module_version": "1.2.0",
          "state": {
            "_view_name": "LayoutView",
            "grid_template_rows": null,
            "right": null,
            "justify_content": null,
            "_view_module": "@jupyter-widgets/base",
            "overflow": null,
            "_model_module_version": "1.2.0",
            "_view_count": null,
            "flex_flow": null,
            "width": null,
            "min_width": null,
            "border": null,
            "align_items": null,
            "bottom": null,
            "_model_module": "@jupyter-widgets/base",
            "top": null,
            "grid_column": null,
            "overflow_y": null,
            "overflow_x": null,
            "grid_auto_flow": null,
            "grid_area": null,
            "grid_template_columns": null,
            "flex": null,
            "_model_name": "LayoutModel",
            "justify_items": null,
            "grid_row": null,
            "max_height": null,
            "align_content": null,
            "visibility": null,
            "align_self": null,
            "height": null,
            "min_height": null,
            "padding": null,
            "grid_auto_rows": null,
            "grid_gap": null,
            "max_width": null,
            "order": null,
            "_view_module_version": "1.2.0",
            "grid_template_areas": null,
            "object_position": null,
            "object_fit": null,
            "grid_auto_columns": null,
            "margin": null,
            "display": null,
            "left": null
          }
        },
        "90c6fe3f0aa6414689d17fb83216c680": {
          "model_module": "@jupyter-widgets/controls",
          "model_name": "DescriptionStyleModel",
          "model_module_version": "1.5.0",
          "state": {
            "_view_name": "StyleView",
            "_model_name": "DescriptionStyleModel",
            "description_width": "",
            "_view_module": "@jupyter-widgets/base",
            "_model_module_version": "1.5.0",
            "_view_count": null,
            "_view_module_version": "1.2.0",
            "_model_module": "@jupyter-widgets/controls"
          }
        },
        "c679eb42659c4c88861e4a723ef5da86": {
          "model_module": "@jupyter-widgets/base",
          "model_name": "LayoutModel",
          "model_module_version": "1.2.0",
          "state": {
            "_view_name": "LayoutView",
            "grid_template_rows": null,
            "right": null,
            "justify_content": null,
            "_view_module": "@jupyter-widgets/base",
            "overflow": null,
            "_model_module_version": "1.2.0",
            "_view_count": null,
            "flex_flow": null,
            "width": null,
            "min_width": null,
            "border": null,
            "align_items": null,
            "bottom": null,
            "_model_module": "@jupyter-widgets/base",
            "top": null,
            "grid_column": null,
            "overflow_y": null,
            "overflow_x": null,
            "grid_auto_flow": null,
            "grid_area": null,
            "grid_template_columns": null,
            "flex": null,
            "_model_name": "LayoutModel",
            "justify_items": null,
            "grid_row": null,
            "max_height": null,
            "align_content": null,
            "visibility": null,
            "align_self": null,
            "height": null,
            "min_height": null,
            "padding": null,
            "grid_auto_rows": null,
            "grid_gap": null,
            "max_width": null,
            "order": null,
            "_view_module_version": "1.2.0",
            "grid_template_areas": null,
            "object_position": null,
            "object_fit": null,
            "grid_auto_columns": null,
            "margin": null,
            "display": null,
            "left": null
          }
        }
      }
    }
  },
  "cells": [
    {
      "cell_type": "markdown",
      "metadata": {
        "id": "view-in-github",
        "colab_type": "text"
      },
      "source": [
        "<a href=\"https://colab.research.google.com/github/KaggleStudy4th/4th_kaggle_study/blob/main/%EC%8B%A4%EC%8A%B5%EC%BD%94%EB%93%9C/3%EC%A3%BC%EC%B0%A8/Jiin/3D_MNIST_%EC%88%AB%EC%9E%90_%EB%B6%84%EB%A5%98.ipynb\" target=\"_parent\"><img src=\"https://colab.research.google.com/assets/colab-badge.svg\" alt=\"Open In Colab\"/></a>"
      ]
    },
    {
      "cell_type": "code",
      "execution_count": 4,
      "metadata": {
        "id": "-n0cf1FQsVYG"
      },
      "outputs": [],
      "source": [
        "%matplotlib inline\n",
        "import warnings  \n",
        "warnings.filterwarnings('ignore')\n",
        "\n",
        "import os\n",
        "import json\n",
        "import glob\n",
        "from tqdm.notebook import tqdm\n",
        "\n",
        "import numpy as np\n",
        "import pandas as pd\n",
        "\n",
        "import matplotlib.pyplot as plt\n",
        "import plotly.graph_objs as go\n",
        "\n",
        "from sklearn.svm import LinearSVC\n",
        "from sklearn.preprocessing import MinMaxScaler"
      ]
    },
    {
      "cell_type": "code",
      "source": [
        "os.environ['KAGGLE_USERNAME']='jiinpp'\n",
        "os.environ['KAGGLE_KEY']=\"b06d525a9f66198051ccb648b091778a\""
      ],
      "metadata": {
        "id": "vmZjc6tWsXKo"
      },
      "execution_count": 2,
      "outputs": []
    },
    {
      "cell_type": "code",
      "source": [
        "!kaggle competitions download -c 2021-ml-p11"
      ],
      "metadata": {
        "colab": {
          "base_uri": "https://localhost:8080/"
        },
        "id": "zCV6xjgesa5E",
        "outputId": "882dd534-3fc4-4cca-ce67-8b4e0ec2b380"
      },
      "execution_count": 3,
      "outputs": [
        {
          "output_type": "stream",
          "name": "stdout",
          "text": [
            "Warning: Looks like you're using an outdated API Version, please consider updating (server 1.5.12 / client 1.5.4)\n",
            "Downloading sample_submit.csv to /content\n",
            "  0% 0.00/5.76k [00:00<?, ?B/s]\n",
            "100% 5.76k/5.76k [00:00<00:00, 10.3MB/s]\n",
            "Downloading mnist3D_data.json.zip to /content\n",
            " 74% 33.0M/44.4M [00:01<00:00, 21.4MB/s]\n",
            "100% 44.4M/44.4M [00:01<00:00, 28.8MB/s]\n"
          ]
        }
      ]
    },
    {
      "cell_type": "code",
      "source": [
        "!unzip '*.zip'"
      ],
      "metadata": {
        "colab": {
          "base_uri": "https://localhost:8080/"
        },
        "id": "clNelU4dsnXd",
        "outputId": "d9d52e6c-978a-4da2-a05c-54f696efe5f1"
      },
      "execution_count": 5,
      "outputs": [
        {
          "output_type": "stream",
          "name": "stdout",
          "text": [
            "Archive:  mnist3D_data.json.zip\n",
            "  inflating: mnist3D_data.json       \n"
          ]
        }
      ]
    },
    {
      "cell_type": "code",
      "source": [
        "with open(\"/content/mnist3D_data.json\",'r') as j:\n",
        "  data=json.load(j)"
      ],
      "metadata": {
        "id": "VJd8vfgxtq2P"
      },
      "execution_count": 6,
      "outputs": []
    },
    {
      "cell_type": "code",
      "source": [
        "# 1720 번째 이미지에 대한 출력\n",
        "image_number = 1720\n",
        "\n",
        "digit = data[\"train\"][image_number][\"label\"]\n",
        "coordinate = np.array(data[\"train\"][image_number][\"points\"])\n",
        "\n",
        "layout = go.Layout(title = \"Digit \" + str(digit))\n",
        "plot_data = go.Scatter3d(x = coordinate[:,0], y = coordinate[:,1], z = coordinate[:,2],\n",
        "                    mode = 'markers', marker = dict(size = 3))\n",
        "\n",
        "fig = go.Figure(data = [plot_data], layout = layout)\n",
        "fig.show()"
      ],
      "metadata": {
        "colab": {
          "base_uri": "https://localhost:8080/",
          "height": 542
        },
        "id": "qWTjfHh6uhl6",
        "outputId": "ba0435f3-fc74-4ece-a116-5ca1b5b68e52"
      },
      "execution_count": 8,
      "outputs": [
        {
          "output_type": "display_data",
          "data": {
            "text/html": [
              "<html>\n",
              "<head><meta charset=\"utf-8\" /></head>\n",
              "<body>\n",
              "    <div>\n",
              "            <script src=\"https://cdnjs.cloudflare.com/ajax/libs/mathjax/2.7.5/MathJax.js?config=TeX-AMS-MML_SVG\"></script><script type=\"text/javascript\">if (window.MathJax) {MathJax.Hub.Config({SVG: {font: \"STIX-Web\"}});}</script>\n",
              "                <script type=\"text/javascript\">window.PlotlyConfig = {MathJaxConfig: 'local'};</script>\n",
              "        <script src=\"https://cdn.plot.ly/plotly-latest.min.js\"></script>    \n",
              "            <div id=\"b9285986-8283-49fc-90c3-9fd8f369195c\" class=\"plotly-graph-div\" style=\"height:525px; width:100%;\"></div>\n",
              "            <script type=\"text/javascript\">\n",
              "                \n",
              "                    window.PLOTLYENV=window.PLOTLYENV || {};\n",
              "                    \n",
              "                if (document.getElementById(\"b9285986-8283-49fc-90c3-9fd8f369195c\")) {\n",
              "                    Plotly.newPlot(\n",
              "                        'b9285986-8283-49fc-90c3-9fd8f369195c',\n",
              "                        [{\"marker\": {\"size\": 3}, \"mode\": \"markers\", \"type\": \"scatter3d\", \"x\": [-0.04655172413792648, -0.1426108374384191, 0.09827586206897009, 4.5406386983692926e-15, 0.09827586206897009, 0.046551724137935596, -0.09827586206896098, -0.14379310344827131, 0.1437931034482804, 4.5406386983692926e-15, -0.14379310344827131, 0.09827586206897009, 0.046551724137935596, 4.5406386983692926e-15, -0.09827586206896098, -0.14379310344827131, 0.1437931034482804, 0.09827586206897006, 0.0465517241379356, 4.541289219672784e-15, -0.046551724137926485, -0.09827586206896098, -0.14379310344827131, 0.1437931034482804, 0.09827586206897007, 4.540205017500298e-15, -0.04655172413792648, -0.09827586206896098, -0.14379310344827131, 0.1437931034482804, 0.1437931034482804, -0.04655172413792648, -0.09827586206896098, -0.14379310344827131, 4.541289219672784e-15, -0.14379310344827131, -0.04655172413792648, -0.14379310344827131, 0.1500000000000045, 0.1500000000000045, -0.14999999999999541, 0.1500000000000045, 0.15000000000000446, -0.14999999999999536, -0.14999999999999541, 0.1500000000000045, -0.14999999999999541, 0.1500000000000045, 0.09827586206897007, 0.04655172413793559, 4.538181173444992e-15, -0.046551724137926485, -0.09827586206896098, 0.09827586206897004, 0.04655172413793559, 0.04655172413793558, 4.538036613155327e-15, -0.14379310344827131, -0.046551724137926485, -0.09827586206896098, 0.14482758620690106, 0.1426108374384282, 0.09827586206897009, 0.04655172413793557, -0.046551724137926506, -0.09827586206896098, 0.1500000000000045, -0.14999999999999544, 0.1500000000000045, 0.1500000000000045, 0.15000000000000452, -0.14999999999999544, 0.15000000000000446, -0.14999999999999544, 0.09827586206897009, -0.046551724137926485, -0.14999999999999544, 0.1500000000000045, -0.14999999999999544, 0.1500000000000045, 0.1500000000000045, 0.09827586206897009, 0.04655172413793557, 4.536193469462102e-15, -0.046551724137926506, -0.09827586206896098, 0.14224137931034936, 0.09827586206897004, 0.1448275862069011, 0.09827586206897007, -0.14999999999999544, -0.14999999999999544, 0.1500000000000045, -0.14999999999999544, -0.14999999999999544, 0.09827586206897006, 0.04655172413793557, 4.532181921423906e-15, -0.09827586206896098, 0.09827586206897004, 0.1437931034482804, 0.04655172413793558, 0.04655172413793558, 0.09827586206897009, 4.530403829861029e-15, -0.04655172413792649, -0.14482758620689204, -0.04655172413792649, -0.09827586206896098, -0.09827586206896098, -0.14556650246304964, -0.1426108374384191, 0.14556650246305866, 0.09827586206897004, 4.5319650809894085e-15, -0.04655172413792649, 0.04655172413793558, 4.530519478092761e-15, -0.1426108374384191, -0.046551724137926485, 0.1460212201591557, 0.1431034482758666, 4.530230357513432e-15, 0.14522546419098595, -0.04655172413792649, -0.14999999999999544, -0.14482758620689204, 0.15000000000000446, 0.15000000000000446, -0.14999999999999544, 0.15000000000000446, 0.15000000000000446, -0.09827586206896098, 0.15000000000000446, 0.09827586206897004, -0.04655172413792649, -0.144827586206892, 0.15000000000000446, 0.09827586206897003, 0.09827586206897009, -0.14999999999999541, 4.530230357513432e-15, -0.04655172413792649, -0.14379310344827131, 0.15000000000000446, 0.04655172413793557, -0.09827586206896098, 0.046551724137935575, -0.046551724137926485, 0.046551724137935596, -0.14310344827585755, 0.1431034482758666, 0.09827586206897006, 0.04655172413793558, -0.14999999999999541, 4.525199659433099e-15, -0.14999999999999544, -0.09827586206896098, -0.14999999999999544, -0.14482758620689204, 0.15000000000000446, 0.04655172413793558, -0.046551724137926485, -0.14224137931034028, 4.530403829861029e-15, -0.04655172413792649, -0.09827586206896098, -0.14379310344827131, 0.1437931034482804, 0.09827586206897003, 0.1500000000000045, 0.04655172413793557, -0.04655172413792649, -0.09827586206896098, -0.144827586206892, -0.14999999999999544, -0.14999999999999544, 0.15000000000000446, 0.04655172413793557, -0.04655172413792649, -0.09827586206896098, 0.15000000000000446, 4.52589354882349e-15, -0.046551724137926485, -0.14999999999999544, 0.14543610547667798, -0.09827586206896098, -0.046551724137926485, 0.14623824451411105, 0.14310344827586657, 0.09827586206897006, 0.04655172413793558, 4.524158825347513e-15, -0.04655172413792649, -0.09827586206896098, 0.1426108374384282, -0.14999999999999544, -0.14482758620689204, 0.04655172413793557, 4.526934382909076e-15, -0.04655172413792649, -0.09827586206896098, 0.09827586206897006, 0.04655172413793558, 4.524158825347513e-15, 4.524245561521312e-15, -0.04655172413792649, -0.04655172413792649, -0.09827586206896098, -0.14999999999999544, 0.1500000000000045, -0.14379310344827131, 0.15000000000000446, -0.1426108374384191, 0.1437931034482804, 0.14261083743842817, -0.09827586206896098, 0.04655172413793558, 0.09827586206897006, 0.14464922711058717, -0.09827586206896098, -0.144827586206892, 0.15000000000000446, -0.1426108374384191, 0.09827586206897009, -0.14999999999999541, 0.1500000000000045, 0.046551724137935575, -0.046551724137926485, -0.09827586206896098, 0.1500000000000045, -0.046551724137926506, 0.14482758620690106, -0.14556650246304964, 0.14556650246305866, 0.1500000000000045, 0.1500000000000045, 0.04655172413793557, 0.04655172413793556, -0.04655172413792649, -0.046551724137926506, -0.09827586206896098, -0.09827586206896098, -0.14224137931034028, 4.521556740133548e-15, 0.14224137931034933, 0.09827586206897003, 0.04655172413793557, 4.517393403791203e-15, 4.52589354882349e-15, -0.09827586206896098, 0.04655172413793556, 0.1500000000000045, 4.516063449126288e-15, -0.0465517241379265, -0.04655172413792648, -0.09827586206896102, 0.15000000000000446, -0.144827586206892, 0.14310344827586657, -0.09827586206896098, 4.520906218830056e-15, 0.15000000000000446, 0.15000000000000446, -0.04655172413792649, -0.09827586206896098, -0.09827586206896098, 0.15000000000000446, -0.09827586206896098, 0.1437931034482804, 4.517219931443606e-15, -0.04655172413792649, 4.537169251417339e-15, -0.09827586206896098, -0.1426108374384191, 0.09827586206897006, 0.14261083743842815, 0.04655172413793557, -0.046551724137926485, 4.517219931443606e-15, 0.14623824451411105, -0.04655172413792649, -0.09827586206896098, -0.14379310344827131, 0.14379310344828033, 0.09827586206897006, 0.09827586206897004, 4.517219931443606e-15, -0.046551724137926506, -0.09827586206896098, 0.14482758620690106, -0.098275862068961, 0.1448275862069011, -0.14379310344827131, 0.09827586206897003, 0.04655172413793556, -0.09827586206896098, 0.1437931034482804, 4.5148346866641376e-15, -0.098275862068961, 0.09827586206897004, -0.0465517241379265, -0.09827586206896102, 0.14452332657201258, 0.09827586206897004, 0.09827586206897006, 0.04655172413793556, -0.04655172413792649, 0.04655172413793556, 4.5149647909248355e-15, -0.04655172413792652, -0.0465517241379265, -0.098275862068961, -0.09827586206896101, -0.14379310344827131, -0.1426108374384191, -0.046551724137926534, -0.14379310344827131, 0.14482758620690106, 0.14224137931034936, -0.09827586206896104, -0.09827586206896104, -0.14261083743841915, -0.04655172413792654, 0.144827586206901, 4.496316513558085e-15, -0.14310344827585755, -0.14999999999999544, 0.14623824451411102, 0.04655172413793553, -0.04655172413792655, 4.496489985905683e-15, 4.5406386983692926e-15, -0.09827586206896104, 0.15000000000000446, 0.046551724137935596, 0.14379310344828036, 0.04655172413793553, -0.04655172413792655, -0.1499999999999955, -0.14999999999999547, 0.15000000000000444, 0.15000000000000446, 0.15000000000000446, -0.09827586206896104, -0.046551724137926485, 0.04655172413793553, -0.14379310344827134, -0.14379310344827137, 0.14522546419098592, 0.14482758620690106, -0.046551724137926506, -0.09827586206896104, -0.14522546419097698, 4.481658100186081e-15, -0.04655172413792651, 0.1452254641909859, 0.046551724137935534, -0.14379310344827137, 0.1500000000000045, -0.14999999999999544, 0.09827586206897006, 0.09827586206897003, -0.04655172413792651, -0.14379310344827137, -0.09827586206896098, -0.04655172413792654, -0.1499999999999955, 0.14379310344828033, 0.15000000000000444, 0.046551724137935534, -0.09827586206896101, -0.09827586206896098, 0.04655172413793554, -0.09827586206896101, -0.04655172413792654, -0.1499999999999955, 0.14261083743842815, -0.14999999999999547, 4.494307125531745e-15, -0.14999999999999544, -0.09827586206896104, -0.04655172413792654, -0.14999999999999544, -0.09827586206896104, -0.14999999999999544, 0.1454361054766779, -0.1499999999999955, 0.14556650246305866, -0.14999999999999544, -0.09827586206896104, -0.14379310344827137, 4.493887900691718e-15, 4.481802660475746e-15, -0.046551724137926534, -0.04655172413792653, 0.04655172413793553, -0.14261083743841915, -0.14379310344827137, -0.14379310344827134, 0.09827586206897003, 0.1437931034482804, -0.1445233265720036, 0.046551724137935534, 0.15000000000000444, -0.14999999999999544, 0.14379310344828033, 4.533092651248794e-15, 0.046551724137935534, 0.09827586206897003, 4.489637828175574e-15, 0.15000000000000446, 0.1437931034482804, 0.09827586206897002, 4.488307873510659e-15, -0.04655172413792653, -0.14310344827585755, -0.04655172413792654, -0.04655172413792648, -0.09827586206896098, 0.046551724137935534, 4.511148399277687e-15, -0.09827586206896104, -0.14623824451410206, 0.15000000000000446, 0.04655172413793556, -0.1499999999999955, 0.15000000000000444, -0.09827586206896098, 0.04655172413793557, 0.14379310344828033, -0.14999999999999547, 0.15000000000000446, -0.1499999999999955, 0.09827586206897002, 0.15000000000000446, 0.14482758620690103, -0.14224137931034028, 0.04655172413793553, 0.15000000000000446, -0.09827586206896104, -0.1454361054766689, -0.04655172413792654, -0.09827586206896098, 0.04655172413793557, 0.15000000000000444, -0.14999999999999547, 0.15000000000000444, 0.14310344827586657, 0.15000000000000446, -0.14999999999999544, -0.09827586206896104, 0.15000000000000444, 0.1454361054766779, 0.09827586206897003, -0.1499999999999955, -0.04655172413792652, 0.14261083743842815, 0.046551724137935596, -0.1499999999999955, -0.14999999999999547, 0.15000000000000444, -0.04655172413792651, 0.14379310344828033, 4.536518730113848e-15, 0.15000000000000446, -0.098275862068961, 0.09827586206897002, -0.09827586206896104, 0.14623824451411105, -0.1499999999999955, -0.04655172413792654, 0.09827586206897003, -0.14379310344827131, 4.516063449126288e-15, 0.15000000000000444, -0.04655172413792654, 0.04655172413793553, 0.04655172413793553, 0.04655172413793558, -0.09827586206896104, 0.04655172413793553, -0.1499999999999955, -0.04655172413792655, 4.483392823662058e-15, -0.1499999999999955, -0.14379310344827131, -0.14482758620689207, -0.04655172413792654, 0.09827586206897003, 4.530230357513432e-15, -0.14999999999999544, 0.14482758620690103, -0.14379310344827134, 0.15000000000000446, 0.09827586206897, 0.14379310344828033, 0.04655172413793558, 4.510801454582492e-15, 0.046551724137935596, -0.0465517241379265, 0.04655172413793553, -0.04655172413792649, 0.09827586206896999, -0.1499999999999955, 0.15000000000000446, 0.15000000000000444, 0.1426108374384282, -0.14999999999999547, 0.14482758620690103, -0.04655172413792655, -0.046551724137926506, 0.09827586206896999, -0.09827586206896104, 0.09827586206897002, 0.046551724137935596, -0.1499999999999955, 4.481658100186081e-15, -0.14999999999999544, -0.09827586206896104, 0.15000000000000446, -0.14999999999999547, 0.15000000000000446, 0.046551724137935575, 0.15000000000000446, 4.524231105492345e-15, 0.15000000000000446, -0.14999999999999541, 0.15000000000000446, 0.04655172413793554, 4.496403249731884e-15, -0.09827586206896104, -0.09827586206896104, -0.14999999999999553, -0.09827586206896098, -0.14482758620689204, 0.14379310344828036, -0.144827586206892, -0.1499999999999955, 0.04655172413793553, 4.511148399277687e-15, -0.14482758620689207, -0.09827586206896104, 0.04655172413793553, 0.14482758620690103, -0.04655172413792654, 4.483392823662058e-15, -0.14482758620689204, 0.09827586206897006, 0.04655172413793556, -0.04655172413792655, -0.1499999999999955, 0.046551724137935534, 4.483392823662058e-15, -0.046551724137926485, -0.09827586206896104, -0.14482758620689207, 0.14482758620690106, 0.09827586206897002, -0.14999999999999544, -0.04655172413792654, -0.09827586206896104, -0.04655172413792655, -0.14999999999999547, 0.15000000000000444, -0.04655172413792655, -0.14482758620689207, -0.09827586206896104, -0.04655172413792655, 4.498246393425109e-15, -0.1499999999999955, 0.1424510717614211, -0.1499999999999955, -0.14379310344827134, 0.09827586206897004, 0.15000000000000446, 0.09827586206897004, 0.14482758620690103, 0.14261083743842815, 0.09827586206896999, -0.14999999999999547, 0.14379310344828033, 0.14261083743842815, -0.14482758620689204, -0.04655172413792654, -0.09827586206896104, -0.14623824451410203, 0.14224137931034933, 4.502763902477132e-15, 4.48174483635988e-15, 0.14482758620690106, -0.1462382445141021, -0.144827586206892, -0.1499999999999955, 0.04655172413793553, 0.04655172413793553, -0.04655172413792655, -0.14999999999999544, 0.14379310344828036, 4.504426345808277e-15, -0.09827586206896102, 0.15000000000000446, -0.14379310344827131, -0.09827586206896104, -0.1499999999999955, 0.1460212201591557, 0.14482758620690103, 0.09827586206897002, -0.1499999999999955, 0.14310344827586657, 0.15000000000000446, -0.09827586206896104, 0.14464922711058714, -0.09827586206896104, 0.04655172413793556, 0.09827586206897002, -0.09827586206896104, -0.04655172413792654, 0.09827586206897002, 4.5148346866641376e-15, 0.14379310344828036, 4.481658100186081e-15, -0.1499999999999955, 0.04655172413793556, 0.04655172413793552, -0.1499999999999955, 4.493801164517919e-15, -0.04655172413792654, -0.14482758620689207, -0.09827586206896104, 0.04655172413793553, -0.1499999999999955, 0.09827586206897, -0.04655172413792654, -0.09827586206896101, -0.14999999999999544, 0.15000000000000446, -0.04655172413792654, 0.04655172413793553, -0.14379310344827137, 0.14623824451411105, -0.04655172413792655, 0.09827586206897006, -0.14999999999999544, -0.14999999999999553, 0.046551724137935534, 0.14482758620690106, -0.14543610547666894, 0.15000000000000455, 0.09827586206896999, 0.14482758620690103, 0.09827586206897002, 0.1426108374384282, 0.09827586206896999, -0.09827586206896104, -0.14464922711057812, 4.489637828175574e-15, 0.144827586206901, 0.09827586206897003, 0.15000000000000446, -0.14999999999999547, 0.04655172413793558, -0.09827586206896104, -0.04655172413792654, -0.1460212201591466, 0.15000000000000446, -0.09827586206896104, -0.14556650246304967, -0.14482758620689207, 0.04655172413793553, -0.14999999999999553, -0.09827586206896104, -0.14482758620689207, 0.15000000000000444, -0.09827586206896102, -0.14999999999999544, -0.04655172413792652, 0.15000000000000446, 4.5406386983692926e-15, 0.15000000000000446, -0.14310344827585755, 0.04655172413793553, -0.04655172413792655, -0.14999999999999547, -0.045443349753690084, 0.09827586206897007, 0.15000000000000444, -0.09827586206896104, 4.499005334945849e-15, 0.1500000000000045, 0.09827586206897002, -0.04655172413792655, -0.1499999999999955, -0.14999999999999547, -0.09827586206896098, 0.04655172413793553, 0.04655172413793558, 0.14556650246305863, -0.14999999999999553, -0.046551724137926534, -0.09827586206896104, -0.09827586206896104, -0.09827586206896104, -0.09827586206896098, -0.04655172413792653, -0.14310344827585755, -0.1499999999999955, 0.09827586206897006, -0.04655172413792654, -0.04655172413792655, -0.14999999999999541, 0.15000000000000446, 0.14482758620690103, -0.14999999999999544, 0.15000000000000446, -0.04655172413792655, 0.15000000000000444, 0.14224137931034933, -0.14261083743841915, 4.4865153259188165e-15, 4.498658390250654e-15, -0.04655172413792654, -0.09827586206896098, 0.09827586206897002, -0.14999999999999547, -0.04655172413792649, 0.1500000000000045, 0.15000000000000446, 4.493801164517919e-15, -0.14999999999999547, 4.493801164517919e-15, 0.15000000000000446, 0.046551724137935534, 0.04655172413793553, 0.09827586206897002, -0.1499999999999955, 4.493887900691718e-15, -0.14999999999999544, -0.14999999999999544, 4.481658100186081e-15, -0.14379310344827137, 0.09827586206897003, 4.493887900691718e-15, 0.14379310344828033, 0.09827586206896999, 0.15000000000000446, 0.09827586206897003, 0.04655172413793553, 0.1437931034482804, -0.046551724137926534, 4.538181173444992e-15, -0.1446492271105781, 0.14379310344828036, 4.483609664096555e-15, -0.1460212201591466, 0.09827586206897002, 4.481441259751584e-15, -0.14379310344827131, 0.04655172413793558, 0.046551724137935534, 0.14379310344828033, 0.04655172413793553, -0.14999999999999553, 0.046551724137935534, 0.09827586206897002, -0.14999999999999553, 0.14482758620690106, 4.481658100186081e-15, -0.14522546419097684, 0.1500000000000045, -0.04655172413792653, 4.5406386983692926e-15, 0.046551724137935596, -0.14379310344827131, -0.14999999999999547, 0.15000000000000444, 0.046551724137935534, 0.15000000000000446, -0.14224137931034034, 0.09827586206896999, -0.14999999999999547, -0.14999999999999547, 0.09827586206897002, 4.511003838988022e-15, 0.04655172413793558, 0.09827586206897007, 0.04655172413793553, -0.14310344827585755, 0.14379310344828033, -0.14482758620689204, 0.09827586206897002, 0.04655172413793553, 4.5406386983692926e-15, 0.1500000000000045, 0.04655172413793553, -0.09827586206896098, -0.14999999999999547, 0.09827586206896999, 0.04655172413793558, -0.14999999999999553, -0.14379310344827134, -0.14379310344827131, 4.493801164517919e-15, 0.09827586206897003, -0.09827586206896104, 0.15000000000000444, 4.493801164517919e-15, -0.14999999999999544, 0.14379310344828033, -0.1499999999999955, 0.15000000000000446, 0.09827586206897003, -0.14379310344827137, 0.15000000000000446, 4.530403829861029e-15, -0.09827586206896101, 0.15000000000000444, 4.526934382909076e-15, -0.14224137931034028, -0.09827586206896102, -0.14999999999999558, -0.1426108374384191, -0.14999999999999553, 0.15000000000000446, 0.14224137931034933, 0.09827586206896999, 0.15000000000000446, -0.1499999999999955, -0.047701149425282835, 0.04655172413793553, 0.15000000000000452, 4.496403249731884e-15, -0.14999999999999553, 0.09827586206897002, 0.09827586206897007, -0.14522546419097684, 0.046551724137935596, -0.14999999999999547, 0.14452332657201256, 0.09827586206897004, -0.09827586206896104, 4.505076867111768e-15, 4.496475529876716e-15, 0.04655172413793553, -0.14556650246304967, 4.481874940620578e-15, 0.09827586206897003, 0.09827586206897009, -0.04655172413792651, 4.481658100186081e-15, -0.14999999999999553, 0.14261083743842815, -0.09827586206896104, 4.524231105492345e-15, -0.09827586206896104, 0.09827586206897006, -0.04655172413792653, 4.496489985905683e-15, -0.14999999999999547, 4.496316513558085e-15, -0.09827586206896098, 0.046551724137935534, -0.09827586206896098, -0.14224137931034028, 0.14379310344828033, 0.1448275862069011, -0.14999999999999547, 0.09827586206897003, -0.09827586206896104, -0.046551724137926534, 0.1437931034482804, -0.14261083743841915, 0.046551724137935534, -0.04655172413792654, 0.04655172413793554, 4.496475529876716e-15, 0.09827586206897002, 0.09827586206897002, 0.09827586206897002, -0.14999999999999547, 0.1500000000000045, 0.14310344827586657, -0.14999999999999547, 0.04655172413793556, 0.1500000000000045, -0.14999999999999547, 0.15000000000000446, 0.14482758620690103, -0.144827586206892, -0.04655172413792654, 4.498282533497526e-15, -0.1446492271105781, -0.09827586206896104, -0.04655172413792648, -0.09827586206896104, 0.09827586206897002, -0.14999999999999544, -0.09827586206896104, -0.09827586206896098, -0.14999999999999553, 0.14482758620690106, 4.517393403791203e-15, 0.09827586206897002, -0.1445233265720036, 0.04655172413793554, -0.09827586206896104, 0.09827586206897003, 0.04655172413793556, 0.14261083743842815, 0.14379310344828033, 4.520364117743814e-15, 0.04655172413793553, -0.14245107176141206, 4.526934382909076e-15, -0.1426108374384191, -0.09827586206896102, -0.09827586206896104, 4.498619840840077e-15, -0.14379310344827131, 0.046551724137935534, 0.1500000000000045, 4.49822470938166e-15, 0.04655172413793554, -0.14999999999999553, 4.483175983227561e-15, 0.09827586206897002, 0.09827586206897006, 0.14464922711058714, -0.14999999999999544, -0.04655172413792654, 0.15000000000000446, 0.046551724137935534, 0.09827586206897004, 4.538036613155327e-15, -0.09827586206896098, -0.09827586206896104, 0.09827586206897003, -0.14999999999999544, 0.1500000000000045, 0.1500000000000045, -0.14999999999999547, -0.14999999999999544, 0.14379310344828033, -0.14999999999999544, 4.483045878966863e-15, 0.14379310344828033, 0.15000000000000446, 0.1460212201591557, 0.09827586206897006, -0.04655172413792654, 4.502127837202608e-15, -0.14999999999999544, 0.09827586206897007, 0.14224137931034933, -0.14999999999999544, 0.09827586206897006, 0.14522546419098598, 0.1500000000000045, 0.04655172413793556, 0.15000000000000446, -0.14999999999999541, 0.15000000000000446, -0.09827586206896104, -0.046551724137926534, 4.498788494511352e-15, -0.04655172413792648, 0.1500000000000045, 0.09827586206897002, -0.04655172413792654, -0.04655172413792654, -0.04655172413792654, 0.14379310344828033, 4.536909042895942e-15, -0.14379310344827131, 0.1500000000000045, 4.533092651248794e-15, -0.14379310344827131, 0.09827586206897003, -0.14379310344827131, -0.14999999999999544, 0.09827586206897003, -0.14379310344827131, -0.14999999999999541, -0.09827586206896104, -0.04655172413792649, 0.046551724137935534, 4.517219931443606e-15, -0.04655172413792654, 4.487440511772671e-15, 0.15000000000000455, 4.498658390250654e-15, -0.14482758620689204, 0.09827586206897002, -0.14999999999999544, 0.04655172413793556, -0.14999999999999547, -0.09827586206896104, 0.046551724137935534, -0.14482758620689207, 0.09827586206897002, -0.14999999999999544, -0.14999999999999544, -0.09827586206896104, 0.04655172413793556, 4.498658390250654e-15, 0.046551724137935534, 0.14261083743842815, 4.524231105492345e-15, -0.1454361054766689, 0.09827586206897002, -0.14999999999999536, 4.5406386983692926e-15, 0.15000000000000446, 0.09827586206897002, -0.14379310344827131, 0.14379310344828033, -0.09827586206896104, -0.09827586206896098, 0.09827586206897003, -0.04655172413792648, 0.04655172413793553, -0.09827586206896104, 4.515832152662824e-15, 4.498788494511352e-15, -0.1426108374384191, 0.04655172413793554, -0.09827586206896104, 0.09827586206897009, 4.510801454582492e-15, 4.493801164517919e-15, -0.04655172413792654, 4.502127837202608e-15, -0.1446492271105781, 0.14452332657201258, 0.046551724137935534, -0.1460212201591466, 0.09827586206897002, 0.15000000000000444, -0.14999999999999547, 0.1437931034482804, -0.14224137931034028, -0.1446492271105781, 0.046551724137935534, 4.498658390250654e-15, 0.15000000000000446, -0.046551724137926534, 4.530013517078935e-15, 0.14482758620690106, 0.04655172413793554, 0.09827586206897003, 0.04655172413793555, 0.09827586206897003, -0.14999999999999547, -0.04655172413792649, 0.15000000000000446, 0.15000000000000446, 0.15000000000000446, 0.15000000000000446, -0.14310344827585755, 0.15000000000000446, -0.09827586206896098, 0.15000000000000446, 0.15000000000000446, 0.15000000000000446, -0.14379310344827131, 0.04655172413793557, 0.15000000000000446, 0.15000000000000446, 0.09827586206897006, 0.1500000000000045, -0.14999999999999547, 0.09827586206897, 0.046551724137935534, -0.14999999999999547, 0.1437931034482804, 0.09827586206897003, 0.046551724137935575, 0.14482758620690106, 4.521556740133548e-15, -0.14999999999999547, -0.09827586206896104, -0.04655172413792654, 0.046551724137935596, 4.502474781897803e-15, -0.14999999999999547, 0.14310344827586657, 0.14464922711058714, -0.14310344827585755, 0.15000000000000446, -0.144827586206892, -0.09827586206896102, -0.04655172413792654, -0.1454361054766689, 4.502763902477132e-15, 0.046551724137935534, 0.09827586206897002, -0.098275862068961, 4.481658100186081e-15, -0.045202398800595185, -0.14522546419097684, 4.505423811806963e-15, 0.09827586206897004, 0.04655172413793554, -0.1454361054766688, 0.1437931034482804, 4.509500411975509e-15, 0.04655172413793556, -0.14999999999999544, 0.15000000000000446, 0.09827586206897003, -0.14623824451410203, 0.15000000000000446, 0.15000000000000446, -0.09827586206896098, 0.15000000000000446, 0.09827586206897007, -0.14999999999999544, -0.14999999999999544, -0.14999999999999536, 4.515311735620031e-15, 0.15000000000000446, 0.1500000000000045, -0.1460212201591466, 4.511148399277687e-15, -0.09827586206896101, -0.04796238244513655, 0.1500000000000045, 0.04655172413793554, -0.144827586206892, -0.14224137931034028, 0.1500000000000045, 4.509196835367213e-15, 0.09827586206897006, -0.14379310344827131, 0.1437931034482804, 0.09827586206897, -0.04655172413792651, -0.046551724137926506, 0.04655172413793556, 0.09827586206897003, 0.09827586206897004, 0.15000000000000446, 0.09827586206896999, 0.15000000000000446, 0.14543610547667793, -0.09827586206896101, -0.04655172413792649, 0.04655172413793556, 0.15000000000000444, 0.04655172413793556, 0.14261083743842815, 0.046551724137935555, 0.09827586206897003, 0.14379310344828036, 0.09827586206897004, -0.14379310344827131, -0.04655172413792652, -0.09827586206896098, 4.511148399277687e-15, 0.04655172413793556, -0.09827586206896098, 0.04655172413793559, 0.09827586206897004, -0.14379310344827131, -0.04655172413792652, 0.15000000000000444, -0.14999999999999544, 0.09827586206897004, -0.04655172413792655, -0.14999999999999547, 0.09827586206897004, 4.5149647909248355e-15, 0.15000000000000444, -0.14999999999999547, 0.09827586206897002, 0.15000000000000446, 0.15000000000000444, 0.15000000000000446, -0.14999999999999547, -0.09827586206896098, -0.14999999999999547, 0.14310344827586657, 0.1500000000000045, -0.14310344827585755, -0.09827586206896102, 0.04655172413793557, 4.509630516236207e-15, -0.04655172413792655, 0.14224137931034933, 0.04655172413793556, -0.09827586206896098, 0.14482758620690103, -0.04655172413792651, -0.14999999999999547, 0.04655172413793556, -0.1460212201591468, 0.1437931034482804, 0.14379310344828036, -0.14482758620689204, 0.15000000000000446, -0.04655172413792651, 4.515832152662824e-15, 4.502330221608138e-15, 0.09827586206897003, 0.14543610547667793, 0.09827586206896999, 0.14379310344828033, -0.1499999999999955, 0.04655172413793556, 4.498788494511352e-15, -0.04655172413792654, 0.09827586206897003, 0.09827586206897004, 0.1437931034482804, -0.09827586206896101, -0.09827586206896104, -0.0465517241379265, 0.1460212201591557, 0.04655172413793556], \"y\": [0.37950980392153133, 0.37808123249295994, 0.3320098039215314, 0.33200980392153145, 0.2820098039215315, 0.2820098039215315, 0.2820098039215315, 0.2820098039215315, 0.2820098039215315, 0.23200980392153153, 0.23200980392153156, 0.1820098039215314, 0.1820098039215314, 0.18200980392153143, 0.1820098039215314, 0.1820098039215314, 0.1820098039215314, 0.13700980392153153, 0.13700980392153153, 0.1370098039215315, 0.13700980392153153, 0.13700980392153153, 0.13700980392153153, 0.13700980392153153, 0.08700980392153149, 0.08700980392153146, 0.08700980392153149, 0.08700980392153149, 0.08700980392153149, 0.08700980392153149, 0.03200980392153144, -0.017990196078468523, -0.017990196078468523, -0.017990196078468523, -0.10986519607846852, 0.03200980392153144, -0.06799019607846851, -0.06799019607846851, 0.3320098039215315, 0.2820098039215314, 0.18200980392153146, 0.18200980392153146, 0.1370098039215315, 0.0870098039215315, 0.03200980392153144, 0.03200980392153144, -0.017990196078468523, -0.017990196078468523, -0.11924019607846852, -0.11924019607846852, -0.11924019607846852, -0.11924019607846852, -0.11924019607846852, -0.21049019607846856, -0.16799019607846857, -0.21049019607846856, -0.16799019607846857, 0.3320098039215314, -0.16799019607846857, -0.16799019607846857, -0.1679901960784686, -0.20941876750703997, 0.42950980392153165, 0.3901348039215313, 0.3901348039215313, 0.42950980392153165, 0.33200980392153145, 0.23200980392153153, 0.23200980392153153, 0.18200980392153146, 0.1370098039215315, 0.08700980392153146, 0.08700980392153146, 0.032009803921531445, -0.017990196078468523, -0.10986519607846852, -0.017990196078468523, -0.017990196078468523, -0.06799019607846851, -0.06799019607846851, -0.11799019607846853, -0.22049019607846854, -0.2598651960784685, -0.2598651960784685, -0.2598651960784685, -0.22049019607846854, -0.2590839460784685, 0.4370098039215316, 0.43075980392153157, 0.3870098039215312, 0.3820098039215315, 0.3320098039215314, 0.2320098039215315, 0.28200980392153147, 0.23200980392153156, 0.1338848039215315, 0.1338848039215315, 0.1338848039215315, 0.1338848039215315, 0.13950980392153148, -0.017990196078468523, 0.1820098039215314, 0.13950980392153148, -0.06799019607846851, 0.1395098039215315, 0.1820098039215314, -0.1679901960784686, 0.13950980392153148, 0.1820098039215314, 0.13950980392153148, 0.13656337535010293, 0.14058123249296006, 0.13656337535010293, 0.09450980392153147, 0.09450980392153145, 0.09450980392153147, 0.08075980392153151, 0.08075980392153147, -0.20941876750703997, 0.08075980392153151, 0.08797134238306997, 0.07867647058819817, 0.032009803921531445, -0.11683634992462238, 0.03200980392153144, 0.03200980392153144, 0.03200980392153144, 0.03200980392153144, -0.017990196078468523, -0.06799019607846851, -0.06799019607846851, -0.11799019607846851, -0.26299019607846846, -0.2179901960784685, 0.4370098039215316, 0.4370098039215316, 0.43075980392153157, 0.3320098039215314, 0.22950980392153147, 0.03200980392153144, 0.2320098039215315, 0.22950980392153147, 0.22950980392153147, -0.26049019607846846, 0.28200980392153147, -0.009865196078468516, -0.009865196078468516, -0.01924019607846852, -0.01924019607846852, 0.37950980392153133, -0.02132352941180186, -0.02132352941180186, -0.06799019607846851, -0.06799019607846851, -0.06799019607846851, -0.06799019607846851, 0.33200980392153145, -0.06799019607846851, -0.06799019607846851, -0.06799019607846853, -0.11799019607846851, -0.26299019607846846, 0.42950980392153165, -0.2590839460784685, -0.26299019607846846, -0.26299019607846846, -0.26299019607846846, -0.26049019607846846, -0.26049019607846846, 0.4370098039215316, 0.032009803921531445, 0.4370098039215316, 0.4370098039215316, 0.4370098039215316, 0.43075980392153157, 0.3820098039215315, -0.16799019607846857, 0.3820098039215315, 0.2370098039215315, 0.2370098039215315, 0.2370098039215315, 0.28200980392153147, -0.10986519607846852, -0.21049019607846856, 0.28200980392153147, 0.23223039215682564, -0.10986519607846854, -0.11924019607846852, -0.11639928698755939, -0.12132352941180186, -0.16799019607846857, -0.16799019607846857, -0.16799019607846857, -0.16799019607846857, -0.16799019607846857, 0.37808123249295994, -0.16799019607846857, -0.1679901960784686, -0.26299019607846846, -0.26299019607846846, -0.26299019607846846, -0.26299019607846846, -0.2179901960784685, -0.2179901960784685, -0.21799019607846853, -0.26049019607846846, -0.2179901960784685, -0.26049019607846846, -0.26049019607846846, -0.2179901960784685, 0.28200980392153147, -0.26049019607846846, 0.28200980392153147, -0.2594187675070399, -0.26049019607846846, -0.2594187675070399, 0.43700980392153166, 0.42950980392153165, 0.42950980392153165, -0.21773157538881335, 0.42950980392153165, 0.43075980392153157, -0.16799019607846857, 0.42808123249296015, 0.37950980392153133, 0.38200980392153144, 0.38200980392153144, 0.23700980392153154, 0.23700980392153154, 0.23700980392153154, 0.2820098039215314, 0.3901348039215313, -0.2179901960784685, 0.3838848039215314, 0.3838848039215314, 0.33200980392153145, 0.28200980392153147, 0.22950980392153153, 0.19013480392153143, 0.22950980392153153, 0.19013480392153143, 0.22950980392153153, 0.19013480392153143, 0.19091605392153144, 0.4295098039215316, 0.19091605392153144, 0.3870098039215313, 0.3870098039215313, 0.3870098039215313, -0.019240196078468524, 0.3870098039215313, 0.3807598039215313, 0.3320098039215315, 0.38075980392153125, 0.3807598039215313, 0.2820098039215315, 0.3807598039215313, -0.2179901960784685, 0.38075980392153136, 0.378676470588198, 0.37950980392153133, 0.3901348039215314, 0.3320098039215314, 0.28200980392153147, 0.1870098039215315, 0.1870098039215315, -0.06799019607846851, 0.23200980392153156, -0.10986519607846852, 0.1895098039215315, -0.22049019607846856, -0.22049019607846854, -0.22049019607846856, -0.22049019607846854, -0.22191876750703998, 0.3901348039215313, -0.22191876750703998, -0.26799019607846847, 0.43700980392153166, -0.26799019607846847, -0.016399286987559433, -0.26799019607846847, -0.26799019607846847, -0.26799019607846847, -0.26799019607846847, -0.3179901960784685, -0.3598651960784687, -0.31799019607846857, -0.3598651960784687, -0.3179901960784685, 0.18200980392153143, -0.3598651960784687, 0.43075980392153157, -0.3179901960784685, 0.3401348039215315, 0.3401348039215315, -0.21049019607846856, -0.26049019607846846, 0.3401348039215315, 0.3401348039215315, 0.18075980392153151, 0.18075980392153151, 0.18075980392153151, 0.1833333333332962, 0.09450980392153148, -0.26799019607846847, 0.13700980392153153, 0.3870098039215313, 0.09450980392153148, 0.09450980392153145, 0.13700980392153153, 0.09450980392153148, 0.13700980392153153, 0.09450980392153148, 0.13700980392153153, 0.09593837535010288, 0.13700980392153153, -0.017990196078468523, 0.28075980392153144, -0.10908394607846852, 0.13700980392153153, 0.09450980392153148, 0.09593837535010288, -0.06799019607846851, 0.43075980392153157, 0.09450980392153145, -0.22132352941180186, 0.3320098039215314, -0.2663992869875594, -0.46299019607846853, 0.22950980392153153, -0.4629901960784685, -0.06799019607846851, -0.46299019607846853, -0.06799019607846851, 0.3320098039215314, -0.4604901960784685, 0.28700980392153147, 0.03200980392153144, 0.13700980392153153, 0.23200980392153156, -0.3679901960784684, -0.21799019607846856, 0.3320098039215314, -0.42049019607846844, 0.3870098039215312, 0.08075980392153151, 0.13700980392153153, -0.2179901960784685, 0.08700980392153153, 0.03200980392153144, -0.009865196078468516, 0.08075980392153151, 0.08700980392153153, -0.11799019607846853, -0.11049019607846851, 0.08700980392153153, -0.017990196078468523, -0.017990196078468523, 0.13700980392153153, -0.1679901960784686, 0.1820098039215314, -0.21924019607846856, 0.08075980392153151, -0.06799019607846851, -0.01924019607846852, -0.11799019607846847, -0.06799019607846851, -0.11799019607846847, 0.23200980392153156, -0.16799019607846857, -0.16799019607846857, 0.4370098039215316, -0.15986519607846864, -0.017990196078468523, -0.2179901960784685, -0.4179901960784685, 0.42808123249296015, -0.3179901960784685, 0.08075980392153147, 0.1370098039215315, -0.2598651960784685, -0.017990196078468523, 0.1370098039215315, -0.26049019607846846, 0.3320098039215314, -0.2666666666667039, -0.3179901960784685, 0.3838848039215313, -0.16799019607846857, -0.15986519607846864, -0.36799019607846845, -0.4629901960784685, 0.08700980392153146, -0.15986519607846864, -0.46299019607846853, -0.46299019607846853, -0.30941876750703984, 0.03200980392153144, -0.4604901960784685, -0.26049019607846846, 0.13700980392153153, 0.1833333333332962, -0.2179901960784685, -0.4179901960784685, -0.11799019607846853, -0.16799019607846857, -0.26299019607846846, -0.06799019607846851, -0.26049019607846846, 0.28700980392153147, -0.11799019607846853, 0.13700980392153153, -0.2598651960784685, 0.2807598039215315, 0.28700980392153147, 0.2786764705881981, 0.03200980392153144, 0.3320098039215314, 0.4370098039215316, -0.1692401960784686, 0.032009803921531445, 0.28700980392153147, 0.33360071301244065, -0.26799019607846847, -0.22049019607846854, 0.18200980392153146, 0.18200980392153146, 0.08075980392153151, 0.42950980392153165, 0.03200980392153144, 0.28200980392153147, -0.3179901960784685, 0.13700980392153153, 0.27950980392153146, 0.13700980392153153, 0.38075980392153125, -0.1590839460784686, 0.28700980392153147, 0.08700980392153149, -0.2179901960784685, -0.21666666666670387, 0.03200980392153144, 0.09450980392153147, -0.3179901960784685, 0.03200980392153144, 0.28200980392153147, -0.3179901960784685, 0.17867647058819816, 0.3820098039215315, -0.16799019607846857, -0.1692401960784686, -0.11799019607846851, 0.2333333333332962, 0.13700980392153153, -0.2179901960784685, -0.06799019607846851, 0.09593837535010288, -0.06799019607846851, -0.26799019607846847, -0.3679901960784684, 0.18200980392153146, -0.21049019607846856, -0.2179901960784685, 0.3901348039215314, 0.3320098039215314, -0.40986519607846866, -0.46299019607846853, -0.46299019607846853, 0.33360071301244065, -0.4179901960784685, -0.21049019607846856, 0.1870098039215315, 0.1895098039215315, 0.18075980392153143, -0.4179901960784685, -0.46299019607846853, 0.22950980392153153, 0.23950980392153157, -0.22049019607846854, 0.22950980392153153, 0.03200980392153144, 0.032009803921531445, -0.26799019607846847, 0.22950980392153153, 0.23200980392153156, -0.11799019607846847, 0.03200980392153144, 0.22950980392153153, 0.28700980392153147, 0.18200980392153143, 0.18200980392153146, -0.26799019607846847, -0.4604901960784685, 0.28200980392153147, -0.46299019607846853, -0.06799019607846851, -0.26299019607846846, 0.33700980392153146, -0.10986519607846852, -0.16799019607846857, -0.26049019607846846, -0.06799019607846851, -0.017990196078468523, -0.26799019607846847, -0.3179901960784685, -0.017990196078468523, 0.42808123249296015, -0.3179901960784685, 0.03200980392153144, -0.017990196078468523, -0.10986519607846854, -0.06799019607846851, -0.017990196078468523, 0.28700980392153147, 0.08700980392153149, -0.3179901960784685, -0.06799019607846851, -0.2179901960784685, -0.21049019607846856, -0.11799019607846851, 0.3320098039215314, -0.26799019607846847, 0.43700980392153166, 0.032009803921531445, 0.4370098039215316, 0.18200980392153146, 0.2820098039215314, -0.3179901960784685, 0.13700980392153153, -0.2598651960784685, -0.26799019607846847, -0.46299019607846853, -0.21799019607846856, 0.23200980392153156, 0.18200980392153143, -0.41049019607846843, 0.43075980392153157, -0.06799019607846851, -0.017990196078468523, -0.06799019607846851, -0.06799019607846853, 0.23950980392153157, -0.06799019607846851, -0.06799019607846853, 0.27950980392153146, -0.3679901960784685, 0.2320098039215316, -0.009865196078468516, 0.3901348039215313, -0.11799019607846847, -0.16799019607846857, 0.23200980392153156, -0.41799019607846855, -0.22049019607846854, -0.11799019607846847, 0.0870098039215315, -0.1679901960784686, 0.22950980392153153, -0.06799019607846851, -0.11799019607846847, 0.18075980392153151, -0.46299019607846853, 0.33200980392153145, -0.26799019607846847, -0.16799019607846857, -0.1679901960784686, -0.3104901960784684, 0.23950980392153157, -0.45986519607846854, -0.3679901960784684, 0.18363142554315315, 0.03200980392153144, -0.4604901960784685, -0.26299019607846846, 0.1370098039215315, -0.26299019607846846, 0.13700980392153153, -0.30941876750703984, -0.2179901960784685, 0.13700980392153153, -0.3179901960784685, 0.22808123249296008, 0.28075980392153144, -0.16799019607846857, -0.06799019607846851, -0.016399286987559433, -0.45908394607846853, -0.41299019607846854, -0.31049019607846845, 0.28075980392153144, -0.2663992869875594, 0.38075980392153125, -0.11799019607846853, 0.08700980392153149, -0.2179901960784685, 0.18423202614375375, -0.017990196078468523, -0.4604901960784686, -0.40986519607846866, 0.08075980392153151, 0.3820098039215315, -0.16799019607846857, -0.16799019607846857, -0.3679901960784684, 0.1831636500753776, -0.017990196078468523, -0.3104901960784684, -0.21799019607846853, 0.2786764705881981, 0.13700980392153153, -0.06799019607846851, -0.31773157538881336, -0.11799019607846847, 0.08075980392153151, -0.2179901960784685, -0.16799019607846857, -0.3204901960784685, -0.11799019607846847, 0.1370098039215315, -0.4604901960784685, 0.032009803921531445, -0.16799019607846857, -0.3629901960784687, -0.3104901960784684, -0.017990196078468523, -0.16799019607846857, 0.13700980392153153, -0.26799019607846847, 0.03200980392153144, -0.26799019607846847, 0.1370098039215315, 0.2807598039215315, -0.3104901960784684, 0.03200980392153144, 0.18200980392153146, -0.26799019607846847, 0.28700980392153147, -0.3204901960784685, -0.16799019607846857, 0.2836007130124405, 0.2807598039215315, 0.3901348039215313, 0.3820098039215315, -0.11799019607846851, 0.09450980392153148, 0.28075980392153144, -0.2666666666667039, 0.0870098039215315, -0.11799019607846847, -0.11799019607846847, 0.13700980392153153, 0.14058123249296006, -0.26799019607846847, -0.4598651960784685, -0.31773157538881336, -0.4629901960784685, 0.0870098039215315, 0.29013480392153146, 0.03200980392153144, -0.26799019607846847, 0.03200980392153144, -0.3204901960784685, -0.21924019607846856, 0.08797134238306997, -0.3679901960784685, -0.2179901960784685, 0.3838848039215313, -0.11799019607846847, -0.4179901960784685, 0.03200980392153144, -0.46299019607846853, -0.2179901960784685, -0.2179901960784685, -0.41299019607846843, -0.11799019607846851, 0.3401348039215315, -0.21799019607846853, 0.032009803921531445, -0.2179901960784685, 0.378676470588198, -0.11799019607846847, -0.06799019607846851, 0.032009803921531445, -0.36968662464989727, -0.11924019607846852, 0.08700980392153146, 0.08700980392153149, -0.4204901960784686, 0.1370098039215315, -0.21049019607846856, 0.08700980392153149, 0.1370098039215315, -0.21799019607846853, 0.22950980392153147, 0.08700980392153149, 0.22950980392153147, 0.18388480392153145, -0.3679901960784685, -0.21299019607846853, 0.13700980392153153, 0.19013480392153148, 0.03200980392153144, -0.11924019607846852, -0.46299019607846853, 0.17867647058819816, -0.017990196078468523, -0.10986519607846852, 0.18075980392153151, 0.18075980392153151, 0.3320098039215315, -0.26799019607846847, -0.1679901960784686, 0.28200980392153147, -0.3179901960784685, -0.2179901960784685, 0.1370098039215315, -0.3590839460784686, 0.22808123249296008, 0.23950980392153148, -0.11799019607846853, 0.19013480392153148, -0.2179901960784685, 0.13700980392153153, -0.16799019607846857, -0.3179901960784685, 0.13700980392153153, -0.16799019607846857, 0.032009803921531445, -0.06799019607846851, -0.06799019607846851, -0.017990196078468523, 0.19013480392153148, 0.2395098039215315, 0.03200980392153144, 0.23200980392153156, 0.28700980392153147, -0.11799019607846851, -0.21799019607846856, -0.21799019607846853, -0.4179901960784685, -0.46299019607846853, -0.26049019607846846, -0.4179901960784685, -0.4179901960784685, -0.4179901960784685, -0.26299019607846846, 0.13700980392153153, 0.13700980392153153, -0.2598651960784685, 0.3870098039215313, -0.4177315753888132, 0.08700980392153149, -0.45986519607846854, -0.21683634992462245, -0.06799019607846851, 0.1370098039215315, 0.13700980392153153, 0.4370098039215316, -0.4598651960784685, -0.017990196078468523, 0.18075980392153151, -0.1679901960784686, 0.22950980392153153, -0.017990196078468523, -0.017990196078468523, 0.38075980392153136, -0.16799019607846857, -0.16683634992462246, 0.13700980392153153, -0.26049019607846846, 0.37950980392153133, -0.017990196078468523, -0.41049019607846843, 0.28200980392153147, -0.3179901960784685, -0.11799019607846847, 0.23200980392153156, -0.45908394607846853, -0.16799019607846857, 0.1370098039215315, -0.2179901960784685, -0.3204901960784685, 0.08075980392153147, 0.4370098039215316, 0.43700980392153166, -0.46299019607846853, 0.07867647058819817, -0.36799019607846845, -0.2179901960784685, 0.13700980392153153, -0.36799019607846845, -0.017990196078468523, -0.06799019607846851, -0.16799019607846857, 0.03200980392153144, -0.017990196078468523, -0.36799019607846845, 0.09450980392153147, -0.3179901960784685, -0.4604901960784686, 0.03200980392153144, -0.21799019607846853, -0.46299019607846853, -0.4179901960784685, -0.06799019607846851, -0.017990196078468523, -0.3679901960784685, -0.06799019607846851, 0.08700980392153146, -0.16799019607846857, 0.2395098039215315, -0.11799019607846847, -0.1679901960784686, 0.4370098039215316, -0.37049019607846867, -0.16799019607846857, 0.4370098039215316, -0.3590839460784686, -0.3629901960784688, 0.0870098039215315, 0.42808123249296015, -0.06799019607846851, -0.06799019607846851, -0.40908394607846865, 0.03200980392153144, -0.017990196078468523, -0.11799019607846851, -0.3629901960784687, 0.2807598039215315, 0.0870098039215315, 0.1370098039215315, 0.08700980392153149, 0.09450980392153148, 0.08075980392153151, 0.08700980392153153, 0.23200980392153156, -0.36799019607846845, 0.1833333333332962, 0.33075980392153154, 0.18075980392153151, -0.36924019607846875, 0.18075980392153143, 0.18075980392153151, 0.18388480392153145, 0.18075980392153143, 0.18075980392153151, 0.23200980392153156, 0.33075980392153154, -0.26799019607846847, -0.26799019607846847, 0.2780812324929601, 0.2395098039215315, -0.11924019607846852, 0.27950980392153146, -0.2598651960784685, 0.2395098039215315, 0.23950980392153154, -0.11799019607846853, 0.27950980392153146, 0.3320098039215314, 0.27950980392153146, -0.11049019607846851, -0.45908394607846853, -0.017990196078468523, 0.43075980392153157, -0.3179901960784685, 0.2807598039215315, -0.4598651960784685, -0.4598651960784685, 0.23950980392153148, 0.2780812324929601, -0.11799019607846847, -0.42049019607846844, -0.4598651960784685, -0.21924019607846856, -0.21299019607846853, -0.4598651960784685, -0.42049019607846844, 0.23200980392153156, -0.36799019607846845, -0.22132352941180186, -0.31799019607846846, 0.18075980392153151, -0.017990196078468523, -0.26799019607846847, 0.18200980392153146, -0.21924019607846856, -0.21924019607846856, 0.08700980392153149, 0.08700980392153146, -0.21773157538881335, -0.21924019607846856, 0.1820098039215314, 0.2807598039215315, -0.15986519607846864, -0.2179901960784685, -0.21299019607846853, 0.3901348039215313, -0.4179901960784685, 0.3307598039215316, 0.18700980392153144, 0.19013480392153148, 0.1833333333332962, -0.21299019607846853, 0.28700980392153147, -0.1692401960784686, -0.10986519607846854, 0.22808123249296008, -0.11799019607846847, 0.19013480392153145, -0.21924019607846856, 0.18363142554315315, 0.2370098039215315, 0.22808123249296008, 0.18423202614375375, 0.22950980392153153, 0.18423202614375378, 0.23950980392153157, 0.03200980392153144, -0.3679901960784685, 0.22950980392153153, 0.18423202614375375, 0.18200980392153146, 0.19013480392153148, 0.18423202614375375, 0.19013480392153143, -0.4177315753888132, 0.18200980392153146, -0.41299019607846843, -0.06799019607846851, -0.41299019607846843, -0.3692401960784687, -0.21049019607846856, -0.21049019607846856, -0.36799019607846845, -0.41299019607846843, 0.28200980392153147, -0.3179901960784685, 0.03200980392153144, -0.26799019607846847, -0.3179901960784685, -0.017990196078468523, -0.26799019607846847, -0.3204901960784685, 0.03200980392153144, 0.18200980392153146, -0.21683634992462245, -0.22049019607846854, 0.09450980392153148, -0.2104901960784685, -0.11799019607846851, 0.23700980392153154, -0.1590839460784686, -0.11799019607846851, 0.22950980392153153, -0.16683634992462246, -0.11799019607846851, 0.03200980392153144, -0.26799019607846847, 0.2820098039215314, 0.23200980392153156, -0.11799019607846847, 0.13700980392153153, -0.15986519607846855, 0.23200980392153156, 0.08700980392153149, -0.11799019607846847, -0.4598651960784685, -0.1692401960784686, -0.017990196078468523, -0.06799019607846851, 0.4295098039215316, -0.36049019607846866, -0.06799019607846851, 0.4370098039215316, -0.36049019607846866, 0.28700980392153147, -0.06799019607846851, -0.06799019607846851, 0.08075980392153151, 0.08700980392153149, 0.3320098039215315, -0.06799019607846851, 0.4370098039215316, -0.06799019607846851, -0.35986519607846856, -0.06799019607846851, -0.46299019607846853, 0.0870098039215315, -0.06799019607846851, 0.13700980392153153, -0.06799019607846851, -0.017990196078468523, -0.3598651960784687, -0.16799019607846857, -0.017990196078468523, -0.017990196078468523, -0.017990196078468523, -0.017990196078468523, 0.03200980392153144, -0.3179901960784685, 0.03200980392153144, -0.16799019607846857, 0.032009803921531445, 0.03200980392153144, -0.12191876750703995, 0.2370098039215315, 0.2333333333332962, 0.03200980392153144, 0.0870098039215315, 0.2820098039215315, -0.16799019607846857, 0.23200980392153156, -0.06799019607846851, 0.03200980392153144, 0.08700980392153149, -0.2598651960784685, 0.08700980392153149, 0.03200980392153144, -0.46299019607846853, 0.13700980392153153, -0.21049019607846856, 0.1370098039215315, -0.12191876750703995, 0.13700980392153153, 0.18950980392153144, -0.16799019607846857, -0.36299019607846866, -0.11799019607846853, 0.18950980392153144, 0.18950980392153147, 0.23226842461118674, -0.3666666666667039, 0.18950980392153144, 0.1831636500753776, 0.18950980392153144, -0.4179901960784685, 0.18200980392153146, 0.3320098039215314, -0.40908394607846865, -0.3677315753888134, -0.42049019607846844, -0.017990196078468523, -0.06799019607846851, -0.40986519607846866, -0.009865196078468516, -0.06799019607846853, -0.40986519607846866, -0.3629901960784687, -0.3692401960784687, -0.40986519607846866, -0.31799019607846846, -0.26299019607846846, -0.017990196078468523, 0.03200980392153144, 0.18200980392153146, -0.2179901960784685, -0.12132352941180186, -0.16799019607846857, -0.3629901960784687, -0.11799019607846851, -0.26799019607846847, -0.06799019607846851, -0.36049019607846866, 0.1870098039215315, -0.017990196078468523, 0.03200980392153144, -0.10986519607846854, 0.08700980392153149, 0.1370098039215315, 0.18075980392153151, -0.21049019607846856, 0.18200980392153146, -0.06799019607846851, 0.33700980392153146, -0.11924019607846852, 0.2320098039215316, 0.22950980392153153, 0.23200980392153153, 0.23200980392153156, 0.23200980392153156, 0.03200980392153144, 0.23200980392153153, -0.26799019607846847, 0.2786764705881981, 0.23226842461118674, 0.2786764705881981, 0.23200980392153156, 0.28075980392153144, 0.2807598039215315, 0.2807598039215315, -0.11666666666670382, 0.2807598039215315, 0.2807598039215315, -0.16799019607846857, 0.28700980392153147, -0.017990196078468523, 0.28700980392153147, -0.11683634992462238, 0.28700980392153147, -0.12049019607846852, 0.28700980392153147, 0.23223039215682564, -0.36049019607846866, -0.36299019607846866, -0.3629901960784687, -0.26799019607846847, -0.2179901960784685, 0.2370098039215315, -0.11639928698755939, -0.16799019607846857, 0.18200980392153146, -0.3629901960784687, -0.11799019607846851, -0.01924019607846852, -0.017990196078468523, 0.03200980392153144, 0.0870098039215315, -0.16799019607846857, 0.23200980392153156, -0.31799019607846846, 0.28316365007537747, -0.11049019607846852, 0.2895098039215315, 0.28985071301244053, -0.26799019607846847, -0.2598651960784685, 0.3307598039215316, -0.10908394607846852, -0.16799019607846857, 0.29013480392153146, 0.03200980392153144, 0.23950980392153148, -0.36049019607846866, 0.08700980392153149, -0.3629901960784687, 0.1338848039215315, -0.3629901960784687, -0.3629901960784687, 0.3807598039215313, -0.2179901960784685, 0.23950980392153157, -0.16799019607846857, -0.11666666666670382, -0.06799019607846851, 0.42950980392153165, -0.06799019607846851, 0.23200980392153156, -0.11049019607846851, 0.09593837535010288, 0.29013480392153146, -0.11049019607846851, -0.4604901960784685, -0.06799019607846851, -0.017990196078468523, -0.017990196078468523, 0.3901348039215313, -0.017990196078468523, -0.017990196078468523, 0.03200980392153144, 0.3870098039215312, -0.017990196078468523, 0.03200980392153144, 0.03200980392153144, -0.3679901960784684, 0.2320098039215315, 0.03200980392153144, -0.4179901960784685, 0.08700980392153146, 0.08075980392153151, -0.12049019607846852, -0.3679901960784684, 0.23200980392153156, -0.4598651960784685, 0.28200980392153147, -0.3179901960784685, 0.23200980392153156, 0.28200980392153147, 0.3870098039215312, -0.4179901960784685, 0.32867647058819816, -0.26799019607846847, 0.32867647058819816, 0.33075980392153154, -0.26049019607846846, 0.33075980392153137, -0.36799019607846845, -0.45908394607846853, 0.33075980392153154, 0.33700980392153146, -0.2179901960784685, 0.33700980392153146, 0.1370098039215315, 0.33700980392153146, 0.23316365007537762, -0.36049019607846866, 0.23950980392153157, 0.28075980392153144, -0.3179901960784685, -0.3629901960784687, -0.36299019607846866, -0.1692401960784686, -0.3629901960784687, -0.21666666666670387, 0.22950980392153153, -0.16799019607846857, 0.18200980392153146, -0.21049019607846856, -0.21299019607846856, 0.08075980392153151, -0.21049019607846856, -0.16799019607846857, 0.23200980392153156, -0.12049019607846852, -0.017990196078468523, -0.12049019607846852, 0.23316365007537762, -0.12049019607846852], \"z\": [-0.5144934640522966, -0.513422035480868, -0.5169934640522965, -0.5169934640522965, -0.5169934640522965, -0.5169934640522965, -0.5169934640522965, -0.5144934640522965, -0.5144934640522965, -0.5169934640522965, -0.5144934640522965, -0.5169934640522965, -0.5169934640522965, -0.5169934640522965, -0.5169934640522965, -0.5144934640522965, -0.5144934640522965, -0.5169934640522965, -0.5169934640522965, -0.5169934640522965, -0.5169934640522965, -0.5169934640522965, -0.5144934640522965, -0.5144934640522965, -0.5169934640522965, -0.5169934640522965, -0.5169934640522965, -0.5169934640522965, -0.5144934640522965, -0.5144934640522965, -0.5144934640522965, -0.5169934640522965, -0.5169934640522965, -0.5144934640522965, -0.5138684640522965, -0.5144934640522965, -0.5169934640522965, -0.5144934640522965, -0.4669934640522964, -0.4669934640522964, -0.4669934640522964, -0.4669934640522964, -0.4669934640522964, -0.4669934640522963, -0.4669934640522964, -0.4669934640522964, -0.4669934640522964, -0.4669934640522964, -0.4732434640522964, -0.4732434640522964, -0.47324346405229645, -0.4732434640522964, -0.4732434640522964, -0.4594934640522964, -0.46699346405229625, -0.4594934640522964, -0.4669934640522964, -0.5144934640522965, -0.46699346405229625, -0.46699346405229625, -0.4607434640522963, -0.458064892623725, -0.4144934640522966, -0.4201184640522966, -0.4201184640522966, -0.4144934640522966, -0.4169934640522965, -0.4169934640522965, -0.4169934640522965, -0.4169934640522965, -0.41699346405229654, -0.41699346405229654, -0.41699346405229654, -0.4169934640522965, -0.5169934640522965, -0.5138684640522965, -0.4169934640522965, -0.4169934640522965, -0.4169934640522965, -0.4169934640522965, -0.4169934640522965, -0.4194934640522966, -0.41386846405229666, -0.41386846405229666, -0.41386846405229666, -0.4194934640522966, -0.41308721405229665, -0.37199346405229655, -0.3719934640522965, -0.46699346405229636, -0.37199346405229655, -0.37199346405229655, -0.4669934640522964, -0.37199346405229655, -0.37199346405229655, -0.36386846405229634, -0.36386846405229634, -0.36386846405229645, -0.36386846405229634, -0.32449346405229645, -0.5144934640522965, -0.31699346405229645, -0.32449346405229645, -0.5169934640522965, -0.32449346405229657, -0.31699346405229645, -0.4607434640522963, -0.32449346405229645, -0.31699346405229645, -0.32449346405229645, -0.37011846405229637, -0.32592203548086796, -0.37011846405229637, -0.36449346405229627, -0.3644934640522964, -0.36449346405229627, -0.3232434640522965, -0.32324346405229654, -0.458064892623725, -0.3232434640522965, -0.3708396178984502, -0.32532679738562975, -0.3169934640522965, -0.46699346405229636, -0.31699346405229645, -0.37199346405229655, -0.3232434640522966, -0.37199346405229655, -0.37199346405229655, -0.37199346405229655, -0.37199346405229655, -0.37199346405229655, -0.37199346405229655, -0.37199346405229655, -0.32199346405229645, -0.32199346405229645, -0.32199346405229645, -0.32199346405229645, -0.3144934640522964, -0.5169934640522965, -0.4669934640522964, -0.31449346405229645, -0.3144934640522964, -0.3719934640522965, -0.32199346405229645, -0.31386846405229646, -0.31386846405229646, -0.27324346405229655, -0.27324346405229655, -0.5144934640522966, -0.2753267973856298, -0.2753267973856298, -0.26699346405229646, -0.26699346405229646, -0.4669934640522964, -0.26699346405229646, -0.4169934640522965, -0.26699346405229646, -0.32199346405229645, -0.27324346405229644, -0.32199346405229645, -0.32199346405229645, -0.4144934640522966, -0.41308721405229665, -0.3219934640522965, -0.32199346405229645, -0.32199346405229645, -0.32199346405229645, -0.32199346405229645, -0.2719934640522965, -0.4169934640522965, -0.2719934640522965, -0.2719934640522965, -0.2719934640522965, -0.2719934640522965, -0.2719934640522965, -0.4169934640522965, -0.2719934640522965, -0.2719934640522965, -0.2719934640522965, -0.2719934640522965, -0.2719934640522965, -0.26386846405229647, -0.4594934640522964, -0.4169934640522965, -0.3206699346405318, -0.26386846405229647, -0.2232434640522966, -0.27040255496138743, -0.22532679738562994, -0.21699346405229655, -0.21699346405229655, -0.21699346405229653, -0.21699346405229655, -0.21699346405229655, -0.513422035480868, -0.2719934640522965, -0.22324346405229653, -0.2719934640522965, -0.2719934640522966, -0.2719934640522965, -0.2719934640522965, -0.21699346405229655, -0.21699346405229655, -0.21699346405229653, -0.2244934640522965, -0.21699346405229655, -0.22449346405229653, -0.22449346405229653, -0.2719934640522965, -0.4169934640522965, -0.2719934640522965, -0.37199346405229655, -0.22592203548086798, -0.2719934640522965, -0.22592203548086798, -0.21699346405229658, -0.4144934640522966, -0.16949346405229654, -0.4169934640522966, -0.16949346405229654, -0.21699346405229658, -0.32199346405229645, -0.1705648926237251, -0.5144934640522966, -0.21699346405229653, -0.21699346405229653, -0.21699346405229658, -0.21699346405229658, -0.21699346405229658, -0.21699346405229653, -0.16386846405229658, -0.22324346405229653, -0.166547035480868, -0.166547035480868, -0.16699346405229648, -0.16699346405229648, -0.16949346405229654, -0.16386846405229658, -0.16949346405229654, -0.16386846405229658, -0.16949346405229654, -0.16386846405229658, -0.16308721405229654, -0.1694934640522965, -0.16308721405229654, -0.12199346405229651, -0.12199346405229651, -0.12199346405229652, -0.2732434640522965, -0.12199346405229651, -0.07324346405229655, -0.21699346405229653, -0.07324346405229655, -0.07324346405229655, -0.5169934640522965, -0.07324346405229655, -0.2719934640522965, -0.12199346405229652, -0.0753267973856298, -0.5144934640522966, -0.16386846405229655, -0.12199346405229651, -0.12199346405229651, -0.12199346405229651, -0.12199346405229651, -0.5169934640522965, -0.12199346405229651, -0.5138684640522965, -0.12199346405229651, -0.11449346405229652, -0.11449346405229649, -0.4194934640522966, -0.11449346405229649, -0.11342203548086796, -0.16386846405229658, -0.1134220354808679, -0.11699346405229649, -0.21699346405229658, -0.11699346405229649, -0.3204025549613875, -0.11699346405229649, -0.11699346405229649, -0.1144934640522965, -0.11449346405229649, -0.11699346405229649, -0.11386846405229649, -0.11699346405229649, -0.11386846405229652, -0.11699346405229649, -0.3232434640522966, -0.11386846405229652, -0.32199346405229645, -0.1144934640522965, -0.06386846405229654, -0.06386846405229656, -0.4594934640522964, -0.3719934640522965, -0.06386846405229654, -0.06386846405229656, -0.07324346405229655, -0.07324346405229655, -0.07324346405229655, -0.07066993464053178, -0.06449346405229656, -0.11699346405229649, -0.06699346405229659, -0.12199346405229651, -0.06449346405229656, -0.06449346405229654, -0.06699346405229659, -0.06449346405229656, -0.06699346405229659, -0.06449346405229656, -0.06449346405229658, -0.063422035480868, 0.23300653594770354, 0.1805065359477035, 0.0780065359477035, -0.5130872140522964, 0.23300653594770354, 0.2355065359477036, 0.23657796451913213, 0.2830065359477035, -0.21699346405229658, 0.23550653594770354, 0.22467320261437015, -0.2719934640522965, 0.22959744503861257, 0.22800653594770345, 0.43050653594770344, 0.22800653594770343, -0.5169934640522965, 0.22800653594770345, 0.4330065359477036, -0.5169934640522965, 0.22800653594770345, 0.27800653594770336, 0.48300653594770354, 0.2780065359477034, -0.12199346405229652, 0.22800653594770345, 0.38300653594770356, -0.2719934640522965, 0.1805065359477035, -0.46699346405229636, 0.27675653594770344, 0.23550653594770354, 0.2855065359477035, -0.020839617898450354, -0.3232434640522966, -0.31386846405229646, 0.27675653594770344, 0.2791603821015497, 0.4830065359477035, -0.02449346405229651, 0.2791603821015497, 0.2830065359477035, 0.2855065359477035, 0.0780065359477035, 0.03300653594770347, -0.31699346405229645, 0.2267565359477035, -0.02324346405229651, 0.2855065359477035, -0.27324346405229655, 0.2830065359477035, 0.3280065359477035, 0.2855065359477035, 0.2780065359477035, 0.2830065359477035, -0.0669934640522966, -0.32199346405229645, 0.1798815359477035, -0.016993464052296518, 0.2830065359477035, 0.2780065359477035, -0.1705648926237251, 0.22800653594770345, 0.2767565359477034, -0.41699346405229654, 0.2361315359477035, 0.2830065359477035, -0.4669934640522964, 0.27550653594770336, -0.32199346405229645, 0.27822712418299766, 0.2780065359477035, -0.4174398926237251, -0.37199346405229655, 0.1798815359477035, 0.4305065359477034, 0.2780065359477034, 0.48300653594770354, 0.1798815359477035, 0.27800653594770336, 0.27800653594770336, 0.4740779645191321, 0.2855065359477035, 0.27800653594770336, -0.22449346405229653, 0.18050653594770347, -0.07066993464053187, 0.2830065359477035, 0.2780065359477035, -0.4169934640522965, 0.2855065359477035, -0.3719934640522965, 0.2830065359477035, 0.27550653594770336, 0.3280065359477034, 0.4330065359477036, -0.06449346405229651, 0.2361315359477035, 0.3767565359477035, 0.27800653594770336, 0.3746732026143703, 0.1830065359477035, -0.5169934640522965, -0.37199346405229655, 0.13925653594770349, -0.016993464052296514, 0.27800653594770336, -0.07040255496138749, 0.02800653594770349, -0.11449346405229649, 0.3280065359477035, 0.3280065359477035, -0.3232434640522965, -0.16949346405229654, 0.2855065359477035, -0.16699346405229648, -0.0219934640522965, 0.3280065359477035, 0.2355065359477036, 0.3280065359477035, -0.4669934640522963, 0.1791002859477035, 0.3280065359477034, 0.3280065359477034, 0.2830065359477035, -0.07177287581700245, 0.2830065359477035, -0.36449346405229627, -0.11699346405229649, 0.3280065359477035, -0.12199346405229652, 0.3280065359477035, 0.47467320261437024, -0.37199346405229655, -0.32199346405229645, 0.13925653594770349, 0.3280065359477035, 0.2282271241829976, -0.06699346405229656, 0.3280065359477035, -0.016993464052296514, -0.06342203548086794, -0.5169934640522965, 0.3280065359477035, 0.22800653594770345, 0.2780065359477035, -0.07449346405229655, 0.2855065359477035, -0.4201184640522966, -0.37199346405229655, 0.08613153594770345, 0.3280065359477034, 0.3280065359477034, -0.07040255496138739, 0.3280065359477035, 0.1405065359477035, -0.12199346405229651, -0.12199346405229652, -0.07324346405229655, 0.3280065359477035, 0.3280065359477034, 0.43050653594770344, 0.3905065359477037, -0.4194934640522966, 0.43050653594770344, 0.48300653594770354, 0.4330065359477036, 0.48300653594770354, 0.43050653594770355, 0.2780065359477035, 0.1805065359477035, 0.47675653594770356, 0.1855065359477035, 0.27800653594770336, -0.3169934640522965, -0.37199346405229655, 0.47675653594770356, 0.22800653594770345, -0.07199346405229648, 0.38300653594770345, 0.2855065359477035, -0.37199346405229655, -0.021993464052296508, -0.5138684640522965, -0.0669934640522966, 0.27550653594770336, -0.26699346405229646, 0.48300653594770354, 0.4330065359477036, 0.38300653594770356, 0.3280065359477035, -0.41342203548086803, -0.021993464052296515, 0.47675653594770356, 0.48300653594770354, -0.26386846405229647, 0.48300653594770354, 0.48300653594770354, 0.3280065359477034, -0.5169934640522965, 0.3280065359477035, 0.4830065359477035, -0.32199346405229645, 0.1405065359477035, 0.38300653594770356, -0.12199346405229652, 0.0780065359477035, -0.21699346405229658, 0.4330065359477036, -0.21699346405229658, 0.38300653594770356, -0.21699346405229653, 0.02800653594770349, 0.23300653594770354, 0.23613153594770353, 0.48300653594770354, 0.38300653594770345, 0.38300653594770356, -0.5169934640522965, -0.3232434640522966, 0.13300653594770348, -0.3719934640522965, 0.4330065359477036, 0.48300653594770354, -0.016993464052296514, 0.47675653594770356, 0.3905065359477037, 0.48300653594770354, 0.47675653594770356, 0.2355065359477036, 0.4330065359477035, 0.1267565359477035, -0.31386846405229646, -0.16386846405229658, 0.48300653594770354, 0.4330065359477036, 0.1330065359477035, 0.4330065359477035, -0.4194934640522966, 0.48300653594770354, 0.47675653594770345, -0.22324346405229653, 0.1855065359477035, 0.03300653594770347, 0.1830065359477035, 0.4767565359477036, 0.38300653594770345, -0.16699346405229648, 0.3280065359477035, 0.48300653594770354, 0.47675653594770356, 0.47550653594770353, 0.3905065359477037, 0.18613153594770349, 0.3280065359477035, 0.18266869810986575, 0.3280065359477035, 0.32800653594770346, -0.37199346405229655, 0.13300653594770348, -0.32199346405229645, 0.4767565359477035, 0.4740779645191321, 0.48300653594770354, -0.02199346405229651, -0.11449346405229649, 0.42943510737627494, 0.32800653594770346, 0.2830065359477035, 0.48300653594770354, -0.3204025549613875, 0.4291002859477035, 0.13300653594770348, 0.4755065359477035, 0.27800653594770347, 0.22959744503861257, -0.4669934640522963, 0.4330065359477036, 0.18300653594770352, 0.48300653594770354, 0.1830065359477036, -0.37199346405229655, 0.38300653594770356, 0.08613153594770345, -0.023243464052296513, -0.32199346405229645, -0.06449346405229658, 0.2830065359477035, 0.2780065359477035, 0.133968074409242, 0.47675653594770356, 0.47550653594770353, 0.4330065359477036, 0.3746732026143703, 0.2780065359477034, 0.2830065359477035, 0.4330065359477034, 0.2830065359477035, -0.02324346405229651, 0.2830065359477035, 0.48300653594770354, 0.43550653594770344, 0.2830065359477035, -0.06699346405229656, 0.32800653594770346, 0.4830065359477035, 0.3280065359477035, -0.07199346405229652, 0.47550653594770353, 0.3280065359477035, 0.2830065359477035, 0.4830065359477035, 0.47675653594770356, 0.48300653594770354, 0.48300653594770354, 0.38300653594770356, 0.37675653594770353, 0.47550653594770353, -0.016993464052296518, -0.4169934640522965, 0.4330065359477036, 0.3280065359477034, 0.43550653594770344, 0.2855065359477035, 0.02959744503861259, 0.37675653594770353, -0.4201184640522966, -0.32199346405229645, 0.38300653594770356, 0.2355065359477036, 0.32800653594770346, 0.27822712418299766, -0.4669934640522963, 0.48300653594770354, 0.47675653594770356, 0.18300653594770344, -0.32592203548086796, 0.48300653594770354, 0.4298815359477035, 0.4330065359477034, 0.3280065359477034, 0.47675653594770345, 0.0361315359477035, 0.38300653594770356, -0.07199346405229656, -0.31699346405229645, 0.43550653594770344, 0.2267565359477035, -0.3708396178984502, 0.38300653594770356, 0.48300653594770354, -0.4174398926237251, 0.47675653594770356, 0.4330065359477034, 0.38300653594770356, 0.27800653594770336, 0.47675653594770356, 0.3280065359477035, 0.13300653594770348, 0.03300653594770347, -0.06386846405229656, 0.4330065359477036, -0.5169934640522965, -0.32199346405229645, -0.07532679738562992, 0.48300653594770354, 0.48300653594770354, 0.08300653594770346, 0.07809582166198918, -0.2232434640522966, 0.43300653594770355, 0.48300653594770354, 0.1805065359477035, 0.43300653594770355, 0.1405065359477035, 0.48300653594770354, 0.43300653594770355, 0.08300653594770346, -0.3144934640522964, 0.48300653594770354, -0.3144934640522964, 0.43345296451913196, 0.38300653594770356, 0.1830065359477035, 0.4830065359477035, 0.4361315359477036, 0.2830065359477035, -0.2232434640522966, 0.22800653594770345, 0.47467320261437024, 0.4330065359477036, -0.5138684640522965, 0.2267565359477035, 0.4767565359477036, -0.21699346405229653, 0.38300653594770356, 0.47675653594770356, -0.2719934640522965, 0.0780065359477035, 0.48300653594770354, 0.38300653594770356, -0.11308721405229649, 0.42943510737627494, 0.3905065359477037, 0.18300653594770344, 0.4361315359477036, -0.21699346405229655, 0.23300653594770354, 0.08300653594770346, -0.11699346405229649, 0.028006535947703488, 0.4330065359477036, 0.2830065359477035, 0.08300653594770346, 0.2830065359477035, 0.4330065359477036, 0.4361315359477036, 0.22550653594770348, 0.2830065359477035, 0.3280065359477035, 0.2780065359477034, 0.13300653594770348, 0.03300653594770347, 0.4830065359477035, 0.4305065359477034, 0.27800653594770336, 0.27550653594770347, 0.4305065359477034, 0.4330065359477034, 0.38300653594770356, -0.2719934640522965, 0.4830065359477035, 0.23550653594770354, 0.2361315359477035, -0.4669934640522964, 0.1830065359477035, 0.18050653594770352, 0.4298815359477035, 0.133968074409242, 0.2830065359477035, 0.48300653594770354, 0.18050653594770347, -0.32199346405229645, 0.4298815359477035, 0.2855065359477035, 0.4767565359477036, 0.38300653594770356, 0.1855065359477035, 0.2830065359477035, 0.38300653594770356, -0.12199346405229651, 0.4830065359477035, 0.13300653594770354, -0.0219934640522965, 0.27550653594770336, -0.5144934640522966, -0.5169934640522965, 0.13300653594770348, -0.07199346405229656, 0.2780065359477035, 0.2830065359477035, 0.02800653594770349, 0.4291002859477035, 0.48300653594770354, 0.13300653594770348, -0.021993464052296515, 0.43550653594770344, -0.02324346405229651, -0.37199346405229655, -0.21699346405229658, 0.38300653594770345, -0.32532679738562975, 0.4305065359477034, -0.22324346405229653, 0.4830065359477035, 0.4330065359477034, -0.5169934640522965, -0.4669934640522964, 0.48300653594770354, -0.31699346405229645, 0.08300653594770346, 0.4330065359477034, -0.36449346405229627, 0.38300653594770356, 0.38300653594770356, 0.1805065359477035, 0.2830065359477035, 0.22800653594770345, 0.4330065359477034, 0.3280065359477035, 0.2830065359477035, 0.13300653594770348, -0.01449346405229651, 0.43300653594770355, -0.2719934640522965, 0.22550653594770348, 0.2855065359477035, 0.38300653594770356, -0.3219934640522965, 0.08050653594770348, 0.3280065359477035, -0.2719934640522966, -0.11308721405229652, 0.03300653594770347, 0.3830065359477035, -0.41342203548086803, 0.38300653594770356, 0.38300653594770356, 0.08691278594770348, 0.48300653594770354, 0.38300653594770356, 0.3280065359477035, 0.030228758169925693, 0.37675653594770353, 0.3830065359477035, 0.23300653594770357, 0.3280065359477034, 0.2355065359477036, -0.3232434640522965, -0.020839617898450357, -0.5169934640522965, 0.1830065359477035, 0.2293300653594682, 0.02675653594770349, 0.2267565359477035, 0.07675653594770349, 0.2267565359477035, 0.2267565359477035, 0.43345296451913196, 0.47675653594770356, 0.2267565359477035, -0.5169934640522965, 0.026756535947703473, 0.4830065359477035, 0.38300653594770356, 0.23657796451913213, 0.22550653594770348, -0.22324346405229653, 0.2355065359477036, -0.41386846405229666, 0.22550653594770348, 0.22550653594770348, 0.08300653594770346, 0.23550653594770354, -0.5169934640522965, 0.2355065359477036, -0.024493464052296514, 0.1869127859477035, 0.1805065359477035, -0.2719934640522965, -0.07199346405229656, 0.1267565359477035, 0.18613153594770349, 0.18613153594770349, -0.2719934640522965, 0.23657796451913213, 0.1830065359477035, 0.1805065359477035, 0.18613153594770349, 0.2267565359477035, 0.1830065359477035, 0.18613153594770349, 0.1805065359477035, -0.07199346405229656, 0.1830065359477035, 0.22467320261437015, 0.1830065359477035, -0.07324346405229655, 0.13300653594770348, 0.1830065359477035, 0.0780065359477035, 0.18300653594770352, 0.18300653594770352, 0.18300653594770352, 0.18300653594770347, -0.4169934640522966, 0.2267565359477035, -0.5169934640522965, 0.37675653594770353, 0.1798815359477035, -0.37199346405229655, 0.1830065359477035, -0.4201184640522966, 0.38300653594770356, -0.0219934640522965, -0.12199346405229652, 0.4361315359477036, 0.2293300653594682, 0.1830065359477035, 0.3280065359477034, 0.13925653594770349, -0.26386846405229647, 0.18657796451913203, 0.1805065359477035, -0.16386846405229655, 0.2267565359477035, 0.18266869810986575, -0.2719934640522966, 0.18657796451913203, 0.1830065359477036, 0.1855065359477035, 0.18300653594770355, -0.21699346405229658, 0.2830065359477035, 0.13300653594770348, 0.18550653594770347, 0.1830065359477036, 0.38300653594770356, 0.4361315359477036, 0.1830065359477036, -0.16386846405229658, 0.1830065359477035, 0.03300653594770347, 0.13300653594770348, -0.32199346405229645, 0.13300653594770348, 0.07675653594770347, -0.45949346405229646, -0.07449346405229655, 0.4330065359477034, 0.13300653594770348, -0.32199346405229645, 0.13300653594770348, 0.13300653594770348, -0.021993464052296515, 0.13300653594770348, -0.01449346405229651, 0.13300653594770348, 0.43550653594770355, 0.1805065359477035, 0.02800653594770349, 0.133968074409242, -0.11449346405229649, 0.2355065359477036, 0.1405065359477035, -0.32199346405229645, -0.21699346405229658, 0.1791002859477035, -0.37199346405229655, -0.16949346405229654, 0.13300653594770354, 0.13300653594770348, -0.016993464052296514, -0.07199346405229648, -0.4669934640522964, -0.37199346405229655, 0.1830065359477035, 0.18300653594770344, 0.1798815359477035, -0.5169934640522965, 0.02800653594770349, 0.1830065359477035, 0.4298815359477035, 0.13925653594770349, 0.1830065359477035, 0.1805065359477035, -0.41449346405229665, -0.07199346405229656, 0.13300653594770348, -0.3719934640522965, -0.021993464052296515, 0.0780065359477035, 0.1805065359477035, 0.13300653594770348, 0.27675653594770344, 0.18050653594770352, -0.4669934640522964, 0.1830065359477035, -0.37199346405229655, 0.1830065359477035, -0.1138684640522965, 0.1830065359477035, 0.3830065359477035, 0.1330065359477035, 0.18300653594770344, 0.4767565359477035, 0.1830065359477035, 0.13300653594770348, -0.11386846405229652, -0.021993464052296515, 0.1830065359477035, 0.1830065359477035, 0.47675653594770356, 0.1830065359477035, 0.13300653594770348, 0.03300653594770347, 0.1830065359477035, -0.0669934640522966, 0.18300653594770344, 0.1830065359477035, -0.06342203548086794, -0.21699346405229658, 0.2282271241829976, 0.1830065359477035, 0.1330065359477035, -0.5169934640522965, -0.37199346405229655, 0.1330065359477035, -0.014493464052296517, -0.01449346405229651, 0.18300653594770352, -0.41386846405229666, 0.18300653594770352, -0.5169934640522965, 0.3280065359477034, 0.18300653594770344, -0.07449346405229654, 0.18300653594770347, -0.063422035480868, 0.18300653594770344, 0.1405065359477035, -0.46699346405229625, -0.021993464052296508, 0.2830065359477035, 0.1405065359477035, 0.1405065359477035, -0.16699346405229656, 0.07933006535946818, 0.1405065359477035, 0.133968074409242, 0.1405065359477035, 0.22800653594770345, -0.021993464052296515, -0.5144934640522965, 0.08691278594770345, 0.08300653594770344, 0.1805065359477035, 0.18300653594770344, 0.02800653594770349, 0.08613153594770345, -0.3138684640522965, -0.27324346405229644, 0.08613153594770345, 0.02800653594770349, 0.07675653594770347, 0.08613153594770345, 0.08300653594770346, -0.37199346405229655, 0.02800653594770349, 0.02800653594770349, -0.0219934640522965, 0.0780065359477035, -0.22532679738562994, 0.0780065359477035, -0.021993464052296508, 0.0780065359477035, -0.0219934640522965, 0.0780065359477035, 0.03300653594770347, -0.12199346405229651, 0.0780065359477035, 0.0780065359477035, -0.26386846405229647, 0.07800653594770349, 0.08300653594770346, 0.4767565359477036, 0.1405065359477035, 0.08300653594770346, -0.5144934640522965, -0.021993464052296505, -0.2232434640522966, 0.1267565359477035, -0.1694934640522965, 0.08300653594770346, 0.1330065359477035, 0.1330065359477035, -0.5169934640522965, 0.1330065359477035, 0.08300653594770346, 0.12467320261437018, -0.16699346405229656, 0.12467320261437015, -0.0219934640522965, 0.08300653594770346, 0.1267565359477035, 0.1267565359477035, -0.021772875817002397, 0.1267565359477035, 0.1267565359477035, 0.2830065359477035, 0.08300653594770348, 0.4830065359477035, 0.07974566638248609, -0.46699346405229636, 0.07800653594770349, -0.06449346405229656, 0.07800653594770349, -0.3206699346405318, 0.02800653594770349, 0.02800653594770348, 0.02800653594770349, 0.03300653594770347, 0.02800653594770349, -0.2719934640522965, -0.27040255496138743, 0.02800653594770349, -0.37199346405229655, -0.07199346405229652, 0.02800653594770349, -0.27324346405229655, 0.03300653594770347, 0.03300653594770347, 0.03300653594770346, -0.06699346405229659, -0.07199346405229648, 0.1830065359477035, 0.03396807440924192, -0.02449346405229651, 0.040506535947703454, 0.038120172311339816, 0.1830065359477035, 0.2361315359477035, -0.021993464052296515, -0.5130872140522964, -0.4169934640522965, 0.03613153594770348, -0.31699346405229645, -0.2719934640522965, -0.0219934640522965, 0.48300653594770354, -0.021993464052296508, -0.36386846405229634, -0.021993464052296505, -0.021993464052296505, -0.07324346405229655, -0.0219934640522965, 0.3905065359477037, -0.0219934640522965, -0.021772875817002386, -0.016993464052296518, -0.16949346405229654, -0.016993464052296514, 0.3280065359477035, -0.02449346405229651, 0.23657796451913213, 0.036131535947703484, -0.024493464052296507, 0.27800653594770336, -0.01699346405229651, -0.014493464052296517, -0.016993464052296514, -0.16386846405229658, -0.016993464052296514, -0.016993464052296514, -0.5169934640522965, -0.46699346405229636, -0.01699346405229651, -0.014493464052296517, -0.016993464052296514, 0.2780065359477035, 0.03300653594770347, -0.01699346405229651, 0.4330065359477034, 0.08300653594770346, -0.023243464052296506, -0.06449346405229654, 0.3280065359477035, -0.021993464052296515, 0.4298815359477035, -0.0219934640522965, 0.22800653594770345, 0.0780065359477035, -0.021993464052296515, -0.46699346405229636, 0.22800653594770345, 0.024673202614370154, 0.13300653594770348, 0.02467320261437014, 0.026756535947703466, -0.22449346405229653, 0.02675653594770348, 0.4330065359477034, 0.1869127859477035, 0.02675653594770348, -0.021993464052296508, 0.47675653594770356, -0.021993464052296508, 0.03300653594770347, -0.021993464052296505, 0.383968074409242, -0.07199346405229648, -0.21699346405229658, 0.27800653594770347, -0.07199346405229648, -0.07199346405229652, -0.07199346405229652, 0.13925653594770349, -0.07199346405229651, -0.07177287581700237, 0.43050653594770344, -0.0644934640522965, 0.2780065359477035, -0.07449346405229655, 0.1830065359477035, 0.27675653594770344, -0.07449346405229652, -0.06699346405229659, -0.5144934640522965, -0.06449346405229656, 0.2830065359477035, -0.06449346405229656, 0.383968074409242, -0.06449346405229656]}],\n",
              "                        {\"template\": {\"data\": {\"bar\": [{\"error_x\": {\"color\": \"#2a3f5f\"}, \"error_y\": {\"color\": \"#2a3f5f\"}, \"marker\": {\"line\": {\"color\": \"#E5ECF6\", \"width\": 0.5}}, \"type\": \"bar\"}], \"barpolar\": [{\"marker\": {\"line\": {\"color\": \"#E5ECF6\", \"width\": 0.5}}, \"type\": \"barpolar\"}], \"carpet\": [{\"aaxis\": {\"endlinecolor\": \"#2a3f5f\", \"gridcolor\": \"white\", \"linecolor\": \"white\", \"minorgridcolor\": \"white\", \"startlinecolor\": \"#2a3f5f\"}, \"baxis\": {\"endlinecolor\": \"#2a3f5f\", \"gridcolor\": \"white\", \"linecolor\": \"white\", \"minorgridcolor\": \"white\", \"startlinecolor\": \"#2a3f5f\"}, \"type\": \"carpet\"}], \"choropleth\": [{\"colorbar\": {\"outlinewidth\": 0, \"ticks\": \"\"}, \"type\": \"choropleth\"}], \"contour\": [{\"colorbar\": {\"outlinewidth\": 0, \"ticks\": \"\"}, \"colorscale\": [[0.0, \"#0d0887\"], [0.1111111111111111, \"#46039f\"], [0.2222222222222222, \"#7201a8\"], [0.3333333333333333, \"#9c179e\"], [0.4444444444444444, \"#bd3786\"], [0.5555555555555556, \"#d8576b\"], [0.6666666666666666, \"#ed7953\"], [0.7777777777777778, \"#fb9f3a\"], [0.8888888888888888, \"#fdca26\"], [1.0, \"#f0f921\"]], \"type\": \"contour\"}], \"contourcarpet\": [{\"colorbar\": {\"outlinewidth\": 0, \"ticks\": \"\"}, \"type\": \"contourcarpet\"}], \"heatmap\": [{\"colorbar\": {\"outlinewidth\": 0, \"ticks\": \"\"}, \"colorscale\": [[0.0, \"#0d0887\"], [0.1111111111111111, \"#46039f\"], [0.2222222222222222, \"#7201a8\"], [0.3333333333333333, \"#9c179e\"], [0.4444444444444444, \"#bd3786\"], [0.5555555555555556, \"#d8576b\"], [0.6666666666666666, \"#ed7953\"], [0.7777777777777778, \"#fb9f3a\"], [0.8888888888888888, \"#fdca26\"], [1.0, \"#f0f921\"]], \"type\": \"heatmap\"}], \"heatmapgl\": [{\"colorbar\": {\"outlinewidth\": 0, \"ticks\": \"\"}, \"colorscale\": [[0.0, \"#0d0887\"], [0.1111111111111111, \"#46039f\"], [0.2222222222222222, \"#7201a8\"], [0.3333333333333333, \"#9c179e\"], [0.4444444444444444, \"#bd3786\"], [0.5555555555555556, \"#d8576b\"], [0.6666666666666666, \"#ed7953\"], [0.7777777777777778, \"#fb9f3a\"], [0.8888888888888888, \"#fdca26\"], [1.0, \"#f0f921\"]], \"type\": \"heatmapgl\"}], \"histogram\": [{\"marker\": {\"colorbar\": {\"outlinewidth\": 0, \"ticks\": \"\"}}, \"type\": \"histogram\"}], \"histogram2d\": [{\"colorbar\": {\"outlinewidth\": 0, \"ticks\": \"\"}, \"colorscale\": [[0.0, \"#0d0887\"], [0.1111111111111111, \"#46039f\"], [0.2222222222222222, \"#7201a8\"], [0.3333333333333333, \"#9c179e\"], [0.4444444444444444, \"#bd3786\"], [0.5555555555555556, \"#d8576b\"], [0.6666666666666666, \"#ed7953\"], [0.7777777777777778, \"#fb9f3a\"], [0.8888888888888888, \"#fdca26\"], [1.0, \"#f0f921\"]], \"type\": \"histogram2d\"}], \"histogram2dcontour\": [{\"colorbar\": {\"outlinewidth\": 0, \"ticks\": \"\"}, \"colorscale\": [[0.0, \"#0d0887\"], [0.1111111111111111, \"#46039f\"], [0.2222222222222222, \"#7201a8\"], [0.3333333333333333, \"#9c179e\"], [0.4444444444444444, \"#bd3786\"], [0.5555555555555556, \"#d8576b\"], [0.6666666666666666, \"#ed7953\"], [0.7777777777777778, \"#fb9f3a\"], [0.8888888888888888, \"#fdca26\"], [1.0, \"#f0f921\"]], \"type\": \"histogram2dcontour\"}], \"mesh3d\": [{\"colorbar\": {\"outlinewidth\": 0, \"ticks\": \"\"}, \"type\": \"mesh3d\"}], \"parcoords\": [{\"line\": {\"colorbar\": {\"outlinewidth\": 0, \"ticks\": \"\"}}, \"type\": \"parcoords\"}], \"pie\": [{\"automargin\": true, \"type\": \"pie\"}], \"scatter\": [{\"marker\": {\"colorbar\": {\"outlinewidth\": 0, \"ticks\": \"\"}}, \"type\": \"scatter\"}], \"scatter3d\": [{\"line\": {\"colorbar\": {\"outlinewidth\": 0, \"ticks\": \"\"}}, \"marker\": {\"colorbar\": {\"outlinewidth\": 0, \"ticks\": \"\"}}, \"type\": \"scatter3d\"}], \"scattercarpet\": [{\"marker\": {\"colorbar\": {\"outlinewidth\": 0, \"ticks\": \"\"}}, \"type\": \"scattercarpet\"}], \"scattergeo\": [{\"marker\": {\"colorbar\": {\"outlinewidth\": 0, \"ticks\": \"\"}}, \"type\": \"scattergeo\"}], \"scattergl\": [{\"marker\": {\"colorbar\": {\"outlinewidth\": 0, \"ticks\": \"\"}}, \"type\": \"scattergl\"}], \"scattermapbox\": [{\"marker\": {\"colorbar\": {\"outlinewidth\": 0, \"ticks\": \"\"}}, \"type\": \"scattermapbox\"}], \"scatterpolar\": [{\"marker\": {\"colorbar\": {\"outlinewidth\": 0, \"ticks\": \"\"}}, \"type\": \"scatterpolar\"}], \"scatterpolargl\": [{\"marker\": {\"colorbar\": {\"outlinewidth\": 0, \"ticks\": \"\"}}, \"type\": \"scatterpolargl\"}], \"scatterternary\": [{\"marker\": {\"colorbar\": {\"outlinewidth\": 0, \"ticks\": \"\"}}, \"type\": \"scatterternary\"}], \"surface\": [{\"colorbar\": {\"outlinewidth\": 0, \"ticks\": \"\"}, \"colorscale\": [[0.0, \"#0d0887\"], [0.1111111111111111, \"#46039f\"], [0.2222222222222222, \"#7201a8\"], [0.3333333333333333, \"#9c179e\"], [0.4444444444444444, \"#bd3786\"], [0.5555555555555556, \"#d8576b\"], [0.6666666666666666, \"#ed7953\"], [0.7777777777777778, \"#fb9f3a\"], [0.8888888888888888, \"#fdca26\"], [1.0, \"#f0f921\"]], \"type\": \"surface\"}], \"table\": [{\"cells\": {\"fill\": {\"color\": \"#EBF0F8\"}, \"line\": {\"color\": \"white\"}}, \"header\": {\"fill\": {\"color\": \"#C8D4E3\"}, \"line\": {\"color\": \"white\"}}, \"type\": \"table\"}]}, \"layout\": {\"annotationdefaults\": {\"arrowcolor\": \"#2a3f5f\", \"arrowhead\": 0, \"arrowwidth\": 1}, \"coloraxis\": {\"colorbar\": {\"outlinewidth\": 0, \"ticks\": \"\"}}, \"colorscale\": {\"diverging\": [[0, \"#8e0152\"], [0.1, \"#c51b7d\"], [0.2, \"#de77ae\"], [0.3, \"#f1b6da\"], [0.4, \"#fde0ef\"], [0.5, \"#f7f7f7\"], [0.6, \"#e6f5d0\"], [0.7, \"#b8e186\"], [0.8, \"#7fbc41\"], [0.9, \"#4d9221\"], [1, \"#276419\"]], \"sequential\": [[0.0, \"#0d0887\"], [0.1111111111111111, \"#46039f\"], [0.2222222222222222, \"#7201a8\"], [0.3333333333333333, \"#9c179e\"], [0.4444444444444444, \"#bd3786\"], [0.5555555555555556, \"#d8576b\"], [0.6666666666666666, \"#ed7953\"], [0.7777777777777778, \"#fb9f3a\"], [0.8888888888888888, \"#fdca26\"], [1.0, \"#f0f921\"]], \"sequentialminus\": [[0.0, \"#0d0887\"], [0.1111111111111111, \"#46039f\"], [0.2222222222222222, \"#7201a8\"], [0.3333333333333333, \"#9c179e\"], [0.4444444444444444, \"#bd3786\"], [0.5555555555555556, \"#d8576b\"], [0.6666666666666666, \"#ed7953\"], [0.7777777777777778, \"#fb9f3a\"], [0.8888888888888888, \"#fdca26\"], [1.0, \"#f0f921\"]]}, \"colorway\": [\"#636efa\", \"#EF553B\", \"#00cc96\", \"#ab63fa\", \"#FFA15A\", \"#19d3f3\", \"#FF6692\", \"#B6E880\", \"#FF97FF\", \"#FECB52\"], \"font\": {\"color\": \"#2a3f5f\"}, \"geo\": {\"bgcolor\": \"white\", \"lakecolor\": \"white\", \"landcolor\": \"#E5ECF6\", \"showlakes\": true, \"showland\": true, \"subunitcolor\": \"white\"}, \"hoverlabel\": {\"align\": \"left\"}, \"hovermode\": \"closest\", \"mapbox\": {\"style\": \"light\"}, \"paper_bgcolor\": \"white\", \"plot_bgcolor\": \"#E5ECF6\", \"polar\": {\"angularaxis\": {\"gridcolor\": \"white\", \"linecolor\": \"white\", \"ticks\": \"\"}, \"bgcolor\": \"#E5ECF6\", \"radialaxis\": {\"gridcolor\": \"white\", \"linecolor\": \"white\", \"ticks\": \"\"}}, \"scene\": {\"xaxis\": {\"backgroundcolor\": \"#E5ECF6\", \"gridcolor\": \"white\", \"gridwidth\": 2, \"linecolor\": \"white\", \"showbackground\": true, \"ticks\": \"\", \"zerolinecolor\": \"white\"}, \"yaxis\": {\"backgroundcolor\": \"#E5ECF6\", \"gridcolor\": \"white\", \"gridwidth\": 2, \"linecolor\": \"white\", \"showbackground\": true, \"ticks\": \"\", \"zerolinecolor\": \"white\"}, \"zaxis\": {\"backgroundcolor\": \"#E5ECF6\", \"gridcolor\": \"white\", \"gridwidth\": 2, \"linecolor\": \"white\", \"showbackground\": true, \"ticks\": \"\", \"zerolinecolor\": \"white\"}}, \"shapedefaults\": {\"line\": {\"color\": \"#2a3f5f\"}}, \"ternary\": {\"aaxis\": {\"gridcolor\": \"white\", \"linecolor\": \"white\", \"ticks\": \"\"}, \"baxis\": {\"gridcolor\": \"white\", \"linecolor\": \"white\", \"ticks\": \"\"}, \"bgcolor\": \"#E5ECF6\", \"caxis\": {\"gridcolor\": \"white\", \"linecolor\": \"white\", \"ticks\": \"\"}}, \"title\": {\"x\": 0.05}, \"xaxis\": {\"automargin\": true, \"gridcolor\": \"white\", \"linecolor\": \"white\", \"ticks\": \"\", \"title\": {\"standoff\": 15}, \"zerolinecolor\": \"white\", \"zerolinewidth\": 2}, \"yaxis\": {\"automargin\": true, \"gridcolor\": \"white\", \"linecolor\": \"white\", \"ticks\": \"\", \"title\": {\"standoff\": 15}, \"zerolinecolor\": \"white\", \"zerolinewidth\": 2}}}, \"title\": {\"text\": \"Digit 5\"}},\n",
              "                        {\"responsive\": true}\n",
              "                    ).then(function(){\n",
              "                            \n",
              "var gd = document.getElementById('b9285986-8283-49fc-90c3-9fd8f369195c');\n",
              "var x = new MutationObserver(function (mutations, observer) {{\n",
              "        var display = window.getComputedStyle(gd).display;\n",
              "        if (!display || display === 'none') {{\n",
              "            console.log([gd, 'removed!']);\n",
              "            Plotly.purge(gd);\n",
              "            observer.disconnect();\n",
              "        }}\n",
              "}});\n",
              "\n",
              "// Listen for the removal of the full notebook cells\n",
              "var notebookContainer = gd.closest('#notebook-container');\n",
              "if (notebookContainer) {{\n",
              "    x.observe(notebookContainer, {childList: true});\n",
              "}}\n",
              "\n",
              "// Listen for the clearing of the current output cell\n",
              "var outputEl = gd.closest('.output');\n",
              "if (outputEl) {{\n",
              "    x.observe(outputEl, {childList: true});\n",
              "}}\n",
              "\n",
              "                        })\n",
              "                };\n",
              "                \n",
              "            </script>\n",
              "        </div>\n",
              "</body>\n",
              "</html>"
            ]
          },
          "metadata": {}
        }
      ]
    },
    {
      "cell_type": "code",
      "source": [
        "from torch.utils.data import Dataset\n",
        "\n",
        "class MnistDataset(Dataset):\n",
        "    def __init__(self, data, mode='train'):\n",
        "        self.data = data[mode]\n",
        "    def __len__(self):\n",
        "        return len(self.data)\n",
        "    def __getitem__(self, idx):\n",
        "        xyz = np.array(self.data[idx]['points'], dtype=np.float32)\n",
        "        return {'points':xyz, 'label':self.data[idx]['label']}"
      ],
      "metadata": {
        "id": "9mFksa5CunRM"
      },
      "execution_count": 9,
      "outputs": []
    },
    {
      "cell_type": "code",
      "source": [
        "# Voxel Grid 생성\n",
        "# 목표 : point_cloud를 사용자가 지정한 voxel_size 크기의 voxel_grid로 분할한다\n",
        "\n",
        "def VoxelGrid(points, voxel_size=[1, 1, 1]):\n",
        "\n",
        "    # Voxel Grid를 구하기 위해 각 축 별 최대, 최소값 계산\n",
        "    min_xyz  = np.min(points, axis=0) - 0.001\n",
        "    max_xyz  = np.max(points, axis=0) + 0.001\n",
        "\n",
        "    diff = max(max_xyz - min_xyz ) - ( max_xyz - min_xyz )\n",
        "    min_xyz  = min_xyz  - diff / 2\n",
        "    max_xyz  = max_xyz  + diff / 2\n",
        "\n",
        "    # voxel_grid\n",
        "    voxel_grid = []\n",
        "\n",
        "    # point cloud를 각 축 (x,y,z) 에 대한 voxel grid 로 분할\n",
        "    for i in range(3):\n",
        "        # Voxel_size는 정수만 가능\n",
        "        if type(voxel_size[i]) is not int:\n",
        "            raise TypeError(\"voxel_size[{}] must be int\".format(i))\n",
        "        segment = np.linspace( min_xyz[i], max_xyz[i], num=(voxel_size[i] + 1))\n",
        "        voxel_grid.append(segment)\n",
        "\n",
        "    return voxel_grid # 생성한 voxel_grid 를 반환"
      ],
      "metadata": {
        "id": "7iRWxYe8yNuZ"
      },
      "execution_count": 10,
      "outputs": []
    },
    {
      "cell_type": "code",
      "source": [
        "# Voxelization (복셀화) 및 Voxel_Vector 추출\n",
        "# 목표: 생성한 voxel_grid에 맞추어 point cloud를 각 grid에 맞춰 Voxelization하고, 이를 통해 voxel_vector \n",
        "\n",
        "def VoxelVector(points, voxel_grid, voxel_size=[1, 1, 1]):\n",
        "\n",
        "    n_voxels = voxel_size[0] * voxel_size[1] * voxel_size[2]\n",
        "    n_x = voxel_size[0]\n",
        "    n_y = voxel_size[1]\n",
        "    n_z = voxel_size[2]\n",
        "\n",
        "    voxelization = np.zeros((len(points), 4), dtype=int)\n",
        "\n",
        "    # Voxelization\n",
        "    voxelization[:,0] = np.searchsorted(voxel_grid[0], points[:,0]) - 1\n",
        "    voxelization[:,1] = np.searchsorted(voxel_grid[1], points[:,1]) - 1\n",
        "    voxelization[:,2] = np.searchsorted(voxel_grid[2], points[:,2]) - 1\n",
        "\n",
        "    voxelization[:,3] = ((voxelization[:,1] * n_x) + voxelization[:,0]) + (voxelization[:,2] * (n_x * n_y)) \n",
        "\n",
        "    # Voxelization으로부터 voxel_vector 추출\n",
        "    vector = np.zeros(n_voxels)\n",
        "    count = np.bincount(voxelization[:,3])\n",
        "    vector[:len(count)] = count\n",
        "\n",
        "    vector = vector.reshape(n_z, n_y, n_x)\n",
        "\n",
        "    return vector # 추출한 Vector 반환"
      ],
      "metadata": {
        "id": "vUCsyFzIyST_"
      },
      "execution_count": 11,
      "outputs": []
    },
    {
      "cell_type": "code",
      "source": [
        "# Voxel_Feature 추출\n",
        "# 목표: 추출한 voxel_vector로부터 classification에 feature로 활용할 수 있는 voxel_feature를 추출한다\n",
        "\n",
        "def VoxelFeature(dataset):\n",
        "    \n",
        "    voxel_vectors = []\n",
        "    labels = []\n",
        "\n",
        "    for i, pc in enumerate(tqdm(dataset)):\n",
        "\n",
        "        # point cloud를 np.array(dtype=np.float32)로 변경\n",
        "        pointcloud = np.array(pc['points'], dtype = np.float32)   \n",
        "\n",
        "        voxel_grid = VoxelGrid(pointcloud, voxel_size=[8, 8, 8])\n",
        "        \n",
        "        vector = VoxelVector(pointcloud, voxel_grid, voxel_size=[8, 8, 8])\n",
        "\n",
        "        voxel_vectors.append(vector.reshape(-1) / np.max(vector))\n",
        "        \n",
        "        labels.append(pc['label'])\n",
        "\n",
        "    return np.array(voxel_vectors), np.array(labels)"
      ],
      "metadata": {
        "id": "ux1TWyJFyUUZ"
      },
      "execution_count": 12,
      "outputs": []
    },
    {
      "cell_type": "markdown",
      "source": [
        "## Model/Evaluation"
      ],
      "metadata": {
        "id": "CHsQ4Q46yaYG"
      }
    },
    {
      "cell_type": "code",
      "source": [
        "# [1] 데이터 불러온 후\n",
        "mnist_train = MnistDataset(data, mode = \"train\")\n",
        "mnist_test = MnistDataset(data, mode = \"test\")\n",
        "\n",
        "# [2] 불러온 Raw 데이터를 가공합니다.\n",
        "x_train, y_train = VoxelFeature(mnist_train)\n",
        "x_test, _ = VoxelFeature(mnist_test)"
      ],
      "metadata": {
        "colab": {
          "base_uri": "https://localhost:8080/",
          "height": 81,
          "referenced_widgets": [
            "b15bbab2ed6a461fa225208e445257ff",
            "e05dce0043ad4f709036b892137afeb6",
            "c36f32a995b242219d511d20533b96ea",
            "c9d5a7660fdb446596b6b292c70742ba",
            "6c459c4a537c485e83f394354289a6f9",
            "a3fa736cdb144f9f918d3d41e7fc0864",
            "97d5f78c5bef46c28817775f3ea0fb88",
            "8b18ba45537e47a0a24eea0f4d999f66",
            "dc69fccda6994c609839fdfaf21ea071",
            "179d9b278d904e4cb46443b56eff15b1",
            "fcaa9a692e4c44608fe8ed0b5d007dcb",
            "b69c72eca54548868a359e7d9da7818f",
            "629758353f8d41d3a96d79353cf48143",
            "89478538076b47299e5acb751ee933e6",
            "34c701b739394197919f5518fe004843",
            "c63f1cc3cb664f968c84da32e7359855",
            "762328a8250842a2af31cc9b98cbabd5",
            "44c4709a7c6144eabef78ae8c42cf513",
            "f358d34b0447423fa3d2e477c23f602a",
            "855012f45e214dc492f7673488f6633c",
            "90c6fe3f0aa6414689d17fb83216c680",
            "c679eb42659c4c88861e4a723ef5da86"
          ]
        },
        "id": "tLA2mwRXyV3Y",
        "outputId": "70d93b04-79fd-4db5-dda3-2c2bdc1aa42b"
      },
      "execution_count": 13,
      "outputs": [
        {
          "output_type": "display_data",
          "data": {
            "application/vnd.jupyter.widget-view+json": {
              "model_id": "b15bbab2ed6a461fa225208e445257ff",
              "version_minor": 0,
              "version_major": 2
            },
            "text/plain": [
              "  0%|          | 0/5000 [00:00<?, ?it/s]"
            ]
          },
          "metadata": {}
        },
        {
          "output_type": "display_data",
          "data": {
            "application/vnd.jupyter.widget-view+json": {
              "model_id": "b69c72eca54548868a359e7d9da7818f",
              "version_minor": 0,
              "version_major": 2
            },
            "text/plain": [
              "  0%|          | 0/1000 [00:00<?, ?it/s]"
            ]
          },
          "metadata": {}
        }
      ]
    },
    {
      "cell_type": "code",
      "source": [
        "print(x_train.shape)\n",
        "print(y_train.shape)\n",
        "print(x_test.shape)"
      ],
      "metadata": {
        "colab": {
          "base_uri": "https://localhost:8080/"
        },
        "id": "U1-Itjhzyod2",
        "outputId": "ce503fe2-a7c7-4f2a-c2f2-1a0b87e30a47"
      },
      "execution_count": 14,
      "outputs": [
        {
          "output_type": "stream",
          "name": "stdout",
          "text": [
            "(5000, 512)\n",
            "(5000,)\n",
            "(1000, 512)\n"
          ]
        }
      ]
    },
    {
      "cell_type": "code",
      "source": [
        "from sklearn.preprocessing import MinMaxScaler\n",
        "from sklearn.svm import SVC\n",
        "\n",
        "scaler=MinMaxScaler()\n",
        "x_train_scale=scaler.fit_transform(x_train)\n",
        "x_test_scale=scaler.transform(x_test)\n",
        "\n",
        "svc=SVC(random_state=1)\n",
        "svc.fit(x_train_scale,y_train)\n",
        "y_svc_predict=svc.predict(x_test_scale)\n",
        "\n",
        "sample=pd.read_csv('/content/sample_submit.csv')\n",
        "sample['Label']=y_svc_predict\n",
        "sample.to_csv('svc.csv',index=False)"
      ],
      "metadata": {
        "id": "-Vy3hAWYyrno"
      },
      "execution_count": 18,
      "outputs": []
    },
    {
      "cell_type": "code",
      "source": [
        ""
      ],
      "metadata": {
        "id": "av_mLJG2zL3O"
      },
      "execution_count": null,
      "outputs": []
    }
  ]
}