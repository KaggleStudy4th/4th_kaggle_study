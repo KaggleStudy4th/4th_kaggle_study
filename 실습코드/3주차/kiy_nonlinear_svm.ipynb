{
  "nbformat": 4,
  "nbformat_minor": 0,
  "metadata": {
    "colab": {
      "name": "kiy-nonlinear-svm.ipynb",
      "private_outputs": true,
      "provenance": [],
      "collapsed_sections": []
    },
    "kernelspec": {
      "name": "python3",
      "display_name": "Python 3"
    },
    "language_info": {
      "name": "python"
    }
  },
  "cells": [
    {
      "cell_type": "code",
      "execution_count": null,
      "metadata": {
        "id": "rwsMUZTmo-48"
      },
      "outputs": [],
      "source": [
        "import seaborn as sns\n",
        "iris=sns.load_dataset('iris')\n",
        "x=iris.drop('species',axis=1)\n",
        "y=iris['species']\n",
        "\n",
        "from sklearn.preprocessing import LabelEncoder\n",
        "classle=LabelEncoder()\n",
        "y=classle.fit_transform(iris['species'].values)\n",
        "\n",
        "from sklearn.model_selection import train_test_split\n",
        "x_train, x_test, y_train, y_test= train_test_split(x,y,test_size=0.3, random_state=123, stratify=y)"
      ]
    },
    {
      "cell_type": "code",
      "source": [
        "#kernel svm\n",
        "#평면상\n",
        "%matplotlib inline\n",
        "import matplotlib.pyplot as plt\n",
        "from sklearn.datasets import make_circles\n",
        "x,y=make_circles(n_samples=100, noise=0.1, factor=0.1)\n",
        "plt.scatter(x[:,0],x[:,1],c=y,s=50) #0열과 1열에 있는 데이터 표시"
      ],
      "metadata": {
        "id": "903aKpJqpMzl"
      },
      "execution_count": null,
      "outputs": []
    },
    {
      "cell_type": "code",
      "source": [
        "import numpy as np\n",
        "r = np.exp(-(x ** 2).sum(1))\n",
        "from ipywidgets import interact, fixed\n",
        "from mpl_toolkits import mplot3d\n",
        "def plot_3D(elev=30, azim=30, X=x, y=y):\n",
        "    ax = plt.subplot(projection='3d')\n",
        "    ax.scatter3D(x[:, 0], x[:, 1], r, c=y, s=50, cmap='autumn')\n",
        "    ax.view_init(elev=elev, azim=azim)\n",
        "    ax.set_xlabel('x')\n",
        "    ax.set_ylabel('y')\n",
        "    ax.set_zlabel('r')\n",
        "\n",
        "interact(plot_3D, elev=[-90, 90], azip=(-180, 180),\n",
        "         X=fixed(x), y=fixed(y));"
      ],
      "metadata": {
        "id": "_yugDBRWphup"
      },
      "execution_count": null,
      "outputs": []
    },
    {
      "cell_type": "code",
      "source": [
        "from sklearn.svm import SVC \n",
        "ksvm=SVC(kernel='rbf',C=1.0,gamma=0.2,random_state=42)\n",
        "ksvm.fit(x_train,y_train)\n",
        "y_train_pred=ksvm.predict(x_train) \n",
        "y_test_pred=ksvm.predict(x_test) "
      ],
      "metadata": {
        "id": "mKO0LRomrCFm"
      },
      "execution_count": null,
      "outputs": []
    },
    {
      "cell_type": "code",
      "source": [
        "from sklearn.metrics import accuracy_score,confusion_matrix, classification_report\n",
        "print(accuracy_score(y_train, y_train_pred))\n",
        "print(accuracy_score(y_test, y_test_pred))"
      ],
      "metadata": {
        "id": "eTe5i3hCrB_t"
      },
      "execution_count": null,
      "outputs": []
    },
    {
      "cell_type": "code",
      "source": [
        "confusion_matrix(y_test, y_test_pred)"
      ],
      "metadata": {
        "id": "7EX0WuSZsqkH"
      },
      "execution_count": null,
      "outputs": []
    },
    {
      "cell_type": "code",
      "source": [
        "print(classification_report(y_test, y_test_pred))"
      ],
      "metadata": {
        "id": "-Hnu5jHKswfH"
      },
      "execution_count": null,
      "outputs": []
    },
    {
      "cell_type": "code",
      "source": [
        "print(ksvm.n_support_)"
      ],
      "metadata": {
        "id": "dNEs7PPSs0R2"
      },
      "execution_count": null,
      "outputs": []
    },
    {
      "cell_type": "code",
      "source": [
        ""
      ],
      "metadata": {
        "id": "kOazaSWctYvK"
      },
      "execution_count": null,
      "outputs": []
    }
  ]
}