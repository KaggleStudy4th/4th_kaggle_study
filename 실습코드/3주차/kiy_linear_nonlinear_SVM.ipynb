{
  "nbformat": 4,
  "nbformat_minor": 0,
  "metadata": {
    "colab": {
      "name": "kiy-linear-nonlinear-SVM.ipynb",
      "private_outputs": true,
      "provenance": [],
      "authorship_tag": "ABX9TyNc3taXH24wt/kUujk5mNiT",
      "include_colab_link": true
    },
    "kernelspec": {
      "name": "python3",
      "display_name": "Python 3"
    },
    "language_info": {
      "name": "python"
    }
  },
  "cells": [
    {
      "cell_type": "markdown",
      "metadata": {
        "id": "view-in-github",
        "colab_type": "text"
      },
      "source": [
        "<a href=\"https://colab.research.google.com/github/KaggleStudy4th/4th_kaggle_study/blob/main/%EC%8B%A4%EC%8A%B5%EC%BD%94%EB%93%9C/3%EC%A3%BC%EC%B0%A8/kiy_linear_nonlinear_SVM.ipynb\" target=\"_parent\"><img src=\"https://colab.research.google.com/assets/colab-badge.svg\" alt=\"Open In Colab\"/></a>"
      ]
    },
    {
      "cell_type": "markdown",
      "source": [
        "#Linear SVM"
      ],
      "metadata": {
        "id": "kQDpWu8goov1"
      }
    },
    {
      "cell_type": "code",
      "execution_count": null,
      "metadata": {
        "id": "7yrISVj6YJQT"
      },
      "outputs": [],
      "source": [
        "import seaborn as sns\n",
        "iris=sns.load_dataset('iris')\n",
        "x=iris.drop('species',axis=1)\n",
        "y=iris['species']\n",
        "\n",
        "from sklearn.preprocessing import LabelEncoder\n",
        "classle=LabelEncoder()\n",
        "y=classle.fit_transform(iris['species'].values)\n",
        "\n",
        "from sklearn.model_selection import train_test_split\n",
        "x_train, x_test, y_train, y_test= train_test_split(x,y,test_size=0.3, random_state=123, stratify=y)"
      ]
    },
    {
      "cell_type": "code",
      "source": [
        "from sklearn.svm import SVC\n",
        "svm=SVC(kernel='linear',C=1.0, random_state=1)\n",
        "svm.fit(x_train,y_train)\n",
        "y_train_pred=svm.predict(x_train)\n",
        "y_test_pred=svm.predict(x_test)"
      ],
      "metadata": {
        "id": "wDwNbugxeDmg"
      },
      "execution_count": null,
      "outputs": []
    },
    {
      "cell_type": "code",
      "source": [
        "print(svm.support_)\n",
        "print(svm.n_support_)"
      ],
      "metadata": {
        "id": "D1DLcENXezc_"
      },
      "execution_count": null,
      "outputs": []
    },
    {
      "cell_type": "code",
      "source": [
        "from sklearn.metrics import accuracy_score,confusion_matrix, classification_report\n",
        "print(accuracy_score(y_train, y_train_pred))\n",
        "print(accuracy_score(y_test, y_test_pred))"
      ],
      "metadata": {
        "id": "DRG1DB9ck3vA"
      },
      "execution_count": null,
      "outputs": []
    },
    {
      "cell_type": "code",
      "source": [
        "confusion_matrix(y_test, y_test_pred)"
      ],
      "metadata": {
        "id": "2V5zUoxllGxd"
      },
      "execution_count": null,
      "outputs": []
    },
    {
      "cell_type": "code",
      "source": [
        "print(classification_report(y_test, y_test_pred))"
      ],
      "metadata": {
        "id": "4kp0VdmFlod3"
      },
      "execution_count": null,
      "outputs": []
    },
    {
      "cell_type": "code",
      "source": [
        ""
      ],
      "metadata": {
        "id": "7z7AaS96ly0m"
      },
      "execution_count": null,
      "outputs": []
    }
  ]
}