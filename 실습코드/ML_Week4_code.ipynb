{
  "nbformat": 4,
  "nbformat_minor": 0,
  "metadata": {
    "colab": {
      "name": "ML-Week4-code.ipynb",
      "private_outputs": true,
      "provenance": []
    },
    "kernelspec": {
      "name": "python3",
      "display_name": "Python 3"
    },
    "language_info": {
      "name": "python"
    }
  },
  "cells": [
    {
      "cell_type": "code",
      "execution_count": null,
      "metadata": {
        "id": "uLOejUfA7HEl"
      },
      "outputs": [],
      "source": [
        "#범주형 자료의 추상화\n",
        "x=[{'city':'seoul', 'temp':10.0},{'city':'Dubai', 'temp':31.5},{'city':'LA', 'temp':20.0}]\n",
        "x"
      ]
    },
    {
      "cell_type": "code",
      "source": [
        "from sklearn.feature_extraction import DictVectorizer\n",
        "vec = DictVectorizer(sparse=False)\n",
        "vec.fit_transform(x) #x를 범주형 수량화 자료로 변환"
      ],
      "metadata": {
        "id": "PFR9G8He7pBY"
      },
      "execution_count": null,
      "outputs": []
    },
    {
      "cell_type": "code",
      "source": [
        "vecl = DictVectorizer(sparse=True) #메모리를 줄이기 위해 sparse=True\n",
        "xl = vecl.fit_transform(x)\n",
        "xl"
      ],
      "metadata": {
        "id": "JMgAI9Zs71zu"
      },
      "execution_count": null,
      "outputs": []
    },
    {
      "cell_type": "code",
      "source": [
        "#텍스트 자료의 수량화\n",
        "text=['떴다 떴다 비행기 날아라 날아라',\n",
        "      '높이 높이 날아라 우리 비행기',\n",
        "      '내가 만든 비행기 날아라 날아라',\n",
        "      '멀리 멀리 날아라 우리 비행기']\n",
        "text"
      ],
      "metadata": {
        "id": "6Jq7-fhc9oUp"
      },
      "execution_count": null,
      "outputs": []
    },
    {
      "cell_type": "code",
      "source": [
        "from sklearn.feature_extraction.text import CountVectorizer\n",
        "vec2 = CountVectorizer() #default는 sparse=True\n",
        "t= vec2.fit_transform(text).toarray() #sparse=True를 풀고 text를 수량화 배열 자료로 변환\n",
        "import pandas as pd\n",
        "tl=pd.DataFrame(t, columns=vec2.get_feature_names())\n",
        "tl"
      ],
      "metadata": {
        "id": "Pk25OSXJ90qA"
      },
      "execution_count": null,
      "outputs": []
    },
    {
      "cell_type": "code",
      "source": [
        "from sklearn.feature_extraction.text import TfidfVectorizer\n",
        "tfid=TfidfVectorizer()\n",
        "x2=tfid.fit_transform(text).toarray() #높은 빈도는 낮은 가중치, 낮은 빈도는 높은 가중치\n",
        "x3=pd.DataFrame(x2, columns=tfid.get_feature_names())\n",
        "x3"
      ],
      "metadata": {
        "id": "62sLRbjT-o2X"
      },
      "execution_count": null,
      "outputs": []
    },
    {
      "cell_type": "code",
      "source": [
        "#4-2 \n",
        "#결측자료 대체\n",
        "import numpy as np\n",
        "x_miss=np.array([[1,2,3,None],[5,np.NAN,7,8],[None,10,11,12],[13,np.nan,15,16]])\n",
        "x_miss\n"
      ],
      "metadata": {
        "id": "q07csCBS-_od"
      },
      "execution_count": null,
      "outputs": []
    },
    {
      "cell_type": "code",
      "source": [
        "from sklearn.impute import SimpleImputer\n",
        "#imputer()는 입력인자로 평균, 중위수, 최빈수 선택\n",
        "#Imputer 3 버전 전에 사용되지 않으며 0.22에서 제거되었다. \n",
        "#Imputer 모듈을 불러오기 위해선 sklearn.impute를 사용하면 된다.\n",
        "im=SimpleImputer(strategy='mean')\n",
        "im.fit_transform(x_miss) #열의 평균값으로 대체"
      ],
      "metadata": {
        "id": "NnotpxPCbNAe"
      },
      "execution_count": null,
      "outputs": []
    },
    {
      "cell_type": "markdown",
      "source": [
        ""
      ],
      "metadata": {
        "id": "yPlsTk79d1D9"
      }
    },
    {
      "cell_type": "code",
      "source": [
        "import pandas as pd\n",
        "df1=pd.read_csv(\"train.csv\",engine='python')\n",
        "print(df1.shape)\n",
        "type(df1)"
      ],
      "metadata": {
        "id": "1XUIb4VKbp93"
      },
      "execution_count": null,
      "outputs": []
    },
    {
      "cell_type": "code",
      "source": [
        "df1.head()"
      ],
      "metadata": {
        "id": "KDoFr46_cVBd"
      },
      "execution_count": null,
      "outputs": []
    },
    {
      "cell_type": "code",
      "source": [
        "df2=pd.read_csv(\"store.csv\",engine='python')\n",
        "df2.shape"
      ],
      "metadata": {
        "id": "fNeLi11gc1Lq"
      },
      "execution_count": null,
      "outputs": []
    },
    {
      "cell_type": "code",
      "source": [
        "df2.head()"
      ],
      "metadata": {
        "id": "dI8A5lndd7rs"
      },
      "execution_count": null,
      "outputs": []
    },
    {
      "cell_type": "code",
      "source": [
        "#https://nittaku.tistory.com/121 -> on 설명\n",
        "df = pd.merge(df1,df2, on='Store')\n",
        "df.shape"
      ],
      "metadata": {
        "id": "z-M1e0y4eBPZ"
      },
      "execution_count": null,
      "outputs": []
    },
    {
      "cell_type": "code",
      "source": [
        "df.dtypes"
      ],
      "metadata": {
        "id": "Efl8Zxq0e_Pb"
      },
      "execution_count": null,
      "outputs": []
    },
    {
      "cell_type": "code",
      "source": [
        "print(len(df['Store'].unique()))\n",
        "print(len(df['Date']))\n",
        "print(df['DayOfWeek'].value_counts())"
      ],
      "metadata": {
        "id": "DPSAyxPQfLoX"
      },
      "execution_count": null,
      "outputs": []
    },
    {
      "cell_type": "code",
      "source": [
        "#비대칭 데이터 문제 해결(imbalanced learning)\n",
        "from collections import Counter\n",
        "from sklearn.datasets import make_classification\n",
        "from imblearn.over_sampling import SMOTE, ADASYN\n",
        "\n",
        "# n_feature 변경, n_informative와 n_redundant 추가\n",
        "X, y = make_classification(n_classes=3, weights=[0.03, 0.07,0.9],n_features=2, n_informative=2, n_redundant=0,\n",
        "                           n_clusters_per_class=1, n_samples=200, random_state=10)\n",
        "\n",
        "\n",
        "print('Original dataset shape %s' % Counter(y))  "
      ],
      "metadata": {
        "id": "mMJYTNSGfdBl"
      },
      "execution_count": null,
      "outputs": []
    },
    {
      "cell_type": "code",
      "source": [
        "import matplotlib.pyplot as plt\n",
        "#feature 첫번째 열, 두번째 열 ->x[:,0], x[:,1]\n",
        "plt.scatter(X[:, 0], X[:, 1], marker='o', c=y,\n",
        "            s=100, edgecolor=\"k\", linewidth=1)\n",
        "\n",
        "plt.xlabel(\"$X_1$\")\n",
        "plt.ylabel(\"$X_2$\")\n",
        "plt.show()"
      ],
      "metadata": {
        "id": "iIOkMD_TM4Z3"
      },
      "execution_count": null,
      "outputs": []
    },
    {
      "cell_type": "code",
      "source": [
        "sm = SMOTE(random_state=42)\n",
        "#radnom_state-> random.seed()\n",
        "#Seed 즉 난수 값을 설정하는 이유는 컴퓨터는 원래 복잡한 연산보다 난수를 만드는 것을 더 어려워함\n",
        "\n",
        "X_res, y_res = sm.fit_resample(X, y)\n",
        "print('Resampled dataset shape %s' % Counter(y_res))"
      ],
      "metadata": {
        "id": "5QvCtWKjNJvq"
      },
      "execution_count": null,
      "outputs": []
    },
    {
      "cell_type": "code",
      "source": [
        "import matplotlib.pyplot as plt\n",
        "#c에는 class 정보 들어있음\n",
        "plt.scatter(X_res[:, 0], X_res[:, 1], marker='o', c=y_res,\n",
        "            s=100, edgecolor=\"k\", linewidth=1)\n",
        "\n",
        "plt.xlabel(\"$X_1$\") #x축 \n",
        "plt.ylabel(\"$X_2$\") #y축\n",
        "plt.show()"
      ],
      "metadata": {
        "id": "L-l3jAArNSBm"
      },
      "execution_count": null,
      "outputs": []
    },
    {
      "cell_type": "code",
      "source": [
        "ada=ADASYN(random_state=0)\n",
        "X_syn,y_syn=ada.fit_resample(X,y)\n",
        "print('Resampled dataset shape from ADASYN %s' % Counter(y_syn))"
      ],
      "metadata": {
        "id": "IFA2-XwdQF61"
      },
      "execution_count": null,
      "outputs": []
    },
    {
      "cell_type": "code",
      "source": [
        "import matplotlib.pyplot as plt\n",
        "\n",
        "plt.scatter(X_syn[:, 0], X_syn[:, 1], marker='o', c=y_syn,\n",
        "            s=100, edgecolor=\"k\", linewidth=1)\n",
        "\n",
        "plt.xlabel(\"$X_1$\")\n",
        "plt.ylabel(\"$X_2$\")\n",
        "plt.show()"
      ],
      "metadata": {
        "id": "MQGyKqW6QLAw"
      },
      "execution_count": null,
      "outputs": []
    },
    {
      "cell_type": "code",
      "source": [
        "from imblearn.under_sampling import NearMiss\n",
        "\n",
        "# define the undersampling method\n",
        "undersample = NearMiss(version=3, n_neighbors_ver3=3)\n",
        "# transform the dataset\n",
        "X_Under, y_Under = undersample.fit_resample(X, y)"
      ],
      "metadata": {
        "id": "X-5px1V_QSzi"
      },
      "execution_count": null,
      "outputs": []
    },
    {
      "cell_type": "code",
      "source": [
        "import matplotlib.pyplot as plt\n",
        "\n",
        "plt.scatter(X_Under[:, 0], X_Under[:, 1], marker='o', c=y_Under,\n",
        "            s=100, edgecolor=\"k\", linewidth=1)\n",
        "\n",
        "plt.xlabel(\"$X_1$\")\n",
        "plt.ylabel(\"$X_2$\")\n",
        "plt.show()"
      ],
      "metadata": {
        "id": "fUKnnobQQTPT"
      },
      "execution_count": null,
      "outputs": []
    },
    {
      "cell_type": "code",
      "source": [
        ""
      ],
      "metadata": {
        "id": "Ui6-Cs5VQWmm"
      },
      "execution_count": null,
      "outputs": []
    }
  ]
}