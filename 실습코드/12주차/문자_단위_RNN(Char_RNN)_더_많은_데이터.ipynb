{
  "nbformat": 4,
  "nbformat_minor": 0,
  "metadata": {
    "colab": {
      "name": "문자 단위 RNN(Char RNN) - 더 많은 데이터.ipynb",
      "provenance": [],
      "authorship_tag": "ABX9TyMBPqrDuQHo/v7zwptIhs9G",
      "include_colab_link": true
    },
    "kernelspec": {
      "name": "python3",
      "display_name": "Python 3"
    },
    "language_info": {
      "name": "python"
    }
  },
  "cells": [
    {
      "cell_type": "markdown",
      "metadata": {
        "id": "view-in-github",
        "colab_type": "text"
      },
      "source": [
        "<a href=\"https://colab.research.google.com/github/KaggleStudy4th/4th_kaggle_study/blob/main/%EC%8B%A4%EC%8A%B5%EC%BD%94%EB%93%9C/12%EC%A3%BC%EC%B0%A8/%EB%AC%B8%EC%9E%90_%EB%8B%A8%EC%9C%84_RNN(Char_RNN)_%EB%8D%94_%EB%A7%8E%EC%9D%80_%EB%8D%B0%EC%9D%B4%ED%84%B0.ipynb\" target=\"_parent\"><img src=\"https://colab.research.google.com/assets/colab-badge.svg\" alt=\"Open In Colab\"/></a>"
      ]
    },
    {
      "cell_type": "code",
      "execution_count": 1,
      "metadata": {
        "id": "EwHOes6oMtAd"
      },
      "outputs": [],
      "source": [
        "import torch\n",
        "import torch.nn as nn\n",
        "import torch.optim as optim"
      ]
    },
    {
      "cell_type": "markdown",
      "source": [
        "# 훈련데이터 전처리"
      ],
      "metadata": {
        "id": "Qu3hGYXHNimR"
      }
    },
    {
      "cell_type": "code",
      "source": [
        "sentence = (\"if you want to build a ship, don't drum up people together to \"\n",
        "            \"collect wood and don't assign them tasks and work, but rather \"\n",
        "            \"teach them to long for the endless immensity of the sea.\")"
      ],
      "metadata": {
        "id": "i4j4H4TaNhZ2"
      },
      "execution_count": 2,
      "outputs": []
    },
    {
      "cell_type": "code",
      "source": [
        "char_set=list(set(sentence))\n",
        "char_dic={c:i for i,c in enumerate(char_set)}"
      ],
      "metadata": {
        "id": "uMSQmmyCaYlk"
      },
      "execution_count": 3,
      "outputs": []
    },
    {
      "cell_type": "code",
      "source": [
        "char_set"
      ],
      "metadata": {
        "colab": {
          "base_uri": "https://localhost:8080/"
        },
        "id": "Jbf47zZcafEl",
        "outputId": "d27ece4c-c8c6-4da2-9cd0-6121dd512065"
      },
      "execution_count": 4,
      "outputs": [
        {
          "output_type": "execute_result",
          "data": {
            "text/plain": [
              "[' ',\n",
              " 'l',\n",
              " 'o',\n",
              " 'd',\n",
              " ',',\n",
              " 'm',\n",
              " 's',\n",
              " 'i',\n",
              " 'f',\n",
              " 'g',\n",
              " 'h',\n",
              " 'c',\n",
              " 'b',\n",
              " '.',\n",
              " \"'\",\n",
              " 'y',\n",
              " 'u',\n",
              " 'r',\n",
              " 'a',\n",
              " 'e',\n",
              " 'k',\n",
              " 't',\n",
              " 'p',\n",
              " 'w',\n",
              " 'n']"
            ]
          },
          "metadata": {},
          "execution_count": 4
        }
      ]
    },
    {
      "cell_type": "code",
      "source": [
        "char_dic"
      ],
      "metadata": {
        "colab": {
          "base_uri": "https://localhost:8080/"
        },
        "id": "DeWEfB3baiSf",
        "outputId": "388116cb-9d20-4377-f25f-55a6362b9491"
      },
      "execution_count": 5,
      "outputs": [
        {
          "output_type": "execute_result",
          "data": {
            "text/plain": [
              "{' ': 0,\n",
              " \"'\": 14,\n",
              " ',': 4,\n",
              " '.': 13,\n",
              " 'a': 18,\n",
              " 'b': 12,\n",
              " 'c': 11,\n",
              " 'd': 3,\n",
              " 'e': 19,\n",
              " 'f': 8,\n",
              " 'g': 9,\n",
              " 'h': 10,\n",
              " 'i': 7,\n",
              " 'k': 20,\n",
              " 'l': 1,\n",
              " 'm': 5,\n",
              " 'n': 24,\n",
              " 'o': 2,\n",
              " 'p': 22,\n",
              " 'r': 17,\n",
              " 's': 6,\n",
              " 't': 21,\n",
              " 'u': 16,\n",
              " 'w': 23,\n",
              " 'y': 15}"
            ]
          },
          "metadata": {},
          "execution_count": 5
        }
      ]
    },
    {
      "cell_type": "code",
      "source": [
        "dic_size=len(char_dic)\n",
        "print(dic_size)"
      ],
      "metadata": {
        "colab": {
          "base_uri": "https://localhost:8080/"
        },
        "id": "4Zwondsuaiyh",
        "outputId": "ea691a12-a3e4-4bdf-b39e-a8a478e7b9ae"
      },
      "execution_count": 6,
      "outputs": [
        {
          "output_type": "stream",
          "name": "stdout",
          "text": [
            "25\n"
          ]
        }
      ]
    },
    {
      "cell_type": "code",
      "source": [
        "#하이퍼파라미터 선택\n",
        "hidden_size=dic_size\n",
        "sequence_length=10# 임의 숫자 지정\n",
        "learning_rate=0.1"
      ],
      "metadata": {
        "id": "FvRdJfKRcehE"
      },
      "execution_count": 7,
      "outputs": []
    },
    {
      "cell_type": "markdown",
      "source": [
        "임의로 지정한 sequence_length 값인 10의 단위로 샘플들을 잘라서 데이터를 만드는 모습을 보여줍니다."
      ],
      "metadata": {
        "id": "WF1Xbc4ddPGK"
      }
    },
    {
      "cell_type": "code",
      "source": [
        "#데이터 구성\n",
        "x_data=[]\n",
        "y_data=[]\n",
        "\n",
        "for i in range(0,len(sentence)-sequence_length):\n",
        "  x_str=sentence[i:i+sequence_length]\n",
        "  y_str=sentence[i+1:i+sequence_length+1]\n",
        "  print(i,x_str,'->',y_str)\n",
        "\n",
        "  x_data.append([char_dic[c] for c in x_str])\n",
        "  y_data.append([char_dic[c] for c in y_str])"
      ],
      "metadata": {
        "colab": {
          "base_uri": "https://localhost:8080/"
        },
        "id": "aGdCsMhJc-5y",
        "outputId": "e57ba631-22c1-464a-d7c8-527a71a0ee81"
      },
      "execution_count": 8,
      "outputs": [
        {
          "output_type": "stream",
          "name": "stdout",
          "text": [
            "0 if you wan -> f you want\n",
            "1 f you want ->  you want \n",
            "2  you want  -> you want t\n",
            "3 you want t -> ou want to\n",
            "4 ou want to -> u want to \n",
            "5 u want to  ->  want to b\n",
            "6  want to b -> want to bu\n",
            "7 want to bu -> ant to bui\n",
            "8 ant to bui -> nt to buil\n",
            "9 nt to buil -> t to build\n",
            "10 t to build ->  to build \n",
            "11  to build  -> to build a\n",
            "12 to build a -> o build a \n",
            "13 o build a  ->  build a s\n",
            "14  build a s -> build a sh\n",
            "15 build a sh -> uild a shi\n",
            "16 uild a shi -> ild a ship\n",
            "17 ild a ship -> ld a ship,\n",
            "18 ld a ship, -> d a ship, \n",
            "19 d a ship,  ->  a ship, d\n",
            "20  a ship, d -> a ship, do\n",
            "21 a ship, do ->  ship, don\n",
            "22  ship, don -> ship, don'\n",
            "23 ship, don' -> hip, don't\n",
            "24 hip, don't -> ip, don't \n",
            "25 ip, don't  -> p, don't d\n",
            "26 p, don't d -> , don't dr\n",
            "27 , don't dr ->  don't dru\n",
            "28  don't dru -> don't drum\n",
            "29 don't drum -> on't drum \n",
            "30 on't drum  -> n't drum u\n",
            "31 n't drum u -> 't drum up\n",
            "32 't drum up -> t drum up \n",
            "33 t drum up  ->  drum up p\n",
            "34  drum up p -> drum up pe\n",
            "35 drum up pe -> rum up peo\n",
            "36 rum up peo -> um up peop\n",
            "37 um up peop -> m up peopl\n",
            "38 m up peopl ->  up people\n",
            "39  up people -> up people \n",
            "40 up people  -> p people t\n",
            "41 p people t ->  people to\n",
            "42  people to -> people tog\n",
            "43 people tog -> eople toge\n",
            "44 eople toge -> ople toget\n",
            "45 ople toget -> ple togeth\n",
            "46 ple togeth -> le togethe\n",
            "47 le togethe -> e together\n",
            "48 e together ->  together \n",
            "49  together  -> together t\n",
            "50 together t -> ogether to\n",
            "51 ogether to -> gether to \n",
            "52 gether to  -> ether to c\n",
            "53 ether to c -> ther to co\n",
            "54 ther to co -> her to col\n",
            "55 her to col -> er to coll\n",
            "56 er to coll -> r to colle\n",
            "57 r to colle ->  to collec\n",
            "58  to collec -> to collect\n",
            "59 to collect -> o collect \n",
            "60 o collect  ->  collect w\n",
            "61  collect w -> collect wo\n",
            "62 collect wo -> ollect woo\n",
            "63 ollect woo -> llect wood\n",
            "64 llect wood -> lect wood \n",
            "65 lect wood  -> ect wood a\n",
            "66 ect wood a -> ct wood an\n",
            "67 ct wood an -> t wood and\n",
            "68 t wood and ->  wood and \n",
            "69  wood and  -> wood and d\n",
            "70 wood and d -> ood and do\n",
            "71 ood and do -> od and don\n",
            "72 od and don -> d and don'\n",
            "73 d and don' ->  and don't\n",
            "74  and don't -> and don't \n",
            "75 and don't  -> nd don't a\n",
            "76 nd don't a -> d don't as\n",
            "77 d don't as ->  don't ass\n",
            "78  don't ass -> don't assi\n",
            "79 don't assi -> on't assig\n",
            "80 on't assig -> n't assign\n",
            "81 n't assign -> 't assign \n",
            "82 't assign  -> t assign t\n",
            "83 t assign t ->  assign th\n",
            "84  assign th -> assign the\n",
            "85 assign the -> ssign them\n",
            "86 ssign them -> sign them \n",
            "87 sign them  -> ign them t\n",
            "88 ign them t -> gn them ta\n",
            "89 gn them ta -> n them tas\n",
            "90 n them tas ->  them task\n",
            "91  them task -> them tasks\n",
            "92 them tasks -> hem tasks \n",
            "93 hem tasks  -> em tasks a\n",
            "94 em tasks a -> m tasks an\n",
            "95 m tasks an ->  tasks and\n",
            "96  tasks and -> tasks and \n",
            "97 tasks and  -> asks and w\n",
            "98 asks and w -> sks and wo\n",
            "99 sks and wo -> ks and wor\n",
            "100 ks and wor -> s and work\n",
            "101 s and work ->  and work,\n",
            "102  and work, -> and work, \n",
            "103 and work,  -> nd work, b\n",
            "104 nd work, b -> d work, bu\n",
            "105 d work, bu ->  work, but\n",
            "106  work, but -> work, but \n",
            "107 work, but  -> ork, but r\n",
            "108 ork, but r -> rk, but ra\n",
            "109 rk, but ra -> k, but rat\n",
            "110 k, but rat -> , but rath\n",
            "111 , but rath ->  but rathe\n",
            "112  but rathe -> but rather\n",
            "113 but rather -> ut rather \n",
            "114 ut rather  -> t rather t\n",
            "115 t rather t ->  rather te\n",
            "116  rather te -> rather tea\n",
            "117 rather tea -> ather teac\n",
            "118 ather teac -> ther teach\n",
            "119 ther teach -> her teach \n",
            "120 her teach  -> er teach t\n",
            "121 er teach t -> r teach th\n",
            "122 r teach th ->  teach the\n",
            "123  teach the -> teach them\n",
            "124 teach them -> each them \n",
            "125 each them  -> ach them t\n",
            "126 ach them t -> ch them to\n",
            "127 ch them to -> h them to \n",
            "128 h them to  ->  them to l\n",
            "129  them to l -> them to lo\n",
            "130 them to lo -> hem to lon\n",
            "131 hem to lon -> em to long\n",
            "132 em to long -> m to long \n",
            "133 m to long  ->  to long f\n",
            "134  to long f -> to long fo\n",
            "135 to long fo -> o long for\n",
            "136 o long for ->  long for \n",
            "137  long for  -> long for t\n",
            "138 long for t -> ong for th\n",
            "139 ong for th -> ng for the\n",
            "140 ng for the -> g for the \n",
            "141 g for the  ->  for the e\n",
            "142  for the e -> for the en\n",
            "143 for the en -> or the end\n",
            "144 or the end -> r the endl\n",
            "145 r the endl ->  the endle\n",
            "146  the endle -> the endles\n",
            "147 the endles -> he endless\n",
            "148 he endless -> e endless \n",
            "149 e endless  ->  endless i\n",
            "150  endless i -> endless im\n",
            "151 endless im -> ndless imm\n",
            "152 ndless imm -> dless imme\n",
            "153 dless imme -> less immen\n",
            "154 less immen -> ess immens\n",
            "155 ess immens -> ss immensi\n",
            "156 ss immensi -> s immensit\n",
            "157 s immensit ->  immensity\n",
            "158  immensity -> immensity \n",
            "159 immensity  -> mmensity o\n",
            "160 mmensity o -> mensity of\n",
            "161 mensity of -> ensity of \n",
            "162 ensity of  -> nsity of t\n",
            "163 nsity of t -> sity of th\n",
            "164 sity of th -> ity of the\n",
            "165 ity of the -> ty of the \n",
            "166 ty of the  -> y of the s\n",
            "167 y of the s ->  of the se\n",
            "168  of the se -> of the sea\n",
            "169 of the sea -> f the sea.\n"
          ]
        }
      ]
    },
    {
      "cell_type": "code",
      "source": [
        "print(x_data[0])\n",
        "print(y_data[0])"
      ],
      "metadata": {
        "colab": {
          "base_uri": "https://localhost:8080/"
        },
        "id": "Vtdz-ZtuerpK",
        "outputId": "9f190319-0493-4de2-cb30-ffd23002fe53"
      },
      "execution_count": 9,
      "outputs": [
        {
          "output_type": "stream",
          "name": "stdout",
          "text": [
            "[7, 8, 0, 15, 2, 16, 0, 23, 18, 24]\n",
            "[8, 0, 15, 2, 16, 0, 23, 18, 24, 21]\n"
          ]
        }
      ]
    },
    {
      "cell_type": "code",
      "source": [
        "import numpy as np\n",
        "\n",
        "x_one_hot=[np.eye(dic_size)[x] for x in x_data] # x 데이터는 원-핫 인코딩\n",
        "X=torch.FloatTensor(x_one_hot)\n",
        "Y=torch.LongTensor(y_data)"
      ],
      "metadata": {
        "colab": {
          "base_uri": "https://localhost:8080/"
        },
        "id": "AoMLNhxHew6p",
        "outputId": "20f802b9-83c0-41bb-d04e-5be9dae1c9ad"
      },
      "execution_count": 11,
      "outputs": [
        {
          "output_type": "stream",
          "name": "stderr",
          "text": [
            "/usr/local/lib/python3.7/dist-packages/ipykernel_launcher.py:4: UserWarning: Creating a tensor from a list of numpy.ndarrays is extremely slow. Please consider converting the list to a single numpy.ndarray with numpy.array() before converting to a tensor. (Triggered internally at  ../torch/csrc/utils/tensor_new.cpp:201.)\n",
            "  after removing the cwd from sys.path.\n"
          ]
        }
      ]
    },
    {
      "cell_type": "code",
      "source": [
        "print('훈련 데이터의 크기 : {}'.format(X.shape))\n",
        "print('레이블의 크기 : {}'.format(Y.shape))"
      ],
      "metadata": {
        "colab": {
          "base_uri": "https://localhost:8080/"
        },
        "id": "EMIqlsZmfRp3",
        "outputId": "b5909e03-01c4-4f45-d491-831654b4a80d"
      },
      "execution_count": 13,
      "outputs": [
        {
          "output_type": "stream",
          "name": "stdout",
          "text": [
            "훈련 데이터의 크기 : torch.Size([170, 10, 25])\n",
            "레이블의 크기 : torch.Size([170, 10])\n"
          ]
        }
      ]
    },
    {
      "cell_type": "code",
      "source": [
        "print(X[0])"
      ],
      "metadata": {
        "colab": {
          "base_uri": "https://localhost:8080/"
        },
        "id": "vo-I122pgcvs",
        "outputId": "8f60bddf-5ec4-49a9-b981-d45f681c92dc"
      },
      "execution_count": 14,
      "outputs": [
        {
          "output_type": "stream",
          "name": "stdout",
          "text": [
            "tensor([[0., 0., 0., 0., 0., 0., 0., 1., 0., 0., 0., 0., 0., 0., 0., 0., 0., 0.,\n",
            "         0., 0., 0., 0., 0., 0., 0.],\n",
            "        [0., 0., 0., 0., 0., 0., 0., 0., 1., 0., 0., 0., 0., 0., 0., 0., 0., 0.,\n",
            "         0., 0., 0., 0., 0., 0., 0.],\n",
            "        [1., 0., 0., 0., 0., 0., 0., 0., 0., 0., 0., 0., 0., 0., 0., 0., 0., 0.,\n",
            "         0., 0., 0., 0., 0., 0., 0.],\n",
            "        [0., 0., 0., 0., 0., 0., 0., 0., 0., 0., 0., 0., 0., 0., 0., 1., 0., 0.,\n",
            "         0., 0., 0., 0., 0., 0., 0.],\n",
            "        [0., 0., 1., 0., 0., 0., 0., 0., 0., 0., 0., 0., 0., 0., 0., 0., 0., 0.,\n",
            "         0., 0., 0., 0., 0., 0., 0.],\n",
            "        [0., 0., 0., 0., 0., 0., 0., 0., 0., 0., 0., 0., 0., 0., 0., 0., 1., 0.,\n",
            "         0., 0., 0., 0., 0., 0., 0.],\n",
            "        [1., 0., 0., 0., 0., 0., 0., 0., 0., 0., 0., 0., 0., 0., 0., 0., 0., 0.,\n",
            "         0., 0., 0., 0., 0., 0., 0.],\n",
            "        [0., 0., 0., 0., 0., 0., 0., 0., 0., 0., 0., 0., 0., 0., 0., 0., 0., 0.,\n",
            "         0., 0., 0., 0., 0., 1., 0.],\n",
            "        [0., 0., 0., 0., 0., 0., 0., 0., 0., 0., 0., 0., 0., 0., 0., 0., 0., 0.,\n",
            "         1., 0., 0., 0., 0., 0., 0.],\n",
            "        [0., 0., 0., 0., 0., 0., 0., 0., 0., 0., 0., 0., 0., 0., 0., 0., 0., 0.,\n",
            "         0., 0., 0., 0., 0., 0., 1.]])\n"
          ]
        }
      ]
    },
    {
      "cell_type": "code",
      "source": [
        "print(Y[0])"
      ],
      "metadata": {
        "colab": {
          "base_uri": "https://localhost:8080/"
        },
        "id": "sx1LWrPCgfDJ",
        "outputId": "1a016e6b-e477-43ab-ab31-4de01039ab3e"
      },
      "execution_count": 15,
      "outputs": [
        {
          "output_type": "stream",
          "name": "stdout",
          "text": [
            "tensor([ 8,  0, 15,  2, 16,  0, 23, 18, 24, 21])\n"
          ]
        }
      ]
    },
    {
      "cell_type": "markdown",
      "source": [
        "## 모델 구현"
      ],
      "metadata": {
        "id": "nxyWgOl5gms6"
      }
    },
    {
      "cell_type": "code",
      "source": [
        "class Net(torch.nn.Module):\n",
        "  def __init__(self,input_dim,hidden_dim,layers):\n",
        "    super(Net,self).__init__()\n",
        "    self.rnn=torch.nn.RNN(input_dim,hidden_dim,num_layers=layers,batch_first=True)\n",
        "    self.fc=torch.nn.Linear(hidden_dim,hidden_dim,bias=True)\n",
        "\n",
        "  def forward(self,x):\n",
        "    x,_status=self.rnn(x)\n",
        "    x=self.fc(x)\n",
        "    return x"
      ],
      "metadata": {
        "id": "45zFM4_fglnx"
      },
      "execution_count": 16,
      "outputs": []
    },
    {
      "cell_type": "code",
      "source": [
        "net=Net(dic_size,hidden_size,2)#층 두개 쌓기"
      ],
      "metadata": {
        "id": "uYIBb8dqjmdx"
      },
      "execution_count": 17,
      "outputs": []
    },
    {
      "cell_type": "code",
      "source": [
        "criterion=torch.nn.CrossEntropyLoss()\n",
        "optimizer=optim.Adam(net.parameters(),learning_rate)"
      ],
      "metadata": {
        "id": "ySufgJ5TjxeH"
      },
      "execution_count": 22,
      "outputs": []
    },
    {
      "cell_type": "code",
      "source": [
        "outputs=net(X)\n",
        "print(outputs.shape)"
      ],
      "metadata": {
        "colab": {
          "base_uri": "https://localhost:8080/"
        },
        "id": "J-B0Ml82j5FJ",
        "outputId": "6675cf1e-c0db-4423-d7c5-0790bccf0d0d"
      },
      "execution_count": 19,
      "outputs": [
        {
          "output_type": "stream",
          "name": "stdout",
          "text": [
            "torch.Size([170, 10, 25])\n"
          ]
        }
      ]
    },
    {
      "cell_type": "markdown",
      "source": [
        "(170, 10, 25)의 크기를 가지는데 각각 배치 차원, 시점(timesteps), 출력의 크기입니다. 나중에 정확도를 측정할 때는 이를 모두 펼쳐서 계산하게 되는데, 이때는 view를 사용하여 배치 차원과 시점 차원을 하나로 만듭니다"
      ],
      "metadata": {
        "id": "a-vy2qSUkdsq"
      }
    },
    {
      "cell_type": "code",
      "source": [
        "print(outputs.view(-1, dic_size).shape) # 2차원 텐서로 변환."
      ],
      "metadata": {
        "colab": {
          "base_uri": "https://localhost:8080/"
        },
        "id": "2jtjQqYkj7pa",
        "outputId": "47466dfb-3e53-4e2a-8baf-1b3e5a2cf6fb"
      },
      "execution_count": 20,
      "outputs": [
        {
          "output_type": "stream",
          "name": "stdout",
          "text": [
            "torch.Size([1700, 25])\n"
          ]
        }
      ]
    },
    {
      "cell_type": "code",
      "source": [
        "print(Y.shape)\n",
        "print(Y.view(-1).shape)"
      ],
      "metadata": {
        "colab": {
          "base_uri": "https://localhost:8080/"
        },
        "id": "8OXt-GJXkgy-",
        "outputId": "35fe55ce-4a8c-4ee1-fcf3-18557de99e37"
      },
      "execution_count": 21,
      "outputs": [
        {
          "output_type": "stream",
          "name": "stdout",
          "text": [
            "torch.Size([170, 10])\n",
            "torch.Size([1700])\n"
          ]
        }
      ]
    },
    {
      "cell_type": "code",
      "source": [
        "for i in range(100):\n",
        "  optimizer.zero_grad()\n",
        "  outputs=net(X)# (170, 10, 25) 크기를 가진 텐서를 매 에포크마다 모델의 입력으로 사용\n",
        "  loss=criterion(outputs.view(-1,dic_size),Y.view(-1))\n",
        "  loss.backward()\n",
        "  optimizer.step()\n",
        "\n",
        "  #results의 텐서 크기는 (170,10)\n",
        "  results=outputs.argmax(dim=2)\n",
        "  predict_str=\"\"\n",
        "  for j,result in enumerate(results):\n",
        "    if j==0:\n",
        "      predict_str+=''.join([char_set[t] for t in result])\n",
        "    else:\n",
        "      predict_str+=char_set[result[-1]]\n",
        "\n",
        "  print(predict_str)"
      ],
      "metadata": {
        "colab": {
          "base_uri": "https://localhost:8080/"
        },
        "id": "Ib2VKpWekiSn",
        "outputId": "7ccf7102-f985-413f-9a70-03a7ac6e1949"
      },
      "execution_count": 24,
      "outputs": [
        {
          "output_type": "stream",
          "name": "stdout",
          "text": [
            "'rr'''rro''r'orro'''''o'o'''r'''o'o'''''''''o''''''o'r''r'''orro''''ooro''''o'''''o'o'oro''o''r'o''r''o'o''ro''''ro'r''''r'''o'''o'or'o'or'''oroo''''r'''''''ro'ooo'''''''oro'r''o'\n",
            "odddddddddddddddddddddddddddddddddddddddddddddddddddddddddddddddddddddddddddddddddddddddddddddddddddddddddddddddddddddddddddddddddddddddddddddddddddddddddddddddddddddddddddddddddd\n",
            "ooooooooooooooooooooooooooooooooooooooooooooooooooooooooooooooooooooooooooooooooooooooooooooooooooooooooooooooooooooooooooooooooooooooooooooooooooooooooooooooooooooooooooooooooooo\n",
            "tuc,o l,csccnccnsc,c,nsn,cnotc,,cot,,non,ccnncccncn,,noosccn,cnso,cnncc,notn,ccnnnnn,,cnon,cn,cnno,cnnnn,ccc,cnnc,cnos,cnc,cn,,cntc,cncn,cnnoncnc,oon,cnsn,nnnnc,,ntnc,nccccnc,cnnn\n",
            "d,o d,n  '   '  i    d,i   ii    i,n   '    i      ii ip'  k,p  ',  p,  i ,     ii      i,   i   k,  p,i  i i       i'   ,n  ,   ',     ', im   k  i,   p'   '     ,    i i  i,   i\n",
            "dso meo mee  e  ed    eee  et     ee   t    e    meee  nee het  le   e    ee    ee       e       oe   ee             e   e  he   le l  het eoe  ne ee   me   e ee  e    t  l ee   e\n",
            "  i  eb ne   et  t    lheth t     t m tt    h  t    t  te.ttet  te   t  t to  th t  t   te    t the   te  th    t    h   l tt l  th t t  t  o t    he   te    tt   t    t  t  t   e\n",
            "e i  t     t  t  t     e t  t     t s  t  t    e i  t  el t  t ttet  t    teht          t     t to t  tee toei  t        t t  t tt t  tett    t      li et    to e e    t    nt   l\n",
            "eri et  erttr t  lr t t  tr t rt  tl t tltttr t  t  l   r t  l  llr  trrt tlrttrrtt tl ttr t  r t ti  tr ttrrct tr t rl  t t  i  l    t el  ltt rtt  l   t r ttlrttrtt et td el   l\n",
            " rt   t e   re   lrsd     r toe   al t t  t   t     dt  rhth theleh  t r  te  to    ar   r th r  o t  lo   e t  ar thoar   t  t  ao t to t  t   r t  t   tunt  l        t  l  r   d\n",
            " rt  eton  toec  lo toe ed  toe  odl t aoet  ee  to et  r toet eaen  tor  to  toe   ao  to  h a  oe   an ttoet  ao   oar   toet  aoe  toeto d tor toe t  tont  oe   eo  t et n th l\n",
            "luto eto   doechiaontoe e t toe  odr i aoek oer  toee  er toecheaontotor  tos toe thao  tr the  toe   an  ton   ao  toar t toe   ahe  aoeto   ton toemto ion  don   eor t elhn to a\n",
            "lnto ito   doecoilonthdh  t dhn todos  ao   nitontoed oen tonchionntotant ood ton toaos tndtoe  ton i aod ton   do  todhes tonch ao   tonco   ton themtoiion ida   ei n to ton to  \n",
            "lnto  ton  toncodln thdhdpt ton t dos  aotp r oonth   odr wontotlentotant aod ton t dos dndto   tonks aod ton towod todh m todlu ah   tonton  ton thn todlos  dnn  tita a  loe todl\n",
            "pnthdtto   tonlhdlr thth pthton t tos  totpan u nthe   er tonto le t tont aod ton totos dndto   tonk  wod ton towod wadher toslh th m tonto t ton th  todlos  dns    taer  lh ltotp\n",
            "pnto  tae  tonth la tnth pa ton't tp   a  po  renther  e  to th le t tonc ted ton't ans an to   tonk  tnd ton't to  tadher to ch to m tonto t tonkthemthtles  tn      aer  th  totp\n",
            "pntoe tne  toeth laeanth py ton't am   ae pa trenther  e  to th lect tanm ted ton't ans tn to m to k  ans ton't ao  tadher to ch th m to toer tor themtot en  ta   e taere toerth p\n",
            "pnthemtoes toeth tasrndh pu ton'thdo k a  paetlenthe t er toeth lect torm aes aon'thans an them to '  ans tor't ao  tmd em to ch them to toet tor themthdlers tm   s taere themth m\n",
            "pnth mtaes doeth ta rsdh pu ton't do k a  ta  lenthe ther theth lecs tonm aes don't ans ansthem ton'  ans dor't ao  dmdhem to ch lhem toncee' tor themthdlens tos ns taere therthdl\n",
            "pntoectaes doech la tnthilu don't dosk u  aansle toe t ersthech lecs tonc amd don't dns tnsthem to k  ans don't and tudhem to ch lhem toecee' ton themthdlems tms ns taere therehdl\n",
            "pnton tunt doecuila tnthilu don't douk u  aa sle toe t er toecu lecs tonc and don't dns tnsther to k  and don', aod duther to co lhem toecong ton thert dlens tos ns tu re toere dl\n",
            "pnton tant to cuilu dnthip, don't douk up aa ile toe t er toecu lect tonc and ton't dns gnsther to ki and wonk, aod aather to co thec to co g ton themt dlens to  ns tu re toerthdl\n",
            "pnto  tant to cuiln dothip, don't doum up aa ilentoe t er to ch lect don  and ton't ans gn toem to k, and donk, aot aother to ch l e  to long ton themeydlens to  ns tu re the thtl\n",
            "pnto itunt toecuilu anship, don't aoum upepanile toenther to cu lent toncodnt wongt ansignkthem to ks and tonk, aud anth r to cu them to cong ton themendlens tou ns tu ye toemehtl\n",
            "pnto itand to cuila anship, don't aoum up pen lentoenther to cu lect tong a t won't ansilnkthem to k, and wonk, aut aother to c, lhem to cong ton themendlen  tos ns ty ye toems tl\n",
            "pnto ttand to buipa anship, don't aoum yp pen lenthegther to co lect aong aot won't ansign them tosk, and wonk, aot aothe  tonch lhem to long tor the endlens tou rs tu ye the s to\n",
            "p eo ttand to buipe anship, don't aoum up penple todgther to co lent tong a t won't ansign them tosks and wonk, aut wathem to ch them to lont tor themendlens tou rs tu ae thems tl\n",
            "p eo ltant to buipe anship, don't aoum up penple todether to co lent tond dnd won't ansign them to ks and wonk, but aathem to ch them to bont tor themendless touers tu ae toems tl\n",
            "pneo mtant to builo dnship, don't aoum up pentoe todgther to bo lect worl and don't ansign them tosks and dork, but aather tonch them to lont tor the sndless wmuers tu ae the s tl\n",
            "pneo mtant to build dnship, don't arum up pensle toggther to collect wonm wnd don't ansign them tosks and dork, but aath r tonch them to long for the sndless wmuersitu af the shtn\n",
            "pneo mtant to cuild d ship, don't aoum up penple together to collect wond wnd don't ansign them tosks and donk, but dather tonch them to cong for themendless wmuersitu af the s tn\n",
            "lneo mtant to cuild a ship, don't aoum up penple together to collect wond and don't assign them to ks and wonk, but dather to ch them to cong for themendless imsersitu of toemsedo\n",
            "lneo  tant to build a ship, don't arum up pen le together to lollect wond and don't assign them to ks and dork, but auther tosch them to long for themendless imsersity of toemsedl\n",
            "lndou tant to build a ship, don't arum up penple together to collect wond and don't assign them tosks and dork, but ruther tosch them to long for themendless imsersity of the s gl\n",
            "lndou want to build a ship, don't arum up penple together to collect wond and don't assign them to ks and work, but ruther tosch the  to long for themsndless imuersity of the s gl\n",
            "lndou want to cuild a ship, don't arum up penple together to collect wond and don't assign them to ks and work, but rather toach them to long for themendless imuersity of the e gl\n",
            "lndou want to build a ship, don't arum up penple together to collect wond and don't assign them tosks and dork, but rather toach them to long for themendless immersity of the e dr\n",
            "lndou want to build a ship, don't drum up penple together to collect wond and don't dssign them tosks and dork, but rather toach them to long for the endless immersity of the sedr\n",
            "l bou want to build a ship, don't drum up people together to collect wond and don't dssign them tosks and dork, but rather toach them to long for the sndless immersity of the sear\n",
            "l bou want to build a ship, don't drum up people together to collect wond and don't dssign them tosks and work, but rather toach them to long for themendless immersity of themsetr\n",
            "l bou want to build a ship, don't drum up people together to collect wond and don't dssign them tosks and work, but rather toach them to long for themendless immersity of the eet \n",
            "l aou want to build a ship, don't drum up people together to collect wond and don't dssign them tosks and work, but rather toach them to long for the endless immersity of the sea \n",
            "l aou want to build a ship, don't drum up people together to collect wood and don't dssign them tosks and dork, but rather teach them to long for the endless immersity of the sea \n",
            "l aou want to build a ship, don't drum up people together to collect wood and don't dssign them tosks and work, but rather toach them to long for themendless immersity of the sea.\n",
            "l bou want to build a ship, don't drum up people together to collect wood and don't dssign them tosks and work, but rather toach them to long for themendless immersity of the sea.\n",
            "l bou want to build a ship, don't drum up people together to collect wond and don't dssign them tosks and work, but rather teach them to long for themendless immensity of the sea.\n",
            "l aou want to build a ship, don't arum up people together te collect wond and don't assign them tosks and work, but rather teach them to long for the endless immensity of the sea.\n",
            "l aou want to build a ship, don't arum up people together te collect wood and don't assign them tosks and work, but rather teach them to long for the endless immensity of the sea.\n",
            "l aou want to build a ship, don't drum up people together te collect wood and don't assign them tosks and work, but rather teach them to long for the endless immensity of the sea.\n",
            "l aou want to build a ship, don't drum up people together te collect wood and don't dssign them tosks and work, but rather teach them to long for the endless immensity of the sea.\n",
            "l bou want to build a ship, don't drum up people together to collect wood and don't dssign them tosks and work, but rather toach them to long for the endless immensity of the sea.\n",
            "l bou want to build a ship, don't drum up people together to collect wood and don't dssign them tosks and work, but rather toach them to long for the endless immensity of the sea.\n",
            "l bou want to build a ship, don't drum up people together to collect wood and don't dssign them tosks and work, but rather toach them to long for the endless immensity of the sea.\n",
            "l bou want to build a ship, don't drum up people together to collect wood and don't assign them tosks and work, but rather toach them to long for the endless immensity of the sea.\n",
            "l bou want to build a ship, don't drum up people together to collect wood and don't assign them tosks and work, but rather toach them to long for the endless immensity of the sea.\n",
            "l bou want to build a ship, don't drum up people together to collect wood and don't assign them tosks and work, but rather toach them to long for the endless immensity of the sea.\n",
            "l bou want to build a ship, don't drum up people together to collect wood and don't dssign them tosks and work, but rather teach them to long for the sndless immensity of the sea.\n",
            "l aou want to build a ship, don't drum up people together to collect wood and don't assign them tosks and work, but rather toach them to long for the endless immensity of the eea.\n",
            "l aou want to build a ship, don't arum up people together to collect wood and don't assign them tosks and work, but rather teach them to long for the sndless immensity of the sea.\n",
            "l bou want to build a ship, don't drum up people together to collect wood and don't assign them tosks and work, but rather toach them to cong for the endless immensity of the sea.\n",
            "l bou want to build a ship, don't drum up people together to lollect wood and don't assign them tosks and work, but rather teach them to long for the endless immensity of the eea.\n",
            "l tou want to build a ship, don't drum up people together te collect wood and don't dssign them tosks and work, but rather teach them to long for the endless immensity of the sea.\n",
            "l aou want to build a ship, don't drum up people together te collect wood and don't assign them tosks and work, but rather teach them to long for the endless immensity ofsthe sea.\n",
            "l aou want to build a ship, don't drum up people together te collect wood and don't assign them tosks and work, but rather teach them to long for the endless immensity of the seaa\n",
            "f aou want to build a ship, don't drum up people together to lollect wood and don't assign them tosks and wor , but rather toach them to long for the endless immensity of the seas\n",
            "f aou want to build a ship, don't drum up people together te collect wood and don't assign them tosks and work, but rather teach them to long for the endless immensity of the sea.\n",
            "f aou want to build a ship, don't drum up people together te collect wood and don't assign them tosks and work, but rath r teach them ta cong for the endless immensity of the sia.\n",
            "l pou want to build a ship, don't drum up people together te collect wood and don't assign them tesks and work, but rather teach them te leng for the endle s immensity of the sia.\n",
            "l pou want to build a ship, don't drum up people together to lollect wood and don't dssign them tosks and wark, but rather toach them to long for the endless immensity of the sia.\n",
            "l pou want to build a ship, don't drum up peoplestogether to collect wood and don't assign them tosks and work, but rather toach them to long for themendless immensity of the sea.\n",
            "p tou want to build a ship, don't arum up people thgether te collect wood and don't assign them tosks and work, but rather teach them wo long for the endless immensity of the sea.\n",
            "luaou want to build a ship, don't arum up people together te collect wood and won't assign the  tosks and work, but rather teach them to long for the endless immensity of the sea.\n",
            "luaou want to build a ship, don't drum up people together te collect wood and don't dssign them tosks and work, but rather teach them to long for the endless immensity of the sea.\n",
            "l aou want to build a ship, don't drum up people together te collect wood and don't dssign them tosks and work, but rather teach them to long for the endless immensity of the sea.\n",
            "g aou want to build a ship, don't drum up people together te collect wood and don't dssign them tosks and work, but rather teach them to long for the endless immensity of the sea.\n",
            "g aou want to build a ship, don't drum up people together te collect wood and don't dssign them tosks and work, but rather teach them to long for the endless immensity of the sea.\n",
            "g aou want to build a ship, don't drum up people together te collect wood and don't assign them tosks and work, but rather teach them to long for the endless immensity of the sea.\n",
            "g aou want to build a ship, don't arum up people together te collect wood and don't assign them tosks and work, but rather teach them to long for the endless immensity of the sea.\n",
            "g aou want to build a ship, don't arum up people together te collect wood and don't assign them tosks and work, but rather teach them to long for the endless immensity of the sea.\n",
            "l pou want to build a ship, don't arum up people together te collect wood and don't assign them tosks and work, but rather teach them to long for the endless immensity of the sea.\n",
            "l pou want to build a ship, don't arum up people together te collect wood and don't assign them tosks and work, but rather teach them to long for the endless immensity of the sea.\n",
            "l pou want to build a ship, don't arum up people together te collect wood and don't assign them tosks and work, but rather teach them to long for the endless immensity of the sea.\n",
            "l you want to build a ship, don't arum up people together te collect wood and don't assign them tosks and work, but rather teach them to long for the endless immensity of the sea.\n",
            "l you want to build a ship, don't arum up people together te collect wood and don't assign them tasks and work, but rather teach them ta long for the endless immensity of the sea.\n",
            "l you want to build a ship, don't drum up people together te collect wood and don't assign them tasks and work, but rather teach them ta long for the endless immensity of the sea.\n",
            "l you want to build a ship, don't drum up people together te collect wood and don't assign them tasks and work, but rather teach them ta long for the endless immensity of the sea.\n",
            "p you want to build a ship, don't drum up people together te collect wood and don't assign them tasks and work, but rather teach them to long for the endless immensity of the sea.\n",
            "g you want to build a ship, don't drum up people together te collect wood and don't assign them tosks and work, but rather teach them to long for the endless immensity of the sea.\n",
            "g you want to build a ship, don't drum up people together te collect wood and don't assign them tasks and work, but rather teach them to long for the endless immensity of the sea.\n",
            "g you want to build a ship, don't drum up people together te collect wood and don't assign them tasks and work, but rather teach them ta long for the endless immensity of the sea.\n",
            "g you want to build a ship, don't drum up people together te collect wood and don't assign them tasks and work, but rather teach them ta long for the endless immensity of the sea.\n",
            "l you want to build a ship, don't drum up people together te collect wood and don't assign them tasks and work, but rather teach them to long for the endless immensity of the sea.\n",
            "l you want to build a ship, don't drum up people together te collect wood and don't assign them tasks and work, but rather teach them ta long for the endless immensity of the sea.\n",
            "l you want to build a ship, don't drum up people together te collect wood and don't assign them tasks and work, but rather teach them to long for the endless immensity of the sea.\n",
            "l you want to build a ship, don't drum up people together te collect wood and don't assign them tasks and work, but rather teach them ta long for the endless immensity of the sea.\n",
            "l you want to build a ship, don't arum up people together te collect wood and don't assign them tasks and work, but rather teach them to long for the endless immensity of the sea.\n",
            "l you want to build a ship, don't drum up people together te collect wood and don't assign them tasks and work, but rather teach them ta long for the endless immensity of the sea.\n",
            "l you want to build a ship, don't drum up people together te collect wood and don't assign them tasks and work, but rather teach them ta long for the endless immensity of the sea.\n",
            "l you want to build a ship, don't drum up people together te collect wood and don't assign them tasks and work, but rather teach them to long for the endless immensity of the sea.\n",
            "l you want to build a ship, don't drum up people together te collect wood and don't assign them tasks and work, but rather teach them to long for the endless immensity of the sea.\n"
          ]
        }
      ]
    },
    {
      "cell_type": "code",
      "source": [
        ""
      ],
      "metadata": {
        "id": "Ju3dBNjJlH2I"
      },
      "execution_count": null,
      "outputs": []
    }
  ]
}