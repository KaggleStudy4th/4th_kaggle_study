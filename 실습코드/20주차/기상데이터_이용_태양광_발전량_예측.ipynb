{
  "nbformat": 4,
  "nbformat_minor": 0,
  "metadata": {
    "colab": {
      "name": "기상데이터 이용 태양광 발전량 예측.ipynb",
      "provenance": [],
      "authorship_tag": "ABX9TyNDiIsthZmDfbO60xIaFXWW",
      "include_colab_link": true
    },
    "kernelspec": {
      "name": "python3",
      "display_name": "Python 3"
    },
    "language_info": {
      "name": "python"
    }
  },
  "cells": [
    {
      "cell_type": "markdown",
      "metadata": {
        "id": "view-in-github",
        "colab_type": "text"
      },
      "source": [
        "<a href=\"https://colab.research.google.com/github/KaggleStudy4th/4th_kaggle_study/blob/main/%EC%8B%A4%EC%8A%B5%EC%BD%94%EB%93%9C/20%EC%A3%BC%EC%B0%A8/%EA%B8%B0%EC%83%81%EB%8D%B0%EC%9D%B4%ED%84%B0_%EC%9D%B4%EC%9A%A9_%ED%83%9C%EC%96%91%EA%B4%91_%EB%B0%9C%EC%A0%84%EB%9F%89_%EC%98%88%EC%B8%A1.ipynb\" target=\"_parent\"><img src=\"https://colab.research.google.com/assets/colab-badge.svg\" alt=\"Open In Colab\"/></a>"
      ]
    },
    {
      "cell_type": "markdown",
      "source": [
        "# 기상데이터 이용 태양광 발전량 예측"
      ],
      "metadata": {
        "id": "yw5OXoexA76_"
      }
    },
    {
      "cell_type": "code",
      "execution_count": 1,
      "metadata": {
        "id": "t0CsdHj-A52T"
      },
      "outputs": [],
      "source": [
        "import pandas as pd\n",
        "import numpy as np\n",
        "import matplotlib.pyplot as plt\n",
        "import seaborn as sns\n",
        "import os\n",
        "plt.style.use('ggplot')\n",
        "import warnings\n",
        "warnings.filterwarnings('ignore')"
      ]
    },
    {
      "cell_type": "code",
      "source": [
        "os.environ['KAGGLE_USERNAME']='jiinpp'\n",
        "os.environ['KAGGLE_KEY']=\"b06d525a9f66198051ccb648b091778a\""
      ],
      "metadata": {
        "id": "71U9_WubBBCD"
      },
      "execution_count": 2,
      "outputs": []
    },
    {
      "cell_type": "code",
      "source": [
        "!kaggle competitions download -c 2021-ai-w6-p2"
      ],
      "metadata": {
        "colab": {
          "base_uri": "https://localhost:8080/"
        },
        "id": "MMDZxvwhBLmW",
        "outputId": "17eb1a4c-3952-40dd-cf6d-82b2128b914f"
      },
      "execution_count": 3,
      "outputs": [
        {
          "output_type": "stream",
          "name": "stdout",
          "text": [
            "Downloading 2021-ai-w6-p2.zip to /content\n",
            "\r  0% 0.00/152k [00:00<?, ?B/s]\n",
            "\r100% 152k/152k [00:00<00:00, 45.0MB/s]\n"
          ]
        }
      ]
    },
    {
      "cell_type": "code",
      "source": [
        "!unzip '*.zip'"
      ],
      "metadata": {
        "colab": {
          "base_uri": "https://localhost:8080/"
        },
        "id": "MVDK6NI8BMoO",
        "outputId": "31d1f6ee-f5ef-4d03-c923-36589e28c1f3"
      },
      "execution_count": 4,
      "outputs": [
        {
          "output_type": "stream",
          "name": "stdout",
          "text": [
            "Archive:  2021-ai-w6-p2.zip\n",
            "  inflating: X_test.csv              \n",
            "  inflating: sample_submit.csv       \n",
            "  inflating: train.csv               \n"
          ]
        }
      ]
    },
    {
      "cell_type": "code",
      "source": [
        "train=pd.read_csv('train.csv')\n",
        "X_test=pd.read_csv('X_test.csv')\n",
        "sample=pd.read_csv('sample_submit.csv')"
      ],
      "metadata": {
        "id": "bQ-RuMFFBP1W"
      },
      "execution_count": 5,
      "outputs": []
    },
    {
      "cell_type": "code",
      "source": [
        "train.head()"
      ],
      "metadata": {
        "colab": {
          "base_uri": "https://localhost:8080/",
          "height": 206
        },
        "id": "JtOowVCLBUyG",
        "outputId": "4b7bd023-ad53-4216-a141-b85552b8fa3f"
      },
      "execution_count": 6,
      "outputs": [
        {
          "output_type": "execute_result",
          "data": {
            "text/plain": [
              "   Day  Hour  Minute  DHI  DNI   WS     RH   T  TARGET\n",
              "0    0     0       0    0    0  1.5  69.08 -12     0.0\n",
              "1    0     0      30    0    0  1.5  69.06 -12     0.0\n",
              "2    0     1       0    0    0  1.6  71.78 -12     0.0\n",
              "3    0     1      30    0    0  1.6  71.75 -12     0.0\n",
              "4    0     2       0    0    0  1.6  75.20 -12     0.0"
            ],
            "text/html": [
              "\n",
              "  <div id=\"df-185a3931-88d7-4676-93f1-02f651d703a6\">\n",
              "    <div class=\"colab-df-container\">\n",
              "      <div>\n",
              "<style scoped>\n",
              "    .dataframe tbody tr th:only-of-type {\n",
              "        vertical-align: middle;\n",
              "    }\n",
              "\n",
              "    .dataframe tbody tr th {\n",
              "        vertical-align: top;\n",
              "    }\n",
              "\n",
              "    .dataframe thead th {\n",
              "        text-align: right;\n",
              "    }\n",
              "</style>\n",
              "<table border=\"1\" class=\"dataframe\">\n",
              "  <thead>\n",
              "    <tr style=\"text-align: right;\">\n",
              "      <th></th>\n",
              "      <th>Day</th>\n",
              "      <th>Hour</th>\n",
              "      <th>Minute</th>\n",
              "      <th>DHI</th>\n",
              "      <th>DNI</th>\n",
              "      <th>WS</th>\n",
              "      <th>RH</th>\n",
              "      <th>T</th>\n",
              "      <th>TARGET</th>\n",
              "    </tr>\n",
              "  </thead>\n",
              "  <tbody>\n",
              "    <tr>\n",
              "      <th>0</th>\n",
              "      <td>0</td>\n",
              "      <td>0</td>\n",
              "      <td>0</td>\n",
              "      <td>0</td>\n",
              "      <td>0</td>\n",
              "      <td>1.5</td>\n",
              "      <td>69.08</td>\n",
              "      <td>-12</td>\n",
              "      <td>0.0</td>\n",
              "    </tr>\n",
              "    <tr>\n",
              "      <th>1</th>\n",
              "      <td>0</td>\n",
              "      <td>0</td>\n",
              "      <td>30</td>\n",
              "      <td>0</td>\n",
              "      <td>0</td>\n",
              "      <td>1.5</td>\n",
              "      <td>69.06</td>\n",
              "      <td>-12</td>\n",
              "      <td>0.0</td>\n",
              "    </tr>\n",
              "    <tr>\n",
              "      <th>2</th>\n",
              "      <td>0</td>\n",
              "      <td>1</td>\n",
              "      <td>0</td>\n",
              "      <td>0</td>\n",
              "      <td>0</td>\n",
              "      <td>1.6</td>\n",
              "      <td>71.78</td>\n",
              "      <td>-12</td>\n",
              "      <td>0.0</td>\n",
              "    </tr>\n",
              "    <tr>\n",
              "      <th>3</th>\n",
              "      <td>0</td>\n",
              "      <td>1</td>\n",
              "      <td>30</td>\n",
              "      <td>0</td>\n",
              "      <td>0</td>\n",
              "      <td>1.6</td>\n",
              "      <td>71.75</td>\n",
              "      <td>-12</td>\n",
              "      <td>0.0</td>\n",
              "    </tr>\n",
              "    <tr>\n",
              "      <th>4</th>\n",
              "      <td>0</td>\n",
              "      <td>2</td>\n",
              "      <td>0</td>\n",
              "      <td>0</td>\n",
              "      <td>0</td>\n",
              "      <td>1.6</td>\n",
              "      <td>75.20</td>\n",
              "      <td>-12</td>\n",
              "      <td>0.0</td>\n",
              "    </tr>\n",
              "  </tbody>\n",
              "</table>\n",
              "</div>\n",
              "      <button class=\"colab-df-convert\" onclick=\"convertToInteractive('df-185a3931-88d7-4676-93f1-02f651d703a6')\"\n",
              "              title=\"Convert this dataframe to an interactive table.\"\n",
              "              style=\"display:none;\">\n",
              "        \n",
              "  <svg xmlns=\"http://www.w3.org/2000/svg\" height=\"24px\"viewBox=\"0 0 24 24\"\n",
              "       width=\"24px\">\n",
              "    <path d=\"M0 0h24v24H0V0z\" fill=\"none\"/>\n",
              "    <path d=\"M18.56 5.44l.94 2.06.94-2.06 2.06-.94-2.06-.94-.94-2.06-.94 2.06-2.06.94zm-11 1L8.5 8.5l.94-2.06 2.06-.94-2.06-.94L8.5 2.5l-.94 2.06-2.06.94zm10 10l.94 2.06.94-2.06 2.06-.94-2.06-.94-.94-2.06-.94 2.06-2.06.94z\"/><path d=\"M17.41 7.96l-1.37-1.37c-.4-.4-.92-.59-1.43-.59-.52 0-1.04.2-1.43.59L10.3 9.45l-7.72 7.72c-.78.78-.78 2.05 0 2.83L4 21.41c.39.39.9.59 1.41.59.51 0 1.02-.2 1.41-.59l7.78-7.78 2.81-2.81c.8-.78.8-2.07 0-2.86zM5.41 20L4 18.59l7.72-7.72 1.47 1.35L5.41 20z\"/>\n",
              "  </svg>\n",
              "      </button>\n",
              "      \n",
              "  <style>\n",
              "    .colab-df-container {\n",
              "      display:flex;\n",
              "      flex-wrap:wrap;\n",
              "      gap: 12px;\n",
              "    }\n",
              "\n",
              "    .colab-df-convert {\n",
              "      background-color: #E8F0FE;\n",
              "      border: none;\n",
              "      border-radius: 50%;\n",
              "      cursor: pointer;\n",
              "      display: none;\n",
              "      fill: #1967D2;\n",
              "      height: 32px;\n",
              "      padding: 0 0 0 0;\n",
              "      width: 32px;\n",
              "    }\n",
              "\n",
              "    .colab-df-convert:hover {\n",
              "      background-color: #E2EBFA;\n",
              "      box-shadow: 0px 1px 2px rgba(60, 64, 67, 0.3), 0px 1px 3px 1px rgba(60, 64, 67, 0.15);\n",
              "      fill: #174EA6;\n",
              "    }\n",
              "\n",
              "    [theme=dark] .colab-df-convert {\n",
              "      background-color: #3B4455;\n",
              "      fill: #D2E3FC;\n",
              "    }\n",
              "\n",
              "    [theme=dark] .colab-df-convert:hover {\n",
              "      background-color: #434B5C;\n",
              "      box-shadow: 0px 1px 3px 1px rgba(0, 0, 0, 0.15);\n",
              "      filter: drop-shadow(0px 1px 2px rgba(0, 0, 0, 0.3));\n",
              "      fill: #FFFFFF;\n",
              "    }\n",
              "  </style>\n",
              "\n",
              "      <script>\n",
              "        const buttonEl =\n",
              "          document.querySelector('#df-185a3931-88d7-4676-93f1-02f651d703a6 button.colab-df-convert');\n",
              "        buttonEl.style.display =\n",
              "          google.colab.kernel.accessAllowed ? 'block' : 'none';\n",
              "\n",
              "        async function convertToInteractive(key) {\n",
              "          const element = document.querySelector('#df-185a3931-88d7-4676-93f1-02f651d703a6');\n",
              "          const dataTable =\n",
              "            await google.colab.kernel.invokeFunction('convertToInteractive',\n",
              "                                                     [key], {});\n",
              "          if (!dataTable) return;\n",
              "\n",
              "          const docLinkHtml = 'Like what you see? Visit the ' +\n",
              "            '<a target=\"_blank\" href=https://colab.research.google.com/notebooks/data_table.ipynb>data table notebook</a>'\n",
              "            + ' to learn more about interactive tables.';\n",
              "          element.innerHTML = '';\n",
              "          dataTable['output_type'] = 'display_data';\n",
              "          await google.colab.output.renderOutput(dataTable, element);\n",
              "          const docLink = document.createElement('div');\n",
              "          docLink.innerHTML = docLinkHtml;\n",
              "          element.appendChild(docLink);\n",
              "        }\n",
              "      </script>\n",
              "    </div>\n",
              "  </div>\n",
              "  "
            ]
          },
          "metadata": {},
          "execution_count": 6
        }
      ]
    },
    {
      "cell_type": "code",
      "source": [
        "X_test.head()"
      ],
      "metadata": {
        "colab": {
          "base_uri": "https://localhost:8080/",
          "height": 206
        },
        "id": "iAQJwIrxBrgL",
        "outputId": "49317a49-b3a8-4b3f-8726-b10b54b86a82"
      },
      "execution_count": 10,
      "outputs": [
        {
          "output_type": "execute_result",
          "data": {
            "text/plain": [
              "    Day  Hour  Minute  DHI  DNI   WS     RH   T\n",
              "0  1043     7      30   34  584  2.0  63.02   3\n",
              "1  1043     8       0   45  730  2.3  61.54   5\n",
              "2  1043     8      30   52  817  2.4  57.34   6\n",
              "3  1043     9       0   57  878  2.6  52.46   8\n",
              "4  1043     9      30   61  917  2.2  45.74  10"
            ],
            "text/html": [
              "\n",
              "  <div id=\"df-be09672e-f01d-4499-ac3d-83793106a421\">\n",
              "    <div class=\"colab-df-container\">\n",
              "      <div>\n",
              "<style scoped>\n",
              "    .dataframe tbody tr th:only-of-type {\n",
              "        vertical-align: middle;\n",
              "    }\n",
              "\n",
              "    .dataframe tbody tr th {\n",
              "        vertical-align: top;\n",
              "    }\n",
              "\n",
              "    .dataframe thead th {\n",
              "        text-align: right;\n",
              "    }\n",
              "</style>\n",
              "<table border=\"1\" class=\"dataframe\">\n",
              "  <thead>\n",
              "    <tr style=\"text-align: right;\">\n",
              "      <th></th>\n",
              "      <th>Day</th>\n",
              "      <th>Hour</th>\n",
              "      <th>Minute</th>\n",
              "      <th>DHI</th>\n",
              "      <th>DNI</th>\n",
              "      <th>WS</th>\n",
              "      <th>RH</th>\n",
              "      <th>T</th>\n",
              "    </tr>\n",
              "  </thead>\n",
              "  <tbody>\n",
              "    <tr>\n",
              "      <th>0</th>\n",
              "      <td>1043</td>\n",
              "      <td>7</td>\n",
              "      <td>30</td>\n",
              "      <td>34</td>\n",
              "      <td>584</td>\n",
              "      <td>2.0</td>\n",
              "      <td>63.02</td>\n",
              "      <td>3</td>\n",
              "    </tr>\n",
              "    <tr>\n",
              "      <th>1</th>\n",
              "      <td>1043</td>\n",
              "      <td>8</td>\n",
              "      <td>0</td>\n",
              "      <td>45</td>\n",
              "      <td>730</td>\n",
              "      <td>2.3</td>\n",
              "      <td>61.54</td>\n",
              "      <td>5</td>\n",
              "    </tr>\n",
              "    <tr>\n",
              "      <th>2</th>\n",
              "      <td>1043</td>\n",
              "      <td>8</td>\n",
              "      <td>30</td>\n",
              "      <td>52</td>\n",
              "      <td>817</td>\n",
              "      <td>2.4</td>\n",
              "      <td>57.34</td>\n",
              "      <td>6</td>\n",
              "    </tr>\n",
              "    <tr>\n",
              "      <th>3</th>\n",
              "      <td>1043</td>\n",
              "      <td>9</td>\n",
              "      <td>0</td>\n",
              "      <td>57</td>\n",
              "      <td>878</td>\n",
              "      <td>2.6</td>\n",
              "      <td>52.46</td>\n",
              "      <td>8</td>\n",
              "    </tr>\n",
              "    <tr>\n",
              "      <th>4</th>\n",
              "      <td>1043</td>\n",
              "      <td>9</td>\n",
              "      <td>30</td>\n",
              "      <td>61</td>\n",
              "      <td>917</td>\n",
              "      <td>2.2</td>\n",
              "      <td>45.74</td>\n",
              "      <td>10</td>\n",
              "    </tr>\n",
              "  </tbody>\n",
              "</table>\n",
              "</div>\n",
              "      <button class=\"colab-df-convert\" onclick=\"convertToInteractive('df-be09672e-f01d-4499-ac3d-83793106a421')\"\n",
              "              title=\"Convert this dataframe to an interactive table.\"\n",
              "              style=\"display:none;\">\n",
              "        \n",
              "  <svg xmlns=\"http://www.w3.org/2000/svg\" height=\"24px\"viewBox=\"0 0 24 24\"\n",
              "       width=\"24px\">\n",
              "    <path d=\"M0 0h24v24H0V0z\" fill=\"none\"/>\n",
              "    <path d=\"M18.56 5.44l.94 2.06.94-2.06 2.06-.94-2.06-.94-.94-2.06-.94 2.06-2.06.94zm-11 1L8.5 8.5l.94-2.06 2.06-.94-2.06-.94L8.5 2.5l-.94 2.06-2.06.94zm10 10l.94 2.06.94-2.06 2.06-.94-2.06-.94-.94-2.06-.94 2.06-2.06.94z\"/><path d=\"M17.41 7.96l-1.37-1.37c-.4-.4-.92-.59-1.43-.59-.52 0-1.04.2-1.43.59L10.3 9.45l-7.72 7.72c-.78.78-.78 2.05 0 2.83L4 21.41c.39.39.9.59 1.41.59.51 0 1.02-.2 1.41-.59l7.78-7.78 2.81-2.81c.8-.78.8-2.07 0-2.86zM5.41 20L4 18.59l7.72-7.72 1.47 1.35L5.41 20z\"/>\n",
              "  </svg>\n",
              "      </button>\n",
              "      \n",
              "  <style>\n",
              "    .colab-df-container {\n",
              "      display:flex;\n",
              "      flex-wrap:wrap;\n",
              "      gap: 12px;\n",
              "    }\n",
              "\n",
              "    .colab-df-convert {\n",
              "      background-color: #E8F0FE;\n",
              "      border: none;\n",
              "      border-radius: 50%;\n",
              "      cursor: pointer;\n",
              "      display: none;\n",
              "      fill: #1967D2;\n",
              "      height: 32px;\n",
              "      padding: 0 0 0 0;\n",
              "      width: 32px;\n",
              "    }\n",
              "\n",
              "    .colab-df-convert:hover {\n",
              "      background-color: #E2EBFA;\n",
              "      box-shadow: 0px 1px 2px rgba(60, 64, 67, 0.3), 0px 1px 3px 1px rgba(60, 64, 67, 0.15);\n",
              "      fill: #174EA6;\n",
              "    }\n",
              "\n",
              "    [theme=dark] .colab-df-convert {\n",
              "      background-color: #3B4455;\n",
              "      fill: #D2E3FC;\n",
              "    }\n",
              "\n",
              "    [theme=dark] .colab-df-convert:hover {\n",
              "      background-color: #434B5C;\n",
              "      box-shadow: 0px 1px 3px 1px rgba(0, 0, 0, 0.15);\n",
              "      filter: drop-shadow(0px 1px 2px rgba(0, 0, 0, 0.3));\n",
              "      fill: #FFFFFF;\n",
              "    }\n",
              "  </style>\n",
              "\n",
              "      <script>\n",
              "        const buttonEl =\n",
              "          document.querySelector('#df-be09672e-f01d-4499-ac3d-83793106a421 button.colab-df-convert');\n",
              "        buttonEl.style.display =\n",
              "          google.colab.kernel.accessAllowed ? 'block' : 'none';\n",
              "\n",
              "        async function convertToInteractive(key) {\n",
              "          const element = document.querySelector('#df-be09672e-f01d-4499-ac3d-83793106a421');\n",
              "          const dataTable =\n",
              "            await google.colab.kernel.invokeFunction('convertToInteractive',\n",
              "                                                     [key], {});\n",
              "          if (!dataTable) return;\n",
              "\n",
              "          const docLinkHtml = 'Like what you see? Visit the ' +\n",
              "            '<a target=\"_blank\" href=https://colab.research.google.com/notebooks/data_table.ipynb>data table notebook</a>'\n",
              "            + ' to learn more about interactive tables.';\n",
              "          element.innerHTML = '';\n",
              "          dataTable['output_type'] = 'display_data';\n",
              "          await google.colab.output.renderOutput(dataTable, element);\n",
              "          const docLink = document.createElement('div');\n",
              "          docLink.innerHTML = docLinkHtml;\n",
              "          element.appendChild(docLink);\n",
              "        }\n",
              "      </script>\n",
              "    </div>\n",
              "  </div>\n",
              "  "
            ]
          },
          "metadata": {},
          "execution_count": 10
        }
      ]
    },
    {
      "cell_type": "code",
      "source": [
        "X_test.drop('ID',axis=1,inplace=True)"
      ],
      "metadata": {
        "id": "Jj5tMA1fBw2d"
      },
      "execution_count": 7,
      "outputs": []
    },
    {
      "cell_type": "code",
      "source": [
        "X_train=train.drop('TARGET',axis=1)\n",
        "y_train=train['TARGET']"
      ],
      "metadata": {
        "id": "XNS-XJXEJWWr"
      },
      "execution_count": 8,
      "outputs": []
    },
    {
      "cell_type": "code",
      "source": [
        "y_train[:5]"
      ],
      "metadata": {
        "colab": {
          "base_uri": "https://localhost:8080/"
        },
        "id": "ZAdCd29gO18P",
        "outputId": "08c16df9-2ed8-4e74-d469-b9afca0b93e8"
      },
      "execution_count": 45,
      "outputs": [
        {
          "output_type": "execute_result",
          "data": {
            "text/plain": [
              "2119     0.000000\n",
              "8367    41.190163\n",
              "1664     4.129307\n",
              "7997    78.529092\n",
              "3692     0.000000\n",
              "Name: TARGET, dtype: float64"
            ]
          },
          "metadata": {},
          "execution_count": 45
        }
      ]
    },
    {
      "cell_type": "code",
      "source": [
        "col=X_train.columns"
      ],
      "metadata": {
        "id": "FP43gsYkB4Bq"
      },
      "execution_count": 11,
      "outputs": []
    },
    {
      "cell_type": "code",
      "source": [
        "import warnings\n",
        "warnings.filterwarnings(action='ignore')\n",
        "\n",
        "plt.figure(figsize=(12,12))\n",
        "for i,colName in enumerate(col):\n",
        "  plt.subplot(3,4,i+1)\n",
        "  sns.distplot(X_train.loc[:,colName])\n",
        "plt.tight_layout()\n",
        "plt.show()"
      ],
      "metadata": {
        "colab": {
          "base_uri": "https://localhost:8080/",
          "height": 549
        },
        "id": "amyNeaLYDFCC",
        "outputId": "ebd02d9d-9e47-4c7f-a2f7-d94ee0b6d4ec"
      },
      "execution_count": 12,
      "outputs": [
        {
          "output_type": "display_data",
          "data": {
            "text/plain": [
              "<Figure size 864x864 with 8 Axes>"
            ],
            "image/png": "[encoded data removed]"
          },
          "metadata": {
            "needs_background": "light"
          }
        }
      ]
    },
    {
      "cell_type": "code",
      "source": [
        "col=X_train.columns"
      ],
      "metadata": {
        "id": "VNmJiEBKJlQy"
      },
      "execution_count": 13,
      "outputs": []
    },
    {
      "cell_type": "code",
      "source": [
        "from sklearn.preprocessing import StandardScaler\n",
        "\n",
        "st=StandardScaler()\n",
        "\n",
        "for i in col:\n",
        "  X_train[i]=st.fit_transform(X_train[i].values.reshape(-1,1))\n",
        "  X_test[i]=st.transform(X_test[i].values.reshape(-1,1))\n",
        "\n",
        "\n",
        "display(X_train.head())\n",
        "print()\n",
        "display(X_test.head())"
      ],
      "metadata": {
        "colab": {
          "base_uri": "https://localhost:8080/",
          "height": 414
        },
        "id": "GaWXz50JJBiU",
        "outputId": "42a1fd34-8059-47e1-bdb2-639bb7f6d0b8"
      },
      "execution_count": 14,
      "outputs": [
        {
          "output_type": "display_data",
          "data": {
            "text/plain": [
              "        Day      Hour  Minute       DHI       DNI        WS        RH  \\\n",
              "0 -1.723739 -1.658904 -0.9999 -0.648561 -0.627035 -0.641117  0.224291   \n",
              "1 -1.723739 -1.658904  1.0001 -0.648561 -0.627035 -0.641117  0.223381   \n",
              "2 -1.723739 -1.514497 -0.9999 -0.648561 -0.627035 -0.561568  0.347122   \n",
              "3 -1.723739 -1.514497  1.0001 -0.648561 -0.627035 -0.561568  0.345757   \n",
              "4 -1.723739 -1.370089 -0.9999 -0.648561 -0.627035 -0.561568  0.502709   \n",
              "\n",
              "          T  \n",
              "0 -2.113956  \n",
              "1 -2.113956  \n",
              "2 -2.113956  \n",
              "3 -2.113956  \n",
              "4 -2.113956  "
            ],
            "text/html": [
              "\n",
              "  <div id=\"df-b89ea3f8-1af8-4704-b88e-79c096bf51ab\">\n",
              "    <div class=\"colab-df-container\">\n",
              "      <div>\n",
              "<style scoped>\n",
              "    .dataframe tbody tr th:only-of-type {\n",
              "        vertical-align: middle;\n",
              "    }\n",
              "\n",
              "    .dataframe tbody tr th {\n",
              "        vertical-align: top;\n",
              "    }\n",
              "\n",
              "    .dataframe thead th {\n",
              "        text-align: right;\n",
              "    }\n",
              "</style>\n",
              "<table border=\"1\" class=\"dataframe\">\n",
              "  <thead>\n",
              "    <tr style=\"text-align: right;\">\n",
              "      <th></th>\n",
              "      <th>Day</th>\n",
              "      <th>Hour</th>\n",
              "      <th>Minute</th>\n",
              "      <th>DHI</th>\n",
              "      <th>DNI</th>\n",
              "      <th>WS</th>\n",
              "      <th>RH</th>\n",
              "      <th>T</th>\n",
              "    </tr>\n",
              "  </thead>\n",
              "  <tbody>\n",
              "    <tr>\n",
              "      <th>0</th>\n",
              "      <td>-1.723739</td>\n",
              "      <td>-1.658904</td>\n",
              "      <td>-0.9999</td>\n",
              "      <td>-0.648561</td>\n",
              "      <td>-0.627035</td>\n",
              "      <td>-0.641117</td>\n",
              "      <td>0.224291</td>\n",
              "      <td>-2.113956</td>\n",
              "    </tr>\n",
              "    <tr>\n",
              "      <th>1</th>\n",
              "      <td>-1.723739</td>\n",
              "      <td>-1.658904</td>\n",
              "      <td>1.0001</td>\n",
              "      <td>-0.648561</td>\n",
              "      <td>-0.627035</td>\n",
              "      <td>-0.641117</td>\n",
              "      <td>0.223381</td>\n",
              "      <td>-2.113956</td>\n",
              "    </tr>\n",
              "    <tr>\n",
              "      <th>2</th>\n",
              "      <td>-1.723739</td>\n",
              "      <td>-1.514497</td>\n",
              "      <td>-0.9999</td>\n",
              "      <td>-0.648561</td>\n",
              "      <td>-0.627035</td>\n",
              "      <td>-0.561568</td>\n",
              "      <td>0.347122</td>\n",
              "      <td>-2.113956</td>\n",
              "    </tr>\n",
              "    <tr>\n",
              "      <th>3</th>\n",
              "      <td>-1.723739</td>\n",
              "      <td>-1.514497</td>\n",
              "      <td>1.0001</td>\n",
              "      <td>-0.648561</td>\n",
              "      <td>-0.627035</td>\n",
              "      <td>-0.561568</td>\n",
              "      <td>0.345757</td>\n",
              "      <td>-2.113956</td>\n",
              "    </tr>\n",
              "    <tr>\n",
              "      <th>4</th>\n",
              "      <td>-1.723739</td>\n",
              "      <td>-1.370089</td>\n",
              "      <td>-0.9999</td>\n",
              "      <td>-0.648561</td>\n",
              "      <td>-0.627035</td>\n",
              "      <td>-0.561568</td>\n",
              "      <td>0.502709</td>\n",
              "      <td>-2.113956</td>\n",
              "    </tr>\n",
              "  </tbody>\n",
              "</table>\n",
              "</div>\n",
              "      <button class=\"colab-df-convert\" onclick=\"convertToInteractive('df-b89ea3f8-1af8-4704-b88e-79c096bf51ab')\"\n",
              "              title=\"Convert this dataframe to an interactive table.\"\n",
              "              style=\"display:none;\">\n",
              "        \n",
              "  <svg xmlns=\"http://www.w3.org/2000/svg\" height=\"24px\"viewBox=\"0 0 24 24\"\n",
              "       width=\"24px\">\n",
              "    <path d=\"M0 0h24v24H0V0z\" fill=\"none\"/>\n",
              "    <path d=\"M18.56 5.44l.94 2.06.94-2.06 2.06-.94-2.06-.94-.94-2.06-.94 2.06-2.06.94zm-11 1L8.5 8.5l.94-2.06 2.06-.94-2.06-.94L8.5 2.5l-.94 2.06-2.06.94zm10 10l.94 2.06.94-2.06 2.06-.94-2.06-.94-.94-2.06-.94 2.06-2.06.94z\"/><path d=\"M17.41 7.96l-1.37-1.37c-.4-.4-.92-.59-1.43-.59-.52 0-1.04.2-1.43.59L10.3 9.45l-7.72 7.72c-.78.78-.78 2.05 0 2.83L4 21.41c.39.39.9.59 1.41.59.51 0 1.02-.2 1.41-.59l7.78-7.78 2.81-2.81c.8-.78.8-2.07 0-2.86zM5.41 20L4 18.59l7.72-7.72 1.47 1.35L5.41 20z\"/>\n",
              "  </svg>\n",
              "      </button>\n",
              "      \n",
              "  <style>\n",
              "    .colab-df-container {\n",
              "      display:flex;\n",
              "      flex-wrap:wrap;\n",
              "      gap: 12px;\n",
              "    }\n",
              "\n",
              "    .colab-df-convert {\n",
              "      background-color: #E8F0FE;\n",
              "      border: none;\n",
              "      border-radius: 50%;\n",
              "      cursor: pointer;\n",
              "      display: none;\n",
              "      fill: #1967D2;\n",
              "      height: 32px;\n",
              "      padding: 0 0 0 0;\n",
              "      width: 32px;\n",
              "    }\n",
              "\n",
              "    .colab-df-convert:hover {\n",
              "      background-color: #E2EBFA;\n",
              "      box-shadow: 0px 1px 2px rgba(60, 64, 67, 0.3), 0px 1px 3px 1px rgba(60, 64, 67, 0.15);\n",
              "      fill: #174EA6;\n",
              "    }\n",
              "\n",
              "    [theme=dark] .colab-df-convert {\n",
              "      background-color: #3B4455;\n",
              "      fill: #D2E3FC;\n",
              "    }\n",
              "\n",
              "    [theme=dark] .colab-df-convert:hover {\n",
              "      background-color: #434B5C;\n",
              "      box-shadow: 0px 1px 3px 1px rgba(0, 0, 0, 0.15);\n",
              "      filter: drop-shadow(0px 1px 2px rgba(0, 0, 0, 0.3));\n",
              "      fill: #FFFFFF;\n",
              "    }\n",
              "  </style>\n",
              "\n",
              "      <script>\n",
              "        const buttonEl =\n",
              "          document.querySelector('#df-b89ea3f8-1af8-4704-b88e-79c096bf51ab button.colab-df-convert');\n",
              "        buttonEl.style.display =\n",
              "          google.colab.kernel.accessAllowed ? 'block' : 'none';\n",
              "\n",
              "        async function convertToInteractive(key) {\n",
              "          const element = document.querySelector('#df-b89ea3f8-1af8-4704-b88e-79c096bf51ab');\n",
              "          const dataTable =\n",
              "            await google.colab.kernel.invokeFunction('convertToInteractive',\n",
              "                                                     [key], {});\n",
              "          if (!dataTable) return;\n",
              "\n",
              "          const docLinkHtml = 'Like what you see? Visit the ' +\n",
              "            '<a target=\"_blank\" href=https://colab.research.google.com/notebooks/data_table.ipynb>data table notebook</a>'\n",
              "            + ' to learn more about interactive tables.';\n",
              "          element.innerHTML = '';\n",
              "          dataTable['output_type'] = 'display_data';\n",
              "          await google.colab.output.renderOutput(dataTable, element);\n",
              "          const docLink = document.createElement('div');\n",
              "          docLink.innerHTML = docLinkHtml;\n",
              "          element.appendChild(docLink);\n",
              "        }\n",
              "      </script>\n",
              "    </div>\n",
              "  </div>\n",
              "  "
            ]
          },
          "metadata": {}
        },
        {
          "output_type": "stream",
          "name": "stdout",
          "text": [
            "\n"
          ]
        },
        {
          "output_type": "display_data",
          "data": {
            "text/plain": [
              "         Day      Hour  Minute       DHI       DNI        WS        RH  \\\n",
              "0  15.620616 -0.648051  1.0001 -0.362218  1.122351 -0.243372 -0.051398   \n",
              "1  15.620616 -0.503643 -0.9999 -0.269577  1.559697 -0.004726 -0.118728   \n",
              "2  15.620616 -0.503643  1.0001 -0.210625  1.820308  0.074823 -0.309800   \n",
              "3  15.620616 -0.359236 -0.9999 -0.168515  2.003035  0.233921 -0.531807   \n",
              "4  15.620616 -0.359236  1.0001 -0.134828  2.119860 -0.084275 -0.837521   \n",
              "\n",
              "          T  \n",
              "0 -0.548791  \n",
              "1 -0.340103  \n",
              "2 -0.235758  \n",
              "3 -0.027070  \n",
              "4  0.181619  "
            ],
            "text/html": [
              "\n",
              "  <div id=\"df-63724443-ab44-4196-854f-1b98c16632fc\">\n",
              "    <div class=\"colab-df-container\">\n",
              "      <div>\n",
              "<style scoped>\n",
              "    .dataframe tbody tr th:only-of-type {\n",
              "        vertical-align: middle;\n",
              "    }\n",
              "\n",
              "    .dataframe tbody tr th {\n",
              "        vertical-align: top;\n",
              "    }\n",
              "\n",
              "    .dataframe thead th {\n",
              "        text-align: right;\n",
              "    }\n",
              "</style>\n",
              "<table border=\"1\" class=\"dataframe\">\n",
              "  <thead>\n",
              "    <tr style=\"text-align: right;\">\n",
              "      <th></th>\n",
              "      <th>Day</th>\n",
              "      <th>Hour</th>\n",
              "      <th>Minute</th>\n",
              "      <th>DHI</th>\n",
              "      <th>DNI</th>\n",
              "      <th>WS</th>\n",
              "      <th>RH</th>\n",
              "      <th>T</th>\n",
              "    </tr>\n",
              "  </thead>\n",
              "  <tbody>\n",
              "    <tr>\n",
              "      <th>0</th>\n",
              "      <td>15.620616</td>\n",
              "      <td>-0.648051</td>\n",
              "      <td>1.0001</td>\n",
              "      <td>-0.362218</td>\n",
              "      <td>1.122351</td>\n",
              "      <td>-0.243372</td>\n",
              "      <td>-0.051398</td>\n",
              "      <td>-0.548791</td>\n",
              "    </tr>\n",
              "    <tr>\n",
              "      <th>1</th>\n",
              "      <td>15.620616</td>\n",
              "      <td>-0.503643</td>\n",
              "      <td>-0.9999</td>\n",
              "      <td>-0.269577</td>\n",
              "      <td>1.559697</td>\n",
              "      <td>-0.004726</td>\n",
              "      <td>-0.118728</td>\n",
              "      <td>-0.340103</td>\n",
              "    </tr>\n",
              "    <tr>\n",
              "      <th>2</th>\n",
              "      <td>15.620616</td>\n",
              "      <td>-0.503643</td>\n",
              "      <td>1.0001</td>\n",
              "      <td>-0.210625</td>\n",
              "      <td>1.820308</td>\n",
              "      <td>0.074823</td>\n",
              "      <td>-0.309800</td>\n",
              "      <td>-0.235758</td>\n",
              "    </tr>\n",
              "    <tr>\n",
              "      <th>3</th>\n",
              "      <td>15.620616</td>\n",
              "      <td>-0.359236</td>\n",
              "      <td>-0.9999</td>\n",
              "      <td>-0.168515</td>\n",
              "      <td>2.003035</td>\n",
              "      <td>0.233921</td>\n",
              "      <td>-0.531807</td>\n",
              "      <td>-0.027070</td>\n",
              "    </tr>\n",
              "    <tr>\n",
              "      <th>4</th>\n",
              "      <td>15.620616</td>\n",
              "      <td>-0.359236</td>\n",
              "      <td>1.0001</td>\n",
              "      <td>-0.134828</td>\n",
              "      <td>2.119860</td>\n",
              "      <td>-0.084275</td>\n",
              "      <td>-0.837521</td>\n",
              "      <td>0.181619</td>\n",
              "    </tr>\n",
              "  </tbody>\n",
              "</table>\n",
              "</div>\n",
              "      <button class=\"colab-df-convert\" onclick=\"convertToInteractive('df-63724443-ab44-4196-854f-1b98c16632fc')\"\n",
              "              title=\"Convert this dataframe to an interactive table.\"\n",
              "              style=\"display:none;\">\n",
              "        \n",
              "  <svg xmlns=\"http://www.w3.org/2000/svg\" height=\"24px\"viewBox=\"0 0 24 24\"\n",
              "       width=\"24px\">\n",
              "    <path d=\"M0 0h24v24H0V0z\" fill=\"none\"/>\n",
              "    <path d=\"M18.56 5.44l.94 2.06.94-2.06 2.06-.94-2.06-.94-.94-2.06-.94 2.06-2.06.94zm-11 1L8.5 8.5l.94-2.06 2.06-.94-2.06-.94L8.5 2.5l-.94 2.06-2.06.94zm10 10l.94 2.06.94-2.06 2.06-.94-2.06-.94-.94-2.06-.94 2.06-2.06.94z\"/><path d=\"M17.41 7.96l-1.37-1.37c-.4-.4-.92-.59-1.43-.59-.52 0-1.04.2-1.43.59L10.3 9.45l-7.72 7.72c-.78.78-.78 2.05 0 2.83L4 21.41c.39.39.9.59 1.41.59.51 0 1.02-.2 1.41-.59l7.78-7.78 2.81-2.81c.8-.78.8-2.07 0-2.86zM5.41 20L4 18.59l7.72-7.72 1.47 1.35L5.41 20z\"/>\n",
              "  </svg>\n",
              "      </button>\n",
              "      \n",
              "  <style>\n",
              "    .colab-df-container {\n",
              "      display:flex;\n",
              "      flex-wrap:wrap;\n",
              "      gap: 12px;\n",
              "    }\n",
              "\n",
              "    .colab-df-convert {\n",
              "      background-color: #E8F0FE;\n",
              "      border: none;\n",
              "      border-radius: 50%;\n",
              "      cursor: pointer;\n",
              "      display: none;\n",
              "      fill: #1967D2;\n",
              "      height: 32px;\n",
              "      padding: 0 0 0 0;\n",
              "      width: 32px;\n",
              "    }\n",
              "\n",
              "    .colab-df-convert:hover {\n",
              "      background-color: #E2EBFA;\n",
              "      box-shadow: 0px 1px 2px rgba(60, 64, 67, 0.3), 0px 1px 3px 1px rgba(60, 64, 67, 0.15);\n",
              "      fill: #174EA6;\n",
              "    }\n",
              "\n",
              "    [theme=dark] .colab-df-convert {\n",
              "      background-color: #3B4455;\n",
              "      fill: #D2E3FC;\n",
              "    }\n",
              "\n",
              "    [theme=dark] .colab-df-convert:hover {\n",
              "      background-color: #434B5C;\n",
              "      box-shadow: 0px 1px 3px 1px rgba(0, 0, 0, 0.15);\n",
              "      filter: drop-shadow(0px 1px 2px rgba(0, 0, 0, 0.3));\n",
              "      fill: #FFFFFF;\n",
              "    }\n",
              "  </style>\n",
              "\n",
              "      <script>\n",
              "        const buttonEl =\n",
              "          document.querySelector('#df-63724443-ab44-4196-854f-1b98c16632fc button.colab-df-convert');\n",
              "        buttonEl.style.display =\n",
              "          google.colab.kernel.accessAllowed ? 'block' : 'none';\n",
              "\n",
              "        async function convertToInteractive(key) {\n",
              "          const element = document.querySelector('#df-63724443-ab44-4196-854f-1b98c16632fc');\n",
              "          const dataTable =\n",
              "            await google.colab.kernel.invokeFunction('convertToInteractive',\n",
              "                                                     [key], {});\n",
              "          if (!dataTable) return;\n",
              "\n",
              "          const docLinkHtml = 'Like what you see? Visit the ' +\n",
              "            '<a target=\"_blank\" href=https://colab.research.google.com/notebooks/data_table.ipynb>data table notebook</a>'\n",
              "            + ' to learn more about interactive tables.';\n",
              "          element.innerHTML = '';\n",
              "          dataTable['output_type'] = 'display_data';\n",
              "          await google.colab.output.renderOutput(dataTable, element);\n",
              "          const docLink = document.createElement('div');\n",
              "          docLink.innerHTML = docLinkHtml;\n",
              "          element.appendChild(docLink);\n",
              "        }\n",
              "      </script>\n",
              "    </div>\n",
              "  </div>\n",
              "  "
            ]
          },
          "metadata": {}
        }
      ]
    },
    {
      "cell_type": "code",
      "source": [
        "import warnings\n",
        "warnings.filterwarnings(action='ignore')\n",
        "\n",
        "plt.figure(figsize=(12,12))\n",
        "for i,colName in enumerate(col):\n",
        "  plt.subplot(3,4,i+1)\n",
        "  sns.distplot(X_train.loc[:,colName])\n",
        "plt.tight_layout()\n",
        "plt.show()"
      ],
      "metadata": {
        "colab": {
          "base_uri": "https://localhost:8080/",
          "height": 546
        },
        "id": "bOJvJHXAJFMI",
        "outputId": "10f061b4-30e0-49c4-d80a-3bf1b5eec507"
      },
      "execution_count": 15,
      "outputs": [
        {
          "output_type": "display_data",
          "data": {
            "text/plain": [
              "<Figure size 864x864 with 8 Axes>"
            ],
            "image/png": "[encoded data removed]"
          },
          "metadata": {
            "needs_background": "light"
          }
        }
      ]
    },
    {
      "cell_type": "code",
      "source": [
        "print(X_train.shape)\n",
        "print(y_train.shape)\n",
        "print(X_test.shape)"
      ],
      "metadata": {
        "colab": {
          "base_uri": "https://localhost:8080/"
        },
        "id": "_5Pqmhk5MeGj",
        "outputId": "f08c04a3-8507-43ff-934a-30aac7f0c23a"
      },
      "execution_count": 16,
      "outputs": [
        {
          "output_type": "stream",
          "name": "stdout",
          "text": [
            "(9999, 8)\n",
            "(9999,)\n",
            "(2481, 8)\n"
          ]
        }
      ]
    },
    {
      "cell_type": "markdown",
      "source": [
        "## 데이터 나누기"
      ],
      "metadata": {
        "id": "O2FMO2rOKa-z"
      }
    },
    {
      "cell_type": "code",
      "source": [
        "from sklearn.model_selection import train_test_split"
      ],
      "metadata": {
        "id": "wkHnV8PPKnRp"
      },
      "execution_count": 17,
      "outputs": []
    },
    {
      "cell_type": "code",
      "source": [
        "X_train,X_val,y_train,y_val=train_test_split(X_train,y_train,test_size=0.3,random_state=1)"
      ],
      "metadata": {
        "id": "ltibpktOKMSx"
      },
      "execution_count": 18,
      "outputs": []
    },
    {
      "cell_type": "code",
      "source": [
        "print(X_train.shape)\n",
        "print(X_val.shape)\n",
        "print(y_train.shape)\n",
        "print(y_val.shape)"
      ],
      "metadata": {
        "colab": {
          "base_uri": "https://localhost:8080/"
        },
        "id": "MiCTk6pdIeQR",
        "outputId": "682a4354-0b0e-4d54-842b-eab3d6f83bdd"
      },
      "execution_count": 28,
      "outputs": [
        {
          "output_type": "stream",
          "name": "stdout",
          "text": [
            "(6999, 8)\n",
            "(3000, 8)\n",
            "(6999,)\n",
            "(3000,)\n"
          ]
        }
      ]
    },
    {
      "cell_type": "code",
      "source": [
        "import torch\n",
        "import torch.nn as nn\n",
        "import torch.optim as optim\n",
        "import torch.nn.functional as F"
      ],
      "metadata": {
        "id": "yDp98n0CK-jA"
      },
      "execution_count": 19,
      "outputs": []
    },
    {
      "cell_type": "code",
      "source": [
        "X_train_tensor=torch.FloatTensor(np.asarray(X_train))\n",
        "X_val_tensor=torch.FloatTensor(np.asarray(X_val))\n",
        "y_train_tensor=torch.FloatTensor(np.asarray(y_train))\n",
        "y_val_tensor=torch.FloatTensor(np.asarray(y_val))"
      ],
      "metadata": {
        "id": "W5pezYFqK5Fb"
      },
      "execution_count": 20,
      "outputs": []
    },
    {
      "cell_type": "code",
      "source": [
        "print(X_train_tensor.shape)\n",
        "print(X_val_tensor.shape)\n",
        "print(y_train_tensor.shape)\n",
        "print(y_val_tensor.shape)"
      ],
      "metadata": {
        "colab": {
          "base_uri": "https://localhost:8080/"
        },
        "id": "DJ9T4B6HImXH",
        "outputId": "ca778106-89cd-4ad4-b23b-18e2967056ef"
      },
      "execution_count": 29,
      "outputs": [
        {
          "output_type": "stream",
          "name": "stdout",
          "text": [
            "torch.Size([6999, 8])\n",
            "torch.Size([3000, 8])\n",
            "torch.Size([6999])\n",
            "torch.Size([3000])\n"
          ]
        }
      ]
    },
    {
      "cell_type": "code",
      "source": [
        "X_test_tensor=torch.FloatTensor(np.asarray(X_test))"
      ],
      "metadata": {
        "id": "s-LOtU5pK7Cx"
      },
      "execution_count": 34,
      "outputs": []
    },
    {
      "cell_type": "code",
      "source": [
        "print(X_test_tensor.shape)"
      ],
      "metadata": {
        "colab": {
          "base_uri": "https://localhost:8080/"
        },
        "id": "av9euOVmLA79",
        "outputId": "9eeb3621-c372-4027-b939-e5bfd7f7e885"
      },
      "execution_count": 36,
      "outputs": [
        {
          "output_type": "stream",
          "name": "stdout",
          "text": [
            "torch.Size([2481, 8])\n"
          ]
        }
      ]
    },
    {
      "cell_type": "code",
      "source": [
        "class NN(nn.Module):\n",
        "  def __init__(self):\n",
        "    super().__init__()\n",
        "    self.linear1=torch.nn.Linear(8,256,bias=True)\n",
        "    self.linear4=torch.nn.Linear(256,128,bias=True)\n",
        "    self.linear5=torch.nn.Linear(128,64,bias=True)\n",
        "    self.linear6=torch.nn.Linear(64,8,bias=True)\n",
        "    self.linear7=torch.nn.Linear(8,1,bias=True)\n",
        "    self.sigmoid=torch.nn.Sigmoid()\n",
        "\n",
        "  def forward(self,x):\n",
        "    x=self.linear1(x)\n",
        "    x=self.sigmoid(x)\n",
        "    x=self.linear4(x)\n",
        "    x=self.sigmoid(x)\n",
        "    x=self.linear5(x)\n",
        "    x=self.sigmoid(x)\n",
        "    x=self.linear6(x)\n",
        "    x=self.sigmoid(x)\n",
        "    x=self.linear7(x)\n",
        "    \n",
        "    return x"
      ],
      "metadata": {
        "id": "wBE9TAdGLvRx"
      },
      "execution_count": 54,
      "outputs": []
    },
    {
      "cell_type": "code",
      "source": [
        "model=NN()"
      ],
      "metadata": {
        "id": "wlv4l3XeOYPW"
      },
      "execution_count": 55,
      "outputs": []
    },
    {
      "cell_type": "code",
      "source": [
        "model"
      ],
      "metadata": {
        "colab": {
          "base_uri": "https://localhost:8080/"
        },
        "id": "Zn-dZJICOZbx",
        "outputId": "b4476064-f87d-4e47-aba4-59c1883dccb8"
      },
      "execution_count": 56,
      "outputs": [
        {
          "output_type": "execute_result",
          "data": {
            "text/plain": [
              "NN(\n",
              "  (linear1): Linear(in_features=8, out_features=256, bias=True)\n",
              "  (linear4): Linear(in_features=256, out_features=128, bias=True)\n",
              "  (linear5): Linear(in_features=128, out_features=64, bias=True)\n",
              "  (linear6): Linear(in_features=64, out_features=8, bias=True)\n",
              "  (linear7): Linear(in_features=8, out_features=1, bias=True)\n",
              "  (sigmoid): Sigmoid()\n",
              ")"
            ]
          },
          "metadata": {},
          "execution_count": 56
        }
      ]
    },
    {
      "cell_type": "code",
      "source": [
        "loss=torch.nn.MSELoss()\n",
        "optimizer=torch.optim.Adam(model.parameters(),lr=0.001)"
      ],
      "metadata": {
        "id": "2IXGLkRWOaSl"
      },
      "execution_count": 57,
      "outputs": []
    },
    {
      "cell_type": "code",
      "source": [
        "# 모델 학습\n",
        "model.train()\n",
        "for epoch in range(60):\n",
        "    total_cost = 0\n",
        "    for X, Y in zip(X_train_tensor, y_train_tensor):\n",
        "        # 그래디언트 초기화\n",
        "        optimizer.zero_grad()\n",
        "        # Forward 계산\n",
        "        hypothesis = model(X)\n",
        "        # Error 계산\n",
        "        cost = loss(hypothesis, Y)\n",
        "        # Backparopagation\n",
        "        cost.backward()\n",
        "        # 가중치 갱신\n",
        "        optimizer.step()\n",
        "        # Error 합계\n",
        "        total_cost += cost\n",
        "    print('Epoch:', '%04d' % (epoch + 1), 'cost =', '{:.9f}'.format(total_cost))"
      ],
      "metadata": {
        "colab": {
          "base_uri": "https://localhost:8080/"
        },
        "id": "A0Cu-5TNS591",
        "outputId": "fee3d7b6-41df-4beb-cab7-8777d96258fb"
      },
      "execution_count": 62,
      "outputs": [
        {
          "output_type": "stream",
          "name": "stdout",
          "text": [
            "Epoch: 0001 cost = 4590.879882812\n",
            "Epoch: 0002 cost = 4478.202636719\n",
            "Epoch: 0003 cost = 4392.296386719\n",
            "Epoch: 0004 cost = 4282.479492188\n",
            "Epoch: 0005 cost = 4291.173828125\n",
            "Epoch: 0006 cost = 4245.879394531\n",
            "Epoch: 0007 cost = 3993.965820312\n",
            "Epoch: 0008 cost = 3901.337646484\n",
            "Epoch: 0009 cost = 3794.675537109\n",
            "Epoch: 0010 cost = 3987.096435547\n",
            "Epoch: 0011 cost = 3587.929687500\n",
            "Epoch: 0012 cost = 3455.271728516\n",
            "Epoch: 0013 cost = 3654.144042969\n",
            "Epoch: 0014 cost = 3430.464111328\n",
            "Epoch: 0015 cost = 3329.392333984\n",
            "Epoch: 0016 cost = 3436.919921875\n",
            "Epoch: 0017 cost = 3341.128662109\n",
            "Epoch: 0018 cost = 3305.339355469\n",
            "Epoch: 0019 cost = 3084.629150391\n",
            "Epoch: 0020 cost = 3220.277587891\n",
            "Epoch: 0021 cost = 3051.022216797\n",
            "Epoch: 0022 cost = 3052.864990234\n",
            "Epoch: 0023 cost = 3070.575195312\n",
            "Epoch: 0024 cost = 3167.219238281\n",
            "Epoch: 0025 cost = 2814.513671875\n",
            "Epoch: 0026 cost = 2876.676513672\n",
            "Epoch: 0027 cost = 2936.002197266\n",
            "Epoch: 0028 cost = 2831.319335938\n",
            "Epoch: 0029 cost = 2805.042236328\n",
            "Epoch: 0030 cost = 2790.555664062\n",
            "Epoch: 0031 cost = 2782.161865234\n",
            "Epoch: 0032 cost = 2691.118896484\n",
            "Epoch: 0033 cost = 2706.429687500\n",
            "Epoch: 0034 cost = 2720.179199219\n",
            "Epoch: 0035 cost = 2642.071533203\n",
            "Epoch: 0036 cost = 2619.586669922\n",
            "Epoch: 0037 cost = 2728.514160156\n",
            "Epoch: 0038 cost = 2504.971191406\n",
            "Epoch: 0039 cost = 2617.788330078\n",
            "Epoch: 0040 cost = 2559.146240234\n",
            "Epoch: 0041 cost = 2505.556640625\n",
            "Epoch: 0042 cost = 2492.690673828\n",
            "Epoch: 0043 cost = 2516.138427734\n",
            "Epoch: 0044 cost = 2552.941894531\n",
            "Epoch: 0045 cost = 2353.273437500\n",
            "Epoch: 0046 cost = 2362.928222656\n",
            "Epoch: 0047 cost = 2400.123046875\n",
            "Epoch: 0048 cost = 2439.451660156\n",
            "Epoch: 0049 cost = 2280.098876953\n",
            "Epoch: 0050 cost = 2265.844726562\n",
            "Epoch: 0051 cost = 2375.273681641\n",
            "Epoch: 0052 cost = 2313.622558594\n",
            "Epoch: 0053 cost = 2270.933105469\n",
            "Epoch: 0054 cost = 2270.227539062\n",
            "Epoch: 0055 cost = 2382.564208984\n",
            "Epoch: 0056 cost = 2240.318603516\n",
            "Epoch: 0057 cost = 2189.841796875\n",
            "Epoch: 0058 cost = 2319.982421875\n",
            "Epoch: 0059 cost = 2155.327392578\n",
            "Epoch: 0060 cost = 2130.305175781\n"
          ]
        }
      ]
    },
    {
      "cell_type": "code",
      "source": [
        "model.eval()\n",
        "with torch.no_grad():\n",
        "  prediction=model(X_test_tensor)"
      ],
      "metadata": {
        "id": "qKHVGJGqT1A8"
      },
      "execution_count": 63,
      "outputs": []
    },
    {
      "cell_type": "code",
      "source": [
        "sample['TARGET']=prediction.numpy()\n",
        "sample.to_csv('sample2.csv',header=True,index=False)"
      ],
      "metadata": {
        "id": "vYO0r_qNXlr6"
      },
      "execution_count": 64,
      "outputs": []
    },
    {
      "cell_type": "code",
      "source": [
        ""
      ],
      "metadata": {
        "id": "YxK6sAz0ZTaW"
      },
      "execution_count": null,
      "outputs": []
    }
  ]
}