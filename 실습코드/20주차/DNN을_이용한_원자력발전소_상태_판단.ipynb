{
  "nbformat": 4,
  "nbformat_minor": 0,
  "metadata": {
    "colab": {
      "name": "DNN을 이용한 원자력발전소 상태 판단.ipynb",
      "provenance": [],
      "authorship_tag": "ABX9TyMDIZtzkhNzofuQzFtvP9wE",
      "include_colab_link": true
    },
    "kernelspec": {
      "name": "python3",
      "display_name": "Python 3"
    },
    "language_info": {
      "name": "python"
    }
  },
  "cells": [
    {
      "cell_type": "markdown",
      "metadata": {
        "id": "view-in-github",
        "colab_type": "text"
      },
      "source": [
        "<a href=\"https://colab.research.google.com/github/KaggleStudy4th/4th_kaggle_study/blob/main/%EC%8B%A4%EC%8A%B5%EC%BD%94%EB%93%9C/20%EC%A3%BC%EC%B0%A8/DNN%EC%9D%84_%EC%9D%B4%EC%9A%A9%ED%95%9C_%E1%84%8B%E1%85%AF%E1%86%AB%E1%84%8C%E1%85%A1%E1%84%85%E1%85%A7%E1%86%A8%E1%84%87%E1%85%A1%E1%86%AF%E1%84%8C%E1%85%A5%E1%86%AB%E1%84%89%E1%85%A9_%E1%84%89%E1%85%A1%E1%86%BC%E1%84%90%E1%85%A2_%E1%84%91%E1%85%A1%E1%86%AB%E1%84%83%E1%85%A1%E1%86%AB.ipynb\" target=\"_parent\"><img src=\"https://colab.research.google.com/assets/colab-badge.svg\" alt=\"Open In Colab\"/></a>"
      ]
    },
    {
      "cell_type": "markdown",
      "source": [
        "# DNN을 이용한 원자력발전소 상태 판단"
      ],
      "metadata": {
        "id": "Qz0O3G4V1VBX"
      }
    },
    {
      "cell_type": "code",
      "execution_count": 1,
      "metadata": {
        "id": "29vQ0N0y0AbJ"
      },
      "outputs": [],
      "source": [
        "import pandas as pd\n",
        "import numpy as np\n",
        "import matplotlib.pyplot as plt\n",
        "import seaborn as sns\n",
        "import os\n",
        "plt.style.use('ggplot')\n",
        "import warnings\n",
        "warnings.filterwarnings('ignore')"
      ]
    },
    {
      "cell_type": "code",
      "source": [
        "os.environ['KAGGLE_USERNAME']='jiinpp'\n",
        "os.environ['KAGGLE_KEY']=\"b06d525a9f66198051ccb648b091778a\""
      ],
      "metadata": {
        "id": "ur_Y69RF0W8I"
      },
      "execution_count": 2,
      "outputs": []
    },
    {
      "cell_type": "code",
      "source": [
        "!kaggle competitions download -c 2021-ai-w6-p1"
      ],
      "metadata": {
        "colab": {
          "base_uri": "https://localhost:8080/"
        },
        "id": "sWhFnzcI0IYA",
        "outputId": "74ec9ed1-dba3-45f4-cf7c-0f6e4fd3266d"
      },
      "execution_count": 5,
      "outputs": [
        {
          "output_type": "stream",
          "name": "stdout",
          "text": [
            "Downloading 2021-ai-w6-p1.zip to /content\n",
            " 79% 73.0M/92.4M [00:02<00:00, 23.5MB/s]\n",
            "100% 92.4M/92.4M [00:02<00:00, 35.7MB/s]\n"
          ]
        }
      ]
    },
    {
      "cell_type": "code",
      "source": [
        "!unzip '*.zip'"
      ],
      "metadata": {
        "colab": {
          "base_uri": "https://localhost:8080/"
        },
        "id": "wcgeNX9v0l4r",
        "outputId": "aa4cf005-61db-412c-c21c-bf682f1d882e"
      },
      "execution_count": 6,
      "outputs": [
        {
          "output_type": "stream",
          "name": "stdout",
          "text": [
            "Archive:  2021-ai-w6-p1.zip\n",
            "  inflating: pca_test.csv            \n",
            "  inflating: pca_train.csv           \n",
            "  inflating: sample_submission.csv   \n",
            "  inflating: train_label.csv         \n"
          ]
        }
      ]
    },
    {
      "cell_type": "code",
      "source": [
        "X_train=pd.read_csv('pca_train.csv')\n",
        "X_test=pd.read_csv('pca_test.csv')\n",
        "y_train=pd.read_csv('train_label.csv').label\n",
        "sample=pd.read_csv('sample_submission.csv')"
      ],
      "metadata": {
        "id": "ImZhJJyS02DG"
      },
      "execution_count": 23,
      "outputs": []
    },
    {
      "cell_type": "code",
      "source": [
        "X_train.head()"
      ],
      "metadata": {
        "colab": {
          "base_uri": "https://localhost:8080/",
          "height": 300
        },
        "id": "4acft7WR1Eje",
        "outputId": "88e65f98-c69c-482a-9893-3ab30d0c1d69"
      },
      "execution_count": 20,
      "outputs": [
        {
          "output_type": "execute_result",
          "data": {
            "text/plain": [
              "          0         1         2         3         4         5         6  \\\n",
              "0 -6.227718 -2.070960  0.674094 -0.742135  0.309149 -4.006772 -0.664624   \n",
              "1 -6.081077 -1.960213  0.846482 -0.932816 -0.050208 -4.082826 -0.449032   \n",
              "2 -6.394956 -2.954897  1.600033 -0.479463 -1.217065 -3.986472 -0.812934   \n",
              "3 -6.681355 -2.055031  1.144864 -0.517872 -0.168057 -3.929032 -0.718259   \n",
              "4 -5.716713 -2.163729  0.877930 -0.605268  0.082372 -4.261466 -0.679734   \n",
              "\n",
              "          7         8         9  ...       246       247       248       249  \\\n",
              "0  0.533987  0.024594 -0.195856  ... -2.114192 -0.605770  0.491399 -0.166693   \n",
              "1  0.647842  0.417809  0.073842  ... -1.000466 -1.175968  0.299093 -1.187048   \n",
              "2  0.472509  1.536917  1.989765  ... -1.703212  0.713673  0.330699  0.036953   \n",
              "3  0.555827  0.096472  0.724261  ...  0.434870  1.571784 -1.266089  1.584173   \n",
              "4  0.739369  0.490033  0.546437  ...  0.626112 -0.435030  2.112485  1.101894   \n",
              "\n",
              "        250       251       252       253       254       255  \n",
              "0  1.289197 -0.403863  0.238731  2.166737 -0.106487  1.486114  \n",
              "1 -0.499101  0.738016  0.632842  0.850430 -2.211427  1.083040  \n",
              "2 -0.204944  0.930597 -0.693151 -0.572443  0.835598 -0.751483  \n",
              "3 -0.290301  0.068907 -1.148258  1.904273  0.322937 -0.318100  \n",
              "4  1.746205 -0.445612 -1.518138  0.299177 -0.020655  0.234824  \n",
              "\n",
              "[5 rows x 256 columns]"
            ],
            "text/html": [
              "\n",
              "  <div id=\"df-f9e6f501-3c51-49c5-a15b-52f65575c39c\">\n",
              "    <div class=\"colab-df-container\">\n",
              "      <div>\n",
              "<style scoped>\n",
              "    .dataframe tbody tr th:only-of-type {\n",
              "        vertical-align: middle;\n",
              "    }\n",
              "\n",
              "    .dataframe tbody tr th {\n",
              "        vertical-align: top;\n",
              "    }\n",
              "\n",
              "    .dataframe thead th {\n",
              "        text-align: right;\n",
              "    }\n",
              "</style>\n",
              "<table border=\"1\" class=\"dataframe\">\n",
              "  <thead>\n",
              "    <tr style=\"text-align: right;\">\n",
              "      <th></th>\n",
              "      <th>0</th>\n",
              "      <th>1</th>\n",
              "      <th>2</th>\n",
              "      <th>3</th>\n",
              "      <th>4</th>\n",
              "      <th>5</th>\n",
              "      <th>6</th>\n",
              "      <th>7</th>\n",
              "      <th>8</th>\n",
              "      <th>9</th>\n",
              "      <th>...</th>\n",
              "      <th>246</th>\n",
              "      <th>247</th>\n",
              "      <th>248</th>\n",
              "      <th>249</th>\n",
              "      <th>250</th>\n",
              "      <th>251</th>\n",
              "      <th>252</th>\n",
              "      <th>253</th>\n",
              "      <th>254</th>\n",
              "      <th>255</th>\n",
              "    </tr>\n",
              "  </thead>\n",
              "  <tbody>\n",
              "    <tr>\n",
              "      <th>0</th>\n",
              "      <td>-6.227718</td>\n",
              "      <td>-2.070960</td>\n",
              "      <td>0.674094</td>\n",
              "      <td>-0.742135</td>\n",
              "      <td>0.309149</td>\n",
              "      <td>-4.006772</td>\n",
              "      <td>-0.664624</td>\n",
              "      <td>0.533987</td>\n",
              "      <td>0.024594</td>\n",
              "      <td>-0.195856</td>\n",
              "      <td>...</td>\n",
              "      <td>-2.114192</td>\n",
              "      <td>-0.605770</td>\n",
              "      <td>0.491399</td>\n",
              "      <td>-0.166693</td>\n",
              "      <td>1.289197</td>\n",
              "      <td>-0.403863</td>\n",
              "      <td>0.238731</td>\n",
              "      <td>2.166737</td>\n",
              "      <td>-0.106487</td>\n",
              "      <td>1.486114</td>\n",
              "    </tr>\n",
              "    <tr>\n",
              "      <th>1</th>\n",
              "      <td>-6.081077</td>\n",
              "      <td>-1.960213</td>\n",
              "      <td>0.846482</td>\n",
              "      <td>-0.932816</td>\n",
              "      <td>-0.050208</td>\n",
              "      <td>-4.082826</td>\n",
              "      <td>-0.449032</td>\n",
              "      <td>0.647842</td>\n",
              "      <td>0.417809</td>\n",
              "      <td>0.073842</td>\n",
              "      <td>...</td>\n",
              "      <td>-1.000466</td>\n",
              "      <td>-1.175968</td>\n",
              "      <td>0.299093</td>\n",
              "      <td>-1.187048</td>\n",
              "      <td>-0.499101</td>\n",
              "      <td>0.738016</td>\n",
              "      <td>0.632842</td>\n",
              "      <td>0.850430</td>\n",
              "      <td>-2.211427</td>\n",
              "      <td>1.083040</td>\n",
              "    </tr>\n",
              "    <tr>\n",
              "      <th>2</th>\n",
              "      <td>-6.394956</td>\n",
              "      <td>-2.954897</td>\n",
              "      <td>1.600033</td>\n",
              "      <td>-0.479463</td>\n",
              "      <td>-1.217065</td>\n",
              "      <td>-3.986472</td>\n",
              "      <td>-0.812934</td>\n",
              "      <td>0.472509</td>\n",
              "      <td>1.536917</td>\n",
              "      <td>1.989765</td>\n",
              "      <td>...</td>\n",
              "      <td>-1.703212</td>\n",
              "      <td>0.713673</td>\n",
              "      <td>0.330699</td>\n",
              "      <td>0.036953</td>\n",
              "      <td>-0.204944</td>\n",
              "      <td>0.930597</td>\n",
              "      <td>-0.693151</td>\n",
              "      <td>-0.572443</td>\n",
              "      <td>0.835598</td>\n",
              "      <td>-0.751483</td>\n",
              "    </tr>\n",
              "    <tr>\n",
              "      <th>3</th>\n",
              "      <td>-6.681355</td>\n",
              "      <td>-2.055031</td>\n",
              "      <td>1.144864</td>\n",
              "      <td>-0.517872</td>\n",
              "      <td>-0.168057</td>\n",
              "      <td>-3.929032</td>\n",
              "      <td>-0.718259</td>\n",
              "      <td>0.555827</td>\n",
              "      <td>0.096472</td>\n",
              "      <td>0.724261</td>\n",
              "      <td>...</td>\n",
              "      <td>0.434870</td>\n",
              "      <td>1.571784</td>\n",
              "      <td>-1.266089</td>\n",
              "      <td>1.584173</td>\n",
              "      <td>-0.290301</td>\n",
              "      <td>0.068907</td>\n",
              "      <td>-1.148258</td>\n",
              "      <td>1.904273</td>\n",
              "      <td>0.322937</td>\n",
              "      <td>-0.318100</td>\n",
              "    </tr>\n",
              "    <tr>\n",
              "      <th>4</th>\n",
              "      <td>-5.716713</td>\n",
              "      <td>-2.163729</td>\n",
              "      <td>0.877930</td>\n",
              "      <td>-0.605268</td>\n",
              "      <td>0.082372</td>\n",
              "      <td>-4.261466</td>\n",
              "      <td>-0.679734</td>\n",
              "      <td>0.739369</td>\n",
              "      <td>0.490033</td>\n",
              "      <td>0.546437</td>\n",
              "      <td>...</td>\n",
              "      <td>0.626112</td>\n",
              "      <td>-0.435030</td>\n",
              "      <td>2.112485</td>\n",
              "      <td>1.101894</td>\n",
              "      <td>1.746205</td>\n",
              "      <td>-0.445612</td>\n",
              "      <td>-1.518138</td>\n",
              "      <td>0.299177</td>\n",
              "      <td>-0.020655</td>\n",
              "      <td>0.234824</td>\n",
              "    </tr>\n",
              "  </tbody>\n",
              "</table>\n",
              "<p>5 rows × 256 columns</p>\n",
              "</div>\n",
              "      <button class=\"colab-df-convert\" onclick=\"convertToInteractive('df-f9e6f501-3c51-49c5-a15b-52f65575c39c')\"\n",
              "              title=\"Convert this dataframe to an interactive table.\"\n",
              "              style=\"display:none;\">\n",
              "        \n",
              "  <svg xmlns=\"http://www.w3.org/2000/svg\" height=\"24px\"viewBox=\"0 0 24 24\"\n",
              "       width=\"24px\">\n",
              "    <path d=\"M0 0h24v24H0V0z\" fill=\"none\"/>\n",
              "    <path d=\"M18.56 5.44l.94 2.06.94-2.06 2.06-.94-2.06-.94-.94-2.06-.94 2.06-2.06.94zm-11 1L8.5 8.5l.94-2.06 2.06-.94-2.06-.94L8.5 2.5l-.94 2.06-2.06.94zm10 10l.94 2.06.94-2.06 2.06-.94-2.06-.94-.94-2.06-.94 2.06-2.06.94z\"/><path d=\"M17.41 7.96l-1.37-1.37c-.4-.4-.92-.59-1.43-.59-.52 0-1.04.2-1.43.59L10.3 9.45l-7.72 7.72c-.78.78-.78 2.05 0 2.83L4 21.41c.39.39.9.59 1.41.59.51 0 1.02-.2 1.41-.59l7.78-7.78 2.81-2.81c.8-.78.8-2.07 0-2.86zM5.41 20L4 18.59l7.72-7.72 1.47 1.35L5.41 20z\"/>\n",
              "  </svg>\n",
              "      </button>\n",
              "      \n",
              "  <style>\n",
              "    .colab-df-container {\n",
              "      display:flex;\n",
              "      flex-wrap:wrap;\n",
              "      gap: 12px;\n",
              "    }\n",
              "\n",
              "    .colab-df-convert {\n",
              "      background-color: #E8F0FE;\n",
              "      border: none;\n",
              "      border-radius: 50%;\n",
              "      cursor: pointer;\n",
              "      display: none;\n",
              "      fill: #1967D2;\n",
              "      height: 32px;\n",
              "      padding: 0 0 0 0;\n",
              "      width: 32px;\n",
              "    }\n",
              "\n",
              "    .colab-df-convert:hover {\n",
              "      background-color: #E2EBFA;\n",
              "      box-shadow: 0px 1px 2px rgba(60, 64, 67, 0.3), 0px 1px 3px 1px rgba(60, 64, 67, 0.15);\n",
              "      fill: #174EA6;\n",
              "    }\n",
              "\n",
              "    [theme=dark] .colab-df-convert {\n",
              "      background-color: #3B4455;\n",
              "      fill: #D2E3FC;\n",
              "    }\n",
              "\n",
              "    [theme=dark] .colab-df-convert:hover {\n",
              "      background-color: #434B5C;\n",
              "      box-shadow: 0px 1px 3px 1px rgba(0, 0, 0, 0.15);\n",
              "      filter: drop-shadow(0px 1px 2px rgba(0, 0, 0, 0.3));\n",
              "      fill: #FFFFFF;\n",
              "    }\n",
              "  </style>\n",
              "\n",
              "      <script>\n",
              "        const buttonEl =\n",
              "          document.querySelector('#df-f9e6f501-3c51-49c5-a15b-52f65575c39c button.colab-df-convert');\n",
              "        buttonEl.style.display =\n",
              "          google.colab.kernel.accessAllowed ? 'block' : 'none';\n",
              "\n",
              "        async function convertToInteractive(key) {\n",
              "          const element = document.querySelector('#df-f9e6f501-3c51-49c5-a15b-52f65575c39c');\n",
              "          const dataTable =\n",
              "            await google.colab.kernel.invokeFunction('convertToInteractive',\n",
              "                                                     [key], {});\n",
              "          if (!dataTable) return;\n",
              "\n",
              "          const docLinkHtml = 'Like what you see? Visit the ' +\n",
              "            '<a target=\"_blank\" href=https://colab.research.google.com/notebooks/data_table.ipynb>data table notebook</a>'\n",
              "            + ' to learn more about interactive tables.';\n",
              "          element.innerHTML = '';\n",
              "          dataTable['output_type'] = 'display_data';\n",
              "          await google.colab.output.renderOutput(dataTable, element);\n",
              "          const docLink = document.createElement('div');\n",
              "          docLink.innerHTML = docLinkHtml;\n",
              "          element.appendChild(docLink);\n",
              "        }\n",
              "      </script>\n",
              "    </div>\n",
              "  </div>\n",
              "  "
            ]
          },
          "metadata": {},
          "execution_count": 20
        }
      ]
    },
    {
      "cell_type": "code",
      "source": [
        "y_train"
      ],
      "metadata": {
        "colab": {
          "base_uri": "https://localhost:8080/"
        },
        "id": "-dCgQ2jU1ZbF",
        "outputId": "1add06c4-3418-4351-cb43-ea16c8b13439"
      },
      "execution_count": 21,
      "outputs": [
        {
          "output_type": "execute_result",
          "data": {
            "text/plain": [
              "0        136\n",
              "1         90\n",
              "2        112\n",
              "3        165\n",
              "4         73\n",
              "        ... \n",
              "27666      9\n",
              "27667    132\n",
              "27668     18\n",
              "27669     41\n",
              "27670    114\n",
              "Name: label, Length: 27671, dtype: int64"
            ]
          },
          "metadata": {},
          "execution_count": 21
        }
      ]
    },
    {
      "cell_type": "code",
      "source": [
        "import torch\n",
        "import torch.nn as nn\n",
        "import torch.nn.functional as F\n",
        "import torch.optim as optim\n",
        "\n",
        "torch.manual_seed(1)"
      ],
      "metadata": {
        "colab": {
          "base_uri": "https://localhost:8080/"
        },
        "id": "sUHzNTUk1Iwm",
        "outputId": "944b31b6-92f4-4424-8a29-b7e2e0aa28c6"
      },
      "execution_count": 14,
      "outputs": [
        {
          "output_type": "execute_result",
          "data": {
            "text/plain": [
              "<torch._C.Generator at 0x7f3239979090>"
            ]
          },
          "metadata": {},
          "execution_count": 14
        }
      ]
    },
    {
      "cell_type": "code",
      "source": [
        "from sklearn.model_selection import train_test_split"
      ],
      "metadata": {
        "id": "aU2A29i01cwS"
      },
      "execution_count": 17,
      "outputs": []
    },
    {
      "cell_type": "code",
      "source": [
        "X_train,X_val,y_train,y_val=train_test_split(X_train,y_train,test_size=0.2,random_state=1)"
      ],
      "metadata": {
        "id": "3suLZIYF3rge"
      },
      "execution_count": 24,
      "outputs": []
    },
    {
      "cell_type": "code",
      "source": [
        "X_scaled_train=np.array(X_train)\n",
        "X_scaled_val=np.array(X_val)\n",
        "X_scaled_test=np.array(X_test)"
      ],
      "metadata": {
        "id": "zd_cvhQx5YY0"
      },
      "execution_count": 26,
      "outputs": []
    },
    {
      "cell_type": "code",
      "source": [
        "X_train_tensor=torch.FloatTensor(X_scaled_train)\n",
        "X_val_tensor=torch.FloatTensor(X_scaled_val)\n",
        "X_test_tensor=torch.FloatTensor(X_scaled_test)"
      ],
      "metadata": {
        "id": "sqNAoG_v65nK"
      },
      "execution_count": 27,
      "outputs": []
    },
    {
      "cell_type": "code",
      "source": [
        "y_train_scaled=np.array(y_train)"
      ],
      "metadata": {
        "id": "euV5k7jF758j"
      },
      "execution_count": 31,
      "outputs": []
    },
    {
      "cell_type": "code",
      "source": [
        "y_train_tensor=torch.LongTensor(y_train_scaled)"
      ],
      "metadata": {
        "id": "LQK5TBWH7bPp"
      },
      "execution_count": 32,
      "outputs": []
    },
    {
      "cell_type": "code",
      "source": [
        "y_val_scaled=np.array(y_val)\n",
        "y_val_tensor=torch.FloatTensor(y_val_scaled)"
      ],
      "metadata": {
        "id": "9cdbwr4sFFRl"
      },
      "execution_count": 54,
      "outputs": []
    },
    {
      "cell_type": "code",
      "source": [
        "print(X_train_tensor.shape)\n",
        "print(X_val_tensor.shape)\n",
        "print(y_train_tensor.shape)\n",
        "print(y_val_tensor.shape)\n",
        "\n",
        "print(X_test_tensor.shape)"
      ],
      "metadata": {
        "colab": {
          "base_uri": "https://localhost:8080/"
        },
        "id": "1Ij2BtLg7crk",
        "outputId": "416127fa-8946-4c2a-be2f-535cdc52a49d"
      },
      "execution_count": 55,
      "outputs": [
        {
          "output_type": "stream",
          "name": "stdout",
          "text": [
            "torch.Size([22136, 256])\n",
            "torch.Size([5535, 256])\n",
            "torch.Size([22136])\n",
            "torch.Size([5535])\n",
            "torch.Size([13629, 256])\n"
          ]
        }
      ]
    },
    {
      "cell_type": "code",
      "source": [
        "class LL(nn.Module):\n",
        "  def __init__(self):\n",
        "    super().__init__()\n",
        "    self.linear1=nn.Linear(256,198,bias=True)\n",
        "    self.linear2=nn.Linear(198,198,bias=True)\n",
        "    self.linear3=nn.Linear(198,198,bias=True)\n",
        "    self.linear4=nn.Linear(198,198)\n",
        "    self.relu=torch.nn.Sigmoid()\n",
        "\n",
        "  def forward(self,x):\n",
        "    x=self.linear1(x)\n",
        "    x=self.linear2(x)\n",
        "    x=self.linear3(x)\n",
        "    x=self.linear4(x)\n",
        "\n",
        "    return x"
      ],
      "metadata": {
        "id": "LXvVGR6A8qeA"
      },
      "execution_count": 46,
      "outputs": []
    },
    {
      "cell_type": "code",
      "source": [
        "model=LL()"
      ],
      "metadata": {
        "id": "ZxrVeOoj-hBF"
      },
      "execution_count": 47,
      "outputs": []
    },
    {
      "cell_type": "code",
      "source": [
        "model"
      ],
      "metadata": {
        "colab": {
          "base_uri": "https://localhost:8080/"
        },
        "id": "3KqNM2xm-iwk",
        "outputId": "f6823609-3822-469a-ba82-f1de19a23f83"
      },
      "execution_count": 48,
      "outputs": [
        {
          "output_type": "execute_result",
          "data": {
            "text/plain": [
              "LL(\n",
              "  (linear1): Linear(in_features=256, out_features=198, bias=True)\n",
              "  (linear2): Linear(in_features=198, out_features=198, bias=True)\n",
              "  (linear3): Linear(in_features=198, out_features=198, bias=True)\n",
              "  (linear4): Linear(in_features=198, out_features=198, bias=True)\n",
              "  (relu): Sigmoid()\n",
              ")"
            ]
          },
          "metadata": {},
          "execution_count": 48
        }
      ]
    },
    {
      "cell_type": "code",
      "source": [
        "loss=torch.nn.CrossEntropyLoss()\n",
        "optimizer=optim.SGD(model.parameters(),lr=0.01)"
      ],
      "metadata": {
        "id": "B70--VWW-m55"
      },
      "execution_count": 64,
      "outputs": []
    },
    {
      "cell_type": "code",
      "source": [
        "for stop in range(2000):\n",
        "\n",
        "  optimizer.zero_grad()\n",
        "  hypothesis=model(X_train_tensor)\n",
        "  cost=loss(hypothesis,y_train_tensor)\n",
        "  cost.backward()\n",
        "  optimizer.step()\n",
        "\n",
        "  if stop%100==0:\n",
        "    print(stop,cost.item())"
      ],
      "metadata": {
        "colab": {
          "base_uri": "https://localhost:8080/"
        },
        "id": "n6fUE94g-xw9",
        "outputId": "8ff084ac-729a-45c6-ffd2-420d0776c4e9"
      },
      "execution_count": 50,
      "outputs": [
        {
          "output_type": "stream",
          "name": "stdout",
          "text": [
            "0 5.3308844566345215\n",
            "100 4.721152305603027\n",
            "200 4.1865010261535645\n",
            "300 3.74448299407959\n",
            "400 3.432314395904541\n",
            "500 3.080622434616089\n",
            "600 2.831904172897339\n",
            "700 2.6746432781219482\n",
            "800 2.550509214401245\n",
            "900 2.440390110015869\n",
            "1000 2.35017466545105\n",
            "1100 2.2692925930023193\n",
            "1200 2.218996286392212\n",
            "1300 2.157393217086792\n",
            "1400 2.1061794757843018\n",
            "1500 2.060152769088745\n",
            "1600 2.0383834838867188\n",
            "1700 1.9874244928359985\n",
            "1800 1.9673151969909668\n",
            "1900 1.9290368556976318\n"
          ]
        }
      ]
    },
    {
      "cell_type": "code",
      "source": [
        "predict=model(X_test_tensor)\n",
        "_,predicted=torch.max(predict,1)\n",
        "predicted=predicted.detach().cpu().numpy()"
      ],
      "metadata": {
        "id": "Fn8BAlBQFoOX"
      },
      "execution_count": 60,
      "outputs": []
    },
    {
      "cell_type": "code",
      "source": [
        "pred_={\"label\":predicted}\n",
        "submission = pd.DataFrame(data=pred_)\n",
        "submission.index = [i for i in range(X_test_tensor.shape[0])]\n",
        "submission.index.name = 'id'\n",
        "\n",
        "\n",
        "submission.to_csv('DNN_Pred.csv', index=True) "
      ],
      "metadata": {
        "id": "u73RVww-Gc1t"
      },
      "execution_count": 61,
      "outputs": []
    },
    {
      "cell_type": "code",
      "source": [
        "epochs=2000\n",
        "from tqdm import tqdm\n",
        "\n",
        "for i in tqdm(range(2000)):\n",
        "  optimizer.zero_grad()\n",
        "  hypothesis=model(X_train_tensor)\n",
        "  cost=loss(hypothesis,y_train_tensor)\n",
        "  cost.backward()\n",
        "  optimizer.step()\n",
        "\n",
        "  with torch.no_grad():\n",
        "    val_predict=model(X_val_tensor)\n",
        "    _, val_predicted=torch.max(val_predict,1)\n",
        "    score=accuracy_score(val_predicted.detach().cpu(),y_val)\n",
        "\n",
        "  if i%100==0:\n",
        "    print(i,\"=\",score)"
      ],
      "metadata": {
        "colab": {
          "base_uri": "https://localhost:8080/"
        },
        "id": "yaQQTdTxGm5r",
        "outputId": "85569011-e15e-4d73-ba79-a221668a4581"
      },
      "execution_count": 65,
      "outputs": [
        {
          "output_type": "stream",
          "name": "stderr",
          "text": [
            "  0%|          | 1/2000 [00:00<18:04,  1.84it/s]"
          ]
        },
        {
          "output_type": "stream",
          "name": "stdout",
          "text": [
            "0 = 0.6066847335140018\n"
          ]
        },
        {
          "output_type": "stream",
          "name": "stderr",
          "text": [
            "  5%|▌         | 101/2000 [00:54<17:07,  1.85it/s]"
          ]
        },
        {
          "output_type": "stream",
          "name": "stdout",
          "text": [
            "100 = 0.6095754290876242\n"
          ]
        },
        {
          "output_type": "stream",
          "name": "stderr",
          "text": [
            " 10%|█         | 201/2000 [01:48<15:56,  1.88it/s]"
          ]
        },
        {
          "output_type": "stream",
          "name": "stdout",
          "text": [
            "200 = 0.6102981029810298\n"
          ]
        },
        {
          "output_type": "stream",
          "name": "stderr",
          "text": [
            " 15%|█▌        | 301/2000 [02:42<19:18,  1.47it/s]"
          ]
        },
        {
          "output_type": "stream",
          "name": "stdout",
          "text": [
            "300 = 0.610840108401084\n"
          ]
        },
        {
          "output_type": "stream",
          "name": "stderr",
          "text": [
            " 20%|██        | 401/2000 [03:37<14:50,  1.80it/s]"
          ]
        },
        {
          "output_type": "stream",
          "name": "stdout",
          "text": [
            "400 = 0.6133694670280037\n"
          ]
        },
        {
          "output_type": "stream",
          "name": "stderr",
          "text": [
            " 25%|██▌       | 501/2000 [04:33<14:01,  1.78it/s]"
          ]
        },
        {
          "output_type": "stream",
          "name": "stdout",
          "text": [
            "500 = 0.6166214995483288\n"
          ]
        },
        {
          "output_type": "stream",
          "name": "stderr",
          "text": [
            " 30%|███       | 601/2000 [05:29<12:52,  1.81it/s]"
          ]
        },
        {
          "output_type": "stream",
          "name": "stdout",
          "text": [
            "600 = 0.618970189701897\n"
          ]
        },
        {
          "output_type": "stream",
          "name": "stderr",
          "text": [
            " 35%|███▌      | 701/2000 [06:25<12:22,  1.75it/s]"
          ]
        },
        {
          "output_type": "stream",
          "name": "stdout",
          "text": [
            "700 = 0.6200542005420054\n"
          ]
        },
        {
          "output_type": "stream",
          "name": "stderr",
          "text": [
            " 40%|████      | 801/2000 [07:21<10:52,  1.84it/s]"
          ]
        },
        {
          "output_type": "stream",
          "name": "stdout",
          "text": [
            "800 = 0.6204155374887083\n"
          ]
        },
        {
          "output_type": "stream",
          "name": "stderr",
          "text": [
            " 45%|████▌     | 901/2000 [08:17<10:26,  1.75it/s]"
          ]
        },
        {
          "output_type": "stream",
          "name": "stdout",
          "text": [
            "900 = 0.622583559168925\n"
          ]
        },
        {
          "output_type": "stream",
          "name": "stderr",
          "text": [
            " 50%|█████     | 1001/2000 [09:13<09:34,  1.74it/s]"
          ]
        },
        {
          "output_type": "stream",
          "name": "stdout",
          "text": [
            "1000 = 0.623486901535682\n"
          ]
        },
        {
          "output_type": "stream",
          "name": "stderr",
          "text": [
            " 55%|█████▌    | 1101/2000 [10:10<08:23,  1.79it/s]"
          ]
        },
        {
          "output_type": "stream",
          "name": "stdout",
          "text": [
            "1100 = 0.6258355916892502\n"
          ]
        },
        {
          "output_type": "stream",
          "name": "stderr",
          "text": [
            " 60%|██████    | 1201/2000 [11:08<07:46,  1.71it/s]"
          ]
        },
        {
          "output_type": "stream",
          "name": "stdout",
          "text": [
            "1200 = 0.6265582655826558\n"
          ]
        },
        {
          "output_type": "stream",
          "name": "stderr",
          "text": [
            " 65%|██████▌   | 1301/2000 [12:07<06:53,  1.69it/s]"
          ]
        },
        {
          "output_type": "stream",
          "name": "stdout",
          "text": [
            "1300 = 0.6290876242095754\n"
          ]
        },
        {
          "output_type": "stream",
          "name": "stderr",
          "text": [
            " 70%|███████   | 1401/2000 [13:06<06:01,  1.66it/s]"
          ]
        },
        {
          "output_type": "stream",
          "name": "stdout",
          "text": [
            "1400 = 0.6299909665763325\n"
          ]
        },
        {
          "output_type": "stream",
          "name": "stderr",
          "text": [
            " 75%|███████▌  | 1501/2000 [14:07<04:57,  1.68it/s]"
          ]
        },
        {
          "output_type": "stream",
          "name": "stdout",
          "text": [
            "1500 = 0.6312556458897922\n"
          ]
        },
        {
          "output_type": "stream",
          "name": "stderr",
          "text": [
            " 80%|████████  | 1601/2000 [15:06<03:56,  1.69it/s]"
          ]
        },
        {
          "output_type": "stream",
          "name": "stdout",
          "text": [
            "1600 = 0.6323396567299007\n"
          ]
        },
        {
          "output_type": "stream",
          "name": "stderr",
          "text": [
            " 85%|████████▌ | 1701/2000 [16:07<03:00,  1.65it/s]"
          ]
        },
        {
          "output_type": "stream",
          "name": "stdout",
          "text": [
            "1700 = 0.6339656729900632\n"
          ]
        },
        {
          "output_type": "stream",
          "name": "stderr",
          "text": [
            " 90%|█████████ | 1801/2000 [17:08<01:57,  1.69it/s]"
          ]
        },
        {
          "output_type": "stream",
          "name": "stdout",
          "text": [
            "1800 = 0.6350496838301717\n"
          ]
        },
        {
          "output_type": "stream",
          "name": "stderr",
          "text": [
            " 95%|█████████▌| 1901/2000 [18:08<01:09,  1.42it/s]"
          ]
        },
        {
          "output_type": "stream",
          "name": "stdout",
          "text": [
            "1900 = 0.6345076784101175\n"
          ]
        },
        {
          "output_type": "stream",
          "name": "stderr",
          "text": [
            "100%|██████████| 2000/2000 [19:08<00:00,  1.74it/s]\n"
          ]
        }
      ]
    },
    {
      "cell_type": "code",
      "source": [
        "score"
      ],
      "metadata": {
        "colab": {
          "base_uri": "https://localhost:8080/"
        },
        "id": "iifboTQvIEUw",
        "outputId": "1d717145-de32-41d4-e66c-88d2463824e2"
      },
      "execution_count": 66,
      "outputs": [
        {
          "output_type": "execute_result",
          "data": {
            "text/plain": [
              "0.6341463414634146"
            ]
          },
          "metadata": {},
          "execution_count": 66
        }
      ]
    },
    {
      "cell_type": "code",
      "source": [
        "predict=model(X_test_tensor)\n",
        "_,predicted=torch.max(predict,1)\n",
        "predicted=predicted.detach().cpu().numpy()"
      ],
      "metadata": {
        "id": "lL3zeD15NIUs"
      },
      "execution_count": 67,
      "outputs": []
    },
    {
      "cell_type": "code",
      "source": [
        "pred_={\"label\":predicted}\n",
        "submission = pd.DataFrame(data=pred_)\n",
        "submission.index = [i for i in range(X_test_tensor.shape[0])]\n",
        "submission.index.name = 'id'\n",
        "\n",
        "\n",
        "submission.to_csv('DNN_Pred.csv', index=True) "
      ],
      "metadata": {
        "id": "PAM2c9NHNOAF"
      },
      "execution_count": 68,
      "outputs": []
    },
    {
      "cell_type": "code",
      "source": [
        ""
      ],
      "metadata": {
        "id": "AUCuQOEjNPq1"
      },
      "execution_count": null,
      "outputs": []
    }
  ]
}