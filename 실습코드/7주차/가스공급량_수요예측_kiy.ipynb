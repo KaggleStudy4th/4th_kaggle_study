{
  "nbformat": 4,
  "nbformat_minor": 0,
  "metadata": {
    "colab": {
      "name": "가스공급량 수요예측-kiy.ipynb",
      "provenance": [],
      "collapsed_sections": [],
      "authorship_tag": "ABX9TyPsD2JgOmF+1U4Uh+P+YlK2",
      "include_colab_link": true
    },
    "kernelspec": {
      "name": "python3",
      "display_name": "Python 3"
    },
    "language_info": {
      "name": "python"
    }
  },
  "cells": [
    {
      "cell_type": "markdown",
      "metadata": {
        "id": "view-in-github",
        "colab_type": "text"
      },
      "source": [
        "<a href=\"https://colab.research.google.com/github/KaggleStudy4th/4th_kaggle_study/blob/main/%EC%8B%A4%EC%8A%B5%EC%BD%94%EB%93%9C/7%EC%A3%BC%EC%B0%A8/%EA%B0%80%EC%8A%A4%EA%B3%B5%EA%B8%89%EB%9F%89_%EC%88%98%EC%9A%94%EC%98%88%EC%B8%A1_kiy.ipynb\" target=\"_parent\"><img src=\"https://colab.research.google.com/assets/colab-badge.svg\" alt=\"Open In Colab\"/></a>"
      ]
    },
    {
      "cell_type": "code",
      "execution_count": null,
      "metadata": {
        "id": "BipUGoS8OCze"
      },
      "outputs": [],
      "source": [
        "# 드라이브 마운트\n",
        "from google.colab import drive\n",
        "drive.mount('/content/drive')"
      ]
    },
    {
      "cell_type": "code",
      "source": [
        "import pandas as pd\n",
        "import numpy as np\n",
        "import matplotlib.pyplot as plt"
      ],
      "metadata": {
        "id": "gQfp7YQDUG-S"
      },
      "execution_count": null,
      "outputs": []
    },
    {
      "cell_type": "code",
      "source": [
        "data=pd.read_csv('/content/drive/MyDrive/dacon/한국가스공사_시간별 공급량_20181231.csv', encoding='cp949')"
      ],
      "metadata": {
        "id": "NfpHO7USTKX8"
      },
      "execution_count": null,
      "outputs": []
    },
    {
      "cell_type": "code",
      "source": [
        "data.head()"
      ],
      "metadata": {
        "id": "mINvbAUtUJ1_"
      },
      "execution_count": null,
      "outputs": []
    },
    {
      "cell_type": "code",
      "source": [
        "data.shape"
      ],
      "metadata": {
        "id": "usdqIwLgUPtt"
      },
      "execution_count": null,
      "outputs": []
    },
    {
      "cell_type": "code",
      "source": [
        "data.info()"
      ],
      "metadata": {
        "id": "h5ewMinyVT61"
      },
      "execution_count": null,
      "outputs": []
    },
    {
      "cell_type": "markdown",
      "source": [
        "# 1. 전처리"
      ],
      "metadata": {
        "id": "nziEs4ojUkkh"
      }
    },
    {
      "cell_type": "code",
      "source": [
        "data_unique=np.unique(data['연월일'])\n",
        "data_unique"
      ],
      "metadata": {
        "id": "b4mEyBeNVCAy"
      },
      "execution_count": null,
      "outputs": []
    },
    {
      "cell_type": "markdown",
      "source": [
        "### 문자열 column => labelencoding"
      ],
      "metadata": {
        "id": "bZaDP-_3Upum"
      }
    },
    {
      "cell_type": "code",
      "source": [
        "from sklearn.preprocessing import LabelEncoder\n",
        "\n",
        "le = LabelEncoder()\n",
        "result = le.fit_transform(data['구분'])\n",
        "print(result)"
      ],
      "metadata": {
        "id": "j5GCoPK_URJq"
      },
      "execution_count": null,
      "outputs": []
    },
    {
      "cell_type": "code",
      "source": [
        "le.classes_"
      ],
      "metadata": {
        "id": "30NaD7m_V0ky"
      },
      "execution_count": null,
      "outputs": []
    },
    {
      "cell_type": "code",
      "source": [
        "data['구분']=result"
      ],
      "metadata": {
        "id": "nFt1hcbmV7eK"
      },
      "execution_count": null,
      "outputs": []
    },
    {
      "cell_type": "code",
      "source": [
        "data"
      ],
      "metadata": {
        "id": "Iap7_EPZV_ED"
      },
      "execution_count": null,
      "outputs": []
    },
    {
      "cell_type": "markdown",
      "source": [
        "### datetime 데이터 "
      ],
      "metadata": {
        "id": "wqPZsMlGWKgg"
      }
    },
    {
      "cell_type": "code",
      "source": [
        "data['연월일']=pd.to_datetime(data['연월일'])"
      ],
      "metadata": {
        "id": "PmMTY5G6WDwx"
      },
      "execution_count": null,
      "outputs": []
    },
    {
      "cell_type": "code",
      "source": [
        "data.info()"
      ],
      "metadata": {
        "id": "mJQcQZ4hWiLB"
      },
      "execution_count": null,
      "outputs": []
    },
    {
      "cell_type": "code",
      "source": [
        "data['year']=data['연월일'].dt.year\n",
        "data['month']=data['연월일'].dt.month\n",
        "data['day']=data['연월일'].dt.day\n",
        "data['weekday']=data['연월일'].dt.weekday"
      ],
      "metadata": {
        "id": "9cbzmtUiWlFj"
      },
      "execution_count": null,
      "outputs": []
    },
    {
      "cell_type": "code",
      "source": [
        "data"
      ],
      "metadata": {
        "id": "ElaJ0nPAYFQu"
      },
      "execution_count": null,
      "outputs": []
    },
    {
      "cell_type": "code",
      "source": [
        "# train_years = [2013,2014,2015,2016,2017]\n",
        "# val_years = [2018]\n",
        "\n",
        "# train = total[total['year'].isin(train_years)]\n",
        "# val = total[total['year'].isin(val_years)]\n",
        "\n",
        "# features = ['구분', 'month', 'day', 'weekday', '시간']\n",
        "# train_x = train[features]\n",
        "# train_y = train['공급량']\n",
        "\n",
        "# val_x = val[features]\n",
        "# val_y = val['공급량']"
      ],
      "metadata": {
        "id": "t4-Fv-9Ka5lM"
      },
      "execution_count": null,
      "outputs": []
    },
    {
      "cell_type": "code",
      "source": [
        "from sklearn.model_selection import train_test_split\n",
        "\n",
        "X = data.drop(['공급량'],axis=1)\n",
        "y = data['공급량']\n",
        "\n",
        "# train_test_split\n",
        "X_train, X_val, y_train, y_val = train_test_split(X, y, test_size=0.2, shuffle=True, random_state=34)"
      ],
      "metadata": {
        "id": "4uBMPADaW97B"
      },
      "execution_count": null,
      "outputs": []
    },
    {
      "cell_type": "code",
      "source": [
        "X_train.shape"
      ],
      "metadata": {
        "id": "_q92Q4u4Yo5o"
      },
      "execution_count": null,
      "outputs": []
    },
    {
      "cell_type": "code",
      "source": [
        "y_train.shape"
      ],
      "metadata": {
        "id": "XO1HOHMrYw8C"
      },
      "execution_count": null,
      "outputs": []
    },
    {
      "cell_type": "code",
      "source": [
        "X_train.head()"
      ],
      "metadata": {
        "id": "ugmQ_Cn0Yz41"
      },
      "execution_count": null,
      "outputs": []
    },
    {
      "cell_type": "code",
      "source": [
        "X_val.head()"
      ],
      "metadata": {
        "id": "gliiIL2SY21o"
      },
      "execution_count": null,
      "outputs": []
    },
    {
      "cell_type": "code",
      "source": [
        "X_train=X_train.drop(['연월일'],axis=1)\n",
        "X_train"
      ],
      "metadata": {
        "id": "AtnkgFiLaEDn"
      },
      "execution_count": null,
      "outputs": []
    },
    {
      "cell_type": "code",
      "source": [
        "X_val=X_val.drop(['연월일'],axis=1)\n",
        "X_val.info()"
      ],
      "metadata": {
        "id": "uJV_kCZNaW0n"
      },
      "execution_count": null,
      "outputs": []
    },
    {
      "cell_type": "markdown",
      "source": [
        "# 모델링"
      ],
      "metadata": {
        "id": "UjaDZ4FbZEUO"
      }
    },
    {
      "cell_type": "code",
      "source": [
        "import lightgbm as lgb\n",
        "train=lgb.Dataset(X_train,y_train)\n",
        "val=lgb.Dataset(X_val,y_val)\n",
        "\n",
        "params={\n",
        "    'objective':'regression',\n",
        "    'metric':'mae',\n",
        "    'seed':42\n",
        "}\n",
        "\n",
        "model=lgb.train(params,train,100,val)"
      ],
      "metadata": {
        "id": "b7g5SUsuY8YS"
      },
      "execution_count": null,
      "outputs": []
    },
    {
      "cell_type": "code",
      "source": [
        "# test = pd.read_csv('data/test.csv')\n",
        "# submission = pd.read_csv('data/sample_submission.csv')"
      ],
      "metadata": {
        "id": "Svkp9T3RZ8mH"
      },
      "execution_count": null,
      "outputs": []
    },
    {
      "cell_type": "code",
      "source": [
        "# test['일자'] = test['일자|시간|구분'].str.split(' ').str[0]\n",
        "# test['시간'] = test['일자|시간|구분'].str.split(' ').str[1].astype(int)\n",
        "# test['구분'] = test['일자|시간|구분'].str.split(' ').str[2]"
      ],
      "metadata": {
        "id": "xGe9WwfibdzA"
      },
      "execution_count": null,
      "outputs": []
    },
    {
      "cell_type": "code",
      "source": [
        "# test['일자'] = pd.to_datetime(test['일자'])\n",
        "# test['year'] = test['일자'].dt.year\n",
        "# test['month'] = test['일자'].dt.month\n",
        "# test['day'] = test['일자'].dt.day\n",
        "# test['weekday'] = test['일자'].dt.weekday"
      ],
      "metadata": {
        "id": "aVuoY5kobfHG"
      },
      "execution_count": null,
      "outputs": []
    },
    {
      "cell_type": "code",
      "source": [
        "# test['구분'] = le.fit_transform(test['구분'])"
      ],
      "metadata": {
        "id": "xckjWObfbqp5"
      },
      "execution_count": null,
      "outputs": []
    },
    {
      "cell_type": "code",
      "source": [
        "#test=test.drop(test['일자|시간|구분'],axis=1)\n",
        "#X_test=test.iloc[:,1:-1]"
      ],
      "metadata": {
        "id": "35Eoc-nrbyQW"
      },
      "execution_count": null,
      "outputs": []
    },
    {
      "cell_type": "code",
      "source": [
        "#pred=model.predict(X_test)"
      ],
      "metadata": {
        "id": "F-QsE803culw"
      },
      "execution_count": null,
      "outputs": []
    },
    {
      "cell_type": "code",
      "source": [
        "#submission['공급량']=pred\n",
        "#submission.to_csv('gas_supply_lgbm.csv', index=False)"
      ],
      "metadata": {
        "id": "365UZxkMc1KM"
      },
      "execution_count": null,
      "outputs": []
    }
  ]
}