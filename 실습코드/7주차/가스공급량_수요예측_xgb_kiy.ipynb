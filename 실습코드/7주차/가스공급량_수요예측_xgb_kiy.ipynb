{
  "nbformat": 4,
  "nbformat_minor": 0,
  "metadata": {
    "colab": {
      "name": "가스공급량 수요예측-xgb-kiy.ipynb",
      "provenance": [],
      "collapsed_sections": [],
      "authorship_tag": "ABX9TyN74ODwpULCaZAdwPe/qGTn",
      "include_colab_link": true
    },
    "kernelspec": {
      "name": "python3",
      "display_name": "Python 3"
    },
    "language_info": {
      "name": "python"
    }
  },
  "cells": [
    {
      "cell_type": "markdown",
      "metadata": {
        "id": "view-in-github",
        "colab_type": "text"
      },
      "source": [
        "<a href=\"https://colab.research.google.com/github/KaggleStudy4th/4th_kaggle_study/blob/main/%EC%8B%A4%EC%8A%B5%EC%BD%94%EB%93%9C/7%EC%A3%BC%EC%B0%A8/%EA%B0%80%EC%8A%A4%EA%B3%B5%EA%B8%89%EB%9F%89_%EC%88%98%EC%9A%94%EC%98%88%EC%B8%A1_xgb_kiy.ipynb\" target=\"_parent\"><img src=\"https://colab.research.google.com/assets/colab-badge.svg\" alt=\"Open In Colab\"/></a>"
      ]
    },
    {
      "cell_type": "code",
      "execution_count": 9,
      "metadata": {
        "colab": {
          "base_uri": "https://localhost:8080/"
        },
        "id": "_v6bO2rAdikB",
        "outputId": "1faed81b-1426-4285-ff90-79f4e0483f03"
      },
      "outputs": [
        {
          "output_type": "stream",
          "name": "stdout",
          "text": [
            "Drive already mounted at /content/drive; to attempt to forcibly remount, call drive.mount(\"/content/drive\", force_remount=True).\n"
          ]
        }
      ],
      "source": [
        "# 드라이브 마운트\n",
        "from google.colab import drive\n",
        "drive.mount('/content/drive')"
      ]
    },
    {
      "cell_type": "code",
      "source": [
        "import pandas as pd\n",
        "import numpy as np\n",
        "import matplotlib.pyplot as plt"
      ],
      "metadata": {
        "id": "dw1ByVd4iD84"
      },
      "execution_count": 10,
      "outputs": []
    },
    {
      "cell_type": "code",
      "source": [
        "data=pd.read_csv('/content/drive/MyDrive/dacon/한국가스공사_시간별 공급량_20181231.csv', encoding='cp949')"
      ],
      "metadata": {
        "id": "UVCFa54hiOsc"
      },
      "execution_count": 11,
      "outputs": []
    },
    {
      "cell_type": "code",
      "source": [
        "data.head()"
      ],
      "metadata": {
        "colab": {
          "base_uri": "https://localhost:8080/",
          "height": 206
        },
        "id": "ElRL_HrHiRVN",
        "outputId": "45b28971-1e40-4042-af2e-02942ae47935"
      },
      "execution_count": 12,
      "outputs": [
        {
          "output_type": "execute_result",
          "data": {
            "text/html": [
              "\n",
              "  <div id=\"df-479482b6-dc76-4fd6-9a1c-33a072f6c0c2\">\n",
              "    <div class=\"colab-df-container\">\n",
              "      <div>\n",
              "<style scoped>\n",
              "    .dataframe tbody tr th:only-of-type {\n",
              "        vertical-align: middle;\n",
              "    }\n",
              "\n",
              "    .dataframe tbody tr th {\n",
              "        vertical-align: top;\n",
              "    }\n",
              "\n",
              "    .dataframe thead th {\n",
              "        text-align: right;\n",
              "    }\n",
              "</style>\n",
              "<table border=\"1\" class=\"dataframe\">\n",
              "  <thead>\n",
              "    <tr style=\"text-align: right;\">\n",
              "      <th></th>\n",
              "      <th>연월일</th>\n",
              "      <th>시간</th>\n",
              "      <th>구분</th>\n",
              "      <th>공급량</th>\n",
              "    </tr>\n",
              "  </thead>\n",
              "  <tbody>\n",
              "    <tr>\n",
              "      <th>0</th>\n",
              "      <td>2013-01-01</td>\n",
              "      <td>1</td>\n",
              "      <td>A</td>\n",
              "      <td>2497.129</td>\n",
              "    </tr>\n",
              "    <tr>\n",
              "      <th>1</th>\n",
              "      <td>2013-01-01</td>\n",
              "      <td>2</td>\n",
              "      <td>A</td>\n",
              "      <td>2363.265</td>\n",
              "    </tr>\n",
              "    <tr>\n",
              "      <th>2</th>\n",
              "      <td>2013-01-01</td>\n",
              "      <td>3</td>\n",
              "      <td>A</td>\n",
              "      <td>2258.505</td>\n",
              "    </tr>\n",
              "    <tr>\n",
              "      <th>3</th>\n",
              "      <td>2013-01-01</td>\n",
              "      <td>4</td>\n",
              "      <td>A</td>\n",
              "      <td>2243.969</td>\n",
              "    </tr>\n",
              "    <tr>\n",
              "      <th>4</th>\n",
              "      <td>2013-01-01</td>\n",
              "      <td>5</td>\n",
              "      <td>A</td>\n",
              "      <td>2344.105</td>\n",
              "    </tr>\n",
              "  </tbody>\n",
              "</table>\n",
              "</div>\n",
              "      <button class=\"colab-df-convert\" onclick=\"convertToInteractive('df-479482b6-dc76-4fd6-9a1c-33a072f6c0c2')\"\n",
              "              title=\"Convert this dataframe to an interactive table.\"\n",
              "              style=\"display:none;\">\n",
              "        \n",
              "  <svg xmlns=\"http://www.w3.org/2000/svg\" height=\"24px\"viewBox=\"0 0 24 24\"\n",
              "       width=\"24px\">\n",
              "    <path d=\"M0 0h24v24H0V0z\" fill=\"none\"/>\n",
              "    <path d=\"M18.56 5.44l.94 2.06.94-2.06 2.06-.94-2.06-.94-.94-2.06-.94 2.06-2.06.94zm-11 1L8.5 8.5l.94-2.06 2.06-.94-2.06-.94L8.5 2.5l-.94 2.06-2.06.94zm10 10l.94 2.06.94-2.06 2.06-.94-2.06-.94-.94-2.06-.94 2.06-2.06.94z\"/><path d=\"M17.41 7.96l-1.37-1.37c-.4-.4-.92-.59-1.43-.59-.52 0-1.04.2-1.43.59L10.3 9.45l-7.72 7.72c-.78.78-.78 2.05 0 2.83L4 21.41c.39.39.9.59 1.41.59.51 0 1.02-.2 1.41-.59l7.78-7.78 2.81-2.81c.8-.78.8-2.07 0-2.86zM5.41 20L4 18.59l7.72-7.72 1.47 1.35L5.41 20z\"/>\n",
              "  </svg>\n",
              "      </button>\n",
              "      \n",
              "  <style>\n",
              "    .colab-df-container {\n",
              "      display:flex;\n",
              "      flex-wrap:wrap;\n",
              "      gap: 12px;\n",
              "    }\n",
              "\n",
              "    .colab-df-convert {\n",
              "      background-color: #E8F0FE;\n",
              "      border: none;\n",
              "      border-radius: 50%;\n",
              "      cursor: pointer;\n",
              "      display: none;\n",
              "      fill: #1967D2;\n",
              "      height: 32px;\n",
              "      padding: 0 0 0 0;\n",
              "      width: 32px;\n",
              "    }\n",
              "\n",
              "    .colab-df-convert:hover {\n",
              "      background-color: #E2EBFA;\n",
              "      box-shadow: 0px 1px 2px rgba(60, 64, 67, 0.3), 0px 1px 3px 1px rgba(60, 64, 67, 0.15);\n",
              "      fill: #174EA6;\n",
              "    }\n",
              "\n",
              "    [theme=dark] .colab-df-convert {\n",
              "      background-color: #3B4455;\n",
              "      fill: #D2E3FC;\n",
              "    }\n",
              "\n",
              "    [theme=dark] .colab-df-convert:hover {\n",
              "      background-color: #434B5C;\n",
              "      box-shadow: 0px 1px 3px 1px rgba(0, 0, 0, 0.15);\n",
              "      filter: drop-shadow(0px 1px 2px rgba(0, 0, 0, 0.3));\n",
              "      fill: #FFFFFF;\n",
              "    }\n",
              "  </style>\n",
              "\n",
              "      <script>\n",
              "        const buttonEl =\n",
              "          document.querySelector('#df-479482b6-dc76-4fd6-9a1c-33a072f6c0c2 button.colab-df-convert');\n",
              "        buttonEl.style.display =\n",
              "          google.colab.kernel.accessAllowed ? 'block' : 'none';\n",
              "\n",
              "        async function convertToInteractive(key) {\n",
              "          const element = document.querySelector('#df-479482b6-dc76-4fd6-9a1c-33a072f6c0c2');\n",
              "          const dataTable =\n",
              "            await google.colab.kernel.invokeFunction('convertToInteractive',\n",
              "                                                     [key], {});\n",
              "          if (!dataTable) return;\n",
              "\n",
              "          const docLinkHtml = 'Like what you see? Visit the ' +\n",
              "            '<a target=\"_blank\" href=https://colab.research.google.com/notebooks/data_table.ipynb>data table notebook</a>'\n",
              "            + ' to learn more about interactive tables.';\n",
              "          element.innerHTML = '';\n",
              "          dataTable['output_type'] = 'display_data';\n",
              "          await google.colab.output.renderOutput(dataTable, element);\n",
              "          const docLink = document.createElement('div');\n",
              "          docLink.innerHTML = docLinkHtml;\n",
              "          element.appendChild(docLink);\n",
              "        }\n",
              "      </script>\n",
              "    </div>\n",
              "  </div>\n",
              "  "
            ],
            "text/plain": [
              "          연월일  시간 구분       공급량\n",
              "0  2013-01-01   1  A  2497.129\n",
              "1  2013-01-01   2  A  2363.265\n",
              "2  2013-01-01   3  A  2258.505\n",
              "3  2013-01-01   4  A  2243.969\n",
              "4  2013-01-01   5  A  2344.105"
            ]
          },
          "metadata": {},
          "execution_count": 12
        }
      ]
    },
    {
      "cell_type": "code",
      "source": [
        "plt.figure(figsize=(30,10))\n",
        "plt.plot(data['공급량'])   \n",
        "plt.show() "
      ],
      "metadata": {
        "colab": {
          "base_uri": "https://localhost:8080/",
          "height": 322
        },
        "id": "x0K7QGCPiXxN",
        "outputId": "04741b64-1bd3-4712-9d9c-cb9ba012edf2"
      },
      "execution_count": 13,
      "outputs": [
        {
          "output_type": "display_data",
          "data": {
            "image/png": "[encoded data removed]",
            "text/plain": [
              "<Figure size 2160x720 with 1 Axes>"
            ]
          },
          "metadata": {
            "needs_background": "light"
          }
        }
      ]
    },
    {
      "cell_type": "markdown",
      "source": [
        "# 1. 전처리"
      ],
      "metadata": {
        "id": "4aLjz_v9i_yk"
      }
    },
    {
      "cell_type": "code",
      "source": [
        "from sklearn.preprocessing import LabelEncoder\n",
        "\n",
        "le = LabelEncoder()\n",
        "result = le.fit_transform(data['구분'])\n",
        "print(result)"
      ],
      "metadata": {
        "colab": {
          "base_uri": "https://localhost:8080/"
        },
        "id": "-t5CoxKZjkbJ",
        "outputId": "5984a910-d14f-4834-d527-b4ef48cdf094"
      },
      "execution_count": 16,
      "outputs": [
        {
          "output_type": "stream",
          "name": "stdout",
          "text": [
            "[0 0 0 ... 6 6 6]\n"
          ]
        }
      ]
    },
    {
      "cell_type": "code",
      "source": [
        "data['구분']=result\n",
        "data"
      ],
      "metadata": {
        "colab": {
          "base_uri": "https://localhost:8080/",
          "height": 423
        },
        "id": "Chzh3eWzjqCq",
        "outputId": "180e3fce-c131-4b58-86b8-3883f1b64d15"
      },
      "execution_count": 17,
      "outputs": [
        {
          "output_type": "execute_result",
          "data": {
            "text/html": [
              "\n",
              "  <div id=\"df-79b4705e-3487-47c3-8a6f-43b5ae37c6b3\">\n",
              "    <div class=\"colab-df-container\">\n",
              "      <div>\n",
              "<style scoped>\n",
              "    .dataframe tbody tr th:only-of-type {\n",
              "        vertical-align: middle;\n",
              "    }\n",
              "\n",
              "    .dataframe tbody tr th {\n",
              "        vertical-align: top;\n",
              "    }\n",
              "\n",
              "    .dataframe thead th {\n",
              "        text-align: right;\n",
              "    }\n",
              "</style>\n",
              "<table border=\"1\" class=\"dataframe\">\n",
              "  <thead>\n",
              "    <tr style=\"text-align: right;\">\n",
              "      <th></th>\n",
              "      <th>연월일</th>\n",
              "      <th>시간</th>\n",
              "      <th>구분</th>\n",
              "      <th>공급량</th>\n",
              "    </tr>\n",
              "  </thead>\n",
              "  <tbody>\n",
              "    <tr>\n",
              "      <th>0</th>\n",
              "      <td>2013-01-01</td>\n",
              "      <td>1</td>\n",
              "      <td>0</td>\n",
              "      <td>2497.129</td>\n",
              "    </tr>\n",
              "    <tr>\n",
              "      <th>1</th>\n",
              "      <td>2013-01-01</td>\n",
              "      <td>2</td>\n",
              "      <td>0</td>\n",
              "      <td>2363.265</td>\n",
              "    </tr>\n",
              "    <tr>\n",
              "      <th>2</th>\n",
              "      <td>2013-01-01</td>\n",
              "      <td>3</td>\n",
              "      <td>0</td>\n",
              "      <td>2258.505</td>\n",
              "    </tr>\n",
              "    <tr>\n",
              "      <th>3</th>\n",
              "      <td>2013-01-01</td>\n",
              "      <td>4</td>\n",
              "      <td>0</td>\n",
              "      <td>2243.969</td>\n",
              "    </tr>\n",
              "    <tr>\n",
              "      <th>4</th>\n",
              "      <td>2013-01-01</td>\n",
              "      <td>5</td>\n",
              "      <td>0</td>\n",
              "      <td>2344.105</td>\n",
              "    </tr>\n",
              "    <tr>\n",
              "      <th>...</th>\n",
              "      <td>...</td>\n",
              "      <td>...</td>\n",
              "      <td>...</td>\n",
              "      <td>...</td>\n",
              "    </tr>\n",
              "    <tr>\n",
              "      <th>368083</th>\n",
              "      <td>2018-12-31</td>\n",
              "      <td>20</td>\n",
              "      <td>6</td>\n",
              "      <td>681.033</td>\n",
              "    </tr>\n",
              "    <tr>\n",
              "      <th>368084</th>\n",
              "      <td>2018-12-31</td>\n",
              "      <td>21</td>\n",
              "      <td>6</td>\n",
              "      <td>669.961</td>\n",
              "    </tr>\n",
              "    <tr>\n",
              "      <th>368085</th>\n",
              "      <td>2018-12-31</td>\n",
              "      <td>22</td>\n",
              "      <td>6</td>\n",
              "      <td>657.941</td>\n",
              "    </tr>\n",
              "    <tr>\n",
              "      <th>368086</th>\n",
              "      <td>2018-12-31</td>\n",
              "      <td>23</td>\n",
              "      <td>6</td>\n",
              "      <td>610.953</td>\n",
              "    </tr>\n",
              "    <tr>\n",
              "      <th>368087</th>\n",
              "      <td>2018-12-31</td>\n",
              "      <td>24</td>\n",
              "      <td>6</td>\n",
              "      <td>560.896</td>\n",
              "    </tr>\n",
              "  </tbody>\n",
              "</table>\n",
              "<p>368088 rows × 4 columns</p>\n",
              "</div>\n",
              "      <button class=\"colab-df-convert\" onclick=\"convertToInteractive('df-79b4705e-3487-47c3-8a6f-43b5ae37c6b3')\"\n",
              "              title=\"Convert this dataframe to an interactive table.\"\n",
              "              style=\"display:none;\">\n",
              "        \n",
              "  <svg xmlns=\"http://www.w3.org/2000/svg\" height=\"24px\"viewBox=\"0 0 24 24\"\n",
              "       width=\"24px\">\n",
              "    <path d=\"M0 0h24v24H0V0z\" fill=\"none\"/>\n",
              "    <path d=\"M18.56 5.44l.94 2.06.94-2.06 2.06-.94-2.06-.94-.94-2.06-.94 2.06-2.06.94zm-11 1L8.5 8.5l.94-2.06 2.06-.94-2.06-.94L8.5 2.5l-.94 2.06-2.06.94zm10 10l.94 2.06.94-2.06 2.06-.94-2.06-.94-.94-2.06-.94 2.06-2.06.94z\"/><path d=\"M17.41 7.96l-1.37-1.37c-.4-.4-.92-.59-1.43-.59-.52 0-1.04.2-1.43.59L10.3 9.45l-7.72 7.72c-.78.78-.78 2.05 0 2.83L4 21.41c.39.39.9.59 1.41.59.51 0 1.02-.2 1.41-.59l7.78-7.78 2.81-2.81c.8-.78.8-2.07 0-2.86zM5.41 20L4 18.59l7.72-7.72 1.47 1.35L5.41 20z\"/>\n",
              "  </svg>\n",
              "      </button>\n",
              "      \n",
              "  <style>\n",
              "    .colab-df-container {\n",
              "      display:flex;\n",
              "      flex-wrap:wrap;\n",
              "      gap: 12px;\n",
              "    }\n",
              "\n",
              "    .colab-df-convert {\n",
              "      background-color: #E8F0FE;\n",
              "      border: none;\n",
              "      border-radius: 50%;\n",
              "      cursor: pointer;\n",
              "      display: none;\n",
              "      fill: #1967D2;\n",
              "      height: 32px;\n",
              "      padding: 0 0 0 0;\n",
              "      width: 32px;\n",
              "    }\n",
              "\n",
              "    .colab-df-convert:hover {\n",
              "      background-color: #E2EBFA;\n",
              "      box-shadow: 0px 1px 2px rgba(60, 64, 67, 0.3), 0px 1px 3px 1px rgba(60, 64, 67, 0.15);\n",
              "      fill: #174EA6;\n",
              "    }\n",
              "\n",
              "    [theme=dark] .colab-df-convert {\n",
              "      background-color: #3B4455;\n",
              "      fill: #D2E3FC;\n",
              "    }\n",
              "\n",
              "    [theme=dark] .colab-df-convert:hover {\n",
              "      background-color: #434B5C;\n",
              "      box-shadow: 0px 1px 3px 1px rgba(0, 0, 0, 0.15);\n",
              "      filter: drop-shadow(0px 1px 2px rgba(0, 0, 0, 0.3));\n",
              "      fill: #FFFFFF;\n",
              "    }\n",
              "  </style>\n",
              "\n",
              "      <script>\n",
              "        const buttonEl =\n",
              "          document.querySelector('#df-79b4705e-3487-47c3-8a6f-43b5ae37c6b3 button.colab-df-convert');\n",
              "        buttonEl.style.display =\n",
              "          google.colab.kernel.accessAllowed ? 'block' : 'none';\n",
              "\n",
              "        async function convertToInteractive(key) {\n",
              "          const element = document.querySelector('#df-79b4705e-3487-47c3-8a6f-43b5ae37c6b3');\n",
              "          const dataTable =\n",
              "            await google.colab.kernel.invokeFunction('convertToInteractive',\n",
              "                                                     [key], {});\n",
              "          if (!dataTable) return;\n",
              "\n",
              "          const docLinkHtml = 'Like what you see? Visit the ' +\n",
              "            '<a target=\"_blank\" href=https://colab.research.google.com/notebooks/data_table.ipynb>data table notebook</a>'\n",
              "            + ' to learn more about interactive tables.';\n",
              "          element.innerHTML = '';\n",
              "          dataTable['output_type'] = 'display_data';\n",
              "          await google.colab.output.renderOutput(dataTable, element);\n",
              "          const docLink = document.createElement('div');\n",
              "          docLink.innerHTML = docLinkHtml;\n",
              "          element.appendChild(docLink);\n",
              "        }\n",
              "      </script>\n",
              "    </div>\n",
              "  </div>\n",
              "  "
            ],
            "text/plain": [
              "               연월일  시간  구분       공급량\n",
              "0       2013-01-01   1   0  2497.129\n",
              "1       2013-01-01   2   0  2363.265\n",
              "2       2013-01-01   3   0  2258.505\n",
              "3       2013-01-01   4   0  2243.969\n",
              "4       2013-01-01   5   0  2344.105\n",
              "...            ...  ..  ..       ...\n",
              "368083  2018-12-31  20   6   681.033\n",
              "368084  2018-12-31  21   6   669.961\n",
              "368085  2018-12-31  22   6   657.941\n",
              "368086  2018-12-31  23   6   610.953\n",
              "368087  2018-12-31  24   6   560.896\n",
              "\n",
              "[368088 rows x 4 columns]"
            ]
          },
          "metadata": {},
          "execution_count": 17
        }
      ]
    },
    {
      "cell_type": "code",
      "source": [
        "data_unique=np.unique(data['연월일'])\n",
        "data_unique"
      ],
      "metadata": {
        "colab": {
          "base_uri": "https://localhost:8080/"
        },
        "id": "lHDqTTxzieid",
        "outputId": "b7ff5300-9187-4c1b-dd17-769f3b57242c"
      },
      "execution_count": 14,
      "outputs": [
        {
          "output_type": "execute_result",
          "data": {
            "text/plain": [
              "array(['2013-01-01', '2013-01-02', '2013-01-03', ..., '2018-12-29',\n",
              "       '2018-12-30', '2018-12-31'], dtype=object)"
            ]
          },
          "metadata": {},
          "execution_count": 14
        }
      ]
    },
    {
      "cell_type": "code",
      "source": [
        "data['연월일']=pd.to_datetime(data['연월일'])"
      ],
      "metadata": {
        "id": "_LIljftsj3v5"
      },
      "execution_count": 18,
      "outputs": []
    },
    {
      "cell_type": "code",
      "source": [
        "data['year']=data['연월일'].dt.year\n",
        "data['month']=data['연월일'].dt.month\n",
        "data['day']=data['연월일'].dt.day\n",
        "data['weekday']=data['연월일'].dt.weekday"
      ],
      "metadata": {
        "id": "XeLp8Bz-jDPx"
      },
      "execution_count": 19,
      "outputs": []
    },
    {
      "cell_type": "code",
      "source": [
        "data"
      ],
      "metadata": {
        "colab": {
          "base_uri": "https://localhost:8080/",
          "height": 423
        },
        "id": "WFQlDj6PkEfJ",
        "outputId": "80cd3b93-5983-446b-c28d-5c7bbf689550"
      },
      "execution_count": 22,
      "outputs": [
        {
          "output_type": "execute_result",
          "data": {
            "text/html": [
              "\n",
              "  <div id=\"df-c1882f54-cec9-4742-90ab-fbd2664a6387\">\n",
              "    <div class=\"colab-df-container\">\n",
              "      <div>\n",
              "<style scoped>\n",
              "    .dataframe tbody tr th:only-of-type {\n",
              "        vertical-align: middle;\n",
              "    }\n",
              "\n",
              "    .dataframe tbody tr th {\n",
              "        vertical-align: top;\n",
              "    }\n",
              "\n",
              "    .dataframe thead th {\n",
              "        text-align: right;\n",
              "    }\n",
              "</style>\n",
              "<table border=\"1\" class=\"dataframe\">\n",
              "  <thead>\n",
              "    <tr style=\"text-align: right;\">\n",
              "      <th></th>\n",
              "      <th>연월일</th>\n",
              "      <th>시간</th>\n",
              "      <th>구분</th>\n",
              "      <th>공급량</th>\n",
              "      <th>year</th>\n",
              "      <th>month</th>\n",
              "      <th>day</th>\n",
              "      <th>weekday</th>\n",
              "    </tr>\n",
              "  </thead>\n",
              "  <tbody>\n",
              "    <tr>\n",
              "      <th>0</th>\n",
              "      <td>2013-01-01</td>\n",
              "      <td>1</td>\n",
              "      <td>0</td>\n",
              "      <td>2497.129</td>\n",
              "      <td>2013</td>\n",
              "      <td>1</td>\n",
              "      <td>1</td>\n",
              "      <td>1</td>\n",
              "    </tr>\n",
              "    <tr>\n",
              "      <th>1</th>\n",
              "      <td>2013-01-01</td>\n",
              "      <td>2</td>\n",
              "      <td>0</td>\n",
              "      <td>2363.265</td>\n",
              "      <td>2013</td>\n",
              "      <td>1</td>\n",
              "      <td>1</td>\n",
              "      <td>1</td>\n",
              "    </tr>\n",
              "    <tr>\n",
              "      <th>2</th>\n",
              "      <td>2013-01-01</td>\n",
              "      <td>3</td>\n",
              "      <td>0</td>\n",
              "      <td>2258.505</td>\n",
              "      <td>2013</td>\n",
              "      <td>1</td>\n",
              "      <td>1</td>\n",
              "      <td>1</td>\n",
              "    </tr>\n",
              "    <tr>\n",
              "      <th>3</th>\n",
              "      <td>2013-01-01</td>\n",
              "      <td>4</td>\n",
              "      <td>0</td>\n",
              "      <td>2243.969</td>\n",
              "      <td>2013</td>\n",
              "      <td>1</td>\n",
              "      <td>1</td>\n",
              "      <td>1</td>\n",
              "    </tr>\n",
              "    <tr>\n",
              "      <th>4</th>\n",
              "      <td>2013-01-01</td>\n",
              "      <td>5</td>\n",
              "      <td>0</td>\n",
              "      <td>2344.105</td>\n",
              "      <td>2013</td>\n",
              "      <td>1</td>\n",
              "      <td>1</td>\n",
              "      <td>1</td>\n",
              "    </tr>\n",
              "    <tr>\n",
              "      <th>...</th>\n",
              "      <td>...</td>\n",
              "      <td>...</td>\n",
              "      <td>...</td>\n",
              "      <td>...</td>\n",
              "      <td>...</td>\n",
              "      <td>...</td>\n",
              "      <td>...</td>\n",
              "      <td>...</td>\n",
              "    </tr>\n",
              "    <tr>\n",
              "      <th>368083</th>\n",
              "      <td>2018-12-31</td>\n",
              "      <td>20</td>\n",
              "      <td>6</td>\n",
              "      <td>681.033</td>\n",
              "      <td>2018</td>\n",
              "      <td>12</td>\n",
              "      <td>31</td>\n",
              "      <td>0</td>\n",
              "    </tr>\n",
              "    <tr>\n",
              "      <th>368084</th>\n",
              "      <td>2018-12-31</td>\n",
              "      <td>21</td>\n",
              "      <td>6</td>\n",
              "      <td>669.961</td>\n",
              "      <td>2018</td>\n",
              "      <td>12</td>\n",
              "      <td>31</td>\n",
              "      <td>0</td>\n",
              "    </tr>\n",
              "    <tr>\n",
              "      <th>368085</th>\n",
              "      <td>2018-12-31</td>\n",
              "      <td>22</td>\n",
              "      <td>6</td>\n",
              "      <td>657.941</td>\n",
              "      <td>2018</td>\n",
              "      <td>12</td>\n",
              "      <td>31</td>\n",
              "      <td>0</td>\n",
              "    </tr>\n",
              "    <tr>\n",
              "      <th>368086</th>\n",
              "      <td>2018-12-31</td>\n",
              "      <td>23</td>\n",
              "      <td>6</td>\n",
              "      <td>610.953</td>\n",
              "      <td>2018</td>\n",
              "      <td>12</td>\n",
              "      <td>31</td>\n",
              "      <td>0</td>\n",
              "    </tr>\n",
              "    <tr>\n",
              "      <th>368087</th>\n",
              "      <td>2018-12-31</td>\n",
              "      <td>24</td>\n",
              "      <td>6</td>\n",
              "      <td>560.896</td>\n",
              "      <td>2018</td>\n",
              "      <td>12</td>\n",
              "      <td>31</td>\n",
              "      <td>0</td>\n",
              "    </tr>\n",
              "  </tbody>\n",
              "</table>\n",
              "<p>368088 rows × 8 columns</p>\n",
              "</div>\n",
              "      <button class=\"colab-df-convert\" onclick=\"convertToInteractive('df-c1882f54-cec9-4742-90ab-fbd2664a6387')\"\n",
              "              title=\"Convert this dataframe to an interactive table.\"\n",
              "              style=\"display:none;\">\n",
              "        \n",
              "  <svg xmlns=\"http://www.w3.org/2000/svg\" height=\"24px\"viewBox=\"0 0 24 24\"\n",
              "       width=\"24px\">\n",
              "    <path d=\"M0 0h24v24H0V0z\" fill=\"none\"/>\n",
              "    <path d=\"M18.56 5.44l.94 2.06.94-2.06 2.06-.94-2.06-.94-.94-2.06-.94 2.06-2.06.94zm-11 1L8.5 8.5l.94-2.06 2.06-.94-2.06-.94L8.5 2.5l-.94 2.06-2.06.94zm10 10l.94 2.06.94-2.06 2.06-.94-2.06-.94-.94-2.06-.94 2.06-2.06.94z\"/><path d=\"M17.41 7.96l-1.37-1.37c-.4-.4-.92-.59-1.43-.59-.52 0-1.04.2-1.43.59L10.3 9.45l-7.72 7.72c-.78.78-.78 2.05 0 2.83L4 21.41c.39.39.9.59 1.41.59.51 0 1.02-.2 1.41-.59l7.78-7.78 2.81-2.81c.8-.78.8-2.07 0-2.86zM5.41 20L4 18.59l7.72-7.72 1.47 1.35L5.41 20z\"/>\n",
              "  </svg>\n",
              "      </button>\n",
              "      \n",
              "  <style>\n",
              "    .colab-df-container {\n",
              "      display:flex;\n",
              "      flex-wrap:wrap;\n",
              "      gap: 12px;\n",
              "    }\n",
              "\n",
              "    .colab-df-convert {\n",
              "      background-color: #E8F0FE;\n",
              "      border: none;\n",
              "      border-radius: 50%;\n",
              "      cursor: pointer;\n",
              "      display: none;\n",
              "      fill: #1967D2;\n",
              "      height: 32px;\n",
              "      padding: 0 0 0 0;\n",
              "      width: 32px;\n",
              "    }\n",
              "\n",
              "    .colab-df-convert:hover {\n",
              "      background-color: #E2EBFA;\n",
              "      box-shadow: 0px 1px 2px rgba(60, 64, 67, 0.3), 0px 1px 3px 1px rgba(60, 64, 67, 0.15);\n",
              "      fill: #174EA6;\n",
              "    }\n",
              "\n",
              "    [theme=dark] .colab-df-convert {\n",
              "      background-color: #3B4455;\n",
              "      fill: #D2E3FC;\n",
              "    }\n",
              "\n",
              "    [theme=dark] .colab-df-convert:hover {\n",
              "      background-color: #434B5C;\n",
              "      box-shadow: 0px 1px 3px 1px rgba(0, 0, 0, 0.15);\n",
              "      filter: drop-shadow(0px 1px 2px rgba(0, 0, 0, 0.3));\n",
              "      fill: #FFFFFF;\n",
              "    }\n",
              "  </style>\n",
              "\n",
              "      <script>\n",
              "        const buttonEl =\n",
              "          document.querySelector('#df-c1882f54-cec9-4742-90ab-fbd2664a6387 button.colab-df-convert');\n",
              "        buttonEl.style.display =\n",
              "          google.colab.kernel.accessAllowed ? 'block' : 'none';\n",
              "\n",
              "        async function convertToInteractive(key) {\n",
              "          const element = document.querySelector('#df-c1882f54-cec9-4742-90ab-fbd2664a6387');\n",
              "          const dataTable =\n",
              "            await google.colab.kernel.invokeFunction('convertToInteractive',\n",
              "                                                     [key], {});\n",
              "          if (!dataTable) return;\n",
              "\n",
              "          const docLinkHtml = 'Like what you see? Visit the ' +\n",
              "            '<a target=\"_blank\" href=https://colab.research.google.com/notebooks/data_table.ipynb>data table notebook</a>'\n",
              "            + ' to learn more about interactive tables.';\n",
              "          element.innerHTML = '';\n",
              "          dataTable['output_type'] = 'display_data';\n",
              "          await google.colab.output.renderOutput(dataTable, element);\n",
              "          const docLink = document.createElement('div');\n",
              "          docLink.innerHTML = docLinkHtml;\n",
              "          element.appendChild(docLink);\n",
              "        }\n",
              "      </script>\n",
              "    </div>\n",
              "  </div>\n",
              "  "
            ],
            "text/plain": [
              "              연월일  시간  구분       공급량  year  month  day  weekday\n",
              "0      2013-01-01   1   0  2497.129  2013      1    1        1\n",
              "1      2013-01-01   2   0  2363.265  2013      1    1        1\n",
              "2      2013-01-01   3   0  2258.505  2013      1    1        1\n",
              "3      2013-01-01   4   0  2243.969  2013      1    1        1\n",
              "4      2013-01-01   5   0  2344.105  2013      1    1        1\n",
              "...           ...  ..  ..       ...   ...    ...  ...      ...\n",
              "368083 2018-12-31  20   6   681.033  2018     12   31        0\n",
              "368084 2018-12-31  21   6   669.961  2018     12   31        0\n",
              "368085 2018-12-31  22   6   657.941  2018     12   31        0\n",
              "368086 2018-12-31  23   6   610.953  2018     12   31        0\n",
              "368087 2018-12-31  24   6   560.896  2018     12   31        0\n",
              "\n",
              "[368088 rows x 8 columns]"
            ]
          },
          "metadata": {},
          "execution_count": 22
        }
      ]
    },
    {
      "cell_type": "code",
      "source": [
        "train_years = [2013,2014,2015,2016,2017]\n",
        "val_years = [2018]"
      ],
      "metadata": {
        "id": "rQxZjwYDjPma"
      },
      "execution_count": 20,
      "outputs": []
    },
    {
      "cell_type": "code",
      "source": [
        "train = data[data['year'].isin(train_years)]\n",
        "val = data[data['year'].isin(val_years)]"
      ],
      "metadata": {
        "id": "xMdouoOOkOpb"
      },
      "execution_count": 24,
      "outputs": []
    },
    {
      "cell_type": "code",
      "source": [
        "features = ['구분', 'month', 'day', 'weekday', '시간']\n",
        "train_x = data[features]\n",
        "train_y = data['공급량']\n",
        "\n",
        "val_x = val[features]\n",
        "val_y = val['공급량']"
      ],
      "metadata": {
        "id": "ByCHU09oj9H0"
      },
      "execution_count": 25,
      "outputs": []
    },
    {
      "cell_type": "markdown",
      "source": [
        "# 2. 모델링"
      ],
      "metadata": {
        "id": "W0pmV2BJky11"
      }
    },
    {
      "cell_type": "markdown",
      "source": [
        "파이썬래퍼 XGBoost와 사이킷런래퍼 XGBoost의 가장 큰 차이는\n",
        "파이썬래퍼는 학습용과 테스트 데이터 세트를 위해 별도의 DMatrix를 생성한다는 점.\n",
        "DMatrix : 넘파이 입력 파라미터를 받아서 만들어지는 XGBoost만의 전용 데이터 세트\n",
        "\n",
        "* 주요 입력 파라미터는 data(피처 데이터 세트)와 label\n",
        "(분류: 레이블 데이터 세트/회귀: 숫자형인 종속값 데이터 세트)\n",
        "* 판다스의 DataFrame으로 데이터 인터페이스를 하기 위해서는 DataFrame.values를 이용해 넘파이로 일차변환 한 뒤에 DMatrix 변환을 적용"
      ],
      "metadata": {
        "id": "GPFy65QOlZ4J"
      }
    },
    {
      "cell_type": "code",
      "source": [
        "!pip install xgboost"
      ],
      "metadata": {
        "colab": {
          "base_uri": "https://localhost:8080/"
        },
        "id": "qVwkdEP3l9EN",
        "outputId": "7e5a14c6-4b1b-4d09-dff3-a94bc06bc0f7"
      },
      "execution_count": 29,
      "outputs": [
        {
          "output_type": "stream",
          "name": "stdout",
          "text": [
            "Requirement already satisfied: xgboost in /usr/local/lib/python3.7/dist-packages (0.90)\n",
            "Requirement already satisfied: scipy in /usr/local/lib/python3.7/dist-packages (from xgboost) (1.4.1)\n",
            "Requirement already satisfied: numpy in /usr/local/lib/python3.7/dist-packages (from xgboost) (1.21.5)\n"
          ]
        }
      ]
    },
    {
      "cell_type": "code",
      "source": [
        "import xgboost as xgb\n",
        "from xgboost import XGBRegressor \n",
        "\n",
        "dtrain = xgb.DMatrix(data=train_x, label = train_y)\n",
        "dval = xgb.DMatrix(data=val_x, label = val_y)\n",
        "wlist = [(dtrain, 'train'), (dval,'eval')]"
      ],
      "metadata": {
        "id": "2QTYCr8Aj_mm"
      },
      "execution_count": 31,
      "outputs": []
    },
    {
      "cell_type": "code",
      "source": [
        "params = {\n",
        "    'learning_rate': 0.05,\n",
        "    'objective': 'reg:squarederror',\n",
        "    'seed':42\n",
        "}"
      ],
      "metadata": {
        "id": "Dr8QgVu9lzWy"
      },
      "execution_count": 32,
      "outputs": []
    },
    {
      "cell_type": "markdown",
      "source": [
        "조기 중단: 수행 성능을 개선하기 위해서 더 이상 지표 개선이 없을 경우에 num_boost_round 횟수를 모두 채우지 않고 중간에 반복을 빠져 나올 수 있도록 함.\n",
        "\n",
        "* 조기 중단은 xgboost의 train()함수에 early_stopping_rounds파라미터를 입력하여 설정함.\n",
        "\n",
        "* early_stopping_rounds파라미터를 설정해 조기 중단을 수행하기 위해서는 반드시 eval_set과 eval_metric을 같이 설정해야 함. Xgboost는 반복마다 eval_set으로 지정된 데이터 세트에서 eval_metrics의 지정된 평가 지표로 예측 오류를 측정함.\n",
        "\n",
        "* eval_set는 성능 평가를 수행할 평가용 이터 세트를 설정.\n",
        "eval_metric은 평가 세트에 적용할 성능 평가 방법, 분류일 경우 주로 'error'(분류 오류), 'logloss'를 적용.\n",
        " \n",
        "* evals파라미터에 학습 데이터 세트와 eval데이터 세트를 명기해주면 평가를 eval데이터 세트를 수행하면서 조기 중단을 적용할 수 있음. 조기 중단을 수행하려면 반드시 evals파라미터에 eval데이터 세트를 입력할 것."
      ],
      "metadata": {
        "id": "ZKyUdLSKmvdl"
      }
    },
    {
      "cell_type": "markdown",
      "source": [
        "verbose_eval: (숫자 또는 부울 입력) evals 또한 적어도 하나 개의 원소를 필요로 함. 참이면 evals 소자의 평가 결과가 출력될 것이다 입력 번호가 5라고 가정하면, (5)가 출력 한 번씩 반복됨."
      ],
      "metadata": {
        "id": "fm6FXhLQnbrU"
      }
    },
    {
      "cell_type": "code",
      "source": [
        "model = xgb.train( params, dtrain, 500, evals=wlist, verbose_eval=20, early_stopping_rounds=100)"
      ],
      "metadata": {
        "colab": {
          "base_uri": "https://localhost:8080/"
        },
        "id": "RvAgAMg-mUES",
        "outputId": "662c67dc-cc92-4242-eda9-37c320ee223d"
      },
      "execution_count": 33,
      "outputs": [
        {
          "output_type": "stream",
          "name": "stdout",
          "text": [
            "[0]\ttrain-rmse:1264.47\teval-rmse:1369.48\n",
            "Multiple eval metrics have been passed: 'eval-rmse' will be used for early stopping.\n",
            "\n",
            "Will train until eval-rmse hasn't improved in 100 rounds.\n",
            "[20]\ttrain-rmse:539.011\teval-rmse:638.062\n",
            "[40]\ttrain-rmse:321.14\teval-rmse:403.413\n",
            "[60]\ttrain-rmse:252.784\teval-rmse:318.741\n",
            "[80]\ttrain-rmse:226.509\teval-rmse:282.026\n",
            "[100]\ttrain-rmse:213.589\teval-rmse:261.423\n",
            "[120]\ttrain-rmse:206.317\teval-rmse:249.712\n",
            "[140]\ttrain-rmse:201.619\teval-rmse:241.603\n",
            "[160]\ttrain-rmse:198.407\teval-rmse:236.348\n",
            "[180]\ttrain-rmse:194.696\teval-rmse:230.145\n",
            "[200]\ttrain-rmse:192.034\teval-rmse:225.601\n",
            "[220]\ttrain-rmse:190.046\teval-rmse:222.06\n",
            "[240]\ttrain-rmse:188.075\teval-rmse:218.822\n",
            "[260]\ttrain-rmse:186.296\teval-rmse:216.227\n",
            "[280]\ttrain-rmse:184.461\teval-rmse:213.487\n",
            "[300]\ttrain-rmse:183.051\teval-rmse:211.825\n",
            "[320]\ttrain-rmse:181.621\teval-rmse:210.052\n",
            "[340]\ttrain-rmse:178.702\teval-rmse:206.903\n",
            "[360]\ttrain-rmse:177.218\teval-rmse:205.048\n",
            "[380]\ttrain-rmse:175.293\teval-rmse:202.492\n",
            "[400]\ttrain-rmse:173.918\teval-rmse:200.491\n",
            "[420]\ttrain-rmse:172.593\teval-rmse:198.48\n",
            "[440]\ttrain-rmse:171.578\teval-rmse:196.998\n",
            "[460]\ttrain-rmse:169.584\teval-rmse:193.949\n",
            "[480]\ttrain-rmse:166.945\teval-rmse:189.742\n",
            "[499]\ttrain-rmse:164.895\teval-rmse:186.534\n"
          ]
        }
      ]
    },
    {
      "cell_type": "code",
      "source": [
        ""
      ],
      "metadata": {
        "id": "uyMHejy8ng3l"
      },
      "execution_count": null,
      "outputs": []
    }
  ]
}