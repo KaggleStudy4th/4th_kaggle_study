{
  "nbformat": 4,
  "nbformat_minor": 0,
  "metadata": {
    "colab": {
      "name": "NN_MNIST Classification-kiy.ipynb",
      "provenance": [],
      "collapsed_sections": []
    },
    "kernelspec": {
      "name": "python3",
      "display_name": "Python 3"
    },
    "language_info": {
      "name": "python"
    },
    "accelerator": "GPU"
  },
  "cells": [
    {
      "cell_type": "markdown",
      "source": [
        "# 파이토치로 MLP 구현"
      ],
      "metadata": {
        "id": "y_Hk3VJ1Ztca"
      }
    },
    {
      "cell_type": "code",
      "execution_count": 1,
      "metadata": {
        "id": "_KKDuqXzASBi"
      },
      "outputs": [],
      "source": [
        "import torch\n",
        "import torch.nn as nn"
      ]
    },
    {
      "cell_type": "code",
      "source": [
        "device = 'cuda' if torch.cuda.is_available() else 'cpu'\n",
        "\n",
        "# for reproducibility\n",
        "torch.manual_seed(777)\n",
        "if device == 'cuda':\n",
        "    torch.cuda.manual_seed_all(777)"
      ],
      "metadata": {
        "id": "Az6zymQCZy0O"
      },
      "execution_count": 2,
      "outputs": []
    },
    {
      "cell_type": "code",
      "source": [
        "X = torch.FloatTensor([[0, 0], [0, 1], [1, 0], [1, 1]]).to(device)\n",
        "Y = torch.FloatTensor([[0], [1], [1], [0]]).to(device)"
      ],
      "metadata": {
        "id": "r2-l0rApZ0iG"
      },
      "execution_count": 3,
      "outputs": []
    },
    {
      "cell_type": "code",
      "source": [
        "#딥러닝 층 쌓기\n",
        "model = nn.Sequential(\n",
        "          nn.Linear(2, 10, bias=True), # input_layer = 2, hidden_layer1 = 10\n",
        "          nn.Sigmoid(),\n",
        "          nn.Linear(10, 10, bias=True), # hidden_layer1 = 10, hidden_layer2 = 10\n",
        "          nn.Sigmoid(),\n",
        "          nn.Linear(10, 10, bias=True), # hidden_layer2 = 10, hidden_layer3 = 10\n",
        "          nn.Sigmoid(),\n",
        "          nn.Linear(10, 1, bias=True), # hidden_layer3 = 10, output_layer = 1\n",
        "          nn.Sigmoid()\n",
        "          ).to(device)"
      ],
      "metadata": {
        "id": "nFadrlNMZ3_J"
      },
      "execution_count": 4,
      "outputs": []
    },
    {
      "cell_type": "code",
      "source": [
        "#비용함수 및 옵티마이저 \n",
        "criterion = torch.nn.BCELoss().to(device)\n",
        "optimizer = torch.optim.SGD(model.parameters(), lr=1)  # modified learning rate from 0.1 to 1"
      ],
      "metadata": {
        "id": "T-nWU69yaDgN"
      },
      "execution_count": 5,
      "outputs": []
    },
    {
      "cell_type": "code",
      "source": [
        "for epoch in range(10001):\n",
        "    optimizer.zero_grad()\n",
        "    # forward 연산\n",
        "    hypothesis = model(X)\n",
        "\n",
        "    # 비용 함수\n",
        "    cost = criterion(hypothesis, Y)\n",
        "    cost.backward()\n",
        "    optimizer.step()\n",
        "\n",
        "    # 100의 배수에 해당되는 에포크마다 비용을 출력\n",
        "    if epoch % 100 == 0:\n",
        "        print(epoch, cost.item())"
      ],
      "metadata": {
        "colab": {
          "base_uri": "https://localhost:8080/"
        },
        "id": "EeqyCAkdaJBg",
        "outputId": "f44aaf9d-7d84-47f6-f362-bcf8008ac662"
      },
      "execution_count": 6,
      "outputs": [
        {
          "output_type": "stream",
          "name": "stdout",
          "text": [
            "0 0.6948983669281006\n",
            "100 0.6931558847427368\n",
            "200 0.6931535005569458\n",
            "300 0.6931514143943787\n",
            "400 0.6931493282318115\n",
            "500 0.6931473016738892\n",
            "600 0.6931453943252563\n",
            "700 0.6931434869766235\n",
            "800 0.6931415796279907\n",
            "900 0.6931397914886475\n",
            "1000 0.6931380033493042\n",
            "1100 0.6931361556053162\n",
            "1200 0.6931343078613281\n",
            "1300 0.6931324005126953\n",
            "1400 0.6931304931640625\n",
            "1500 0.6931284666061401\n",
            "1600 0.6931264400482178\n",
            "1700 0.6931242942810059\n",
            "1800 0.6931220293045044\n",
            "1900 0.6931196451187134\n",
            "2000 0.6931171417236328\n",
            "2100 0.6931144595146179\n",
            "2200 0.6931116580963135\n",
            "2300 0.6931085586547852\n",
            "2400 0.6931051015853882\n",
            "2500 0.6931014657020569\n",
            "2600 0.6930974721908569\n",
            "2700 0.6930930018424988\n",
            "2800 0.6930880546569824\n",
            "2900 0.6930825710296631\n",
            "3000 0.6930763125419617\n",
            "3100 0.6930692791938782\n",
            "3200 0.6930612325668335\n",
            "3300 0.6930519342422485\n",
            "3400 0.6930411458015442\n",
            "3500 0.6930283904075623\n",
            "3600 0.6930133104324341\n",
            "3700 0.6929951906204224\n",
            "3800 0.6929728984832764\n",
            "3900 0.6929453015327454\n",
            "4000 0.6929102540016174\n",
            "4100 0.6928650140762329\n",
            "4200 0.6928046941757202\n",
            "4300 0.6927220225334167\n",
            "4400 0.6926040649414062\n",
            "4500 0.6924278736114502\n",
            "4600 0.6921480298042297\n",
            "4700 0.6916665434837341\n",
            "4800 0.6907395720481873\n",
            "4900 0.688620388507843\n",
            "5000 0.6820821762084961\n",
            "5100 0.6472553014755249\n",
            "5200 0.4515594244003296\n",
            "5300 0.04179540276527405\n",
            "5400 0.00976627692580223\n",
            "5500 0.005043233744800091\n",
            "5600 0.00330011872574687\n",
            "5700 0.0024181902408599854\n",
            "5800 0.001892914529889822\n",
            "5900 0.001547113643027842\n",
            "6000 0.001303493045270443\n",
            "6100 0.0011232458055019379\n",
            "6200 0.0009848420741036534\n",
            "6300 0.0008754815207794309\n",
            "6400 0.0007869969122111797\n",
            "6500 0.000714058754965663\n",
            "6600 0.0006529506063088775\n",
            "6700 0.0006010311772115529\n",
            "6800 0.0005564351449720562\n",
            "6900 0.0005177450948394835\n",
            "7000 0.00048387213610112667\n",
            "7100 0.0004540106456261128\n",
            "7200 0.0004274297971278429\n",
            "7300 0.0004036671598441899\n",
            "7400 0.00038232002407312393\n",
            "7500 0.00036300066858530045\n",
            "7600 0.0003455003025010228\n",
            "7700 0.00032950579770840704\n",
            "7800 0.0003148828982375562\n",
            "7900 0.00030145267373882234\n",
            "8000 0.00028908095555379987\n",
            "8100 0.00027761858655139804\n",
            "8200 0.00026702089235186577\n",
            "8300 0.0002571834484115243\n",
            "8400 0.0002480019466020167\n",
            "8500 0.0002394316252321005\n",
            "8600 0.000231397949391976\n",
            "8700 0.00022385618649423122\n",
            "8800 0.00021679143537767231\n",
            "8900 0.00021012916113249958\n",
            "9000 0.00020385441894177347\n",
            "9100 0.0001979225198738277\n",
            "9200 0.00019233346392866224\n",
            "9300 0.0001870127161964774\n",
            "9400 0.00018196026212535799\n",
            "9500 0.00017720590403769165\n",
            "9600 0.00017266023496631533\n",
            "9700 0.0001683381269685924\n",
            "9800 0.00016420980682596564\n",
            "9900 0.00016027523088268936\n",
            "10000 0.0001565642305649817\n"
          ]
        }
      ]
    },
    {
      "cell_type": "code",
      "source": [
        "with torch.no_grad():\n",
        "    hypothesis = model(X)\n",
        "    predicted = (hypothesis > 0.5).float()\n",
        "    accuracy = (predicted == Y).float().mean()\n",
        "    print('모델의 출력값(Hypothesis): ', hypothesis.detach().cpu().numpy())\n",
        "    print('모델의 예측값(Predicted): ', predicted.detach().cpu().numpy())\n",
        "    print('실제값(Y): ', Y.cpu().numpy())\n",
        "    print('정확도(Accuracy): ', accuracy.item())"
      ],
      "metadata": {
        "colab": {
          "base_uri": "https://localhost:8080/"
        },
        "id": "zXqj5bsmaQFK",
        "outputId": "ea7b1c86-90c9-4eae-81fd-a20e3395f917"
      },
      "execution_count": 7,
      "outputs": [
        {
          "output_type": "stream",
          "name": "stdout",
          "text": [
            "모델의 출력값(Hypothesis):  [[1.11702066e-04]\n",
            " [9.99828815e-01]\n",
            " [9.99842286e-01]\n",
            " [1.85309298e-04]]\n",
            "모델의 예측값(Predicted):  [[0.]\n",
            " [1.]\n",
            " [1.]\n",
            " [0.]]\n",
            "실제값(Y):  [[0.]\n",
            " [1.]\n",
            " [1.]\n",
            " [0.]]\n",
            "정확도(Accuracy):  1.0\n"
          ]
        }
      ]
    },
    {
      "cell_type": "code",
      "source": [
        ""
      ],
      "metadata": {
        "id": "Q8V1t4tXaTUy"
      },
      "execution_count": null,
      "outputs": []
    }
  ]
}