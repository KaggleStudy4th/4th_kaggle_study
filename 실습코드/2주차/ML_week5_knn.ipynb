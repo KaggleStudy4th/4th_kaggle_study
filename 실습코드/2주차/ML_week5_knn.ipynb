{
  "nbformat": 4,
  "nbformat_minor": 0,
  "metadata": {
    "colab": {
      "name": "ML-week5-knn.ipynb",
      "private_outputs": true,
      "provenance": [],
      "collapsed_sections": [],
      "authorship_tag": "ABX9TyO8Qas9sDnCuB1nXotsTYdl",
      "include_colab_link": true
    },
    "kernelspec": {
      "name": "python3",
      "display_name": "Python 3"
    },
    "language_info": {
      "name": "python"
    }
  },
  "cells": [
    {
      "cell_type": "markdown",
      "metadata": {
        "id": "view-in-github",
        "colab_type": "text"
      },
      "source": [
        "<a href=\"https://colab.research.google.com/github/KaggleStudy4th/4th_kaggle_study/blob/main/%EC%8B%A4%EC%8A%B5%EC%BD%94%EB%93%9C/2%EC%A3%BC%EC%B0%A8/ML_week5_knn.ipynb\" target=\"_parent\"><img src=\"https://colab.research.google.com/assets/colab-badge.svg\" alt=\"Open In Colab\"/></a>"
      ]
    },
    {
      "cell_type": "code",
      "execution_count": null,
      "metadata": {
        "id": "9si24XF_smaC"
      },
      "outputs": [],
      "source": [
        "import seaborn as sns \n",
        "iris=sns.load_dataset('iris') #iris라는 변수명으로 iris data를 download함\n",
        "print(iris.head())"
      ]
    },
    {
      "cell_type": "code",
      "source": [
        "print(iris.shape)\n",
        "X=iris.drop('species',axis=1) #axis=0 행 방향으로 동작\n",
        "print(X.shape)\n",
        "\n",
        "y=iris['species']"
      ],
      "metadata": {
        "id": "g-kUO7-XWqnY"
      },
      "execution_count": null,
      "outputs": []
    },
    {
      "cell_type": "code",
      "source": [
        "from sklearn.preprocessing import LabelEncoder #LabelEncoder() method를 불러옴\n",
        "import numpy as np\n",
        "classle=LabelEncoder() \n",
        "y=classle.fit_transform(iris['species'].values) #species 열의 문자열 categorical 값으로 전환\n",
        "print('species labels:' , np.unique(y)) #중복되는 y값을 하나로 정리하여 print"
      ],
      "metadata": {
        "id": "A3voo2bnWym3"
      },
      "execution_count": null,
      "outputs": []
    },
    {
      "cell_type": "code",
      "source": [
        "yo=classle.inverse_transform(y) #원래 species문자열로\n",
        "print('species:',np.unique(yo))"
      ],
      "metadata": {
        "id": "MSaboIU9nipX"
      },
      "execution_count": null,
      "outputs": []
    },
    {
      "cell_type": "code",
      "source": [
        "from sklearn.model_selection import train_test_split \n",
        "X_train, X_test, y_train, y_test=train_test_split(X,y,test_size=0.3, random_state=1,stratify=y)\n",
        "print(X_train.shape)\n",
        "print(X_test.shape)\n",
        "print(y_train.shape)\n",
        "print(y_test.shape)"
      ],
      "metadata": {
        "id": "9o11eg5YtOMM"
      },
      "execution_count": null,
      "outputs": []
    },
    {
      "cell_type": "code",
      "source": [
        "from sklearn.preprocessing import StandardScaler \n",
        "sc=StandardScaler()\n",
        "sc.fit(X_train)\n",
        "X_train_std=sc.transform(X_train)    # training data의 표준화\n",
        "X_test_std=sc.transform(X_test)      # test data의 표준화\n",
        "\n",
        "#표준화된 data의 확인\n",
        "print(X_train.head()) # X_train data 최초 5개의 관측치\n",
        "X_train_std[1:5,] # X_train_std data 최초 5개의 관측치"
      ],
      "metadata": {
        "id": "RlGiCXUjvanP"
      },
      "execution_count": null,
      "outputs": []
    },
    {
      "cell_type": "code",
      "source": [
        "from sklearn.neighbors import KNeighborsClassifier  \n",
        "knn=KNeighborsClassifier(n_neighbors=5,p=2) #5개의 인접한이웃, 거리측정기준:유클리드 \n",
        "knn.fit(X_train_std,y_train) #모델 fitting과정"
      ],
      "metadata": {
        "id": "CXDM_qY2tsWi"
      },
      "execution_count": null,
      "outputs": []
    },
    {
      "cell_type": "code",
      "source": [
        "y_train_pred=knn.predict(X_train_std) #train data의 y값 예측치\n",
        "y_test_pred=knn.predict(X_test_std)  #모델을 적용한 test data의 y값 예측치\n",
        "print('Misclassified training samples: %d' %(y_train!=y_train_pred).sum()) #오분류 데이터 갯수 확인\n",
        "print('Misclassified test samples: %d' %(y_test!=y_test_pred).sum()) #오분류 데이터 갯수 확인"
      ],
      "metadata": {
        "id": "FpaxoHzeurcs"
      },
      "execution_count": null,
      "outputs": []
    },
    {
      "cell_type": "code",
      "source": [
        "from sklearn.metrics import accuracy_score    #정확도 계산을 위한 모듈 import\n",
        "print(accuracy_score(y_test,y_test_pred)) # 45개 test sample중 42개가 정확하게 분류됨."
      ],
      "metadata": {
        "id": "RD9-kWTVvs8b"
      },
      "execution_count": null,
      "outputs": []
    },
    {
      "cell_type": "code",
      "source": [
        "from sklearn.metrics import confusion_matrix\n",
        "conf=confusion_matrix(y_true=y_test,y_pred=y_test_pred)\n",
        "print(conf)"
      ],
      "metadata": {
        "id": "mtks8K7kvx6E"
      },
      "execution_count": null,
      "outputs": []
    },
    {
      "cell_type": "code",
      "source": [
        "knn.fit(X_train,y_train)"
      ],
      "metadata": {
        "id": "xZLqcsMZwMDD"
      },
      "execution_count": null,
      "outputs": []
    },
    {
      "cell_type": "code",
      "source": [
        "y_train_pred=knn.predict(X_train) #train data의 y값 예측치\n",
        "y_test_pred=knn.predict(X_test)  #모델을 적용한 test data의 y값 예측치\n",
        "print('Misclassified training samples: %d' %(y_train!=y_train_pred).sum()) #오분류 데이터 갯수 확인\n",
        "print('Misclassified test samples: %d' %(y_test!=y_test_pred).sum()) #오분류 데이터 갯수 확인"
      ],
      "metadata": {
        "id": "bwEdUQI5wRYg"
      },
      "execution_count": null,
      "outputs": []
    },
    {
      "cell_type": "code",
      "source": [
        "from sklearn.metrics import accuracy_score    #정확도 계산\n",
        "print(accuracy_score(y_test,y_test_pred)) # 45개 test sample중 42개가 정확하게 분류됨."
      ],
      "metadata": {
        "id": "oVdgL8pCyt9f"
      },
      "execution_count": null,
      "outputs": []
    },
    {
      "cell_type": "code",
      "source": [
        "from sklearn.metrics import confusion_matrix \n",
        "conf=confusion_matrix(y_true=y_test,y_pred=y_test_pred) \n",
        "print(conf)"
      ],
      "metadata": {
        "id": "fPcaMg1Py3Jt"
      },
      "execution_count": null,
      "outputs": []
    },
    {
      "cell_type": "code",
      "source": [
        "# Kernel density\n",
        "import matplotlib.pyplot as plt #plot module import\n",
        "import numpy as np              #numpy module import\n",
        "xx=X['sepal_length'].values # Iris data의 첫번째 feature\n",
        "print(xx)\n",
        "xx=xx.T.reshape(-1, 1) # reshape\n",
        "print(xx)\n",
        "from sklearn.neighbors import KernelDensity\n",
        "kd=KernelDensity(bandwidth=0.2, kernel='gaussian')\n",
        "kd.fit(xx)\n",
        "xx_d = np.linspace(3, 9, 1000)\n",
        "logprob=kd.score_samples(xx_d.reshape(-1, 1)) # score_samples은 log probability 계산\n",
        "plt.fill_between(xx_d, np.exp(logprob))"
      ],
      "metadata": {
        "id": "eYX8Qh5nzFjJ"
      },
      "execution_count": null,
      "outputs": []
    },
    {
      "cell_type": "code",
      "source": [
        ""
      ],
      "metadata": {
        "id": "Wt7eU6pAzJ94"
      },
      "execution_count": null,
      "outputs": []
    }
  ]
}