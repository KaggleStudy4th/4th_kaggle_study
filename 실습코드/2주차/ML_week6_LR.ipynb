{
  "nbformat": 4,
  "nbformat_minor": 0,
  "metadata": {
    "colab": {
      "name": "ML-week6-LR.ipynb",
      "private_outputs": true,
      "provenance": [],
      "collapsed_sections": []
    },
    "kernelspec": {
      "name": "python3",
      "display_name": "Python 3"
    },
    "language_info": {
      "name": "python"
    }
  },
  "cells": [
    {
      "cell_type": "code",
      "execution_count": null,
      "metadata": {
        "id": "icP9eYbO48A4"
      },
      "outputs": [],
      "source": [
        "import seaborn as sns\n",
        "iris=sns.load_dataset('iris')\n",
        "\n",
        "X=iris.drop('species',axis=1)\n",
        "y=iris['species']"
      ]
    },
    {
      "cell_type": "code",
      "source": [
        "from sklearn.preprocessing import LabelEncoder\n",
        "classle=LabelEncoder()\n",
        "y=classle.fit_transform(iris['species'].values)"
      ],
      "metadata": {
        "id": "Vv0ZoSjjtXvo"
      },
      "execution_count": null,
      "outputs": []
    },
    {
      "cell_type": "code",
      "source": [
        "from sklearn.model_selection import train_test_split\n",
        "X_train, X_test, y_train, y_test = train_test_split(X,y, test_size=0.3, random_state=1, stratify=y)"
      ],
      "metadata": {
        "id": "JOzAxPWStmU6"
      },
      "execution_count": null,
      "outputs": []
    },
    {
      "cell_type": "code",
      "source": [
        "#표준화\n",
        "from sklearn.preprocessing import StandardScaler\n",
        "sc=StandardScaler()\n",
        "sc.fit(X_train)\n",
        "X_train_std=sc.transform(X_train)\n",
        "X_test_std=sc.transform(X_test)"
      ],
      "metadata": {
        "id": "s3gtvadJvDyG"
      },
      "execution_count": null,
      "outputs": []
    },
    {
      "cell_type": "code",
      "source": [
        "#로지스틱 회귀\n",
        "from sklearn.linear_model import LogisticRegression\n",
        "Logit=LogisticRegression(C=200, random_state=11) #C=1/lambda 디폴트:L2, auto\n",
        "l_1=Logit.fit(X_train_std,y_train)\n",
        "y_train_pred=Logit.predict(X_train_std)\n",
        "y_test_pred=Logit.predict(X_test_std)"
      ],
      "metadata": {
        "id": "mNXBZrqQx67m"
      },
      "execution_count": null,
      "outputs": []
    },
    {
      "cell_type": "code",
      "source": [
        "#Accuracy Score\n",
        "from sklearn.metrics import accuracy_score\n",
        "print(accuracy_score(y_train,y_train_pred))\n",
        "print(accuracy_score(y_test,y_test_pred))"
      ],
      "metadata": {
        "id": "lRl5QY2KygCS"
      },
      "execution_count": null,
      "outputs": []
    },
    {
      "cell_type": "code",
      "source": [
        "#혼동 행렬\n",
        "from sklearn.metrics import confusion_matrix\n",
        "print(confusion_matrix(y_test,y_test_pred))"
      ],
      "metadata": {
        "id": "xhCGvZDXytK3"
      },
      "execution_count": null,
      "outputs": []
    },
    {
      "cell_type": "code",
      "source": [
        ""
      ],
      "metadata": {
        "id": "0I1aFhbHy3QR"
      },
      "execution_count": null,
      "outputs": []
    }
  ]
}