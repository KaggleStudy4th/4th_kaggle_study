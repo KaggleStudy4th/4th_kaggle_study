{
  "nbformat": 4,
  "nbformat_minor": 0,
  "metadata": {
    "colab": {
      "name": "[인공지능][3주차][실습] 선형회귀 (1부).ipynb",
      "provenance": [],
      "authorship_tag": "ABX9TyMbxA4TY0Xrmx2T5t0nbQKy",
      "include_colab_link": true
    },
    "kernelspec": {
      "name": "python3",
      "display_name": "Python 3"
    },
    "language_info": {
      "name": "python"
    }
  },
  "cells": [
    {
      "cell_type": "markdown",
      "metadata": {
        "id": "view-in-github",
        "colab_type": "text"
      },
      "source": [
        "<a href=\"https://colab.research.google.com/github/KaggleStudy4th/4th_kaggle_study/blob/main/%EC%8B%A4%EC%8A%B5%EC%BD%94%EB%93%9C/5%EC%A3%BC%EC%B0%A8/Jiin/%5B%EC%9D%B8%EA%B3%B5%EC%A7%80%EB%8A%A5%5D%5B3%EC%A3%BC%EC%B0%A8%5D%5B%EC%8B%A4%EC%8A%B5%5D_%EC%84%A0%ED%98%95%ED%9A%8C%EA%B7%80_(1%EB%B6%80).ipynb\" target=\"_parent\"><img src=\"https://colab.research.google.com/assets/colab-badge.svg\" alt=\"Open In Colab\"/></a>"
      ]
    },
    {
      "cell_type": "markdown",
      "source": [
        "# Lab 2: Linear Regression"
      ],
      "metadata": {
        "id": "o57oXU2Qf1zC"
      }
    },
    {
      "cell_type": "markdown",
      "source": [
        "H(x)=Wx+b"
      ],
      "metadata": {
        "id": "C0f0MN32f51j"
      }
    },
    {
      "cell_type": "markdown",
      "source": [
        "cost(W,b)=1m∑i=1m(H(x(i))−y(i))2"
      ],
      "metadata": {
        "id": "iilJdcD6f53s"
      }
    },
    {
      "cell_type": "markdown",
      "source": [
        "H(x) : 주어진  x  값에 대해 예측을 어떻게 할 것인가\n",
        "\n",
        "cost(W,b) :  H(x)  가  y  를 얼마나 잘 예측했는가"
      ],
      "metadata": {
        "id": "IFki6cDDf6DJ"
      }
    },
    {
      "cell_type": "code",
      "execution_count": 1,
      "metadata": {
        "id": "qGf6_CiGciJ1"
      },
      "outputs": [],
      "source": [
        "import torch\n",
        "import torch.optim as optim"
      ]
    },
    {
      "cell_type": "code",
      "source": [
        "#for reproducibility\n",
        "\n",
        "torch.manual_seed(1)"
      ],
      "metadata": {
        "colab": {
          "base_uri": "https://localhost:8080/"
        },
        "id": "lCxb54kCgJnJ",
        "outputId": "b80c1d08-8262-4319-d6ce-16bc9c6e5d42"
      },
      "execution_count": 2,
      "outputs": [
        {
          "output_type": "execute_result",
          "data": {
            "text/plain": [
              "<torch._C.Generator at 0x7f90327d13b0>"
            ]
          },
          "metadata": {},
          "execution_count": 2
        }
      ]
    },
    {
      "cell_type": "code",
      "source": [
        "x_train=torch.FloatTensor([[1],[2],[3]])\n",
        "y_train=torch.FloatTensor([[1],[2],[3]])"
      ],
      "metadata": {
        "id": "3HzwwnQWgNH1"
      },
      "execution_count": 3,
      "outputs": []
    },
    {
      "cell_type": "code",
      "source": [
        "print(x_train)\n",
        "print(x_train.shape)"
      ],
      "metadata": {
        "colab": {
          "base_uri": "https://localhost:8080/"
        },
        "id": "9bBkELajg3wM",
        "outputId": "76a0e24a-783e-475d-9306-ac1d99242868"
      },
      "execution_count": 4,
      "outputs": [
        {
          "output_type": "stream",
          "name": "stdout",
          "text": [
            "tensor([[1.],\n",
            "        [2.],\n",
            "        [3.]])\n",
            "torch.Size([3, 1])\n"
          ]
        }
      ]
    },
    {
      "cell_type": "code",
      "source": [
        "print(y_train)\n",
        "print(y_train.shape)"
      ],
      "metadata": {
        "colab": {
          "base_uri": "https://localhost:8080/"
        },
        "id": "_GFMZHJMg7RI",
        "outputId": "102d94c2-1dc3-455b-f9a3-acd6bd658cde"
      },
      "execution_count": 5,
      "outputs": [
        {
          "output_type": "stream",
          "name": "stdout",
          "text": [
            "tensor([[1.],\n",
            "        [2.],\n",
            "        [3.]])\n",
            "torch.Size([3, 1])\n"
          ]
        }
      ]
    },
    {
      "cell_type": "markdown",
      "source": [
        "## Weight Initialization\n"
      ],
      "metadata": {
        "id": "24WUSfasiHvT"
      }
    },
    {
      "cell_type": "code",
      "source": [
        "W=torch.zeros(1,requires_grad=True)\n",
        "print(W)"
      ],
      "metadata": {
        "colab": {
          "base_uri": "https://localhost:8080/"
        },
        "id": "clx2BpxJiGd9",
        "outputId": "5d2aa543-f83b-4a80-c771-30c04fbb39c5"
      },
      "execution_count": 6,
      "outputs": [
        {
          "output_type": "stream",
          "name": "stdout",
          "text": [
            "tensor([0.], requires_grad=True)\n"
          ]
        }
      ]
    },
    {
      "cell_type": "code",
      "source": [
        "b=torch.zeros(1,requires_grad=True)\n",
        "print(b)"
      ],
      "metadata": {
        "colab": {
          "base_uri": "https://localhost:8080/"
        },
        "id": "ctlClV6ViOgD",
        "outputId": "7352b727-a8cc-4011-9aa7-947210a7c8e4"
      },
      "execution_count": 7,
      "outputs": [
        {
          "output_type": "stream",
          "name": "stdout",
          "text": [
            "tensor([0.], requires_grad=True)\n"
          ]
        }
      ]
    },
    {
      "cell_type": "markdown",
      "source": [
        "## Hypothesis"
      ],
      "metadata": {
        "id": "0dMsj4FLiZnW"
      }
    },
    {
      "cell_type": "markdown",
      "source": [
        "H(x)=Wx+b"
      ],
      "metadata": {
        "id": "uy7_4g7Qlw4_"
      }
    },
    {
      "cell_type": "code",
      "source": [
        "hypothesis=x_train*W+b\n",
        "print(hypothesis)"
      ],
      "metadata": {
        "colab": {
          "base_uri": "https://localhost:8080/"
        },
        "id": "VqEpnMUriXqC",
        "outputId": "f6ec8a98-a8b3-4df1-c564-b228285583df"
      },
      "execution_count": 9,
      "outputs": [
        {
          "output_type": "stream",
          "name": "stdout",
          "text": [
            "tensor([[0.],\n",
            "        [0.],\n",
            "        [0.]], grad_fn=<AddBackward0>)\n"
          ]
        }
      ]
    },
    {
      "cell_type": "markdown",
      "source": [
        "## Cost\n",
        "\n",
        "cost(W,b)=1m∑i=1m(H(x(i))−y(i))2"
      ],
      "metadata": {
        "id": "TSOU5tYslyao"
      }
    },
    {
      "cell_type": "code",
      "source": [
        "print(hypothesis)"
      ],
      "metadata": {
        "colab": {
          "base_uri": "https://localhost:8080/"
        },
        "id": "RZCpb5fcike5",
        "outputId": "66ff15c0-6750-424c-f217-78279ea5dfac"
      },
      "execution_count": 10,
      "outputs": [
        {
          "output_type": "stream",
          "name": "stdout",
          "text": [
            "tensor([[0.],\n",
            "        [0.],\n",
            "        [0.]], grad_fn=<AddBackward0>)\n"
          ]
        }
      ]
    },
    {
      "cell_type": "code",
      "source": [
        "print(y_train)"
      ],
      "metadata": {
        "colab": {
          "base_uri": "https://localhost:8080/"
        },
        "id": "3YJVr3j1l3nS",
        "outputId": "d0e33053-754f-46b6-ca8e-a1836629f51b"
      },
      "execution_count": 11,
      "outputs": [
        {
          "output_type": "stream",
          "name": "stdout",
          "text": [
            "tensor([[1.],\n",
            "        [2.],\n",
            "        [3.]])\n"
          ]
        }
      ]
    },
    {
      "cell_type": "code",
      "source": [
        "print(hypothesis-y_train)"
      ],
      "metadata": {
        "colab": {
          "base_uri": "https://localhost:8080/"
        },
        "id": "CGiO8WqAl4lh",
        "outputId": "0e7b97a3-7d7b-409c-bdd9-0dcafb281133"
      },
      "execution_count": 12,
      "outputs": [
        {
          "output_type": "stream",
          "name": "stdout",
          "text": [
            "tensor([[-1.],\n",
            "        [-2.],\n",
            "        [-3.]], grad_fn=<SubBackward0>)\n"
          ]
        }
      ]
    },
    {
      "cell_type": "code",
      "source": [
        "print((hypothesis-y_train)**2)"
      ],
      "metadata": {
        "colab": {
          "base_uri": "https://localhost:8080/"
        },
        "id": "gCT1Sv8gl6bm",
        "outputId": "b24fb5de-6a4c-487c-bd86-6a53e4dc066e"
      },
      "execution_count": 13,
      "outputs": [
        {
          "output_type": "stream",
          "name": "stdout",
          "text": [
            "tensor([[1.],\n",
            "        [4.],\n",
            "        [9.]], grad_fn=<PowBackward0>)\n"
          ]
        }
      ]
    },
    {
      "cell_type": "code",
      "source": [
        "cost=torch.mean((hypothesis-y_train)**2)\n",
        "print(cost)"
      ],
      "metadata": {
        "colab": {
          "base_uri": "https://localhost:8080/"
        },
        "id": "jeP0RgtvnkFz",
        "outputId": "f5105879-2246-4305-fb1d-123db772e691"
      },
      "execution_count": 14,
      "outputs": [
        {
          "output_type": "stream",
          "name": "stdout",
          "text": [
            "tensor(4.6667, grad_fn=<MeanBackward0>)\n"
          ]
        }
      ]
    },
    {
      "cell_type": "markdown",
      "source": [
        "## Gradient Descent"
      ],
      "metadata": {
        "id": "Q4zNtUO2oQxO"
      }
    },
    {
      "cell_type": "code",
      "source": [
        "#learing rate=> lr=0.01\n",
        "\n",
        "optimizer=optim.SGD([W,b],lr=0.01)#옵티마이저 경사하강법 SGD"
      ],
      "metadata": {
        "id": "-JW4ARSqnpTV"
      },
      "execution_count": 15,
      "outputs": []
    },
    {
      "cell_type": "code",
      "source": [
        "#옵티마이저 초기화\n",
        "optimizer.zero_grad()\n",
        "#cost 계산!! 미분값 계산해서\n",
        "cost.backward()\n",
        "#옵티마이저 갱신\n",
        "optimizer.step()"
      ],
      "metadata": {
        "id": "UjcmWlkAqbVI"
      },
      "execution_count": 16,
      "outputs": []
    },
    {
      "cell_type": "code",
      "source": [
        "print(W)\n",
        "print(b)"
      ],
      "metadata": {
        "colab": {
          "base_uri": "https://localhost:8080/"
        },
        "id": "hz5utxL8rVcr",
        "outputId": "b768f270-9604-4b6f-cc49-90d7fe570f2c"
      },
      "execution_count": 17,
      "outputs": [
        {
          "output_type": "stream",
          "name": "stdout",
          "text": [
            "tensor([0.0933], requires_grad=True)\n",
            "tensor([0.0400], requires_grad=True)\n"
          ]
        }
      ]
    },
    {
      "cell_type": "code",
      "source": [
        "hypothesis=x_train*W+b\n",
        "print(hypothesis)"
      ],
      "metadata": {
        "colab": {
          "base_uri": "https://localhost:8080/"
        },
        "id": "z_TK13LJrW4u",
        "outputId": "75392e3b-750f-4ae8-d167-cf2d0785f019"
      },
      "execution_count": 18,
      "outputs": [
        {
          "output_type": "stream",
          "name": "stdout",
          "text": [
            "tensor([[0.1333],\n",
            "        [0.2267],\n",
            "        [0.3200]], grad_fn=<AddBackward0>)\n"
          ]
        }
      ]
    },
    {
      "cell_type": "code",
      "source": [
        "cost=torch.mean((hypothesis-y_train)**2)\n",
        "print(cost)"
      ],
      "metadata": {
        "colab": {
          "base_uri": "https://localhost:8080/"
        },
        "id": "xeyG40kPsWFS",
        "outputId": "dbb8424a-f864-46f0-d0c3-7dd1068dc603"
      },
      "execution_count": 19,
      "outputs": [
        {
          "output_type": "stream",
          "name": "stdout",
          "text": [
            "tensor(3.6927, grad_fn=<MeanBackward0>)\n"
          ]
        }
      ]
    },
    {
      "cell_type": "markdown",
      "source": [
        "# Training with Full Code\n",
        "\n"
      ],
      "metadata": {
        "id": "nrAS8nBns3p-"
      }
    },
    {
      "cell_type": "code",
      "source": [
        "# 데이터\n",
        "x_train = torch.FloatTensor([[1], [2], [3]])\n",
        "y_train = torch.FloatTensor([[1], [2], [3]])\n",
        "# 모델 초기화\n",
        "W = torch.zeros(1, requires_grad=True)\n",
        "b = torch.zeros(1, requires_grad=True)\n",
        "# optimizer 설정\n",
        "optimizer = optim.SGD([W, b], lr=0.01)\n",
        "\n",
        "nb_epochs = 1000\n",
        "for epoch in range(nb_epochs + 1):\n",
        "    \n",
        "    # H(x) 계산\n",
        "    hypothesis = x_train * W + b\n",
        "    \n",
        "    # cost 계산\n",
        "    cost = torch.mean((hypothesis - y_train) ** 2)\n",
        "\n",
        "    # cost로 H(x) 개선\n",
        "    optimizer.zero_grad()\n",
        "    cost.backward()\n",
        "    optimizer.step()\n",
        "\n",
        "    # 100번마다 로그 출력\n",
        "    if epoch % 100 == 0:\n",
        "        print('Epoch {:4d}/{} W: {:.3f}, b: {:.3f} Cost: {:.6f}'.format(\n",
        "            epoch, nb_epochs, W.item(), b.item(), cost.item()\n",
        "        ))"
      ],
      "metadata": {
        "colab": {
          "base_uri": "https://localhost:8080/"
        },
        "id": "OD8Z8daxsa3p",
        "outputId": "7c6d7ea7-1da4-497d-ad1b-08c30c61aea3"
      },
      "execution_count": 20,
      "outputs": [
        {
          "output_type": "stream",
          "name": "stdout",
          "text": [
            "Epoch    0/1000 W: 0.093, b: 0.040 Cost: 4.666667\n",
            "Epoch  100/1000 W: 0.873, b: 0.289 Cost: 0.012043\n",
            "Epoch  200/1000 W: 0.900, b: 0.227 Cost: 0.007442\n",
            "Epoch  300/1000 W: 0.921, b: 0.179 Cost: 0.004598\n",
            "Epoch  400/1000 W: 0.938, b: 0.140 Cost: 0.002842\n",
            "Epoch  500/1000 W: 0.951, b: 0.110 Cost: 0.001756\n",
            "Epoch  600/1000 W: 0.962, b: 0.087 Cost: 0.001085\n",
            "Epoch  700/1000 W: 0.970, b: 0.068 Cost: 0.000670\n",
            "Epoch  800/1000 W: 0.976, b: 0.054 Cost: 0.000414\n",
            "Epoch  900/1000 W: 0.981, b: 0.042 Cost: 0.000256\n",
            "Epoch 1000/1000 W: 0.985, b: 0.033 Cost: 0.000158\n"
          ]
        }
      ]
    },
    {
      "cell_type": "code",
      "source": [
        ""
      ],
      "metadata": {
        "id": "D2dV8xaGwGpZ"
      },
      "execution_count": null,
      "outputs": []
    }
  ]
}