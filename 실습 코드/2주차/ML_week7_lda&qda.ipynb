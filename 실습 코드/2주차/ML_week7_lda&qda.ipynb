{
  "nbformat": 4,
  "nbformat_minor": 0,
  "metadata": {
    "colab": {
      "name": "ML-week7-lda&qda.ipynb",
      "private_outputs": true,
      "provenance": [],
      "collapsed_sections": [],
      "authorship_tag": "ABX9TyP9ZIn7m3yQ0ym+Z849D4w9",
      "include_colab_link": true
    },
    "kernelspec": {
      "name": "python3",
      "display_name": "Python 3"
    },
    "language_info": {
      "name": "python"
    }
  },
  "cells": [
    {
      "cell_type": "markdown",
      "metadata": {
        "id": "view-in-github",
        "colab_type": "text"
      },
      "source": [
        "<a href=\"https://colab.research.google.com/github/KaggleStudy4th/4th_kaggle_study/blob/main/%EC%8B%A4%EC%8A%B5%20%EC%BD%94%EB%93%9C/2%EC%A3%BC%EC%B0%A8/ML_week7_lda%26qda.ipynb\" target=\"_parent\"><img src=\"https://colab.research.google.com/assets/colab-badge.svg\" alt=\"Open In Colab\"/></a>"
      ]
    },
    {
      "cell_type": "code",
      "execution_count": null,
      "metadata": {
        "id": "RGLYqwsoSAop"
      },
      "outputs": [],
      "source": [
        "import seaborn as sns\n",
        "iris=sns.load_dataset('iris')\n",
        "X=iris.drop('species',axis=1) #특성변수\n",
        "y_=iris['species'] #label\n",
        "\n",
        "from sklearn.preprocessing import LabelEncoder\n",
        "classle=LabelEncoder()\n",
        "y=classle.fit_transform(iris['species'].values)\n",
        "\n",
        "from sklearn.model_selection import train_test_split\n",
        "X_train, X_test, y_train, y_test = train_test_split(X,y,test_size=0.4, random_state=123, stratify=y)\n"
      ]
    },
    {
      "cell_type": "code",
      "source": [
        "X.head()"
      ],
      "metadata": {
        "id": "0q49Mc0KS-tF"
      },
      "execution_count": null,
      "outputs": []
    },
    {
      "cell_type": "code",
      "source": [
        "y_.head()"
      ],
      "metadata": {
        "id": "4iUxgz6eTCOe"
      },
      "execution_count": null,
      "outputs": []
    },
    {
      "cell_type": "code",
      "source": [
        "from sklearn.discriminant_analysis import LinearDiscriminantAnalysis\n",
        "cld=LinearDiscriminantAnalysis(store_covariance=True) #default: n_components=2\n",
        "cld.fit(X_train, y_train)\n",
        "y_train_pred=cld.predict(X_train)\n",
        "y_test_pred=cld.predict(X_test)\n",
        "\n",
        "from sklearn.metrics import accuracy_score\n",
        "print(accuracy_score(y_train,y_train_pred))\n",
        "print(accuracy_score(y_test, y_test_pred))"
      ],
      "metadata": {
        "id": "9RPVmp5-TFI6"
      },
      "execution_count": null,
      "outputs": []
    },
    {
      "cell_type": "code",
      "source": [
        "from sklearn.metrics import confusion_matrix\n",
        "print(confusion_matrix(y_test, y_test_pred))"
      ],
      "metadata": {
        "id": "O31ntezETxxi"
      },
      "execution_count": null,
      "outputs": []
    },
    {
      "cell_type": "code",
      "source": [
        "print(cld.means_,'\\n')\n",
        "print(cld.xbar_,'\\n')\n",
        "print(cld.covariance_,'\\n')\n",
        "print(cld.intercept_,'\\n')\n",
        "print(cld.coef_,'\\n')"
      ],
      "metadata": {
        "id": "opsEQMORT7uc"
      },
      "execution_count": null,
      "outputs": []
    },
    {
      "cell_type": "code",
      "source": [
        "from sklearn.discriminant_analysis import LinearDiscriminantAnalysis\n",
        "cld=LinearDiscriminantAnalysis()\n",
        "X_lda=cld.fit_transform(X_train,y_train)\n",
        "from matplotlib import pyplot as plt\n",
        "plt.xlabel('LD1')\n",
        "plt.ylabel('LD2')\n",
        "plt.scatter(\n",
        "    X_lda[:,0],\n",
        "    X_lda[:,1],\n",
        "    c=y_train,\n",
        "    cmap='rainbow',\n",
        "    alpha=0.7,\n",
        "    edgecolors='b'\n",
        ")"
      ],
      "metadata": {
        "id": "kIQAskKzUFig"
      },
      "execution_count": null,
      "outputs": []
    },
    {
      "cell_type": "code",
      "source": [
        "from sklearn.discriminant_analysis import QuadraticDiscriminantAnalysis\n",
        "cqd=QuadraticDiscriminantAnalysis(store_covariance=True)\n",
        "cqd.fit(X_train, y_train) #qda학습(적합)\n",
        "y_train_pred=cqd.predict(X_train)\n",
        "y_test_pred=cqd.predict(X_test)\n",
        "\n",
        "from matplotlib import pyplot as plt\n",
        "plt.xlabel('LD1')\n",
        "plt.ylabel('LD2')\n",
        "plt.scatter(\n",
        "    X_lda[:,0],\n",
        "    X_lda[:,1],\n",
        "    c=y_train, #label마다 색상 다르게\n",
        "    #cmap='rainbow' #무지개 색 순서로\n",
        "    #alpha=0.7 입력 형태:scalar \n",
        ")\n"
      ],
      "metadata": {
        "id": "246DJYLKWePA"
      },
      "execution_count": null,
      "outputs": []
    },
    {
      "cell_type": "code",
      "source": [
        "from sklearn.metrics import accuracy_score\n",
        "print(accuracy_score(y_train, y_train_pred)) \n",
        "print(accuracy_score(y_test, y_test_pred)) "
      ],
      "metadata": {
        "id": "M7I9v97gYBDy"
      },
      "execution_count": null,
      "outputs": []
    },
    {
      "cell_type": "code",
      "source": [
        "from sklearn.metrics import confusion_matrix\n",
        "print(confusion_matrix(y_test, y_test_pred))"
      ],
      "metadata": {
        "id": "OWchE6h7YLyc"
      },
      "execution_count": null,
      "outputs": []
    },
    {
      "cell_type": "code",
      "source": [
        "print(cqd.means_,'\\n')\n",
        "print(cqd.covariance_)"
      ],
      "metadata": {
        "id": "sOaLUhk8YQCg"
      },
      "execution_count": null,
      "outputs": []
    },
    {
      "cell_type": "code",
      "source": [
        ""
      ],
      "metadata": {
        "id": "PrUZqNdpYSSs"
      },
      "execution_count": null,
      "outputs": []
    }
  ]
}