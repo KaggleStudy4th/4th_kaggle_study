{
  "nbformat": 4,
  "nbformat_minor": 0,
  "metadata": {
    "colab": {
      "name": "위키독스_10장.ipynb",
      "provenance": [],
      "collapsed_sections": [],
      "authorship_tag": "ABX9TyP3kva1lR8p7hARNYvpYTui",
      "include_colab_link": true
    },
    "kernelspec": {
      "name": "python3",
      "display_name": "Python 3"
    },
    "language_info": {
      "name": "python"
    }
  },
  "cells": [
    {
      "cell_type": "markdown",
      "metadata": {
        "id": "view-in-github",
        "colab_type": "text"
      },
      "source": [
        "<a href=\"https://colab.research.google.com/github/KaggleStudy4th/4th_kaggle_study/blob/main/%EC%9C%84%ED%82%A4%EB%8F%85%EC%8A%A4_10%EC%9E%A5.ipynb\" target=\"_parent\"><img src=\"https://colab.research.google.com/assets/colab-badge.svg\" alt=\"Open In Colab\"/></a>"
      ]
    },
    {
      "cell_type": "code",
      "execution_count": null,
      "metadata": {
        "colab": {
          "base_uri": "https://localhost:8080/"
        },
        "id": "kCEOUM09OD2x",
        "outputId": "9f56d322-84dd-4587-ffad-49ed2f4d8dc3"
      },
      "outputs": [
        {
          "output_type": "stream",
          "name": "stdout",
          "text": [
            "[0. 0. 0. 0. 0. 0. 0. 0.]\n"
          ]
        }
      ],
      "source": [
        "import numpy as np\n",
        "\n",
        "timesteps = 10 # 시점의 수. NLP에서는 보통 문장의 길이가 된다.\n",
        "input_size = 4 # 입력의 차원. NLP에서는 보통 단어 벡터의 차원이 된다.\n",
        "hidden_size = 8 # 은닉 상태의 크기. 메모리 셀의 용량이다.\n",
        "\n",
        "inputs = np.random.random((timesteps, input_size)) # 입력에 해당되는 2D 텐서\n",
        "\n",
        "hidden_state_t = np.zeros((hidden_size,)) # 초기 은닉 상태는 0(벡터)로 초기화\n",
        "# 은닉 상태의 크기 hidden_size로 은닉 상태를 만듬.\n",
        "\n",
        "print(hidden_state_t)"
      ]
    },
    {
      "cell_type": "code",
      "source": [
        "Wx = np.random.random((hidden_size, input_size))  # (8, 4)크기의 2D 텐서 생성. 입력에 대한 가중치.\n",
        "Wh = np.random.random((hidden_size, hidden_size)) # (8, 8)크기의 2D 텐서 생성. 은닉 상태에 대한 가중치.\n",
        "b = np.random.random((hidden_size,)) # (8,)크기의 1D 텐서 생성. 이 값은 편향(bias).\n",
        "\n",
        "print(np.shape(Wx))\n",
        "print(np.shape(Wh))\n",
        "print(np.shape(b))"
      ],
      "metadata": {
        "colab": {
          "base_uri": "https://localhost:8080/"
        },
        "id": "JXMIlsmcOjV9",
        "outputId": "30900f31-012b-46a4-ffc7-bde78c056db2"
      },
      "execution_count": null,
      "outputs": [
        {
          "output_type": "stream",
          "name": "stdout",
          "text": [
            "(8, 4)\n",
            "(8, 8)\n",
            "(8,)\n"
          ]
        }
      ]
    },
    {
      "cell_type": "code",
      "source": [
        "total_hidden_states = []\n",
        "\n",
        "# 메모리 셀 동작\n",
        "for input_t in inputs: # 각 시점에 따라서 입력값이 입력됨.\n",
        "  output_t = np.tanh(np.dot(Wx,input_t) + np.dot(Wh,hidden_state_t) + b) # Wx * Xt + Wh * Ht-1 + b(bias)\n",
        "  total_hidden_states.append(list(output_t)) # 각 시점의 은닉 상태의 값을 계속해서 축적\n",
        "  print(np.shape(total_hidden_states)) # 각 시점 t별 메모리 셀의 출력의 크기는 (timestep, output_dim)\n",
        "  hidden_state_t = output_t\n",
        "\n",
        "total_hidden_states = np.stack(total_hidden_states, axis = 0) \n",
        "# 출력 시 값을 깔끔하게 해준다.\n",
        "\n",
        "print(total_hidden_states) # (timesteps, output_dim)의 크기. 이 경우 (10, 8)의 크기를 가지는 메모리 셀의 2D 텐서를 출력."
      ],
      "metadata": {
        "colab": {
          "base_uri": "https://localhost:8080/"
        },
        "id": "fmYbity5Omoy",
        "outputId": "74bb86a2-c9fe-49fb-d836-adfe6b5baa80"
      },
      "execution_count": null,
      "outputs": [
        {
          "output_type": "stream",
          "name": "stdout",
          "text": [
            "(1, 8)\n",
            "(2, 8)\n",
            "(3, 8)\n",
            "(4, 8)\n",
            "(5, 8)\n",
            "(6, 8)\n",
            "(7, 8)\n",
            "(8, 8)\n",
            "(9, 8)\n",
            "(10, 8)\n",
            "[[0.8459843  0.51666226 0.9730313  0.96568542 0.9627908  0.72148708\n",
            "  0.78045177 0.86387688]\n",
            " [0.99990549 0.99520222 0.99947725 0.99981751 0.99995843 0.99840683\n",
            "  0.99070893 0.99998729]\n",
            " [0.99997285 0.9987488  0.99988525 0.99983184 0.99999269 0.99973373\n",
            "  0.99715316 0.99999629]\n",
            " [0.99991524 0.99874322 0.99981306 0.99958627 0.99996745 0.99976812\n",
            "  0.99679517 0.99998992]\n",
            " [0.99995371 0.99917198 0.99978937 0.99981294 0.99997197 0.99976034\n",
            "  0.99586031 0.99999485]\n",
            " [0.99996601 0.99869995 0.99982177 0.99975835 0.99999202 0.99961022\n",
            "  0.9956922  0.99999559]\n",
            " [0.99998612 0.9994889  0.9999412  0.9999549  0.99999014 0.9998734\n",
            "  0.99807563 0.99999826]\n",
            " [0.9999528  0.99890546 0.99978914 0.99967914 0.99998874 0.9995435\n",
            "  0.99456013 0.99999434]\n",
            " [0.9999633  0.99893977 0.99978086 0.99980274 0.99998531 0.99968084\n",
            "  0.99543492 0.99999561]\n",
            " [0.99998423 0.99924961 0.99988712 0.99992339 0.99999304 0.99975268\n",
            "  0.99665116 0.99999801]]\n"
          ]
        }
      ]
    },
    {
      "cell_type": "code",
      "source": [
        "import torch\n",
        "import torch.nn as nn\n",
        "\n",
        "input_size = 5 # 입력의 크기\n",
        "hidden_size = 8 # 은닉 상태의 크기\n",
        "inputs = torch.Tensor(1, 10, 5)\n",
        "\n",
        "cell = nn.RNN(input_size, hidden_size,num_layers=2, batch_first=True) #양방향 순환 신경망 -> bidirectional = True\n",
        "\n",
        "outputs, _status = cell(inputs)\n",
        "\n",
        "print(outputs.shape) # 모든 time-step의 hidden_state\n",
        "\n",
        "print(_status.shape) # 최종 time-step의 hidden_state\n"
      ],
      "metadata": {
        "colab": {
          "base_uri": "https://localhost:8080/"
        },
        "id": "WAhC4-f7OpkE",
        "outputId": "dcba1565-67de-45f2-8536-0eb1662fb5b9"
      },
      "execution_count": null,
      "outputs": [
        {
          "output_type": "stream",
          "name": "stdout",
          "text": [
            "torch.Size([1, 10, 8])\n",
            "torch.Size([2, 1, 8])\n"
          ]
        }
      ]
    },
    {
      "cell_type": "code",
      "source": [
        ""
      ],
      "metadata": {
        "id": "RP4ZZFUNO_Rj"
      },
      "execution_count": null,
      "outputs": []
    }
  ]
}